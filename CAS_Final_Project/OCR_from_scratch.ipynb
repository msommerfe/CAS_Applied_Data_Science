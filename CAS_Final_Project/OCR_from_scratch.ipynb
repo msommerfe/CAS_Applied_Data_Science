{
  "nbformat": 4,
  "nbformat_minor": 0,
  "metadata": {
    "colab": {
      "provenance": [],
      "machine_shape": "hm",
      "gpuType": "T4",
      "authorship_tag": "ABX9TyNlNlKPOWKD1cu9eJB6VWY3",
      "include_colab_link": true
    },
    "kernelspec": {
      "name": "python3",
      "display_name": "Python 3"
    },
    "language_info": {
      "name": "python"
    },
    "accelerator": "GPU"
  },
  "cells": [
    {
      "cell_type": "markdown",
      "metadata": {
        "id": "view-in-github",
        "colab_type": "text"
      },
      "source": [
        "<a href=\"https://colab.research.google.com/github/msommerfe/CAS_Applied_Data_Science/blob/main/CAS_Final_Project/OCR_from_scratch.ipynb\" target=\"_parent\"><img src=\"https://colab.research.google.com/assets/colab-badge.svg\" alt=\"Open In Colab\"/></a>"
      ]
    },
    {
      "cell_type": "code",
      "source": [
        "import json\n",
        "import numpy as np\n",
        "import numpy as np\n",
        "from concurrent.futures import ThreadPoolExecutor\n",
        "import matplotlib.pyplot as plt\n",
        "import tensorflow as tf\n",
        "from PIL import Image\n",
        "import cv2\n",
        "import os\n",
        "from sklearn.model_selection import train_test_split\n",
        "import string\n",
        "\n",
        "import tensorflow as tf\n",
        "from keras import backend as K\n",
        "from keras.models import Model\n",
        "from tensorflow import keras\n",
        "from tensorflow.keras import layers\n",
        "from keras.layers import Input, Conv2D, MaxPooling2D, Reshape, Bidirectional, LSTM, Dense, Lambda, Activation, BatchNormalization, Dropout\n",
        "from keras.optimizers import Adam\n",
        "tf.config.run_functions_eagerly(True)\n",
        "MAX_HIGHT = 50\n",
        "MAX_WIDTH = 200\n",
        "IMG_FOLDER = '/content/drive/MyDrive/development/datasets/OCR_MNIST_Words/dataset/v011_words_small/'\n",
        "LABELS_JSON = '/content/drive/MyDrive/development/datasets/OCR_MNIST_Words/v011_labels_small.json'\n",
        "#Dont use # in the alphabet. if you need you need to change the fillup char\n",
        "\n",
        "ALPHABETS = '#'+ string.digits + string.ascii_letters + '!?.-()+ '\n",
        "MAX_STR_LEN = 24 # max length of input labels\n",
        "num_of_characters = len(ALPHABETS) + 1 # +1 for ctc pseudo blank\n",
        "NUM_OF_TIMESTAMPS = 64 # max length of predicted labels\n",
        "BATCH_SIZE = 500\n"
      ],
      "metadata": {
        "id": "T71mC-561pla"
      },
      "execution_count": 117,
      "outputs": []
    },
    {
      "cell_type": "code",
      "source": [
        "try:\n",
        "  from google.colab import drive\n",
        "  import os\n",
        "  drive.mount('/content/drive')\n",
        "  data_dir = 'drive/My Drive/colab/keras-ocr'\n",
        "  os.makedirs(data_dir, exist_ok=True)\n",
        "except ImportError:\n",
        "  data_dir = '.'"
      ],
      "metadata": {
        "colab": {
          "base_uri": "https://localhost:8080/"
        },
        "id": "bpZer8ZGzI-t",
        "outputId": "de5b79f7-11e9-43c6-a942-633f4c9fc8f8"
      },
      "execution_count": 48,
      "outputs": [
        {
          "output_type": "stream",
          "name": "stdout",
          "text": [
            "Drive already mounted at /content/drive; to attempt to forcibly remount, call drive.mount(\"/content/drive\", force_remount=True).\n"
          ]
        }
      ]
    },
    {
      "cell_type": "code",
      "source": [
        "# Add the total path to image name\n",
        "def make_total_path(imgName):\n",
        "  return IMG_FOLDER + imgName"
      ],
      "metadata": {
        "id": "ISQkw1X7NkqM"
      },
      "execution_count": 98,
      "outputs": []
    },
    {
      "cell_type": "code",
      "execution_count": 118,
      "metadata": {
        "id": "j6Z3cClmfOF4",
        "colab": {
          "base_uri": "https://localhost:8080/",
          "height": 54
        },
        "outputId": "22a484c5-a1a0-4544-cb44-1dc4a68e290f"
      },
      "outputs": [
        {
          "output_type": "stream",
          "name": "stdout",
          "text": [
            "[11 37  1  2 -1 -1 -1 -1 -1 -1 -1 -1 -1 -1 -1 -1 -1 -1 -1 -1 -1 -1 -1 -1]\n"
          ]
        },
        {
          "output_type": "execute_result",
          "data": {
            "text/plain": [
              "'aA01'"
            ],
            "application/vnd.google.colaboratory.intrinsic+json": {
              "type": "string"
            }
          },
          "metadata": {},
          "execution_count": 118
        }
      ],
      "source": [
        "### Converting Chars to nums is better for ML\n",
        "def label_to_num(label, padding = True):\n",
        "    label_num = []\n",
        "    for ch in label:\n",
        "      label_num.append(ALPHABETS.find(ch) if ALPHABETS.find(ch)!=-1 else 0)\n",
        "\n",
        "    if padding == True:\n",
        "      return_label = tf.keras.utils.pad_sequences([label_num], maxlen= MAX_STR_LEN, value= -1, padding = \"post\")\n",
        "      return return_label[0]\n",
        "    else:\n",
        "      return label_num\n",
        "\n",
        "\n",
        "def num_to_label(num):\n",
        "    ret = \"\"\n",
        "    for ch in num:\n",
        "        if ch == -1:  # CTC Blank\n",
        "            break\n",
        "        else:\n",
        "            ret+=ALPHABETS[ch]\n",
        "    return ret\n",
        "print(label_to_num(\"aA01\"))\n",
        "num_to_label(label_to_num(\"aA01\"))"
      ]
    },
    {
      "cell_type": "markdown",
      "source": [
        "#Important To DO:\n",
        "Check all Images, if this raises an error:\n",
        "tf.image.resize(img, [MAX_HIGHT, MAX_WIDTH], preserve_aspect_ratio= True)\n",
        "\n",
        "If so remove that pic. if it is difficult to check you can also checl for:\n",
        "    if (org_img_hight / org_img_width >= 15) or (org_img_width / org_img_hight >= 15):"
      ],
      "metadata": {
        "id": "sXo6nYcpbN6u"
      }
    },
    {
      "cell_type": "code",
      "source": [],
      "metadata": {
        "id": "9iI3pvkYa0nv"
      },
      "execution_count": null,
      "outputs": []
    },
    {
      "cell_type": "code",
      "source": [
        "#Reading the json {Image_filename, \"test on Image\"}\n",
        "with open(LABELS_JSON) as f:\n",
        "    data = list(json.load(f).items())\n",
        "\n",
        "#Reduced to just 100, change it to all for real training\n",
        "keyVal = np.array(data[:1000])\n",
        "#keyVal = np.array(data)\n",
        "x_all_img_file_name = keyVal[:,0]\n",
        "labels = keyVal[:,1]\n",
        "\n",
        "# add the total path to each image name\n",
        "x_all_img_total_path = np.array([make_total_path(imgName) for imgName in x_all_img_file_name])\n",
        "\n",
        "#Convert String to int-Code including padding the int code to max str len\n",
        "labels_padded = np.array([label_to_num(xi) for xi in labels])\n",
        "len_labels_padded = [len(i) for i in labels_padded]\n",
        "len_labels_not_padded = [len(i) for i in labels]"
      ],
      "metadata": {
        "id": "8ym8BEgNguLs"
      },
      "execution_count": 119,
      "outputs": []
    },
    {
      "cell_type": "code",
      "source": [
        "print(labels_padded)\n",
        "print(len(labels[0]))\n",
        "print(labels)\n",
        "print(len_labels_not_padded)\n",
        "print(len_labels_padded)\n",
        "print(x_all_img_total_path)"
      ],
      "metadata": {
        "id": "jcxT3jqoLxzu",
        "colab": {
          "base_uri": "https://localhost:8080/"
        },
        "outputId": "784c3aa4-9f42-4823-fda5-6fa85c1ce95f",
        "collapsed": true
      },
      "execution_count": 101,
      "outputs": [
        {
          "output_type": "stream",
          "name": "stdout",
          "text": [
            "[[37 24 11 ... -1 -1 -1]\n",
            " [39 28 15 ... -1 -1 -1]\n",
            " [22 19 26 ... -1 -1 -1]\n",
            " ...\n",
            " [39 51 57 ... -1 -1 -1]\n",
            " [51 54 -1 ... -1 -1 -1]\n",
            " [37 28 30 ... -1 -1 -1]]\n",
            "8\n",
            "['Analysis' 'Creating' 'lips' '4' 'formation' 'that' 'Always}'\n",
            " 'lifeunlessunless' 'HIS' 'herself' 'print' 'much' 'help' 'mother' 'or'\n",
            " 'of' '(' 'said' 'would' 'OR' 'CASE' 'THE' '(a)' 'my' 'meaning' 'next'\n",
            " 'study' 'Marks' 'the' 'HAVE' 'deprived' 'the' '3519-13.' 'of' 'AND' 'to*'\n",
            " 'Answer' 'is' 'THE' ' ' 'week' 'BEING' 'SMILED' 'to' 'would' 'DREADING'\n",
            " '50' 'that' 'contention' 'problem' 'museum' 'to' 'LONG' 'tendency' 'some'\n",
            " 'questions' 'of' 'before' 'BE' 'PREFERABLE' 'PROVE' 'Accounting' 'Oz'\n",
            " 'THINGS' 'husbands' 'loyalty,' 'Rotation' '(a)' 'of' 'rebuke' 'a' 'of'\n",
            " 'medium' ' ' 'services' 'with' 'this' 'FAR' 'at' 'only' 'masses' 'steps'\n",
            " 'of' 'equity' 'the' 'possesseach' 'FIVE' 'in' 'TOO' 'there' '44-7300'\n",
            " 'Wall' 'he' 'responsible' 'and' '(f)' 'morning' 'financial' 'home.'\n",
            " 'mistake' 'classifying' 'to' 'one' 'Briefly' 'media' 'Prepare' 'educate'\n",
            " '/' 'account.' 'they' 'YOU' 'and' 'of' 'Capital' 'times.”' 'to' 'we'\n",
            " 'that' 'fresco' 'that' 'these' 'AT' 'marks.' 'of' 'young)' 'smoothies'\n",
            " 'CALLED' 'when' 'WHEN' 'York' '(i)' 'be' 'TROUBLE' 'cafes' 'of' 'shell'\n",
            " 'Value' 'cancer.' '93' 'the' 'NO' 'while' ' ' 'her' 'sustain' 'put'\n",
            " 'BOYS' 'RECEIVE' 'Section' 'more ?' 'every' 'two' '(f)' 'FAITHFUL' 'in'\n",
            " 'in' 'Average' 'the' 'until' 'in' 'extending' 'the' '12' 'train)' 'more'\n",
            " 'ENGROSSING' 'the' 'integration' 'election' '8' 'Discipline'\n",
            " 'Governance.' 'its' 'effects' 'and' 'whether' 'justice' 'help' 'were'\n",
            " 'ever' 'in' 'in' 'shall' 'budget' 'country' 'from' 'quivering' 'SSIs'\n",
            " ':—' 'out' 'TumbleBug' 'name' 'most' 'examples' 'Total' 'diagram.'\n",
            " 'water' 'labourers' 'Purushartha.' 'answerbook.' 'concept' 'How' 'must'\n",
            " 'as' 'HE' 'once' 'covered' 'are' 'increase' '(c)' 'keep' 'the' 'to' '(3)'\n",
            " 'jewellary' 'short' 'on' 'has' 'TOWERING' 'of' 'was' 'and' 'WHEN' 'good'\n",
            " '4.' '(v)' 'because' 'of' 'Culture' 'Section' 'they' 'from' 'the' 'all'\n",
            " 'has' 'of' 'reporter.' 'how' 'fire' 'Outline' 'in' 'required.' 'Cheer'\n",
            " 'objectives' 'Attempt' 'answers' 'culprit' 'speaking' 'in' 'AND' 'it'\n",
            " 'sediment' 'statements' 'become' 'MRTP' 'in' 'puts' '(e)' 'hand'\n",
            " '[ minute' 'of' 'the' 'and' 'out' 'Product' 'IT' 'suitable' 'One' 'are'\n",
            " 'through' 'the' 'Figures' 'SHEETS' 'was' 'loan' 'OR' 'nervous' 'under'\n",
            " '10' 'asked' 'the' 'take' 'seemed' 'his' 'ROMANCE' 'the' '_' 'court'\n",
            " 'steps' 'Bond?' 'Compare' 'WASNTI' 'Explain' 'Briefly' 'started'\n",
            " 'carelessness' 'in' 'the' 'scarlet' 'systems' 'nearly' 'country' 'ears'\n",
            " 'factors' 'analysis,' 'Mr.' 'of' 'objectives.' 'engineers' 'such' 'he'\n",
            " 'DEY' 'Republican?' 'responsibility' '60' 'of' 'in' 'under' 'Beth:' 'BUT'\n",
            " 'Securitisation' 'to' 'ranged' 'does' 'PRIVATE' 'recovered' 'men' 'He'\n",
            " 'inand' 'HIS' 'solide' 'to' 'LIT' 'plans.' 'him' 'Dixit' 'Valorem' 'and'\n",
            " 'disclosure' 'column*' 'in' 'way' 'visuals' 'answered' 'preserved' 'the'\n",
            " 'and' 'the' 'at' 'to' 'DAY' 'to' '(vii)' 'anything' '(c)' 'the' 'THEY'\n",
            " 'was' 'the' 'two' '(a)' 'of' 'consistency' 'the' 'Water' 'to'\n",
            " 'expectations' 'that' 'of &' 'this' 'fingers' 'damaging' 'are'\n",
            " 'reminiscences' 'of' 'Portfolio' 'trade' 'ONLY' 'PRESENT' 'TO' 'Con.'\n",
            " 'was' 'completing' 'Mr' 'out' 'and' '(iv)' 'but-' 'in' 'radiation'\n",
            " 'Gentleman' 'and' 'Taxation.' 'THAN' 'dry >' 'all' 'short' 'his'\n",
            " 'reports' 'WITH' 'of' 'social' 'LITTLE' 'the' 'terrible' 'the'\n",
            " 'effective' 'information' 'who' 'syndication' 'frogged' 'through' 'it&'\n",
            " 'also' 'he' 'humdrum' 'job' 'affairs*' 'colour,' '|' 'more*' 'and' 'SORE'\n",
            " 'nothing' '(4)' '[ up' 'volume' 'The' 'visiting' 'his' 'with' 'major'\n",
            " '( did' 'only' 'enter' 'women' 'Con.' \"Dunkin'\" 'caprice' 'Explain'\n",
            " 'because' 'than' 'most' 'doesnt:' 'Anand' 'it' 'use' 'young' '?' 'given'\n",
            " 'sympathy' 'P' '3,' 'REST' 'king' '12' 'paper' 'No' 'a' 'terrible' 'his'\n",
            " 'MAN' 'OR' 'significance' 'SUCH' 'and' 'THE' 'jump' 'not' 'him' 'the'\n",
            " 'the' 'her' 'HAD' '80' 'now' 'THOSE' 'brief' 'things' 'shall' 'Or'\n",
            " 'development' 'SQL.' 'Young”.' 'customers' 'and' 'programme' 'of' 'and'\n",
            " 'keen' 'Write' '\" of' 'laws' 'knew' 'Explain' 'reglar' 'Corruption.' 'of'\n",
            " 'Locai' 'process' 'Web' 'of \\\\' 'a' 'Bonds' 'two' 'GET' 'and' 'manual'\n",
            " 'him' 'or' '[ remember' 'AFFAIRS' 'Heavens' 'personality' 'of' '(ii)'\n",
            " 'desk' 'DANGERS' 'they' 'Drugs' 'exchange' 'advantages' 'of' '1650000'\n",
            " 'as' 'OF' 'that' 'he' 'balance.' 'Explain' 'asked &' 'Distribution'\n",
            " 'started' 'the' 'Explain' 'KNOW' 'DOWN' 'killing' 'that' 'Auditing' 'is'\n",
            " 'Trophy' 'Nor' 'and' 'him' 'Concept' 'we' 'coulda;' 'joined' 'said'\n",
            " 'BROUGHT' '(boy' '60' 'Global' 'TREATMENT' 'and' 'to' 'PK-5912' 'done'\n",
            " 'WIND' 'GHOST' 'bases' 'in' '\"father' 'been' '?' 'is' 'and' 'not' 'his'\n",
            " 'if' 'office' 'my:' 'air' 'to' 'organisation.' 'design' 'Books' 'TROUBLE'\n",
            " 'And' 'They' 'over' 'best' 'just' '(a)' 'Strategic' 'silence' 'Should'\n",
            " 'reward' 'of' 'MY' 'FUNCTION' 'all' 'MONEY' 'of' 'to' 'powers' 'her >'\n",
            " 'down' '14' 'brief' 'important' 'would' '2.' '?' 'long' 'our' 'passed'\n",
            " 'ADVERTISEMENT' 'restless.' 'raved' 'fingers' 'married' '( was'\n",
            " 'Computer' 'NOT' 'between' 'Or' 'for' 'bases' 'about' '1,000' 'of'\n",
            " 'NOBLE' 'time' 'Service' '( against' 'big' 'must' 'the' 'Amo!' 'eye'\n",
            " 'nine' 'Total' 'and' 'over' 'were' 'life' 'Principle' 'following' 'go*'\n",
            " 'THE' 'matter' 'Government' 'not' 'reading.' 'Deans' 'marks.' 'these'\n",
            " 'complained' 'DO' 'following' 'Lord' 'Quality' 'we' 'it' 'women' 'was'\n",
            " 'little' 'WAIT' 'sensex' 'Involves' 'to' ' ' 'AND' 'affordable' 'head'\n",
            " 'this' '?' 'Write' 'the' 'of' '[ than' 'this' 'rupee' '7' 'and'\n",
            " 'artificers' 'but' 'do' 'the' 'and' 'people}' '[TURN' 'squabbling' 'by'\n",
            " 'and' 'the' 'force' 'more' 'their' 'study' '(2)' 'did' 'What'\n",
            " 'surrounded' 'turned' 'they' 'ordered' 'they' 'undergo' 'It' 'the'\n",
            " 'lower' 'decisions.' '8' 'College' 'to' 'the' '“Soyabean' '(b)' 'What'\n",
            " '-' 'Marks' 'washing' 'the' 'enter' 'DAY' 'Qestion' 'OWN' 'But' 'supply'\n",
            " 'activiti.' 'Strategies.' 'me' 'THEN' 'driving' 'ME' 'IT' '_seq_' 'the'\n",
            " 'COAT' 'INHABITANTS' 'Return' '8' 'Doordarshan' 'agreeing,' 'his' '( Ten'\n",
            " 'ARE' 'THAT' 'newspapers' 'be' '3.' 'a' 'through' 'body' '121' 'the:'\n",
            " 'IT' 'so' 'Fisher' '(a)' 'the' '?' 'JOY' 'Annual' 'the' 'the' 'play]'\n",
            " '\" people' 'Sibal.' 'nature' 'Indian' 'and' 'sense' 'Credence' '1.'\n",
            " 'dividing' 'if' 'OF' 'or' 'himself' 'PLEASANT' 'by' 'you' 'for' 'Parity'\n",
            " '2.' '[said' 'to' 'unprofitable' 'from' 'could' 'bonds' 'AS' 'its'\n",
            " 'would' 'It' 'books' 'go' 'troops' 'CABINET' 'a' 'The' 'THE'\n",
            " 'achievements' 'COULD' 'OR' 'Article']\n",
            "[8, 8, 4, 1, 9, 4, 7, 16, 3, 7, 5, 4, 4, 6, 2, 2, 1, 4, 5, 2, 4, 3, 3, 2, 7, 4, 5, 5, 3, 4, 8, 3, 8, 2, 3, 3, 6, 2, 3, 1, 4, 5, 6, 2, 5, 8, 2, 4, 10, 7, 6, 2, 4, 8, 4, 9, 2, 6, 2, 10, 5, 10, 2, 6, 8, 8, 8, 3, 2, 6, 1, 2, 6, 1, 8, 4, 4, 3, 2, 4, 6, 5, 2, 6, 3, 11, 4, 2, 3, 5, 7, 4, 2, 11, 3, 3, 7, 9, 5, 7, 11, 2, 3, 7, 5, 7, 7, 1, 8, 4, 3, 3, 2, 7, 7, 2, 2, 4, 6, 4, 5, 2, 6, 2, 6, 9, 6, 4, 4, 4, 3, 2, 7, 5, 2, 5, 5, 7, 2, 3, 2, 5, 1, 3, 7, 3, 4, 7, 7, 6, 5, 3, 3, 8, 2, 2, 7, 3, 5, 2, 9, 3, 2, 6, 4, 10, 3, 11, 8, 1, 10, 11, 3, 7, 3, 7, 7, 4, 4, 4, 2, 2, 5, 6, 7, 4, 9, 4, 2, 3, 9, 4, 4, 8, 5, 8, 5, 9, 12, 11, 7, 3, 4, 2, 2, 4, 7, 3, 8, 3, 4, 3, 2, 3, 9, 5, 2, 3, 8, 2, 3, 3, 4, 4, 2, 3, 7, 2, 7, 7, 4, 4, 3, 3, 3, 2, 9, 3, 4, 7, 2, 9, 5, 10, 7, 7, 7, 8, 2, 3, 2, 8, 10, 6, 4, 2, 4, 3, 4, 8, 2, 3, 3, 3, 7, 2, 8, 3, 3, 7, 3, 7, 6, 3, 4, 2, 7, 5, 2, 5, 3, 4, 6, 3, 7, 3, 1, 5, 5, 5, 7, 6, 7, 7, 7, 12, 2, 3, 7, 7, 6, 7, 4, 7, 9, 3, 2, 11, 9, 4, 2, 3, 11, 14, 2, 2, 2, 5, 5, 3, 14, 2, 6, 4, 7, 9, 3, 2, 5, 3, 6, 2, 3, 6, 3, 5, 7, 3, 10, 7, 2, 3, 7, 8, 9, 3, 3, 3, 2, 2, 3, 2, 5, 8, 3, 3, 4, 3, 3, 3, 3, 2, 11, 3, 5, 2, 12, 4, 4, 4, 7, 8, 3, 13, 2, 9, 5, 4, 7, 2, 4, 3, 10, 2, 3, 3, 4, 4, 2, 9, 9, 3, 9, 4, 5, 3, 5, 3, 7, 4, 2, 6, 6, 3, 8, 3, 9, 11, 3, 11, 7, 7, 3, 4, 2, 7, 3, 8, 7, 1, 5, 3, 4, 7, 3, 4, 6, 3, 8, 3, 4, 5, 5, 4, 5, 5, 4, 7, 7, 7, 7, 4, 4, 7, 5, 2, 3, 5, 1, 5, 8, 1, 2, 4, 4, 2, 5, 2, 1, 8, 3, 3, 2, 12, 4, 3, 3, 4, 3, 3, 3, 3, 3, 3, 2, 3, 5, 5, 6, 5, 2, 11, 4, 7, 9, 3, 9, 2, 3, 4, 5, 4, 4, 4, 7, 6, 11, 2, 5, 7, 3, 4, 1, 5, 3, 3, 3, 6, 3, 2, 10, 7, 7, 11, 2, 4, 4, 7, 4, 5, 8, 10, 2, 7, 2, 2, 4, 2, 8, 7, 7, 12, 7, 3, 7, 4, 4, 7, 4, 8, 2, 6, 3, 3, 3, 7, 2, 7, 6, 4, 7, 4, 2, 6, 9, 3, 2, 7, 4, 4, 5, 5, 2, 7, 4, 1, 2, 3, 3, 3, 2, 6, 3, 3, 2, 13, 6, 5, 7, 3, 4, 4, 4, 4, 3, 9, 7, 6, 6, 2, 2, 8, 3, 5, 2, 2, 6, 5, 4, 2, 5, 9, 5, 2, 1, 4, 3, 6, 13, 9, 5, 7, 7, 5, 8, 3, 7, 2, 3, 5, 5, 5, 2, 5, 4, 7, 9, 3, 4, 3, 4, 3, 4, 5, 3, 4, 4, 4, 9, 9, 3, 3, 6, 10, 3, 8, 5, 6, 5, 10, 2, 9, 4, 7, 2, 2, 5, 3, 6, 4, 6, 8, 2, 1, 3, 10, 4, 4, 1, 5, 3, 2, 6, 4, 5, 1, 3, 10, 3, 2, 3, 3, 7, 5, 10, 2, 3, 3, 5, 4, 5, 5, 3, 3, 4, 10, 6, 4, 7, 4, 7, 2, 3, 5, 10, 1, 7, 2, 3, 9, 3, 4, 1, 5, 7, 3, 5, 3, 7, 3, 3, 6, 9, 11, 2, 4, 7, 2, 2, 5, 3, 4, 11, 6, 1, 11, 9, 3, 5, 3, 4, 10, 2, 2, 1, 7, 4, 3, 4, 2, 2, 6, 3, 3, 1, 3, 6, 3, 3, 5, 8, 6, 6, 6, 3, 5, 8, 2, 8, 2, 2, 2, 7, 8, 2, 3, 3, 6, 2, 5, 2, 12, 4, 5, 5, 2, 3, 5, 2, 5, 2, 6, 7, 1, 3, 3, 12, 5, 2, 7]\n",
            "[24, 24, 24, 24, 24, 24, 24, 24, 24, 24, 24, 24, 24, 24, 24, 24, 24, 24, 24, 24, 24, 24, 24, 24, 24, 24, 24, 24, 24, 24, 24, 24, 24, 24, 24, 24, 24, 24, 24, 24, 24, 24, 24, 24, 24, 24, 24, 24, 24, 24, 24, 24, 24, 24, 24, 24, 24, 24, 24, 24, 24, 24, 24, 24, 24, 24, 24, 24, 24, 24, 24, 24, 24, 24, 24, 24, 24, 24, 24, 24, 24, 24, 24, 24, 24, 24, 24, 24, 24, 24, 24, 24, 24, 24, 24, 24, 24, 24, 24, 24, 24, 24, 24, 24, 24, 24, 24, 24, 24, 24, 24, 24, 24, 24, 24, 24, 24, 24, 24, 24, 24, 24, 24, 24, 24, 24, 24, 24, 24, 24, 24, 24, 24, 24, 24, 24, 24, 24, 24, 24, 24, 24, 24, 24, 24, 24, 24, 24, 24, 24, 24, 24, 24, 24, 24, 24, 24, 24, 24, 24, 24, 24, 24, 24, 24, 24, 24, 24, 24, 24, 24, 24, 24, 24, 24, 24, 24, 24, 24, 24, 24, 24, 24, 24, 24, 24, 24, 24, 24, 24, 24, 24, 24, 24, 24, 24, 24, 24, 24, 24, 24, 24, 24, 24, 24, 24, 24, 24, 24, 24, 24, 24, 24, 24, 24, 24, 24, 24, 24, 24, 24, 24, 24, 24, 24, 24, 24, 24, 24, 24, 24, 24, 24, 24, 24, 24, 24, 24, 24, 24, 24, 24, 24, 24, 24, 24, 24, 24, 24, 24, 24, 24, 24, 24, 24, 24, 24, 24, 24, 24, 24, 24, 24, 24, 24, 24, 24, 24, 24, 24, 24, 24, 24, 24, 24, 24, 24, 24, 24, 24, 24, 24, 24, 24, 24, 24, 24, 24, 24, 24, 24, 24, 24, 24, 24, 24, 24, 24, 24, 24, 24, 24, 24, 24, 24, 24, 24, 24, 24, 24, 24, 24, 24, 24, 24, 24, 24, 24, 24, 24, 24, 24, 24, 24, 24, 24, 24, 24, 24, 24, 24, 24, 24, 24, 24, 24, 24, 24, 24, 24, 24, 24, 24, 24, 24, 24, 24, 24, 24, 24, 24, 24, 24, 24, 24, 24, 24, 24, 24, 24, 24, 24, 24, 24, 24, 24, 24, 24, 24, 24, 24, 24, 24, 24, 24, 24, 24, 24, 24, 24, 24, 24, 24, 24, 24, 24, 24, 24, 24, 24, 24, 24, 24, 24, 24, 24, 24, 24, 24, 24, 24, 24, 24, 24, 24, 24, 24, 24, 24, 24, 24, 24, 24, 24, 24, 24, 24, 24, 24, 24, 24, 24, 24, 24, 24, 24, 24, 24, 24, 24, 24, 24, 24, 24, 24, 24, 24, 24, 24, 24, 24, 24, 24, 24, 24, 24, 24, 24, 24, 24, 24, 24, 24, 24, 24, 24, 24, 24, 24, 24, 24, 24, 24, 24, 24, 24, 24, 24, 24, 24, 24, 24, 24, 24, 24, 24, 24, 24, 24, 24, 24, 24, 24, 24, 24, 24, 24, 24, 24, 24, 24, 24, 24, 24, 24, 24, 24, 24, 24, 24, 24, 24, 24, 24, 24, 24, 24, 24, 24, 24, 24, 24, 24, 24, 24, 24, 24, 24, 24, 24, 24, 24, 24, 24, 24, 24, 24, 24, 24, 24, 24, 24, 24, 24, 24, 24, 24, 24, 24, 24, 24, 24, 24, 24, 24, 24, 24, 24, 24, 24, 24, 24, 24, 24, 24, 24, 24, 24, 24, 24, 24, 24, 24, 24, 24, 24, 24, 24, 24, 24, 24, 24, 24, 24, 24, 24, 24, 24, 24, 24, 24, 24, 24, 24, 24, 24, 24, 24, 24, 24, 24, 24, 24, 24, 24, 24, 24, 24, 24, 24, 24, 24, 24, 24, 24, 24, 24, 24, 24, 24, 24, 24, 24, 24, 24, 24, 24, 24, 24, 24, 24, 24, 24, 24, 24, 24, 24, 24, 24, 24, 24, 24, 24, 24, 24, 24, 24, 24, 24, 24, 24, 24, 24, 24, 24, 24, 24, 24, 24, 24, 24, 24, 24, 24, 24, 24, 24, 24, 24, 24, 24, 24, 24, 24, 24, 24, 24, 24, 24, 24, 24, 24, 24, 24, 24, 24, 24, 24, 24, 24, 24, 24, 24, 24, 24, 24, 24, 24, 24, 24, 24, 24, 24, 24, 24, 24, 24, 24, 24, 24, 24, 24, 24, 24, 24, 24, 24, 24, 24, 24, 24, 24, 24, 24, 24, 24, 24, 24, 24, 24, 24, 24, 24, 24, 24, 24, 24, 24, 24, 24, 24, 24, 24, 24, 24, 24, 24, 24, 24, 24, 24, 24, 24, 24, 24, 24, 24, 24, 24, 24, 24, 24, 24, 24, 24, 24, 24, 24, 24, 24, 24, 24, 24, 24, 24, 24, 24, 24, 24, 24, 24, 24, 24, 24, 24, 24, 24, 24, 24, 24, 24, 24, 24, 24, 24, 24, 24, 24, 24, 24, 24, 24, 24, 24, 24, 24, 24, 24, 24, 24]\n",
            "['/content/drive/MyDrive/development/datasets/OCR_MNIST_Words/dataset/v011_words_small/8203.png'\n",
            " '/content/drive/MyDrive/development/datasets/OCR_MNIST_Words/dataset/v011_words_small/8204.png'\n",
            " '/content/drive/MyDrive/development/datasets/OCR_MNIST_Words/dataset/v011_words_small/8205.jpeg'\n",
            " '/content/drive/MyDrive/development/datasets/OCR_MNIST_Words/dataset/v011_words_small/8206.png'\n",
            " '/content/drive/MyDrive/development/datasets/OCR_MNIST_Words/dataset/v011_words_small/8207.png'\n",
            " '/content/drive/MyDrive/development/datasets/OCR_MNIST_Words/dataset/v011_words_small/8208.jpeg'\n",
            " '/content/drive/MyDrive/development/datasets/OCR_MNIST_Words/dataset/v011_words_small/8209.jpeg'\n",
            " '/content/drive/MyDrive/development/datasets/OCR_MNIST_Words/dataset/v011_words_small/8210.jpeg'\n",
            " '/content/drive/MyDrive/development/datasets/OCR_MNIST_Words/dataset/v011_words_small/8211.jpeg'\n",
            " '/content/drive/MyDrive/development/datasets/OCR_MNIST_Words/dataset/v011_words_small/8212.jpeg'\n",
            " '/content/drive/MyDrive/development/datasets/OCR_MNIST_Words/dataset/v011_words_small/8213.png'\n",
            " '/content/drive/MyDrive/development/datasets/OCR_MNIST_Words/dataset/v011_words_small/8214.jpeg'\n",
            " '/content/drive/MyDrive/development/datasets/OCR_MNIST_Words/dataset/v011_words_small/8215.png'\n",
            " '/content/drive/MyDrive/development/datasets/OCR_MNIST_Words/dataset/v011_words_small/8216.jpeg'\n",
            " '/content/drive/MyDrive/development/datasets/OCR_MNIST_Words/dataset/v011_words_small/8217.png'\n",
            " '/content/drive/MyDrive/development/datasets/OCR_MNIST_Words/dataset/v011_words_small/8218.png'\n",
            " '/content/drive/MyDrive/development/datasets/OCR_MNIST_Words/dataset/v011_words_small/8219.png'\n",
            " '/content/drive/MyDrive/development/datasets/OCR_MNIST_Words/dataset/v011_words_small/8220.jpeg'\n",
            " '/content/drive/MyDrive/development/datasets/OCR_MNIST_Words/dataset/v011_words_small/8221.jpeg'\n",
            " '/content/drive/MyDrive/development/datasets/OCR_MNIST_Words/dataset/v011_words_small/8222.png'\n",
            " '/content/drive/MyDrive/development/datasets/OCR_MNIST_Words/dataset/v011_words_small/8223.jpeg'\n",
            " '/content/drive/MyDrive/development/datasets/OCR_MNIST_Words/dataset/v011_words_small/8224.jpeg'\n",
            " '/content/drive/MyDrive/development/datasets/OCR_MNIST_Words/dataset/v011_words_small/8225.png'\n",
            " '/content/drive/MyDrive/development/datasets/OCR_MNIST_Words/dataset/v011_words_small/8226.jpeg'\n",
            " '/content/drive/MyDrive/development/datasets/OCR_MNIST_Words/dataset/v011_words_small/8227.png'\n",
            " '/content/drive/MyDrive/development/datasets/OCR_MNIST_Words/dataset/v011_words_small/8228.jpeg'\n",
            " '/content/drive/MyDrive/development/datasets/OCR_MNIST_Words/dataset/v011_words_small/8229.png'\n",
            " '/content/drive/MyDrive/development/datasets/OCR_MNIST_Words/dataset/v011_words_small/8230.png'\n",
            " '/content/drive/MyDrive/development/datasets/OCR_MNIST_Words/dataset/v011_words_small/8231.png'\n",
            " '/content/drive/MyDrive/development/datasets/OCR_MNIST_Words/dataset/v011_words_small/8232.jpeg'\n",
            " '/content/drive/MyDrive/development/datasets/OCR_MNIST_Words/dataset/v011_words_small/8233.jpeg'\n",
            " '/content/drive/MyDrive/development/datasets/OCR_MNIST_Words/dataset/v011_words_small/8234.png'\n",
            " '/content/drive/MyDrive/development/datasets/OCR_MNIST_Words/dataset/v011_words_small/8235.png'\n",
            " '/content/drive/MyDrive/development/datasets/OCR_MNIST_Words/dataset/v011_words_small/8236.png'\n",
            " '/content/drive/MyDrive/development/datasets/OCR_MNIST_Words/dataset/v011_words_small/8237.jpeg'\n",
            " '/content/drive/MyDrive/development/datasets/OCR_MNIST_Words/dataset/v011_words_small/8238.jpeg'\n",
            " '/content/drive/MyDrive/development/datasets/OCR_MNIST_Words/dataset/v011_words_small/8239.png'\n",
            " '/content/drive/MyDrive/development/datasets/OCR_MNIST_Words/dataset/v011_words_small/8240.png'\n",
            " '/content/drive/MyDrive/development/datasets/OCR_MNIST_Words/dataset/v011_words_small/8241.jpeg'\n",
            " '/content/drive/MyDrive/development/datasets/OCR_MNIST_Words/dataset/v011_words_small/8242.png'\n",
            " '/content/drive/MyDrive/development/datasets/OCR_MNIST_Words/dataset/v011_words_small/8243.png'\n",
            " '/content/drive/MyDrive/development/datasets/OCR_MNIST_Words/dataset/v011_words_small/8244.jpeg'\n",
            " '/content/drive/MyDrive/development/datasets/OCR_MNIST_Words/dataset/v011_words_small/8245.jpeg'\n",
            " '/content/drive/MyDrive/development/datasets/OCR_MNIST_Words/dataset/v011_words_small/8246.png'\n",
            " '/content/drive/MyDrive/development/datasets/OCR_MNIST_Words/dataset/v011_words_small/8247.png'\n",
            " '/content/drive/MyDrive/development/datasets/OCR_MNIST_Words/dataset/v011_words_small/8248.jpeg'\n",
            " '/content/drive/MyDrive/development/datasets/OCR_MNIST_Words/dataset/v011_words_small/8249.png'\n",
            " '/content/drive/MyDrive/development/datasets/OCR_MNIST_Words/dataset/v011_words_small/8250.jpeg'\n",
            " '/content/drive/MyDrive/development/datasets/OCR_MNIST_Words/dataset/v011_words_small/8251.jpeg'\n",
            " '/content/drive/MyDrive/development/datasets/OCR_MNIST_Words/dataset/v011_words_small/8252.png'\n",
            " '/content/drive/MyDrive/development/datasets/OCR_MNIST_Words/dataset/v011_words_small/8253.jpeg'\n",
            " '/content/drive/MyDrive/development/datasets/OCR_MNIST_Words/dataset/v011_words_small/8254.jpeg'\n",
            " '/content/drive/MyDrive/development/datasets/OCR_MNIST_Words/dataset/v011_words_small/8255.jpeg'\n",
            " '/content/drive/MyDrive/development/datasets/OCR_MNIST_Words/dataset/v011_words_small/8256.jpeg'\n",
            " '/content/drive/MyDrive/development/datasets/OCR_MNIST_Words/dataset/v011_words_small/8257.jpeg'\n",
            " '/content/drive/MyDrive/development/datasets/OCR_MNIST_Words/dataset/v011_words_small/8258.png'\n",
            " '/content/drive/MyDrive/development/datasets/OCR_MNIST_Words/dataset/v011_words_small/8259.jpeg'\n",
            " '/content/drive/MyDrive/development/datasets/OCR_MNIST_Words/dataset/v011_words_small/8260.jpeg'\n",
            " '/content/drive/MyDrive/development/datasets/OCR_MNIST_Words/dataset/v011_words_small/8261.jpeg'\n",
            " '/content/drive/MyDrive/development/datasets/OCR_MNIST_Words/dataset/v011_words_small/8262.jpeg'\n",
            " '/content/drive/MyDrive/development/datasets/OCR_MNIST_Words/dataset/v011_words_small/8263.jpeg'\n",
            " '/content/drive/MyDrive/development/datasets/OCR_MNIST_Words/dataset/v011_words_small/8264.png'\n",
            " '/content/drive/MyDrive/development/datasets/OCR_MNIST_Words/dataset/v011_words_small/8265.jpeg'\n",
            " '/content/drive/MyDrive/development/datasets/OCR_MNIST_Words/dataset/v011_words_small/8266.jpeg'\n",
            " '/content/drive/MyDrive/development/datasets/OCR_MNIST_Words/dataset/v011_words_small/8267.jpeg'\n",
            " '/content/drive/MyDrive/development/datasets/OCR_MNIST_Words/dataset/v011_words_small/8268.png'\n",
            " '/content/drive/MyDrive/development/datasets/OCR_MNIST_Words/dataset/v011_words_small/8269.png'\n",
            " '/content/drive/MyDrive/development/datasets/OCR_MNIST_Words/dataset/v011_words_small/8270.png'\n",
            " '/content/drive/MyDrive/development/datasets/OCR_MNIST_Words/dataset/v011_words_small/8271.jpeg'\n",
            " '/content/drive/MyDrive/development/datasets/OCR_MNIST_Words/dataset/v011_words_small/8272.jpeg'\n",
            " '/content/drive/MyDrive/development/datasets/OCR_MNIST_Words/dataset/v011_words_small/8273.png'\n",
            " '/content/drive/MyDrive/development/datasets/OCR_MNIST_Words/dataset/v011_words_small/8274.jpeg'\n",
            " '/content/drive/MyDrive/development/datasets/OCR_MNIST_Words/dataset/v011_words_small/8275.png'\n",
            " '/content/drive/MyDrive/development/datasets/OCR_MNIST_Words/dataset/v011_words_small/8276.png'\n",
            " '/content/drive/MyDrive/development/datasets/OCR_MNIST_Words/dataset/v011_words_small/8277.png'\n",
            " '/content/drive/MyDrive/development/datasets/OCR_MNIST_Words/dataset/v011_words_small/8278.png'\n",
            " '/content/drive/MyDrive/development/datasets/OCR_MNIST_Words/dataset/v011_words_small/8279.jpeg'\n",
            " '/content/drive/MyDrive/development/datasets/OCR_MNIST_Words/dataset/v011_words_small/8280.jpeg'\n",
            " '/content/drive/MyDrive/development/datasets/OCR_MNIST_Words/dataset/v011_words_small/8281.jpeg'\n",
            " '/content/drive/MyDrive/development/datasets/OCR_MNIST_Words/dataset/v011_words_small/8282.jpeg'\n",
            " '/content/drive/MyDrive/development/datasets/OCR_MNIST_Words/dataset/v011_words_small/8283.jpeg'\n",
            " '/content/drive/MyDrive/development/datasets/OCR_MNIST_Words/dataset/v011_words_small/8284.png'\n",
            " '/content/drive/MyDrive/development/datasets/OCR_MNIST_Words/dataset/v011_words_small/8285.jpeg'\n",
            " '/content/drive/MyDrive/development/datasets/OCR_MNIST_Words/dataset/v011_words_small/8286.png'\n",
            " '/content/drive/MyDrive/development/datasets/OCR_MNIST_Words/dataset/v011_words_small/8287.png'\n",
            " '/content/drive/MyDrive/development/datasets/OCR_MNIST_Words/dataset/v011_words_small/8288.jpeg'\n",
            " '/content/drive/MyDrive/development/datasets/OCR_MNIST_Words/dataset/v011_words_small/8289.jpeg'\n",
            " '/content/drive/MyDrive/development/datasets/OCR_MNIST_Words/dataset/v011_words_small/8290.jpeg'\n",
            " '/content/drive/MyDrive/development/datasets/OCR_MNIST_Words/dataset/v011_words_small/8291.jpeg'\n",
            " '/content/drive/MyDrive/development/datasets/OCR_MNIST_Words/dataset/v011_words_small/8292.jpeg'\n",
            " '/content/drive/MyDrive/development/datasets/OCR_MNIST_Words/dataset/v011_words_small/8293.png'\n",
            " '/content/drive/MyDrive/development/datasets/OCR_MNIST_Words/dataset/v011_words_small/8294.jpeg'\n",
            " '/content/drive/MyDrive/development/datasets/OCR_MNIST_Words/dataset/v011_words_small/8295.jpeg'\n",
            " '/content/drive/MyDrive/development/datasets/OCR_MNIST_Words/dataset/v011_words_small/8296.png'\n",
            " '/content/drive/MyDrive/development/datasets/OCR_MNIST_Words/dataset/v011_words_small/8297.png'\n",
            " '/content/drive/MyDrive/development/datasets/OCR_MNIST_Words/dataset/v011_words_small/8298.png'\n",
            " '/content/drive/MyDrive/development/datasets/OCR_MNIST_Words/dataset/v011_words_small/8299.jpeg'\n",
            " '/content/drive/MyDrive/development/datasets/OCR_MNIST_Words/dataset/v011_words_small/8300.png'\n",
            " '/content/drive/MyDrive/development/datasets/OCR_MNIST_Words/dataset/v011_words_small/8301.jpeg'\n",
            " '/content/drive/MyDrive/development/datasets/OCR_MNIST_Words/dataset/v011_words_small/8302.png'\n",
            " '/content/drive/MyDrive/development/datasets/OCR_MNIST_Words/dataset/v011_words_small/8303.png'\n",
            " '/content/drive/MyDrive/development/datasets/OCR_MNIST_Words/dataset/v011_words_small/8304.jpeg'\n",
            " '/content/drive/MyDrive/development/datasets/OCR_MNIST_Words/dataset/v011_words_small/8305.jpeg'\n",
            " '/content/drive/MyDrive/development/datasets/OCR_MNIST_Words/dataset/v011_words_small/8306.png'\n",
            " '/content/drive/MyDrive/development/datasets/OCR_MNIST_Words/dataset/v011_words_small/8307.png'\n",
            " '/content/drive/MyDrive/development/datasets/OCR_MNIST_Words/dataset/v011_words_small/8308.png'\n",
            " '/content/drive/MyDrive/development/datasets/OCR_MNIST_Words/dataset/v011_words_small/8309.jpeg'\n",
            " '/content/drive/MyDrive/development/datasets/OCR_MNIST_Words/dataset/v011_words_small/8310.png'\n",
            " '/content/drive/MyDrive/development/datasets/OCR_MNIST_Words/dataset/v011_words_small/8311.png'\n",
            " '/content/drive/MyDrive/development/datasets/OCR_MNIST_Words/dataset/v011_words_small/8312.jpeg'\n",
            " '/content/drive/MyDrive/development/datasets/OCR_MNIST_Words/dataset/v011_words_small/8313.jpeg'\n",
            " '/content/drive/MyDrive/development/datasets/OCR_MNIST_Words/dataset/v011_words_small/8314.png'\n",
            " '/content/drive/MyDrive/development/datasets/OCR_MNIST_Words/dataset/v011_words_small/8315.png'\n",
            " '/content/drive/MyDrive/development/datasets/OCR_MNIST_Words/dataset/v011_words_small/8316.png'\n",
            " '/content/drive/MyDrive/development/datasets/OCR_MNIST_Words/dataset/v011_words_small/8317.png'\n",
            " '/content/drive/MyDrive/development/datasets/OCR_MNIST_Words/dataset/v011_words_small/8318.jpeg'\n",
            " '/content/drive/MyDrive/development/datasets/OCR_MNIST_Words/dataset/v011_words_small/8319.jpeg'\n",
            " '/content/drive/MyDrive/development/datasets/OCR_MNIST_Words/dataset/v011_words_small/8320.jpeg'\n",
            " '/content/drive/MyDrive/development/datasets/OCR_MNIST_Words/dataset/v011_words_small/8321.jpeg'\n",
            " '/content/drive/MyDrive/development/datasets/OCR_MNIST_Words/dataset/v011_words_small/8322.jpeg'\n",
            " '/content/drive/MyDrive/development/datasets/OCR_MNIST_Words/dataset/v011_words_small/8323.jpeg'\n",
            " '/content/drive/MyDrive/development/datasets/OCR_MNIST_Words/dataset/v011_words_small/8324.jpeg'\n",
            " '/content/drive/MyDrive/development/datasets/OCR_MNIST_Words/dataset/v011_words_small/8325.png'\n",
            " '/content/drive/MyDrive/development/datasets/OCR_MNIST_Words/dataset/v011_words_small/8326.png'\n",
            " '/content/drive/MyDrive/development/datasets/OCR_MNIST_Words/dataset/v011_words_small/8327.jpeg'\n",
            " '/content/drive/MyDrive/development/datasets/OCR_MNIST_Words/dataset/v011_words_small/8328.png'\n",
            " '/content/drive/MyDrive/development/datasets/OCR_MNIST_Words/dataset/v011_words_small/8329.jpeg'\n",
            " '/content/drive/MyDrive/development/datasets/OCR_MNIST_Words/dataset/v011_words_small/8330.jpeg'\n",
            " '/content/drive/MyDrive/development/datasets/OCR_MNIST_Words/dataset/v011_words_small/8331.jpeg'\n",
            " '/content/drive/MyDrive/development/datasets/OCR_MNIST_Words/dataset/v011_words_small/8332.png'\n",
            " '/content/drive/MyDrive/development/datasets/OCR_MNIST_Words/dataset/v011_words_small/8333.png'\n",
            " '/content/drive/MyDrive/development/datasets/OCR_MNIST_Words/dataset/v011_words_small/8334.jpeg'\n",
            " '/content/drive/MyDrive/development/datasets/OCR_MNIST_Words/dataset/v011_words_small/8335.jpeg'\n",
            " '/content/drive/MyDrive/development/datasets/OCR_MNIST_Words/dataset/v011_words_small/8336.png'\n",
            " '/content/drive/MyDrive/development/datasets/OCR_MNIST_Words/dataset/v011_words_small/8337.png'\n",
            " '/content/drive/MyDrive/development/datasets/OCR_MNIST_Words/dataset/v011_words_small/8338.png'\n",
            " '/content/drive/MyDrive/development/datasets/OCR_MNIST_Words/dataset/v011_words_small/8339.png'\n",
            " '/content/drive/MyDrive/development/datasets/OCR_MNIST_Words/dataset/v011_words_small/8340.png'\n",
            " '/content/drive/MyDrive/development/datasets/OCR_MNIST_Words/dataset/v011_words_small/8341.jpeg'\n",
            " '/content/drive/MyDrive/development/datasets/OCR_MNIST_Words/dataset/v011_words_small/8342.jpeg'\n",
            " '/content/drive/MyDrive/development/datasets/OCR_MNIST_Words/dataset/v011_words_small/8343.jpeg'\n",
            " '/content/drive/MyDrive/development/datasets/OCR_MNIST_Words/dataset/v011_words_small/8344.png'\n",
            " '/content/drive/MyDrive/development/datasets/OCR_MNIST_Words/dataset/v011_words_small/8345.png'\n",
            " '/content/drive/MyDrive/development/datasets/OCR_MNIST_Words/dataset/v011_words_small/8346.jpeg'\n",
            " '/content/drive/MyDrive/development/datasets/OCR_MNIST_Words/dataset/v011_words_small/8347.jpeg'\n",
            " '/content/drive/MyDrive/development/datasets/OCR_MNIST_Words/dataset/v011_words_small/8348.jpeg'\n",
            " '/content/drive/MyDrive/development/datasets/OCR_MNIST_Words/dataset/v011_words_small/8349.jpeg'\n",
            " '/content/drive/MyDrive/development/datasets/OCR_MNIST_Words/dataset/v011_words_small/8350.jpeg'\n",
            " '/content/drive/MyDrive/development/datasets/OCR_MNIST_Words/dataset/v011_words_small/8351.png'\n",
            " '/content/drive/MyDrive/development/datasets/OCR_MNIST_Words/dataset/v011_words_small/8352.jpeg'\n",
            " '/content/drive/MyDrive/development/datasets/OCR_MNIST_Words/dataset/v011_words_small/8353.png'\n",
            " '/content/drive/MyDrive/development/datasets/OCR_MNIST_Words/dataset/v011_words_small/8354.png'\n",
            " '/content/drive/MyDrive/development/datasets/OCR_MNIST_Words/dataset/v011_words_small/8355.png'\n",
            " '/content/drive/MyDrive/development/datasets/OCR_MNIST_Words/dataset/v011_words_small/8356.jpeg'\n",
            " '/content/drive/MyDrive/development/datasets/OCR_MNIST_Words/dataset/v011_words_small/8357.png'\n",
            " '/content/drive/MyDrive/development/datasets/OCR_MNIST_Words/dataset/v011_words_small/8358.png'\n",
            " '/content/drive/MyDrive/development/datasets/OCR_MNIST_Words/dataset/v011_words_small/8359.png'\n",
            " '/content/drive/MyDrive/development/datasets/OCR_MNIST_Words/dataset/v011_words_small/8360.png'\n",
            " '/content/drive/MyDrive/development/datasets/OCR_MNIST_Words/dataset/v011_words_small/8361.jpeg'\n",
            " '/content/drive/MyDrive/development/datasets/OCR_MNIST_Words/dataset/v011_words_small/8362.jpeg'\n",
            " '/content/drive/MyDrive/development/datasets/OCR_MNIST_Words/dataset/v011_words_small/8363.jpeg'\n",
            " '/content/drive/MyDrive/development/datasets/OCR_MNIST_Words/dataset/v011_words_small/8364.png'\n",
            " '/content/drive/MyDrive/development/datasets/OCR_MNIST_Words/dataset/v011_words_small/8365.png'\n",
            " '/content/drive/MyDrive/development/datasets/OCR_MNIST_Words/dataset/v011_words_small/8366.png'\n",
            " '/content/drive/MyDrive/development/datasets/OCR_MNIST_Words/dataset/v011_words_small/8367.jpeg'\n",
            " '/content/drive/MyDrive/development/datasets/OCR_MNIST_Words/dataset/v011_words_small/8368.jpeg'\n",
            " '/content/drive/MyDrive/development/datasets/OCR_MNIST_Words/dataset/v011_words_small/8369.jpeg'\n",
            " '/content/drive/MyDrive/development/datasets/OCR_MNIST_Words/dataset/v011_words_small/8370.png'\n",
            " '/content/drive/MyDrive/development/datasets/OCR_MNIST_Words/dataset/v011_words_small/8371.jpeg'\n",
            " '/content/drive/MyDrive/development/datasets/OCR_MNIST_Words/dataset/v011_words_small/8372.png'\n",
            " '/content/drive/MyDrive/development/datasets/OCR_MNIST_Words/dataset/v011_words_small/8373.jpeg'\n",
            " '/content/drive/MyDrive/development/datasets/OCR_MNIST_Words/dataset/v011_words_small/8374.png'\n",
            " '/content/drive/MyDrive/development/datasets/OCR_MNIST_Words/dataset/v011_words_small/8375.png'\n",
            " '/content/drive/MyDrive/development/datasets/OCR_MNIST_Words/dataset/v011_words_small/8376.png'\n",
            " '/content/drive/MyDrive/development/datasets/OCR_MNIST_Words/dataset/v011_words_small/8377.png'\n",
            " '/content/drive/MyDrive/development/datasets/OCR_MNIST_Words/dataset/v011_words_small/8378.jpeg'\n",
            " '/content/drive/MyDrive/development/datasets/OCR_MNIST_Words/dataset/v011_words_small/8379.jpeg'\n",
            " '/content/drive/MyDrive/development/datasets/OCR_MNIST_Words/dataset/v011_words_small/8380.png'\n",
            " '/content/drive/MyDrive/development/datasets/OCR_MNIST_Words/dataset/v011_words_small/8381.jpeg'\n",
            " '/content/drive/MyDrive/development/datasets/OCR_MNIST_Words/dataset/v011_words_small/8382.jpeg'\n",
            " '/content/drive/MyDrive/development/datasets/OCR_MNIST_Words/dataset/v011_words_small/8383.jpeg'\n",
            " '/content/drive/MyDrive/development/datasets/OCR_MNIST_Words/dataset/v011_words_small/8384.png'\n",
            " '/content/drive/MyDrive/development/datasets/OCR_MNIST_Words/dataset/v011_words_small/8385.jpeg'\n",
            " '/content/drive/MyDrive/development/datasets/OCR_MNIST_Words/dataset/v011_words_small/8386.png'\n",
            " '/content/drive/MyDrive/development/datasets/OCR_MNIST_Words/dataset/v011_words_small/8387.jpeg'\n",
            " '/content/drive/MyDrive/development/datasets/OCR_MNIST_Words/dataset/v011_words_small/8388.jpeg'\n",
            " '/content/drive/MyDrive/development/datasets/OCR_MNIST_Words/dataset/v011_words_small/8389.jpeg'\n",
            " '/content/drive/MyDrive/development/datasets/OCR_MNIST_Words/dataset/v011_words_small/8390.png'\n",
            " '/content/drive/MyDrive/development/datasets/OCR_MNIST_Words/dataset/v011_words_small/8391.png'\n",
            " '/content/drive/MyDrive/development/datasets/OCR_MNIST_Words/dataset/v011_words_small/8392.jpeg'\n",
            " '/content/drive/MyDrive/development/datasets/OCR_MNIST_Words/dataset/v011_words_small/8393.jpeg'\n",
            " '/content/drive/MyDrive/development/datasets/OCR_MNIST_Words/dataset/v011_words_small/8394.png'\n",
            " '/content/drive/MyDrive/development/datasets/OCR_MNIST_Words/dataset/v011_words_small/8395.jpeg'\n",
            " '/content/drive/MyDrive/development/datasets/OCR_MNIST_Words/dataset/v011_words_small/8396.png'\n",
            " '/content/drive/MyDrive/development/datasets/OCR_MNIST_Words/dataset/v011_words_small/8397.png'\n",
            " '/content/drive/MyDrive/development/datasets/OCR_MNIST_Words/dataset/v011_words_small/8398.png'\n",
            " '/content/drive/MyDrive/development/datasets/OCR_MNIST_Words/dataset/v011_words_small/8399.png'\n",
            " '/content/drive/MyDrive/development/datasets/OCR_MNIST_Words/dataset/v011_words_small/8400.jpeg'\n",
            " '/content/drive/MyDrive/development/datasets/OCR_MNIST_Words/dataset/v011_words_small/8401.png'\n",
            " '/content/drive/MyDrive/development/datasets/OCR_MNIST_Words/dataset/v011_words_small/8402.png'\n",
            " '/content/drive/MyDrive/development/datasets/OCR_MNIST_Words/dataset/v011_words_small/8403.png'\n",
            " '/content/drive/MyDrive/development/datasets/OCR_MNIST_Words/dataset/v011_words_small/8404.png'\n",
            " '/content/drive/MyDrive/development/datasets/OCR_MNIST_Words/dataset/v011_words_small/8405.jpeg'\n",
            " '/content/drive/MyDrive/development/datasets/OCR_MNIST_Words/dataset/v011_words_small/8406.jpeg'\n",
            " '/content/drive/MyDrive/development/datasets/OCR_MNIST_Words/dataset/v011_words_small/8407.jpeg'\n",
            " '/content/drive/MyDrive/development/datasets/OCR_MNIST_Words/dataset/v011_words_small/8408.png'\n",
            " '/content/drive/MyDrive/development/datasets/OCR_MNIST_Words/dataset/v011_words_small/8409.png'\n",
            " '/content/drive/MyDrive/development/datasets/OCR_MNIST_Words/dataset/v011_words_small/8410.png'\n",
            " '/content/drive/MyDrive/development/datasets/OCR_MNIST_Words/dataset/v011_words_small/8411.png'\n",
            " '/content/drive/MyDrive/development/datasets/OCR_MNIST_Words/dataset/v011_words_small/8412.png'\n",
            " '/content/drive/MyDrive/development/datasets/OCR_MNIST_Words/dataset/v011_words_small/8413.jpeg'\n",
            " '/content/drive/MyDrive/development/datasets/OCR_MNIST_Words/dataset/v011_words_small/8414.png'\n",
            " '/content/drive/MyDrive/development/datasets/OCR_MNIST_Words/dataset/v011_words_small/8415.jpeg'\n",
            " '/content/drive/MyDrive/development/datasets/OCR_MNIST_Words/dataset/v011_words_small/8416.png'\n",
            " '/content/drive/MyDrive/development/datasets/OCR_MNIST_Words/dataset/v011_words_small/8417.png'\n",
            " '/content/drive/MyDrive/development/datasets/OCR_MNIST_Words/dataset/v011_words_small/8418.png'\n",
            " '/content/drive/MyDrive/development/datasets/OCR_MNIST_Words/dataset/v011_words_small/8419.jpeg'\n",
            " '/content/drive/MyDrive/development/datasets/OCR_MNIST_Words/dataset/v011_words_small/8420.jpeg'\n",
            " '/content/drive/MyDrive/development/datasets/OCR_MNIST_Words/dataset/v011_words_small/8421.jpeg'\n",
            " '/content/drive/MyDrive/development/datasets/OCR_MNIST_Words/dataset/v011_words_small/8422.jpeg'\n",
            " '/content/drive/MyDrive/development/datasets/OCR_MNIST_Words/dataset/v011_words_small/8423.jpeg'\n",
            " '/content/drive/MyDrive/development/datasets/OCR_MNIST_Words/dataset/v011_words_small/8424.jpeg'\n",
            " '/content/drive/MyDrive/development/datasets/OCR_MNIST_Words/dataset/v011_words_small/8425.jpeg'\n",
            " '/content/drive/MyDrive/development/datasets/OCR_MNIST_Words/dataset/v011_words_small/8426.jpeg'\n",
            " '/content/drive/MyDrive/development/datasets/OCR_MNIST_Words/dataset/v011_words_small/8427.png'\n",
            " '/content/drive/MyDrive/development/datasets/OCR_MNIST_Words/dataset/v011_words_small/8428.png'\n",
            " '/content/drive/MyDrive/development/datasets/OCR_MNIST_Words/dataset/v011_words_small/8429.jpeg'\n",
            " '/content/drive/MyDrive/development/datasets/OCR_MNIST_Words/dataset/v011_words_small/8430.png'\n",
            " '/content/drive/MyDrive/development/datasets/OCR_MNIST_Words/dataset/v011_words_small/8431.png'\n",
            " '/content/drive/MyDrive/development/datasets/OCR_MNIST_Words/dataset/v011_words_small/8432.png'\n",
            " '/content/drive/MyDrive/development/datasets/OCR_MNIST_Words/dataset/v011_words_small/8433.jpeg'\n",
            " '/content/drive/MyDrive/development/datasets/OCR_MNIST_Words/dataset/v011_words_small/8434.jpeg'\n",
            " '/content/drive/MyDrive/development/datasets/OCR_MNIST_Words/dataset/v011_words_small/8435.jpeg'\n",
            " '/content/drive/MyDrive/development/datasets/OCR_MNIST_Words/dataset/v011_words_small/8436.jpeg'\n",
            " '/content/drive/MyDrive/development/datasets/OCR_MNIST_Words/dataset/v011_words_small/8437.jpeg'\n",
            " '/content/drive/MyDrive/development/datasets/OCR_MNIST_Words/dataset/v011_words_small/8438.png'\n",
            " '/content/drive/MyDrive/development/datasets/OCR_MNIST_Words/dataset/v011_words_small/8439.png'\n",
            " '/content/drive/MyDrive/development/datasets/OCR_MNIST_Words/dataset/v011_words_small/8440.png'\n",
            " '/content/drive/MyDrive/development/datasets/OCR_MNIST_Words/dataset/v011_words_small/8441.jpeg'\n",
            " '/content/drive/MyDrive/development/datasets/OCR_MNIST_Words/dataset/v011_words_small/8442.png'\n",
            " '/content/drive/MyDrive/development/datasets/OCR_MNIST_Words/dataset/v011_words_small/8443.png'\n",
            " '/content/drive/MyDrive/development/datasets/OCR_MNIST_Words/dataset/v011_words_small/8444.jpeg'\n",
            " '/content/drive/MyDrive/development/datasets/OCR_MNIST_Words/dataset/v011_words_small/8445.jpeg'\n",
            " '/content/drive/MyDrive/development/datasets/OCR_MNIST_Words/dataset/v011_words_small/8446.png'\n",
            " '/content/drive/MyDrive/development/datasets/OCR_MNIST_Words/dataset/v011_words_small/8447.png'\n",
            " '/content/drive/MyDrive/development/datasets/OCR_MNIST_Words/dataset/v011_words_small/8448.png'\n",
            " '/content/drive/MyDrive/development/datasets/OCR_MNIST_Words/dataset/v011_words_small/8449.jpeg'\n",
            " '/content/drive/MyDrive/development/datasets/OCR_MNIST_Words/dataset/v011_words_small/8450.jpeg'\n",
            " '/content/drive/MyDrive/development/datasets/OCR_MNIST_Words/dataset/v011_words_small/8451.png'\n",
            " '/content/drive/MyDrive/development/datasets/OCR_MNIST_Words/dataset/v011_words_small/8452.jpeg'\n",
            " '/content/drive/MyDrive/development/datasets/OCR_MNIST_Words/dataset/v011_words_small/8453.png'\n",
            " '/content/drive/MyDrive/development/datasets/OCR_MNIST_Words/dataset/v011_words_small/8454.jpeg'\n",
            " '/content/drive/MyDrive/development/datasets/OCR_MNIST_Words/dataset/v011_words_small/8455.png'\n",
            " '/content/drive/MyDrive/development/datasets/OCR_MNIST_Words/dataset/v011_words_small/8456.jpeg'\n",
            " '/content/drive/MyDrive/development/datasets/OCR_MNIST_Words/dataset/v011_words_small/8457.png'\n",
            " '/content/drive/MyDrive/development/datasets/OCR_MNIST_Words/dataset/v011_words_small/8458.png'\n",
            " '/content/drive/MyDrive/development/datasets/OCR_MNIST_Words/dataset/v011_words_small/8459.jpeg'\n",
            " '/content/drive/MyDrive/development/datasets/OCR_MNIST_Words/dataset/v011_words_small/8460.png'\n",
            " '/content/drive/MyDrive/development/datasets/OCR_MNIST_Words/dataset/v011_words_small/8461.jpeg'\n",
            " '/content/drive/MyDrive/development/datasets/OCR_MNIST_Words/dataset/v011_words_small/8462.jpeg'\n",
            " '/content/drive/MyDrive/development/datasets/OCR_MNIST_Words/dataset/v011_words_small/8463.png'\n",
            " '/content/drive/MyDrive/development/datasets/OCR_MNIST_Words/dataset/v011_words_small/8464.jpeg'\n",
            " '/content/drive/MyDrive/development/datasets/OCR_MNIST_Words/dataset/v011_words_small/8465.png'\n",
            " '/content/drive/MyDrive/development/datasets/OCR_MNIST_Words/dataset/v011_words_small/8466.jpeg'\n",
            " '/content/drive/MyDrive/development/datasets/OCR_MNIST_Words/dataset/v011_words_small/8467.png'\n",
            " '/content/drive/MyDrive/development/datasets/OCR_MNIST_Words/dataset/v011_words_small/8468.jpeg'\n",
            " '/content/drive/MyDrive/development/datasets/OCR_MNIST_Words/dataset/v011_words_small/8469.png'\n",
            " '/content/drive/MyDrive/development/datasets/OCR_MNIST_Words/dataset/v011_words_small/8470.png'\n",
            " '/content/drive/MyDrive/development/datasets/OCR_MNIST_Words/dataset/v011_words_small/8471.png'\n",
            " '/content/drive/MyDrive/development/datasets/OCR_MNIST_Words/dataset/v011_words_small/8472.jpeg'\n",
            " '/content/drive/MyDrive/development/datasets/OCR_MNIST_Words/dataset/v011_words_small/8473.png'\n",
            " '/content/drive/MyDrive/development/datasets/OCR_MNIST_Words/dataset/v011_words_small/8474.png'\n",
            " '/content/drive/MyDrive/development/datasets/OCR_MNIST_Words/dataset/v011_words_small/8475.jpeg'\n",
            " '/content/drive/MyDrive/development/datasets/OCR_MNIST_Words/dataset/v011_words_small/8476.jpeg'\n",
            " '/content/drive/MyDrive/development/datasets/OCR_MNIST_Words/dataset/v011_words_small/8477.png'\n",
            " '/content/drive/MyDrive/development/datasets/OCR_MNIST_Words/dataset/v011_words_small/8478.png'\n",
            " '/content/drive/MyDrive/development/datasets/OCR_MNIST_Words/dataset/v011_words_small/8479.jpeg'\n",
            " '/content/drive/MyDrive/development/datasets/OCR_MNIST_Words/dataset/v011_words_small/8480.png'\n",
            " '/content/drive/MyDrive/development/datasets/OCR_MNIST_Words/dataset/v011_words_small/8481.png'\n",
            " '/content/drive/MyDrive/development/datasets/OCR_MNIST_Words/dataset/v011_words_small/8482.jpeg'\n",
            " '/content/drive/MyDrive/development/datasets/OCR_MNIST_Words/dataset/v011_words_small/8483.png'\n",
            " '/content/drive/MyDrive/development/datasets/OCR_MNIST_Words/dataset/v011_words_small/8484.jpeg'\n",
            " '/content/drive/MyDrive/development/datasets/OCR_MNIST_Words/dataset/v011_words_small/8485.jpeg'\n",
            " '/content/drive/MyDrive/development/datasets/OCR_MNIST_Words/dataset/v011_words_small/8486.jpeg'\n",
            " '/content/drive/MyDrive/development/datasets/OCR_MNIST_Words/dataset/v011_words_small/8487.jpeg'\n",
            " '/content/drive/MyDrive/development/datasets/OCR_MNIST_Words/dataset/v011_words_small/8488.jpeg'\n",
            " '/content/drive/MyDrive/development/datasets/OCR_MNIST_Words/dataset/v011_words_small/8489.png'\n",
            " '/content/drive/MyDrive/development/datasets/OCR_MNIST_Words/dataset/v011_words_small/8490.jpeg'\n",
            " '/content/drive/MyDrive/development/datasets/OCR_MNIST_Words/dataset/v011_words_small/8491.png'\n",
            " '/content/drive/MyDrive/development/datasets/OCR_MNIST_Words/dataset/v011_words_small/8492.png'\n",
            " '/content/drive/MyDrive/development/datasets/OCR_MNIST_Words/dataset/v011_words_small/8493.png'\n",
            " '/content/drive/MyDrive/development/datasets/OCR_MNIST_Words/dataset/v011_words_small/8494.jpeg'\n",
            " '/content/drive/MyDrive/development/datasets/OCR_MNIST_Words/dataset/v011_words_small/8495.png'\n",
            " '/content/drive/MyDrive/development/datasets/OCR_MNIST_Words/dataset/v011_words_small/8496.png'\n",
            " '/content/drive/MyDrive/development/datasets/OCR_MNIST_Words/dataset/v011_words_small/8497.png'\n",
            " '/content/drive/MyDrive/development/datasets/OCR_MNIST_Words/dataset/v011_words_small/8498.jpeg'\n",
            " '/content/drive/MyDrive/development/datasets/OCR_MNIST_Words/dataset/v011_words_small/8499.png'\n",
            " '/content/drive/MyDrive/development/datasets/OCR_MNIST_Words/dataset/v011_words_small/8500.jpeg'\n",
            " '/content/drive/MyDrive/development/datasets/OCR_MNIST_Words/dataset/v011_words_small/8501.jpeg'\n",
            " '/content/drive/MyDrive/development/datasets/OCR_MNIST_Words/dataset/v011_words_small/8502.png'\n",
            " '/content/drive/MyDrive/development/datasets/OCR_MNIST_Words/dataset/v011_words_small/8503.jpeg'\n",
            " '/content/drive/MyDrive/development/datasets/OCR_MNIST_Words/dataset/v011_words_small/8504.jpeg'\n",
            " '/content/drive/MyDrive/development/datasets/OCR_MNIST_Words/dataset/v011_words_small/8505.jpeg'\n",
            " '/content/drive/MyDrive/development/datasets/OCR_MNIST_Words/dataset/v011_words_small/8506.png'\n",
            " '/content/drive/MyDrive/development/datasets/OCR_MNIST_Words/dataset/v011_words_small/8507.png'\n",
            " '/content/drive/MyDrive/development/datasets/OCR_MNIST_Words/dataset/v011_words_small/8508.png'\n",
            " '/content/drive/MyDrive/development/datasets/OCR_MNIST_Words/dataset/v011_words_small/8509.png'\n",
            " '/content/drive/MyDrive/development/datasets/OCR_MNIST_Words/dataset/v011_words_small/8510.png'\n",
            " '/content/drive/MyDrive/development/datasets/OCR_MNIST_Words/dataset/v011_words_small/8511.png'\n",
            " '/content/drive/MyDrive/development/datasets/OCR_MNIST_Words/dataset/v011_words_small/8512.png'\n",
            " '/content/drive/MyDrive/development/datasets/OCR_MNIST_Words/dataset/v011_words_small/8513.png'\n",
            " '/content/drive/MyDrive/development/datasets/OCR_MNIST_Words/dataset/v011_words_small/8514.jpeg'\n",
            " '/content/drive/MyDrive/development/datasets/OCR_MNIST_Words/dataset/v011_words_small/8515.jpeg'\n",
            " '/content/drive/MyDrive/development/datasets/OCR_MNIST_Words/dataset/v011_words_small/8516.jpeg'\n",
            " '/content/drive/MyDrive/development/datasets/OCR_MNIST_Words/dataset/v011_words_small/8517.png'\n",
            " '/content/drive/MyDrive/development/datasets/OCR_MNIST_Words/dataset/v011_words_small/8518.png'\n",
            " '/content/drive/MyDrive/development/datasets/OCR_MNIST_Words/dataset/v011_words_small/8519.jpeg'\n",
            " '/content/drive/MyDrive/development/datasets/OCR_MNIST_Words/dataset/v011_words_small/8520.jpeg'\n",
            " '/content/drive/MyDrive/development/datasets/OCR_MNIST_Words/dataset/v011_words_small/8521.jpeg'\n",
            " '/content/drive/MyDrive/development/datasets/OCR_MNIST_Words/dataset/v011_words_small/8522.jpeg'\n",
            " '/content/drive/MyDrive/development/datasets/OCR_MNIST_Words/dataset/v011_words_small/8523.png'\n",
            " '/content/drive/MyDrive/development/datasets/OCR_MNIST_Words/dataset/v011_words_small/8524.jpeg'\n",
            " '/content/drive/MyDrive/development/datasets/OCR_MNIST_Words/dataset/v011_words_small/8525.jpeg'\n",
            " '/content/drive/MyDrive/development/datasets/OCR_MNIST_Words/dataset/v011_words_small/8526.png'\n",
            " '/content/drive/MyDrive/development/datasets/OCR_MNIST_Words/dataset/v011_words_small/8527.jpeg'\n",
            " '/content/drive/MyDrive/development/datasets/OCR_MNIST_Words/dataset/v011_words_small/8528.jpeg'\n",
            " '/content/drive/MyDrive/development/datasets/OCR_MNIST_Words/dataset/v011_words_small/8529.jpeg'\n",
            " '/content/drive/MyDrive/development/datasets/OCR_MNIST_Words/dataset/v011_words_small/8530.jpeg'\n",
            " '/content/drive/MyDrive/development/datasets/OCR_MNIST_Words/dataset/v011_words_small/8531.jpeg'\n",
            " '/content/drive/MyDrive/development/datasets/OCR_MNIST_Words/dataset/v011_words_small/8532.jpeg'\n",
            " '/content/drive/MyDrive/development/datasets/OCR_MNIST_Words/dataset/v011_words_small/8533.jpeg'\n",
            " '/content/drive/MyDrive/development/datasets/OCR_MNIST_Words/dataset/v011_words_small/8534.png'\n",
            " '/content/drive/MyDrive/development/datasets/OCR_MNIST_Words/dataset/v011_words_small/8535.jpeg'\n",
            " '/content/drive/MyDrive/development/datasets/OCR_MNIST_Words/dataset/v011_words_small/8536.png'\n",
            " '/content/drive/MyDrive/development/datasets/OCR_MNIST_Words/dataset/v011_words_small/8537.jpeg'\n",
            " '/content/drive/MyDrive/development/datasets/OCR_MNIST_Words/dataset/v011_words_small/8538.png'\n",
            " '/content/drive/MyDrive/development/datasets/OCR_MNIST_Words/dataset/v011_words_small/8539.png'\n",
            " '/content/drive/MyDrive/development/datasets/OCR_MNIST_Words/dataset/v011_words_small/8540.jpeg'\n",
            " '/content/drive/MyDrive/development/datasets/OCR_MNIST_Words/dataset/v011_words_small/8541.png'\n",
            " '/content/drive/MyDrive/development/datasets/OCR_MNIST_Words/dataset/v011_words_small/8542.jpeg'\n",
            " '/content/drive/MyDrive/development/datasets/OCR_MNIST_Words/dataset/v011_words_small/8543.jpeg'\n",
            " '/content/drive/MyDrive/development/datasets/OCR_MNIST_Words/dataset/v011_words_small/8544.jpeg'\n",
            " '/content/drive/MyDrive/development/datasets/OCR_MNIST_Words/dataset/v011_words_small/8545.png'\n",
            " '/content/drive/MyDrive/development/datasets/OCR_MNIST_Words/dataset/v011_words_small/8546.png'\n",
            " '/content/drive/MyDrive/development/datasets/OCR_MNIST_Words/dataset/v011_words_small/8547.jpeg'\n",
            " '/content/drive/MyDrive/development/datasets/OCR_MNIST_Words/dataset/v011_words_small/8548.jpeg'\n",
            " '/content/drive/MyDrive/development/datasets/OCR_MNIST_Words/dataset/v011_words_small/8549.png'\n",
            " '/content/drive/MyDrive/development/datasets/OCR_MNIST_Words/dataset/v011_words_small/8550.jpeg'\n",
            " '/content/drive/MyDrive/development/datasets/OCR_MNIST_Words/dataset/v011_words_small/8551.jpeg'\n",
            " '/content/drive/MyDrive/development/datasets/OCR_MNIST_Words/dataset/v011_words_small/8552.jpeg'\n",
            " '/content/drive/MyDrive/development/datasets/OCR_MNIST_Words/dataset/v011_words_small/8553.jpeg'\n",
            " '/content/drive/MyDrive/development/datasets/OCR_MNIST_Words/dataset/v011_words_small/8554.png'\n",
            " '/content/drive/MyDrive/development/datasets/OCR_MNIST_Words/dataset/v011_words_small/8555.png'\n",
            " '/content/drive/MyDrive/development/datasets/OCR_MNIST_Words/dataset/v011_words_small/8556.jpeg'\n",
            " '/content/drive/MyDrive/development/datasets/OCR_MNIST_Words/dataset/v011_words_small/8557.png'\n",
            " '/content/drive/MyDrive/development/datasets/OCR_MNIST_Words/dataset/v011_words_small/8558.jpeg'\n",
            " '/content/drive/MyDrive/development/datasets/OCR_MNIST_Words/dataset/v011_words_small/8559.jpeg'\n",
            " '/content/drive/MyDrive/development/datasets/OCR_MNIST_Words/dataset/v011_words_small/8560.jpeg'\n",
            " '/content/drive/MyDrive/development/datasets/OCR_MNIST_Words/dataset/v011_words_small/8561.jpeg'\n",
            " '/content/drive/MyDrive/development/datasets/OCR_MNIST_Words/dataset/v011_words_small/8562.png'\n",
            " '/content/drive/MyDrive/development/datasets/OCR_MNIST_Words/dataset/v011_words_small/8563.png'\n",
            " '/content/drive/MyDrive/development/datasets/OCR_MNIST_Words/dataset/v011_words_small/8564.png'\n",
            " '/content/drive/MyDrive/development/datasets/OCR_MNIST_Words/dataset/v011_words_small/8565.jpeg'\n",
            " '/content/drive/MyDrive/development/datasets/OCR_MNIST_Words/dataset/v011_words_small/8566.jpeg'\n",
            " '/content/drive/MyDrive/development/datasets/OCR_MNIST_Words/dataset/v011_words_small/8567.jpeg'\n",
            " '/content/drive/MyDrive/development/datasets/OCR_MNIST_Words/dataset/v011_words_small/8568.png'\n",
            " '/content/drive/MyDrive/development/datasets/OCR_MNIST_Words/dataset/v011_words_small/8569.png'\n",
            " '/content/drive/MyDrive/development/datasets/OCR_MNIST_Words/dataset/v011_words_small/8570.jpeg'\n",
            " '/content/drive/MyDrive/development/datasets/OCR_MNIST_Words/dataset/v011_words_small/8571.jpeg'\n",
            " '/content/drive/MyDrive/development/datasets/OCR_MNIST_Words/dataset/v011_words_small/8572.jpeg'\n",
            " '/content/drive/MyDrive/development/datasets/OCR_MNIST_Words/dataset/v011_words_small/8573.jpeg'\n",
            " '/content/drive/MyDrive/development/datasets/OCR_MNIST_Words/dataset/v011_words_small/8574.jpeg'\n",
            " '/content/drive/MyDrive/development/datasets/OCR_MNIST_Words/dataset/v011_words_small/8575.png'\n",
            " '/content/drive/MyDrive/development/datasets/OCR_MNIST_Words/dataset/v011_words_small/8576.jpeg'\n",
            " '/content/drive/MyDrive/development/datasets/OCR_MNIST_Words/dataset/v011_words_small/8577.png'\n",
            " '/content/drive/MyDrive/development/datasets/OCR_MNIST_Words/dataset/v011_words_small/8578.png'\n",
            " '/content/drive/MyDrive/development/datasets/OCR_MNIST_Words/dataset/v011_words_small/8579.png'\n",
            " '/content/drive/MyDrive/development/datasets/OCR_MNIST_Words/dataset/v011_words_small/8580.jpeg'\n",
            " '/content/drive/MyDrive/development/datasets/OCR_MNIST_Words/dataset/v011_words_small/8581.jpeg'\n",
            " '/content/drive/MyDrive/development/datasets/OCR_MNIST_Words/dataset/v011_words_small/8582.jpeg'\n",
            " '/content/drive/MyDrive/development/datasets/OCR_MNIST_Words/dataset/v011_words_small/8583.png'\n",
            " '/content/drive/MyDrive/development/datasets/OCR_MNIST_Words/dataset/v011_words_small/8584.jpeg'\n",
            " '/content/drive/MyDrive/development/datasets/OCR_MNIST_Words/dataset/v011_words_small/8585.png'\n",
            " '/content/drive/MyDrive/development/datasets/OCR_MNIST_Words/dataset/v011_words_small/8586.jpeg'\n",
            " '/content/drive/MyDrive/development/datasets/OCR_MNIST_Words/dataset/v011_words_small/8587.png'\n",
            " '/content/drive/MyDrive/development/datasets/OCR_MNIST_Words/dataset/v011_words_small/8588.png'\n",
            " '/content/drive/MyDrive/development/datasets/OCR_MNIST_Words/dataset/v011_words_small/8589.png'\n",
            " '/content/drive/MyDrive/development/datasets/OCR_MNIST_Words/dataset/v011_words_small/8590.jpeg'\n",
            " '/content/drive/MyDrive/development/datasets/OCR_MNIST_Words/dataset/v011_words_small/8591.png'\n",
            " '/content/drive/MyDrive/development/datasets/OCR_MNIST_Words/dataset/v011_words_small/8592.png'\n",
            " '/content/drive/MyDrive/development/datasets/OCR_MNIST_Words/dataset/v011_words_small/8593.jpeg'\n",
            " '/content/drive/MyDrive/development/datasets/OCR_MNIST_Words/dataset/v011_words_small/8594.png'\n",
            " '/content/drive/MyDrive/development/datasets/OCR_MNIST_Words/dataset/v011_words_small/8595.png'\n",
            " '/content/drive/MyDrive/development/datasets/OCR_MNIST_Words/dataset/v011_words_small/8596.jpeg'\n",
            " '/content/drive/MyDrive/development/datasets/OCR_MNIST_Words/dataset/v011_words_small/8597.jpeg'\n",
            " '/content/drive/MyDrive/development/datasets/OCR_MNIST_Words/dataset/v011_words_small/8598.jpeg'\n",
            " '/content/drive/MyDrive/development/datasets/OCR_MNIST_Words/dataset/v011_words_small/8599.png'\n",
            " '/content/drive/MyDrive/development/datasets/OCR_MNIST_Words/dataset/v011_words_small/8600.png'\n",
            " '/content/drive/MyDrive/development/datasets/OCR_MNIST_Words/dataset/v011_words_small/8601.png'\n",
            " '/content/drive/MyDrive/development/datasets/OCR_MNIST_Words/dataset/v011_words_small/8602.jpeg'\n",
            " '/content/drive/MyDrive/development/datasets/OCR_MNIST_Words/dataset/v011_words_small/8603.png'\n",
            " '/content/drive/MyDrive/development/datasets/OCR_MNIST_Words/dataset/v011_words_small/8604.png'\n",
            " '/content/drive/MyDrive/development/datasets/OCR_MNIST_Words/dataset/v011_words_small/8605.jpeg'\n",
            " '/content/drive/MyDrive/development/datasets/OCR_MNIST_Words/dataset/v011_words_small/8606.jpeg'\n",
            " '/content/drive/MyDrive/development/datasets/OCR_MNIST_Words/dataset/v011_words_small/8607.jpeg'\n",
            " '/content/drive/MyDrive/development/datasets/OCR_MNIST_Words/dataset/v011_words_small/8608.png'\n",
            " '/content/drive/MyDrive/development/datasets/OCR_MNIST_Words/dataset/v011_words_small/8609.png'\n",
            " '/content/drive/MyDrive/development/datasets/OCR_MNIST_Words/dataset/v011_words_small/8610.png'\n",
            " '/content/drive/MyDrive/development/datasets/OCR_MNIST_Words/dataset/v011_words_small/8611.jpeg'\n",
            " '/content/drive/MyDrive/development/datasets/OCR_MNIST_Words/dataset/v011_words_small/8612.png'\n",
            " '/content/drive/MyDrive/development/datasets/OCR_MNIST_Words/dataset/v011_words_small/8613.jpeg'\n",
            " '/content/drive/MyDrive/development/datasets/OCR_MNIST_Words/dataset/v011_words_small/8614.png'\n",
            " '/content/drive/MyDrive/development/datasets/OCR_MNIST_Words/dataset/v011_words_small/8615.jpeg'\n",
            " '/content/drive/MyDrive/development/datasets/OCR_MNIST_Words/dataset/v011_words_small/8616.jpeg'\n",
            " '/content/drive/MyDrive/development/datasets/OCR_MNIST_Words/dataset/v011_words_small/8617.jpeg'\n",
            " '/content/drive/MyDrive/development/datasets/OCR_MNIST_Words/dataset/v011_words_small/8618.jpeg'\n",
            " '/content/drive/MyDrive/development/datasets/OCR_MNIST_Words/dataset/v011_words_small/8619.jpeg'\n",
            " '/content/drive/MyDrive/development/datasets/OCR_MNIST_Words/dataset/v011_words_small/8620.jpeg'\n",
            " '/content/drive/MyDrive/development/datasets/OCR_MNIST_Words/dataset/v011_words_small/8621.png'\n",
            " '/content/drive/MyDrive/development/datasets/OCR_MNIST_Words/dataset/v011_words_small/8622.png'\n",
            " '/content/drive/MyDrive/development/datasets/OCR_MNIST_Words/dataset/v011_words_small/8623.jpeg'\n",
            " '/content/drive/MyDrive/development/datasets/OCR_MNIST_Words/dataset/v011_words_small/8624.jpeg'\n",
            " '/content/drive/MyDrive/development/datasets/OCR_MNIST_Words/dataset/v011_words_small/8625.jpeg'\n",
            " '/content/drive/MyDrive/development/datasets/OCR_MNIST_Words/dataset/v011_words_small/8626.jpeg'\n",
            " '/content/drive/MyDrive/development/datasets/OCR_MNIST_Words/dataset/v011_words_small/8627.png'\n",
            " '/content/drive/MyDrive/development/datasets/OCR_MNIST_Words/dataset/v011_words_small/8628.jpeg'\n",
            " '/content/drive/MyDrive/development/datasets/OCR_MNIST_Words/dataset/v011_words_small/8629.jpeg'\n",
            " '/content/drive/MyDrive/development/datasets/OCR_MNIST_Words/dataset/v011_words_small/8630.png'\n",
            " '/content/drive/MyDrive/development/datasets/OCR_MNIST_Words/dataset/v011_words_small/8631.png'\n",
            " '/content/drive/MyDrive/development/datasets/OCR_MNIST_Words/dataset/v011_words_small/8632.jpeg'\n",
            " '/content/drive/MyDrive/development/datasets/OCR_MNIST_Words/dataset/v011_words_small/8633.jpeg'\n",
            " '/content/drive/MyDrive/development/datasets/OCR_MNIST_Words/dataset/v011_words_small/8634.png'\n",
            " '/content/drive/MyDrive/development/datasets/OCR_MNIST_Words/dataset/v011_words_small/8635.jpeg'\n",
            " '/content/drive/MyDrive/development/datasets/OCR_MNIST_Words/dataset/v011_words_small/8636.png'\n",
            " '/content/drive/MyDrive/development/datasets/OCR_MNIST_Words/dataset/v011_words_small/8637.png'\n",
            " '/content/drive/MyDrive/development/datasets/OCR_MNIST_Words/dataset/v011_words_small/8638.png'\n",
            " '/content/drive/MyDrive/development/datasets/OCR_MNIST_Words/dataset/v011_words_small/8639.png'\n",
            " '/content/drive/MyDrive/development/datasets/OCR_MNIST_Words/dataset/v011_words_small/8640.png'\n",
            " '/content/drive/MyDrive/development/datasets/OCR_MNIST_Words/dataset/v011_words_small/8641.jpeg'\n",
            " '/content/drive/MyDrive/development/datasets/OCR_MNIST_Words/dataset/v011_words_small/8642.png'\n",
            " '/content/drive/MyDrive/development/datasets/OCR_MNIST_Words/dataset/v011_words_small/8643.jpeg'\n",
            " '/content/drive/MyDrive/development/datasets/OCR_MNIST_Words/dataset/v011_words_small/8644.png'\n",
            " '/content/drive/MyDrive/development/datasets/OCR_MNIST_Words/dataset/v011_words_small/8645.jpeg'\n",
            " '/content/drive/MyDrive/development/datasets/OCR_MNIST_Words/dataset/v011_words_small/8646.jpeg'\n",
            " '/content/drive/MyDrive/development/datasets/OCR_MNIST_Words/dataset/v011_words_small/8647.png'\n",
            " '/content/drive/MyDrive/development/datasets/OCR_MNIST_Words/dataset/v011_words_small/8648.jpeg'\n",
            " '/content/drive/MyDrive/development/datasets/OCR_MNIST_Words/dataset/v011_words_small/8649.jpeg'\n",
            " '/content/drive/MyDrive/development/datasets/OCR_MNIST_Words/dataset/v011_words_small/8650.jpeg'\n",
            " '/content/drive/MyDrive/development/datasets/OCR_MNIST_Words/dataset/v011_words_small/8651.png'\n",
            " '/content/drive/MyDrive/development/datasets/OCR_MNIST_Words/dataset/v011_words_small/8652.jpeg'\n",
            " '/content/drive/MyDrive/development/datasets/OCR_MNIST_Words/dataset/v011_words_small/8653.jpeg'\n",
            " '/content/drive/MyDrive/development/datasets/OCR_MNIST_Words/dataset/v011_words_small/8654.png'\n",
            " '/content/drive/MyDrive/development/datasets/OCR_MNIST_Words/dataset/v011_words_small/8655.png'\n",
            " '/content/drive/MyDrive/development/datasets/OCR_MNIST_Words/dataset/v011_words_small/8656.jpeg'\n",
            " '/content/drive/MyDrive/development/datasets/OCR_MNIST_Words/dataset/v011_words_small/8657.jpeg'\n",
            " '/content/drive/MyDrive/development/datasets/OCR_MNIST_Words/dataset/v011_words_small/8658.png'\n",
            " '/content/drive/MyDrive/development/datasets/OCR_MNIST_Words/dataset/v011_words_small/8659.jpeg'\n",
            " '/content/drive/MyDrive/development/datasets/OCR_MNIST_Words/dataset/v011_words_small/8660.jpeg'\n",
            " '/content/drive/MyDrive/development/datasets/OCR_MNIST_Words/dataset/v011_words_small/8661.png'\n",
            " '/content/drive/MyDrive/development/datasets/OCR_MNIST_Words/dataset/v011_words_small/8662.jpeg'\n",
            " '/content/drive/MyDrive/development/datasets/OCR_MNIST_Words/dataset/v011_words_small/8663.png'\n",
            " '/content/drive/MyDrive/development/datasets/OCR_MNIST_Words/dataset/v011_words_small/8664.jpeg'\n",
            " '/content/drive/MyDrive/development/datasets/OCR_MNIST_Words/dataset/v011_words_small/8665.png'\n",
            " '/content/drive/MyDrive/development/datasets/OCR_MNIST_Words/dataset/v011_words_small/8666.png'\n",
            " '/content/drive/MyDrive/development/datasets/OCR_MNIST_Words/dataset/v011_words_small/8667.jpeg'\n",
            " '/content/drive/MyDrive/development/datasets/OCR_MNIST_Words/dataset/v011_words_small/8668.jpeg'\n",
            " '/content/drive/MyDrive/development/datasets/OCR_MNIST_Words/dataset/v011_words_small/8669.jpeg'\n",
            " '/content/drive/MyDrive/development/datasets/OCR_MNIST_Words/dataset/v011_words_small/8670.jpeg'\n",
            " '/content/drive/MyDrive/development/datasets/OCR_MNIST_Words/dataset/v011_words_small/8671.jpeg'\n",
            " '/content/drive/MyDrive/development/datasets/OCR_MNIST_Words/dataset/v011_words_small/8672.jpeg'\n",
            " '/content/drive/MyDrive/development/datasets/OCR_MNIST_Words/dataset/v011_words_small/8673.png'\n",
            " '/content/drive/MyDrive/development/datasets/OCR_MNIST_Words/dataset/v011_words_small/8674.png'\n",
            " '/content/drive/MyDrive/development/datasets/OCR_MNIST_Words/dataset/v011_words_small/8675.jpeg'\n",
            " '/content/drive/MyDrive/development/datasets/OCR_MNIST_Words/dataset/v011_words_small/8676.jpeg'\n",
            " '/content/drive/MyDrive/development/datasets/OCR_MNIST_Words/dataset/v011_words_small/8677.png'\n",
            " '/content/drive/MyDrive/development/datasets/OCR_MNIST_Words/dataset/v011_words_small/8678.jpeg'\n",
            " '/content/drive/MyDrive/development/datasets/OCR_MNIST_Words/dataset/v011_words_small/8679.jpeg'\n",
            " '/content/drive/MyDrive/development/datasets/OCR_MNIST_Words/dataset/v011_words_small/8680.png'\n",
            " '/content/drive/MyDrive/development/datasets/OCR_MNIST_Words/dataset/v011_words_small/8681.jpeg'\n",
            " '/content/drive/MyDrive/development/datasets/OCR_MNIST_Words/dataset/v011_words_small/8682.jpeg'\n",
            " '/content/drive/MyDrive/development/datasets/OCR_MNIST_Words/dataset/v011_words_small/8683.png'\n",
            " '/content/drive/MyDrive/development/datasets/OCR_MNIST_Words/dataset/v011_words_small/8684.png'\n",
            " '/content/drive/MyDrive/development/datasets/OCR_MNIST_Words/dataset/v011_words_small/8685.png'\n",
            " '/content/drive/MyDrive/development/datasets/OCR_MNIST_Words/dataset/v011_words_small/8686.png'\n",
            " '/content/drive/MyDrive/development/datasets/OCR_MNIST_Words/dataset/v011_words_small/8687.png'\n",
            " '/content/drive/MyDrive/development/datasets/OCR_MNIST_Words/dataset/v011_words_small/8688.jpeg'\n",
            " '/content/drive/MyDrive/development/datasets/OCR_MNIST_Words/dataset/v011_words_small/8689.png'\n",
            " '/content/drive/MyDrive/development/datasets/OCR_MNIST_Words/dataset/v011_words_small/8690.png'\n",
            " '/content/drive/MyDrive/development/datasets/OCR_MNIST_Words/dataset/v011_words_small/8691.png'\n",
            " '/content/drive/MyDrive/development/datasets/OCR_MNIST_Words/dataset/v011_words_small/8692.jpeg'\n",
            " '/content/drive/MyDrive/development/datasets/OCR_MNIST_Words/dataset/v011_words_small/8693.png'\n",
            " '/content/drive/MyDrive/development/datasets/OCR_MNIST_Words/dataset/v011_words_small/8694.jpeg'\n",
            " '/content/drive/MyDrive/development/datasets/OCR_MNIST_Words/dataset/v011_words_small/8695.jpeg'\n",
            " '/content/drive/MyDrive/development/datasets/OCR_MNIST_Words/dataset/v011_words_small/8696.jpeg'\n",
            " '/content/drive/MyDrive/development/datasets/OCR_MNIST_Words/dataset/v011_words_small/8697.png'\n",
            " '/content/drive/MyDrive/development/datasets/OCR_MNIST_Words/dataset/v011_words_small/8698.jpeg'\n",
            " '/content/drive/MyDrive/development/datasets/OCR_MNIST_Words/dataset/v011_words_small/8699.png'\n",
            " '/content/drive/MyDrive/development/datasets/OCR_MNIST_Words/dataset/v011_words_small/8700.png'\n",
            " '/content/drive/MyDrive/development/datasets/OCR_MNIST_Words/dataset/v011_words_small/8701.png'\n",
            " '/content/drive/MyDrive/development/datasets/OCR_MNIST_Words/dataset/v011_words_small/8702.png'\n",
            " '/content/drive/MyDrive/development/datasets/OCR_MNIST_Words/dataset/v011_words_small/8703.png'\n",
            " '/content/drive/MyDrive/development/datasets/OCR_MNIST_Words/dataset/v011_words_small/8704.jpeg'\n",
            " '/content/drive/MyDrive/development/datasets/OCR_MNIST_Words/dataset/v011_words_small/8705.png'\n",
            " '/content/drive/MyDrive/development/datasets/OCR_MNIST_Words/dataset/v011_words_small/8706.png'\n",
            " '/content/drive/MyDrive/development/datasets/OCR_MNIST_Words/dataset/v011_words_small/8707.png'\n",
            " '/content/drive/MyDrive/development/datasets/OCR_MNIST_Words/dataset/v011_words_small/8708.jpeg'\n",
            " '/content/drive/MyDrive/development/datasets/OCR_MNIST_Words/dataset/v011_words_small/8709.jpeg'\n",
            " '/content/drive/MyDrive/development/datasets/OCR_MNIST_Words/dataset/v011_words_small/8710.png'\n",
            " '/content/drive/MyDrive/development/datasets/OCR_MNIST_Words/dataset/v011_words_small/8711.jpeg'\n",
            " '/content/drive/MyDrive/development/datasets/OCR_MNIST_Words/dataset/v011_words_small/8712.png'\n",
            " '/content/drive/MyDrive/development/datasets/OCR_MNIST_Words/dataset/v011_words_small/8713.jpeg'\n",
            " '/content/drive/MyDrive/development/datasets/OCR_MNIST_Words/dataset/v011_words_small/8714.jpeg'\n",
            " '/content/drive/MyDrive/development/datasets/OCR_MNIST_Words/dataset/v011_words_small/8715.jpeg'\n",
            " '/content/drive/MyDrive/development/datasets/OCR_MNIST_Words/dataset/v011_words_small/8716.png'\n",
            " '/content/drive/MyDrive/development/datasets/OCR_MNIST_Words/dataset/v011_words_small/8717.png'\n",
            " '/content/drive/MyDrive/development/datasets/OCR_MNIST_Words/dataset/v011_words_small/8718.png'\n",
            " '/content/drive/MyDrive/development/datasets/OCR_MNIST_Words/dataset/v011_words_small/8719.png'\n",
            " '/content/drive/MyDrive/development/datasets/OCR_MNIST_Words/dataset/v011_words_small/8720.jpeg'\n",
            " '/content/drive/MyDrive/development/datasets/OCR_MNIST_Words/dataset/v011_words_small/8721.jpeg'\n",
            " '/content/drive/MyDrive/development/datasets/OCR_MNIST_Words/dataset/v011_words_small/8722.png'\n",
            " '/content/drive/MyDrive/development/datasets/OCR_MNIST_Words/dataset/v011_words_small/8723.png'\n",
            " '/content/drive/MyDrive/development/datasets/OCR_MNIST_Words/dataset/v011_words_small/8724.png'\n",
            " '/content/drive/MyDrive/development/datasets/OCR_MNIST_Words/dataset/v011_words_small/8725.jpeg'\n",
            " '/content/drive/MyDrive/development/datasets/OCR_MNIST_Words/dataset/v011_words_small/8726.png'\n",
            " '/content/drive/MyDrive/development/datasets/OCR_MNIST_Words/dataset/v011_words_small/8727.jpeg'\n",
            " '/content/drive/MyDrive/development/datasets/OCR_MNIST_Words/dataset/v011_words_small/8728.jpeg'\n",
            " '/content/drive/MyDrive/development/datasets/OCR_MNIST_Words/dataset/v011_words_small/8729.jpeg'\n",
            " '/content/drive/MyDrive/development/datasets/OCR_MNIST_Words/dataset/v011_words_small/8730.jpeg'\n",
            " '/content/drive/MyDrive/development/datasets/OCR_MNIST_Words/dataset/v011_words_small/8731.png'\n",
            " '/content/drive/MyDrive/development/datasets/OCR_MNIST_Words/dataset/v011_words_small/8732.png'\n",
            " '/content/drive/MyDrive/development/datasets/OCR_MNIST_Words/dataset/v011_words_small/8733.jpeg'\n",
            " '/content/drive/MyDrive/development/datasets/OCR_MNIST_Words/dataset/v011_words_small/8734.png'\n",
            " '/content/drive/MyDrive/development/datasets/OCR_MNIST_Words/dataset/v011_words_small/8735.png'\n",
            " '/content/drive/MyDrive/development/datasets/OCR_MNIST_Words/dataset/v011_words_small/8736.png'\n",
            " '/content/drive/MyDrive/development/datasets/OCR_MNIST_Words/dataset/v011_words_small/8737.png'\n",
            " '/content/drive/MyDrive/development/datasets/OCR_MNIST_Words/dataset/v011_words_small/8738.jpeg'\n",
            " '/content/drive/MyDrive/development/datasets/OCR_MNIST_Words/dataset/v011_words_small/8739.jpeg'\n",
            " '/content/drive/MyDrive/development/datasets/OCR_MNIST_Words/dataset/v011_words_small/8740.png'\n",
            " '/content/drive/MyDrive/development/datasets/OCR_MNIST_Words/dataset/v011_words_small/8741.png'\n",
            " '/content/drive/MyDrive/development/datasets/OCR_MNIST_Words/dataset/v011_words_small/8742.png'\n",
            " '/content/drive/MyDrive/development/datasets/OCR_MNIST_Words/dataset/v011_words_small/8743.jpeg'\n",
            " '/content/drive/MyDrive/development/datasets/OCR_MNIST_Words/dataset/v011_words_small/8744.png'\n",
            " '/content/drive/MyDrive/development/datasets/OCR_MNIST_Words/dataset/v011_words_small/8745.jpeg'\n",
            " '/content/drive/MyDrive/development/datasets/OCR_MNIST_Words/dataset/v011_words_small/8746.jpeg'\n",
            " '/content/drive/MyDrive/development/datasets/OCR_MNIST_Words/dataset/v011_words_small/8747.jpeg'\n",
            " '/content/drive/MyDrive/development/datasets/OCR_MNIST_Words/dataset/v011_words_small/8748.png'\n",
            " '/content/drive/MyDrive/development/datasets/OCR_MNIST_Words/dataset/v011_words_small/8749.jpeg'\n",
            " '/content/drive/MyDrive/development/datasets/OCR_MNIST_Words/dataset/v011_words_small/8750.jpeg'\n",
            " '/content/drive/MyDrive/development/datasets/OCR_MNIST_Words/dataset/v011_words_small/8751.png'\n",
            " '/content/drive/MyDrive/development/datasets/OCR_MNIST_Words/dataset/v011_words_small/8752.jpeg'\n",
            " '/content/drive/MyDrive/development/datasets/OCR_MNIST_Words/dataset/v011_words_small/8753.jpeg'\n",
            " '/content/drive/MyDrive/development/datasets/OCR_MNIST_Words/dataset/v011_words_small/8754.jpeg'\n",
            " '/content/drive/MyDrive/development/datasets/OCR_MNIST_Words/dataset/v011_words_small/8755.png'\n",
            " '/content/drive/MyDrive/development/datasets/OCR_MNIST_Words/dataset/v011_words_small/8756.png'\n",
            " '/content/drive/MyDrive/development/datasets/OCR_MNIST_Words/dataset/v011_words_small/8757.jpeg'\n",
            " '/content/drive/MyDrive/development/datasets/OCR_MNIST_Words/dataset/v011_words_small/8758.jpeg'\n",
            " '/content/drive/MyDrive/development/datasets/OCR_MNIST_Words/dataset/v011_words_small/8759.jpeg'\n",
            " '/content/drive/MyDrive/development/datasets/OCR_MNIST_Words/dataset/v011_words_small/8760.png'\n",
            " '/content/drive/MyDrive/development/datasets/OCR_MNIST_Words/dataset/v011_words_small/8761.jpeg'\n",
            " '/content/drive/MyDrive/development/datasets/OCR_MNIST_Words/dataset/v011_words_small/8762.jpeg'\n",
            " '/content/drive/MyDrive/development/datasets/OCR_MNIST_Words/dataset/v011_words_small/8763.jpeg'\n",
            " '/content/drive/MyDrive/development/datasets/OCR_MNIST_Words/dataset/v011_words_small/8764.png'\n",
            " '/content/drive/MyDrive/development/datasets/OCR_MNIST_Words/dataset/v011_words_small/8765.png'\n",
            " '/content/drive/MyDrive/development/datasets/OCR_MNIST_Words/dataset/v011_words_small/8766.jpeg'\n",
            " '/content/drive/MyDrive/development/datasets/OCR_MNIST_Words/dataset/v011_words_small/8767.jpeg'\n",
            " '/content/drive/MyDrive/development/datasets/OCR_MNIST_Words/dataset/v011_words_small/8768.png'\n",
            " '/content/drive/MyDrive/development/datasets/OCR_MNIST_Words/dataset/v011_words_small/8769.png'\n",
            " '/content/drive/MyDrive/development/datasets/OCR_MNIST_Words/dataset/v011_words_small/8770.jpeg'\n",
            " '/content/drive/MyDrive/development/datasets/OCR_MNIST_Words/dataset/v011_words_small/8771.png'\n",
            " '/content/drive/MyDrive/development/datasets/OCR_MNIST_Words/dataset/v011_words_small/8772.jpeg'\n",
            " '/content/drive/MyDrive/development/datasets/OCR_MNIST_Words/dataset/v011_words_small/8773.jpeg'\n",
            " '/content/drive/MyDrive/development/datasets/OCR_MNIST_Words/dataset/v011_words_small/8774.jpeg'\n",
            " '/content/drive/MyDrive/development/datasets/OCR_MNIST_Words/dataset/v011_words_small/8775.jpeg'\n",
            " '/content/drive/MyDrive/development/datasets/OCR_MNIST_Words/dataset/v011_words_small/8776.jpeg'\n",
            " '/content/drive/MyDrive/development/datasets/OCR_MNIST_Words/dataset/v011_words_small/8777.jpeg'\n",
            " '/content/drive/MyDrive/development/datasets/OCR_MNIST_Words/dataset/v011_words_small/8778.png'\n",
            " '/content/drive/MyDrive/development/datasets/OCR_MNIST_Words/dataset/v011_words_small/8779.png'\n",
            " '/content/drive/MyDrive/development/datasets/OCR_MNIST_Words/dataset/v011_words_small/8780.png'\n",
            " '/content/drive/MyDrive/development/datasets/OCR_MNIST_Words/dataset/v011_words_small/8781.jpeg'\n",
            " '/content/drive/MyDrive/development/datasets/OCR_MNIST_Words/dataset/v011_words_small/8782.jpeg'\n",
            " '/content/drive/MyDrive/development/datasets/OCR_MNIST_Words/dataset/v011_words_small/8783.jpeg'\n",
            " '/content/drive/MyDrive/development/datasets/OCR_MNIST_Words/dataset/v011_words_small/8784.jpeg'\n",
            " '/content/drive/MyDrive/development/datasets/OCR_MNIST_Words/dataset/v011_words_small/8785.png'\n",
            " '/content/drive/MyDrive/development/datasets/OCR_MNIST_Words/dataset/v011_words_small/8786.png'\n",
            " '/content/drive/MyDrive/development/datasets/OCR_MNIST_Words/dataset/v011_words_small/8787.png'\n",
            " '/content/drive/MyDrive/development/datasets/OCR_MNIST_Words/dataset/v011_words_small/8788.png'\n",
            " '/content/drive/MyDrive/development/datasets/OCR_MNIST_Words/dataset/v011_words_small/8789.jpeg'\n",
            " '/content/drive/MyDrive/development/datasets/OCR_MNIST_Words/dataset/v011_words_small/8790.png'\n",
            " '/content/drive/MyDrive/development/datasets/OCR_MNIST_Words/dataset/v011_words_small/8791.png'\n",
            " '/content/drive/MyDrive/development/datasets/OCR_MNIST_Words/dataset/v011_words_small/8792.jpeg'\n",
            " '/content/drive/MyDrive/development/datasets/OCR_MNIST_Words/dataset/v011_words_small/8793.jpeg'\n",
            " '/content/drive/MyDrive/development/datasets/OCR_MNIST_Words/dataset/v011_words_small/8794.jpeg'\n",
            " '/content/drive/MyDrive/development/datasets/OCR_MNIST_Words/dataset/v011_words_small/8795.jpeg'\n",
            " '/content/drive/MyDrive/development/datasets/OCR_MNIST_Words/dataset/v011_words_small/8796.jpeg'\n",
            " '/content/drive/MyDrive/development/datasets/OCR_MNIST_Words/dataset/v011_words_small/8797.jpeg'\n",
            " '/content/drive/MyDrive/development/datasets/OCR_MNIST_Words/dataset/v011_words_small/8798.png'\n",
            " '/content/drive/MyDrive/development/datasets/OCR_MNIST_Words/dataset/v011_words_small/8799.jpeg'\n",
            " '/content/drive/MyDrive/development/datasets/OCR_MNIST_Words/dataset/v011_words_small/8800.jpeg'\n",
            " '/content/drive/MyDrive/development/datasets/OCR_MNIST_Words/dataset/v011_words_small/8801.jpeg'\n",
            " '/content/drive/MyDrive/development/datasets/OCR_MNIST_Words/dataset/v011_words_small/8802.png'\n",
            " '/content/drive/MyDrive/development/datasets/OCR_MNIST_Words/dataset/v011_words_small/8803.png'\n",
            " '/content/drive/MyDrive/development/datasets/OCR_MNIST_Words/dataset/v011_words_small/8804.png'\n",
            " '/content/drive/MyDrive/development/datasets/OCR_MNIST_Words/dataset/v011_words_small/8805.jpeg'\n",
            " '/content/drive/MyDrive/development/datasets/OCR_MNIST_Words/dataset/v011_words_small/8806.png'\n",
            " '/content/drive/MyDrive/development/datasets/OCR_MNIST_Words/dataset/v011_words_small/8807.png'\n",
            " '/content/drive/MyDrive/development/datasets/OCR_MNIST_Words/dataset/v011_words_small/8808.jpeg'\n",
            " '/content/drive/MyDrive/development/datasets/OCR_MNIST_Words/dataset/v011_words_small/8809.jpeg'\n",
            " '/content/drive/MyDrive/development/datasets/OCR_MNIST_Words/dataset/v011_words_small/8810.jpeg'\n",
            " '/content/drive/MyDrive/development/datasets/OCR_MNIST_Words/dataset/v011_words_small/8811.jpeg'\n",
            " '/content/drive/MyDrive/development/datasets/OCR_MNIST_Words/dataset/v011_words_small/8812.png'\n",
            " '/content/drive/MyDrive/development/datasets/OCR_MNIST_Words/dataset/v011_words_small/8813.jpeg'\n",
            " '/content/drive/MyDrive/development/datasets/OCR_MNIST_Words/dataset/v011_words_small/8814.jpeg'\n",
            " '/content/drive/MyDrive/development/datasets/OCR_MNIST_Words/dataset/v011_words_small/8815.jpeg'\n",
            " '/content/drive/MyDrive/development/datasets/OCR_MNIST_Words/dataset/v011_words_small/8816.jpeg'\n",
            " '/content/drive/MyDrive/development/datasets/OCR_MNIST_Words/dataset/v011_words_small/8817.png'\n",
            " '/content/drive/MyDrive/development/datasets/OCR_MNIST_Words/dataset/v011_words_small/8818.jpeg'\n",
            " '/content/drive/MyDrive/development/datasets/OCR_MNIST_Words/dataset/v011_words_small/8819.jpeg'\n",
            " '/content/drive/MyDrive/development/datasets/OCR_MNIST_Words/dataset/v011_words_small/8820.png'\n",
            " '/content/drive/MyDrive/development/datasets/OCR_MNIST_Words/dataset/v011_words_small/8821.jpeg'\n",
            " '/content/drive/MyDrive/development/datasets/OCR_MNIST_Words/dataset/v011_words_small/8822.png'\n",
            " '/content/drive/MyDrive/development/datasets/OCR_MNIST_Words/dataset/v011_words_small/8823.jpeg'\n",
            " '/content/drive/MyDrive/development/datasets/OCR_MNIST_Words/dataset/v011_words_small/8824.png'\n",
            " '/content/drive/MyDrive/development/datasets/OCR_MNIST_Words/dataset/v011_words_small/8825.png'\n",
            " '/content/drive/MyDrive/development/datasets/OCR_MNIST_Words/dataset/v011_words_small/8826.jpeg'\n",
            " '/content/drive/MyDrive/development/datasets/OCR_MNIST_Words/dataset/v011_words_small/8827.png'\n",
            " '/content/drive/MyDrive/development/datasets/OCR_MNIST_Words/dataset/v011_words_small/8828.png'\n",
            " '/content/drive/MyDrive/development/datasets/OCR_MNIST_Words/dataset/v011_words_small/8829.jpeg'\n",
            " '/content/drive/MyDrive/development/datasets/OCR_MNIST_Words/dataset/v011_words_small/8830.jpeg'\n",
            " '/content/drive/MyDrive/development/datasets/OCR_MNIST_Words/dataset/v011_words_small/8831.jpeg'\n",
            " '/content/drive/MyDrive/development/datasets/OCR_MNIST_Words/dataset/v011_words_small/8832.jpeg'\n",
            " '/content/drive/MyDrive/development/datasets/OCR_MNIST_Words/dataset/v011_words_small/8833.png'\n",
            " '/content/drive/MyDrive/development/datasets/OCR_MNIST_Words/dataset/v011_words_small/8834.jpeg'\n",
            " '/content/drive/MyDrive/development/datasets/OCR_MNIST_Words/dataset/v011_words_small/8835.png'\n",
            " '/content/drive/MyDrive/development/datasets/OCR_MNIST_Words/dataset/v011_words_small/8836.png'\n",
            " '/content/drive/MyDrive/development/datasets/OCR_MNIST_Words/dataset/v011_words_small/8837.png'\n",
            " '/content/drive/MyDrive/development/datasets/OCR_MNIST_Words/dataset/v011_words_small/8838.jpeg'\n",
            " '/content/drive/MyDrive/development/datasets/OCR_MNIST_Words/dataset/v011_words_small/8839.jpeg'\n",
            " '/content/drive/MyDrive/development/datasets/OCR_MNIST_Words/dataset/v011_words_small/8840.png'\n",
            " '/content/drive/MyDrive/development/datasets/OCR_MNIST_Words/dataset/v011_words_small/8841.png'\n",
            " '/content/drive/MyDrive/development/datasets/OCR_MNIST_Words/dataset/v011_words_small/8842.png'\n",
            " '/content/drive/MyDrive/development/datasets/OCR_MNIST_Words/dataset/v011_words_small/8843.jpeg'\n",
            " '/content/drive/MyDrive/development/datasets/OCR_MNIST_Words/dataset/v011_words_small/8844.jpeg'\n",
            " '/content/drive/MyDrive/development/datasets/OCR_MNIST_Words/dataset/v011_words_small/8845.jpeg'\n",
            " '/content/drive/MyDrive/development/datasets/OCR_MNIST_Words/dataset/v011_words_small/8846.png'\n",
            " '/content/drive/MyDrive/development/datasets/OCR_MNIST_Words/dataset/v011_words_small/8847.png'\n",
            " '/content/drive/MyDrive/development/datasets/OCR_MNIST_Words/dataset/v011_words_small/8848.png'\n",
            " '/content/drive/MyDrive/development/datasets/OCR_MNIST_Words/dataset/v011_words_small/8849.jpeg'\n",
            " '/content/drive/MyDrive/development/datasets/OCR_MNIST_Words/dataset/v011_words_small/8850.png'\n",
            " '/content/drive/MyDrive/development/datasets/OCR_MNIST_Words/dataset/v011_words_small/8851.jpeg'\n",
            " '/content/drive/MyDrive/development/datasets/OCR_MNIST_Words/dataset/v011_words_small/8852.png'\n",
            " '/content/drive/MyDrive/development/datasets/OCR_MNIST_Words/dataset/v011_words_small/8853.jpeg'\n",
            " '/content/drive/MyDrive/development/datasets/OCR_MNIST_Words/dataset/v011_words_small/8854.png'\n",
            " '/content/drive/MyDrive/development/datasets/OCR_MNIST_Words/dataset/v011_words_small/8855.png'\n",
            " '/content/drive/MyDrive/development/datasets/OCR_MNIST_Words/dataset/v011_words_small/8856.png'\n",
            " '/content/drive/MyDrive/development/datasets/OCR_MNIST_Words/dataset/v011_words_small/8857.jpeg'\n",
            " '/content/drive/MyDrive/development/datasets/OCR_MNIST_Words/dataset/v011_words_small/8858.jpeg'\n",
            " '/content/drive/MyDrive/development/datasets/OCR_MNIST_Words/dataset/v011_words_small/8859.png'\n",
            " '/content/drive/MyDrive/development/datasets/OCR_MNIST_Words/dataset/v011_words_small/8860.png'\n",
            " '/content/drive/MyDrive/development/datasets/OCR_MNIST_Words/dataset/v011_words_small/8861.jpeg'\n",
            " '/content/drive/MyDrive/development/datasets/OCR_MNIST_Words/dataset/v011_words_small/8862.jpeg'\n",
            " '/content/drive/MyDrive/development/datasets/OCR_MNIST_Words/dataset/v011_words_small/8863.png'\n",
            " '/content/drive/MyDrive/development/datasets/OCR_MNIST_Words/dataset/v011_words_small/8864.png'\n",
            " '/content/drive/MyDrive/development/datasets/OCR_MNIST_Words/dataset/v011_words_small/8865.png'\n",
            " '/content/drive/MyDrive/development/datasets/OCR_MNIST_Words/dataset/v011_words_small/8866.png'\n",
            " '/content/drive/MyDrive/development/datasets/OCR_MNIST_Words/dataset/v011_words_small/8867.jpeg'\n",
            " '/content/drive/MyDrive/development/datasets/OCR_MNIST_Words/dataset/v011_words_small/8868.png'\n",
            " '/content/drive/MyDrive/development/datasets/OCR_MNIST_Words/dataset/v011_words_small/8869.jpeg'\n",
            " '/content/drive/MyDrive/development/datasets/OCR_MNIST_Words/dataset/v011_words_small/8870.jpeg'\n",
            " '/content/drive/MyDrive/development/datasets/OCR_MNIST_Words/dataset/v011_words_small/8871.png'\n",
            " '/content/drive/MyDrive/development/datasets/OCR_MNIST_Words/dataset/v011_words_small/8872.png'\n",
            " '/content/drive/MyDrive/development/datasets/OCR_MNIST_Words/dataset/v011_words_small/8873.jpeg'\n",
            " '/content/drive/MyDrive/development/datasets/OCR_MNIST_Words/dataset/v011_words_small/8874.png'\n",
            " '/content/drive/MyDrive/development/datasets/OCR_MNIST_Words/dataset/v011_words_small/8875.jpeg'\n",
            " '/content/drive/MyDrive/development/datasets/OCR_MNIST_Words/dataset/v011_words_small/8876.jpeg'\n",
            " '/content/drive/MyDrive/development/datasets/OCR_MNIST_Words/dataset/v011_words_small/8877.png'\n",
            " '/content/drive/MyDrive/development/datasets/OCR_MNIST_Words/dataset/v011_words_small/8878.png'\n",
            " '/content/drive/MyDrive/development/datasets/OCR_MNIST_Words/dataset/v011_words_small/8879.png'\n",
            " '/content/drive/MyDrive/development/datasets/OCR_MNIST_Words/dataset/v011_words_small/8880.jpeg'\n",
            " '/content/drive/MyDrive/development/datasets/OCR_MNIST_Words/dataset/v011_words_small/8881.jpeg'\n",
            " '/content/drive/MyDrive/development/datasets/OCR_MNIST_Words/dataset/v011_words_small/8882.jpeg'\n",
            " '/content/drive/MyDrive/development/datasets/OCR_MNIST_Words/dataset/v011_words_small/8883.png'\n",
            " '/content/drive/MyDrive/development/datasets/OCR_MNIST_Words/dataset/v011_words_small/8884.jpeg'\n",
            " '/content/drive/MyDrive/development/datasets/OCR_MNIST_Words/dataset/v011_words_small/8885.jpeg'\n",
            " '/content/drive/MyDrive/development/datasets/OCR_MNIST_Words/dataset/v011_words_small/8886.png'\n",
            " '/content/drive/MyDrive/development/datasets/OCR_MNIST_Words/dataset/v011_words_small/8887.jpeg'\n",
            " '/content/drive/MyDrive/development/datasets/OCR_MNIST_Words/dataset/v011_words_small/8888.jpeg'\n",
            " '/content/drive/MyDrive/development/datasets/OCR_MNIST_Words/dataset/v011_words_small/8889.png'\n",
            " '/content/drive/MyDrive/development/datasets/OCR_MNIST_Words/dataset/v011_words_small/8890.png'\n",
            " '/content/drive/MyDrive/development/datasets/OCR_MNIST_Words/dataset/v011_words_small/8891.jpeg'\n",
            " '/content/drive/MyDrive/development/datasets/OCR_MNIST_Words/dataset/v011_words_small/8892.jpeg'\n",
            " '/content/drive/MyDrive/development/datasets/OCR_MNIST_Words/dataset/v011_words_small/8893.png'\n",
            " '/content/drive/MyDrive/development/datasets/OCR_MNIST_Words/dataset/v011_words_small/8894.jpeg'\n",
            " '/content/drive/MyDrive/development/datasets/OCR_MNIST_Words/dataset/v011_words_small/8895.png'\n",
            " '/content/drive/MyDrive/development/datasets/OCR_MNIST_Words/dataset/v011_words_small/8896.jpeg'\n",
            " '/content/drive/MyDrive/development/datasets/OCR_MNIST_Words/dataset/v011_words_small/8897.png'\n",
            " '/content/drive/MyDrive/development/datasets/OCR_MNIST_Words/dataset/v011_words_small/8898.jpeg'\n",
            " '/content/drive/MyDrive/development/datasets/OCR_MNIST_Words/dataset/v011_words_small/8899.jpeg'\n",
            " '/content/drive/MyDrive/development/datasets/OCR_MNIST_Words/dataset/v011_words_small/8900.jpeg'\n",
            " '/content/drive/MyDrive/development/datasets/OCR_MNIST_Words/dataset/v011_words_small/8901.png'\n",
            " '/content/drive/MyDrive/development/datasets/OCR_MNIST_Words/dataset/v011_words_small/8902.jpeg'\n",
            " '/content/drive/MyDrive/development/datasets/OCR_MNIST_Words/dataset/v011_words_small/8903.jpeg'\n",
            " '/content/drive/MyDrive/development/datasets/OCR_MNIST_Words/dataset/v011_words_small/8904.jpeg'\n",
            " '/content/drive/MyDrive/development/datasets/OCR_MNIST_Words/dataset/v011_words_small/8905.jpeg'\n",
            " '/content/drive/MyDrive/development/datasets/OCR_MNIST_Words/dataset/v011_words_small/8906.jpeg'\n",
            " '/content/drive/MyDrive/development/datasets/OCR_MNIST_Words/dataset/v011_words_small/8907.png'\n",
            " '/content/drive/MyDrive/development/datasets/OCR_MNIST_Words/dataset/v011_words_small/8908.png'\n",
            " '/content/drive/MyDrive/development/datasets/OCR_MNIST_Words/dataset/v011_words_small/8909.png'\n",
            " '/content/drive/MyDrive/development/datasets/OCR_MNIST_Words/dataset/v011_words_small/8910.jpeg'\n",
            " '/content/drive/MyDrive/development/datasets/OCR_MNIST_Words/dataset/v011_words_small/8911.jpeg'\n",
            " '/content/drive/MyDrive/development/datasets/OCR_MNIST_Words/dataset/v011_words_small/8912.png'\n",
            " '/content/drive/MyDrive/development/datasets/OCR_MNIST_Words/dataset/v011_words_small/8913.png'\n",
            " '/content/drive/MyDrive/development/datasets/OCR_MNIST_Words/dataset/v011_words_small/8914.png'\n",
            " '/content/drive/MyDrive/development/datasets/OCR_MNIST_Words/dataset/v011_words_small/8915.png'\n",
            " '/content/drive/MyDrive/development/datasets/OCR_MNIST_Words/dataset/v011_words_small/8916.png'\n",
            " '/content/drive/MyDrive/development/datasets/OCR_MNIST_Words/dataset/v011_words_small/8917.png'\n",
            " '/content/drive/MyDrive/development/datasets/OCR_MNIST_Words/dataset/v011_words_small/8918.jpeg'\n",
            " '/content/drive/MyDrive/development/datasets/OCR_MNIST_Words/dataset/v011_words_small/8919.png'\n",
            " '/content/drive/MyDrive/development/datasets/OCR_MNIST_Words/dataset/v011_words_small/8920.jpeg'\n",
            " '/content/drive/MyDrive/development/datasets/OCR_MNIST_Words/dataset/v011_words_small/8921.png'\n",
            " '/content/drive/MyDrive/development/datasets/OCR_MNIST_Words/dataset/v011_words_small/8922.jpeg'\n",
            " '/content/drive/MyDrive/development/datasets/OCR_MNIST_Words/dataset/v011_words_small/8923.jpeg'\n",
            " '/content/drive/MyDrive/development/datasets/OCR_MNIST_Words/dataset/v011_words_small/8924.png'\n",
            " '/content/drive/MyDrive/development/datasets/OCR_MNIST_Words/dataset/v011_words_small/8925.png'\n",
            " '/content/drive/MyDrive/development/datasets/OCR_MNIST_Words/dataset/v011_words_small/8926.png'\n",
            " '/content/drive/MyDrive/development/datasets/OCR_MNIST_Words/dataset/v011_words_small/8927.jpeg'\n",
            " '/content/drive/MyDrive/development/datasets/OCR_MNIST_Words/dataset/v011_words_small/8928.jpeg'\n",
            " '/content/drive/MyDrive/development/datasets/OCR_MNIST_Words/dataset/v011_words_small/8929.png'\n",
            " '/content/drive/MyDrive/development/datasets/OCR_MNIST_Words/dataset/v011_words_small/8930.jpeg'\n",
            " '/content/drive/MyDrive/development/datasets/OCR_MNIST_Words/dataset/v011_words_small/8931.jpeg'\n",
            " '/content/drive/MyDrive/development/datasets/OCR_MNIST_Words/dataset/v011_words_small/8932.jpeg'\n",
            " '/content/drive/MyDrive/development/datasets/OCR_MNIST_Words/dataset/v011_words_small/8933.png'\n",
            " '/content/drive/MyDrive/development/datasets/OCR_MNIST_Words/dataset/v011_words_small/8934.jpeg'\n",
            " '/content/drive/MyDrive/development/datasets/OCR_MNIST_Words/dataset/v011_words_small/8935.jpeg'\n",
            " '/content/drive/MyDrive/development/datasets/OCR_MNIST_Words/dataset/v011_words_small/8936.png'\n",
            " '/content/drive/MyDrive/development/datasets/OCR_MNIST_Words/dataset/v011_words_small/8937.png'\n",
            " '/content/drive/MyDrive/development/datasets/OCR_MNIST_Words/dataset/v011_words_small/8938.png'\n",
            " '/content/drive/MyDrive/development/datasets/OCR_MNIST_Words/dataset/v011_words_small/8939.png'\n",
            " '/content/drive/MyDrive/development/datasets/OCR_MNIST_Words/dataset/v011_words_small/8940.jpeg'\n",
            " '/content/drive/MyDrive/development/datasets/OCR_MNIST_Words/dataset/v011_words_small/8941.jpeg'\n",
            " '/content/drive/MyDrive/development/datasets/OCR_MNIST_Words/dataset/v011_words_small/8942.jpeg'\n",
            " '/content/drive/MyDrive/development/datasets/OCR_MNIST_Words/dataset/v011_words_small/8943.jpeg'\n",
            " '/content/drive/MyDrive/development/datasets/OCR_MNIST_Words/dataset/v011_words_small/8944.jpeg'\n",
            " '/content/drive/MyDrive/development/datasets/OCR_MNIST_Words/dataset/v011_words_small/8945.jpeg'\n",
            " '/content/drive/MyDrive/development/datasets/OCR_MNIST_Words/dataset/v011_words_small/8946.png'\n",
            " '/content/drive/MyDrive/development/datasets/OCR_MNIST_Words/dataset/v011_words_small/8947.png'\n",
            " '/content/drive/MyDrive/development/datasets/OCR_MNIST_Words/dataset/v011_words_small/8948.jpeg'\n",
            " '/content/drive/MyDrive/development/datasets/OCR_MNIST_Words/dataset/v011_words_small/8949.jpeg'\n",
            " '/content/drive/MyDrive/development/datasets/OCR_MNIST_Words/dataset/v011_words_small/8950.jpeg'\n",
            " '/content/drive/MyDrive/development/datasets/OCR_MNIST_Words/dataset/v011_words_small/8951.jpeg'\n",
            " '/content/drive/MyDrive/development/datasets/OCR_MNIST_Words/dataset/v011_words_small/8952.jpeg'\n",
            " '/content/drive/MyDrive/development/datasets/OCR_MNIST_Words/dataset/v011_words_small/8953.png'\n",
            " '/content/drive/MyDrive/development/datasets/OCR_MNIST_Words/dataset/v011_words_small/8954.jpeg'\n",
            " '/content/drive/MyDrive/development/datasets/OCR_MNIST_Words/dataset/v011_words_small/8955.png'\n",
            " '/content/drive/MyDrive/development/datasets/OCR_MNIST_Words/dataset/v011_words_small/8956.jpeg'\n",
            " '/content/drive/MyDrive/development/datasets/OCR_MNIST_Words/dataset/v011_words_small/8957.png'\n",
            " '/content/drive/MyDrive/development/datasets/OCR_MNIST_Words/dataset/v011_words_small/8958.jpeg'\n",
            " '/content/drive/MyDrive/development/datasets/OCR_MNIST_Words/dataset/v011_words_small/8959.png'\n",
            " '/content/drive/MyDrive/development/datasets/OCR_MNIST_Words/dataset/v011_words_small/8960.png'\n",
            " '/content/drive/MyDrive/development/datasets/OCR_MNIST_Words/dataset/v011_words_small/8961.png'\n",
            " '/content/drive/MyDrive/development/datasets/OCR_MNIST_Words/dataset/v011_words_small/8962.jpeg'\n",
            " '/content/drive/MyDrive/development/datasets/OCR_MNIST_Words/dataset/v011_words_small/8963.jpeg'\n",
            " '/content/drive/MyDrive/development/datasets/OCR_MNIST_Words/dataset/v011_words_small/8964.png'\n",
            " '/content/drive/MyDrive/development/datasets/OCR_MNIST_Words/dataset/v011_words_small/8965.jpeg'\n",
            " '/content/drive/MyDrive/development/datasets/OCR_MNIST_Words/dataset/v011_words_small/8966.png'\n",
            " '/content/drive/MyDrive/development/datasets/OCR_MNIST_Words/dataset/v011_words_small/8967.png'\n",
            " '/content/drive/MyDrive/development/datasets/OCR_MNIST_Words/dataset/v011_words_small/8968.jpeg'\n",
            " '/content/drive/MyDrive/development/datasets/OCR_MNIST_Words/dataset/v011_words_small/8969.png'\n",
            " '/content/drive/MyDrive/development/datasets/OCR_MNIST_Words/dataset/v011_words_small/8970.png'\n",
            " '/content/drive/MyDrive/development/datasets/OCR_MNIST_Words/dataset/v011_words_small/8971.png'\n",
            " '/content/drive/MyDrive/development/datasets/OCR_MNIST_Words/dataset/v011_words_small/8972.png'\n",
            " '/content/drive/MyDrive/development/datasets/OCR_MNIST_Words/dataset/v011_words_small/8973.jpeg'\n",
            " '/content/drive/MyDrive/development/datasets/OCR_MNIST_Words/dataset/v011_words_small/8974.png'\n",
            " '/content/drive/MyDrive/development/datasets/OCR_MNIST_Words/dataset/v011_words_small/8975.jpeg'\n",
            " '/content/drive/MyDrive/development/datasets/OCR_MNIST_Words/dataset/v011_words_small/8976.jpeg'\n",
            " '/content/drive/MyDrive/development/datasets/OCR_MNIST_Words/dataset/v011_words_small/8977.jpeg'\n",
            " '/content/drive/MyDrive/development/datasets/OCR_MNIST_Words/dataset/v011_words_small/8978.png'\n",
            " '/content/drive/MyDrive/development/datasets/OCR_MNIST_Words/dataset/v011_words_small/8979.png'\n",
            " '/content/drive/MyDrive/development/datasets/OCR_MNIST_Words/dataset/v011_words_small/8980.png'\n",
            " '/content/drive/MyDrive/development/datasets/OCR_MNIST_Words/dataset/v011_words_small/8981.png'\n",
            " '/content/drive/MyDrive/development/datasets/OCR_MNIST_Words/dataset/v011_words_small/8982.jpeg'\n",
            " '/content/drive/MyDrive/development/datasets/OCR_MNIST_Words/dataset/v011_words_small/8983.png'\n",
            " '/content/drive/MyDrive/development/datasets/OCR_MNIST_Words/dataset/v011_words_small/8984.jpeg'\n",
            " '/content/drive/MyDrive/development/datasets/OCR_MNIST_Words/dataset/v011_words_small/8985.jpeg'\n",
            " '/content/drive/MyDrive/development/datasets/OCR_MNIST_Words/dataset/v011_words_small/8986.jpeg'\n",
            " '/content/drive/MyDrive/development/datasets/OCR_MNIST_Words/dataset/v011_words_small/8987.png'\n",
            " '/content/drive/MyDrive/development/datasets/OCR_MNIST_Words/dataset/v011_words_small/8988.jpeg'\n",
            " '/content/drive/MyDrive/development/datasets/OCR_MNIST_Words/dataset/v011_words_small/8989.jpeg'\n",
            " '/content/drive/MyDrive/development/datasets/OCR_MNIST_Words/dataset/v011_words_small/8990.jpeg'\n",
            " '/content/drive/MyDrive/development/datasets/OCR_MNIST_Words/dataset/v011_words_small/8991.jpeg'\n",
            " '/content/drive/MyDrive/development/datasets/OCR_MNIST_Words/dataset/v011_words_small/8992.jpeg'\n",
            " '/content/drive/MyDrive/development/datasets/OCR_MNIST_Words/dataset/v011_words_small/8993.jpeg'\n",
            " '/content/drive/MyDrive/development/datasets/OCR_MNIST_Words/dataset/v011_words_small/8994.jpeg'\n",
            " '/content/drive/MyDrive/development/datasets/OCR_MNIST_Words/dataset/v011_words_small/8995.jpeg'\n",
            " '/content/drive/MyDrive/development/datasets/OCR_MNIST_Words/dataset/v011_words_small/8996.png'\n",
            " '/content/drive/MyDrive/development/datasets/OCR_MNIST_Words/dataset/v011_words_small/8997.jpeg'\n",
            " '/content/drive/MyDrive/development/datasets/OCR_MNIST_Words/dataset/v011_words_small/8998.jpeg'\n",
            " '/content/drive/MyDrive/development/datasets/OCR_MNIST_Words/dataset/v011_words_small/8999.png'\n",
            " '/content/drive/MyDrive/development/datasets/OCR_MNIST_Words/dataset/v011_words_small/9000.jpeg'\n",
            " '/content/drive/MyDrive/development/datasets/OCR_MNIST_Words/dataset/v011_words_small/9001.png'\n",
            " '/content/drive/MyDrive/development/datasets/OCR_MNIST_Words/dataset/v011_words_small/9002.png']\n"
          ]
        }
      ]
    },
    {
      "cell_type": "code",
      "source": [
        "# Mapping characters to integers\n",
        "char_to_num = layers.StringLookup(\n",
        "    vocabulary=list(ALPHABETS), num_oov_indices=0, mask_token=None\n",
        ")\n",
        "\n",
        "# Mapping integers back to original characters\n",
        "num_to_char = layers.StringLookup(\n",
        "    vocabulary=char_to_num.get_vocabulary(), mask_token=None, invert=True, num_oov_indices=0\n",
        ")"
      ],
      "metadata": {
        "id": "dI2eIFuMtBMW"
      },
      "execution_count": 120,
      "outputs": []
    },
    {
      "cell_type": "code",
      "source": [
        "def process_single_sample(img_path, labels_padded, len_labels_padded, len_labels_not_padded):\n",
        "    # 1. Read image\n",
        "    img = tf.io.read_file(img_path)\n",
        "    # 2. Decode and convert to grayscale\n",
        "    img = tf.io.decode_png(img, channels=1)\n",
        "    # 3. Convert to float32 in [0, 1] range\n",
        "    img = tf.image.convert_image_dtype(img, tf.float32)\n",
        "    # 4. Resize to the desired size. its important for the resize_with_pad funktion. When picture is way bigge with strange aspect ratio ist rans into an error\n",
        "    img = tf.image.resize(img, [MAX_HIGHT, MAX_WIDTH], preserve_aspect_ratio= True)\n",
        "    # 5. Pad the image to MAX_HIGHT and MAX_WIDTH\n",
        "    img = tf.image.resize_with_pad(img, target_height=MAX_HIGHT, target_width=MAX_WIDTH)\n",
        "    # 6. Transpose the image because we want the time\n",
        "    img = tf.transpose(img, perm=[1, 0, 2])\n",
        "    # 7. Return a dict as our model is expecting two inputs\n",
        "\n",
        "    labels_padded = tf.convert_to_tensor(labels_padded, dtype=\"int32\")\n",
        "    len_labels_padded = tf.convert_to_tensor([len_labels_padded], dtype=\"int32\")\n",
        "    len_labels_not_padded = tf.convert_to_tensor([len_labels_not_padded], dtype=\"int32\")\n",
        "    #label = tf.keras.utils.pad_sequences(label, maxlen=MAX_STR_LEN)\n",
        "    #return {\"input\": img, \"gtruth_labels\": label, \"input_length\": img, \"label_length\": label}\n",
        "    #return img, labels_padded, len_labels_padded,len_labels_not_padded, [0]\n",
        "    return {\"input_data\": img, \"input_label\": labels_padded, \"input_length\": len_labels_padded, \"label_length\":len_labels_not_padded}\n",
        "\n",
        "#_img= process_single_sample(x_all_img_total_path[3],\"hallo\")\n",
        "index = 8276-3\n",
        "index= 9\n",
        "#_img= process_single_sample(x_all_img_total_path[index],[[38, 41, -1, -1, -1, -1]],[24],[2])\n",
        "_img= process_single_sample(x_all_img_total_path[index],labels_padded[index], len_labels_padded[index], len_labels_not_padded[index])\n",
        "print(_img[\"input_label\"])\n",
        "print(_img[\"input_length\"])\n",
        "print(_img[\"label_length\"])\n",
        "#print(_img[\"len_labels_not_padded\"])\n",
        "#_img= process_single_sample(x_all_img_total_path[3],y_all[3])\n",
        "print(x_all_img_total_path[index])\n",
        "plt.imshow(_img[\"input_data\"],cmap=\"gray\")"
      ],
      "metadata": {
        "colab": {
          "base_uri": "https://localhost:8080/",
          "height": 525
        },
        "id": "3BMPg01aDGxv",
        "outputId": "d973ad3a-b155-42bc-cfcd-b2173502de14"
      },
      "execution_count": 121,
      "outputs": [
        {
          "output_type": "stream",
          "name": "stdout",
          "text": [
            "tf.Tensor([16 19 32 15 -1 -1 -1 -1 -1 -1 -1 -1 -1 -1 -1 -1 -1 -1 -1 -1 -1 -1 -1 -1], shape=(24,), dtype=int32)\n",
            "tf.Tensor([24], shape=(1,), dtype=int32)\n",
            "tf.Tensor([4], shape=(1,), dtype=int32)\n",
            "/content/drive/MyDrive/development/datasets/OCR_MNIST_Words/dataset/v011_words_small/9.png\n"
          ]
        },
        {
          "output_type": "execute_result",
          "data": {
            "text/plain": [
              "<matplotlib.image.AxesImage at 0x7d25dcbf3b80>"
            ]
          },
          "metadata": {},
          "execution_count": 121
        },
        {
          "output_type": "display_data",
          "data": {
            "text/plain": [
              "<Figure size 640x480 with 1 Axes>"
            ],
            "image/png": "[encoded data removed]"
          },
          "metadata": {}
        }
      ]
    },
    {
      "cell_type": "code",
      "source": [
        "train_dataset = tf.data.Dataset.from_tensor_slices((x_all_img_total_path[:(len(x_all_img_total_path)-50)], labels_padded[:(len(x_all_img_total_path)-50)], len_labels_padded[:(len(x_all_img_total_path)-50)], len_labels_not_padded[:(len(x_all_img_total_path)-50)]))\n",
        "validation_dataset = tf.data.Dataset.from_tensor_slices((x_all_img_total_path[(len(x_all_img_total_path)-50):], labels_padded[(len(x_all_img_total_path)-50):], len_labels_padded[(len(x_all_img_total_path)-50):], len_labels_not_padded[(len(x_all_img_total_path)-50):]))\n",
        "\n",
        "train_dataset = (\n",
        "    train_dataset.map(\n",
        "        process_single_sample, num_parallel_calls=tf.data.experimental.AUTOTUNE\n",
        "    )\n",
        "    .batch(BATCH_SIZE)\n",
        "    .prefetch(buffer_size=tf.data.experimental.AUTOTUNE)\n",
        ")\n",
        "\n",
        "#unbeding noch mit richtigen val daten füllen\n",
        "validation_dataset = (\n",
        "    validation_dataset.map(\n",
        "        process_single_sample, num_parallel_calls=tf.data.experimental.AUTOTUNE\n",
        "    )\n",
        "    .batch(BATCH_SIZE)\n",
        "    .prefetch(buffer_size=tf.data.experimental.AUTOTUNE)\n",
        ")"
      ],
      "metadata": {
        "id": "YVhiulVFVptu"
      },
      "execution_count": 122,
      "outputs": []
    },
    {
      "cell_type": "code",
      "source": [
        "train_dataset = tf.data.Dataset.from_tensor_slices((\n",
        "    x_all_img_total_path[:(len(x_all_img_total_path)-50)],\n",
        "    labels_padded[:(len(x_all_img_total_path)-50)],\n",
        "    len_labels_padded[:(len(x_all_img_total_path)-50)],\n",
        "    len_labels_not_padded[:(len(x_all_img_total_path)-50)]\n",
        "))\n",
        "\n",
        "train_dataset = (\n",
        "    train_dataset\n",
        "    .map(process_single_sample, num_parallel_calls=tf.data.experimental.AUTOTUNE)\n",
        "    .batch(BATCH_SIZE)\n",
        "    .prefetch(buffer_size=tf.data.experimental.AUTOTUNE)\n",
        ")"
      ],
      "metadata": {
        "colab": {
          "base_uri": "https://localhost:8080/"
        },
        "id": "tQcyHEWMLEN9",
        "outputId": "b8900d56-2b0a-422d-aa11-446e6276a7c6"
      },
      "execution_count": null,
      "outputs": [
        {
          "output_type": "stream",
          "name": "stderr",
          "text": [
            "/usr/local/lib/python3.10/dist-packages/tensorflow/python/data/ops/structured_function.py:258: UserWarning: Even though the `tf.config.experimental_run_functions_eagerly` option is set, this option does not apply to tf.data functions. To force eager execution of tf.data functions, please use `tf.data.experimental.enable_debug_mode()`.\n",
            "  warnings.warn(\n"
          ]
        }
      ]
    },
    {
      "cell_type": "code",
      "source": [
        "_, ax = plt.subplots(4, 4, figsize=(10, 5))\n",
        "for batch in train_dataset.take(1):\n",
        "    images = batch[\"input_data\"]\n",
        "    labels = batch[\"input_label\"]\n",
        "    len_labels_padded = batch[\"input_length\"]\n",
        "    for i in range(16):\n",
        "        img = (images[i] * 255).numpy().astype(\"uint8\")\n",
        "        label = num_to_label(labels[i])\n",
        "        print(len_labels_padded[i])\n",
        "        ax[i // 4, i % 4].imshow(img[:, :, 0].T, cmap=\"gray\")\n",
        "        ax[i // 4, i % 4].set_title(label)\n",
        "        ax[i // 4, i % 4].axis(\"off\")\n",
        "plt.show()"
      ],
      "metadata": {
        "colab": {
          "base_uri": "https://localhost:8080/",
          "height": 692
        },
        "id": "DOXgRgWBXzso",
        "outputId": "c5ec0a82-5bab-4fbc-e97e-32fd7792e827"
      },
      "execution_count": 123,
      "outputs": [
        {
          "output_type": "stream",
          "name": "stdout",
          "text": [
            "tf.Tensor([24], shape=(1,), dtype=int32)\n",
            "tf.Tensor([24], shape=(1,), dtype=int32)\n",
            "tf.Tensor([24], shape=(1,), dtype=int32)\n",
            "tf.Tensor([24], shape=(1,), dtype=int32)\n",
            "tf.Tensor([24], shape=(1,), dtype=int32)\n",
            "tf.Tensor([24], shape=(1,), dtype=int32)\n",
            "tf.Tensor([24], shape=(1,), dtype=int32)\n",
            "tf.Tensor([24], shape=(1,), dtype=int32)\n",
            "tf.Tensor([24], shape=(1,), dtype=int32)\n",
            "tf.Tensor([24], shape=(1,), dtype=int32)\n",
            "tf.Tensor([24], shape=(1,), dtype=int32)\n",
            "tf.Tensor([24], shape=(1,), dtype=int32)\n",
            "tf.Tensor([24], shape=(1,), dtype=int32)\n",
            "tf.Tensor([24], shape=(1,), dtype=int32)\n",
            "tf.Tensor([24], shape=(1,), dtype=int32)\n",
            "tf.Tensor([24], shape=(1,), dtype=int32)\n"
          ]
        },
        {
          "output_type": "display_data",
          "data": {
            "text/plain": [
              "<Figure size 1000x500 with 16 Axes>"
            ],
            "image/png": "[encoded data removed]"
          },
          "metadata": {}
        }
      ]
    },
    {
      "cell_type": "markdown",
      "source": [
        "## Create the OCR Model"
      ],
      "metadata": {
        "id": "hPNkZn20mkfu"
      }
    },
    {
      "cell_type": "code",
      "source": [
        "class CTCLayer(layers.Layer):\n",
        "    def __init__(self, name=None):\n",
        "        super().__init__(name=name)\n",
        "        self.loss_fn = keras.backend.ctc_batch_cost\n",
        "\n",
        "    def call(self, y_true, y_pred, input_length, label_length):\n",
        "        # Compute the training-time loss value and add it\n",
        "        # to the layer using `self.add_loss()`.\n",
        "        loss = self.loss_fn(y_true, y_pred, input_length, label_length)\n",
        "        self.add_loss(loss)\n",
        "\n",
        "        # On test time, just return the computed loss\n",
        "        return loss\n",
        "\n",
        "\n",
        "\n",
        "def build_model():\n",
        "    # Inputs to the model\n",
        "    input_img = layers.Input(shape=(MAX_WIDTH, MAX_HIGHT, 1),\n",
        "                            name='input_data',\n",
        "                            dtype='float32')\n",
        "    labels = layers.Input(name='input_label', shape=[MAX_STR_LEN], dtype='float32')\n",
        "    input_length = layers.Input(name='input_length', shape=[1], dtype='int64')\n",
        "    label_length = layers.Input(name='label_length', shape=[1], dtype='int64')\n",
        "\n",
        "    # First conv block\n",
        "    x = layers.Conv2D(32,\n",
        "               (3,3),\n",
        "               activation='relu',\n",
        "               kernel_initializer='he_normal',\n",
        "               padding='same',\n",
        "               name='Conv1')(input_img)\n",
        "    x = layers.MaxPooling2D((2,2), name='pool1')(x)\n",
        "\n",
        "    # Second conv block\n",
        "    x = layers.Conv2D(64,\n",
        "               (3,3),\n",
        "               activation='relu',\n",
        "               kernel_initializer='he_normal',\n",
        "               padding='same',\n",
        "               name='Conv2')(x)\n",
        "    x = layers.MaxPooling2D((2,2), name='pool2')(x)\n",
        "\n",
        "    # We have used two max pool with pool size and strides of 2.\n",
        "    # Hence, downsampled feature maps are 4x smaller. The number of\n",
        "    # filters in the last layer is 64. Reshape accordingly before\n",
        "    # passing it to RNNs\n",
        "    new_shape = ((MAX_WIDTH // 4), (MAX_HIGHT // 4)*64)\n",
        "    x = layers.Reshape(target_shape=new_shape, name='reshape')(x)\n",
        "    x = layers.Dense(64, activation='relu', name='dense1')(x)\n",
        "    x = layers.Dropout(0.2)(x)\n",
        "\n",
        "    # RNNs\n",
        "    x = layers.Bidirectional(layers.LSTM(128,\n",
        "                                         return_sequences=True,\n",
        "                                         dropout=0.2))(x)\n",
        "    x = layers.Bidirectional(layers.LSTM(64,\n",
        "                                         return_sequences=True,\n",
        "                                         dropout=0.25))(x)\n",
        "\n",
        "    # Predictions\n",
        "    x = layers.Dense(len(ALPHABETS)+1,\n",
        "              activation='softmax',\n",
        "              name='dense2',\n",
        "              kernel_initializer='he_normal')(x)\n",
        "\n",
        "    # Calculate CTC\n",
        "    output = CTCLayer(name='ctc_loss')(labels, x, input_length, label_length)\n",
        "\n",
        "    # Define the model\n",
        "    model = keras.models.Model(inputs=[input_img,\n",
        "                                       labels,\n",
        "                                       input_length,\n",
        "                                       label_length],\n",
        "                                outputs=output,\n",
        "                                name='ocr_model_v1')\n",
        "\n",
        "    # Optimizer\n",
        "    sgd = keras.optimizers.SGD(learning_rate=0.002,\n",
        "                               momentum=0.9,\n",
        "                               nesterov=True,\n",
        "                               clipnorm=5)\n",
        "\n",
        "    # Compile the model and return\n",
        "    model.compile(optimizer=sgd)\n",
        "    return model\n",
        "\n",
        "model = build_model()\n",
        "model.summary()"
      ],
      "metadata": {
        "colab": {
          "base_uri": "https://localhost:8080/"
        },
        "id": "x0YjCureTAnm",
        "outputId": "be54a595-d0fd-4ce3-c744-c0fc210aeb6a"
      },
      "execution_count": 124,
      "outputs": [
        {
          "output_type": "stream",
          "name": "stdout",
          "text": [
            "Model: \"ocr_model_v1\"\n",
            "__________________________________________________________________________________________________\n",
            " Layer (type)                Output Shape                 Param #   Connected to                  \n",
            "==================================================================================================\n",
            " input_data (InputLayer)     [(None, 200, 50, 1)]         0         []                            \n",
            "                                                                                                  \n",
            " Conv1 (Conv2D)              (None, 200, 50, 32)          320       ['input_data[0][0]']          \n",
            "                                                                                                  \n",
            " pool1 (MaxPooling2D)        (None, 100, 25, 32)          0         ['Conv1[0][0]']               \n",
            "                                                                                                  \n",
            " Conv2 (Conv2D)              (None, 100, 25, 64)          18496     ['pool1[0][0]']               \n",
            "                                                                                                  \n",
            " pool2 (MaxPooling2D)        (None, 50, 12, 64)           0         ['Conv2[0][0]']               \n",
            "                                                                                                  \n",
            " reshape (Reshape)           (None, 50, 768)              0         ['pool2[0][0]']               \n",
            "                                                                                                  \n",
            " dense1 (Dense)              (None, 50, 64)               49216     ['reshape[0][0]']             \n",
            "                                                                                                  \n",
            " dropout_1 (Dropout)         (None, 50, 64)               0         ['dense1[0][0]']              \n",
            "                                                                                                  \n",
            " bidirectional_2 (Bidirecti  (None, 50, 256)              197632    ['dropout_1[0][0]']           \n",
            " onal)                                                                                            \n",
            "                                                                                                  \n",
            " bidirectional_3 (Bidirecti  (None, 50, 128)              164352    ['bidirectional_2[0][0]']     \n",
            " onal)                                                                                            \n",
            "                                                                                                  \n",
            " input_label (InputLayer)    [(None, 24)]                 0         []                            \n",
            "                                                                                                  \n",
            " dense2 (Dense)              (None, 50, 72)               9288      ['bidirectional_3[0][0]']     \n",
            "                                                                                                  \n",
            " input_length (InputLayer)   [(None, 1)]                  0         []                            \n",
            "                                                                                                  \n",
            " label_length (InputLayer)   [(None, 1)]                  0         []                            \n",
            "                                                                                                  \n",
            " ctc_loss (CTCLayer)         (None, 1)                    0         ['input_label[0][0]',         \n",
            "                                                                     'dense2[0][0]',              \n",
            "                                                                     'input_length[0][0]',        \n",
            "                                                                     'label_length[0][0]']        \n",
            "                                                                                                  \n",
            "==================================================================================================\n",
            "Total params: 439304 (1.68 MB)\n",
            "Trainable params: 439304 (1.68 MB)\n",
            "Non-trainable params: 0 (0.00 Byte)\n",
            "__________________________________________________________________________________________________\n"
          ]
        }
      ]
    },
    {
      "cell_type": "code",
      "source": [
        "es = keras.callbacks.EarlyStopping(monitor='val_loss',\n",
        "                                   patience=5,\n",
        "                                   restore_best_weights=True)\n",
        "\n",
        "# Train the model\n",
        "history = model.fit(train_dataset,\n",
        "                    epochs=50,\n",
        "                    validation_data = validation_dataset,\n",
        "                    callbacks=[es])"
      ],
      "metadata": {
        "colab": {
          "base_uri": "https://localhost:8080/"
        },
        "id": "oZn299YlT3_D",
        "outputId": "2c769e96-f0df-4937-d6c2-b1bc17f19138"
      },
      "execution_count": null,
      "outputs": [
        {
          "output_type": "stream",
          "name": "stdout",
          "text": [
            "Epoch 1/50\n",
            "2/2 [==============================] - 36s 16s/step - loss: 87.2268 - val_loss: 79.0391\n",
            "Epoch 2/50\n"
          ]
        }
      ]
    },
    {
      "cell_type": "markdown",
      "source": [],
      "metadata": {
        "id": "HPOi7lMIS6fx"
      }
    },
    {
      "cell_type": "markdown",
      "source": [],
      "metadata": {
        "id": "1ZeSAnjzS6cD"
      }
    },
    {
      "cell_type": "markdown",
      "source": [],
      "metadata": {
        "id": "pxp3hIfyS6Zx"
      }
    },
    {
      "cell_type": "markdown",
      "source": [],
      "metadata": {
        "id": "2hUPOM37S6XL"
      }
    },
    {
      "cell_type": "markdown",
      "source": [],
      "metadata": {
        "id": "ZngjzAeiS6Ul"
      }
    },
    {
      "cell_type": "markdown",
      "source": [],
      "metadata": {
        "id": "x4Lvu0O9S6SH"
      }
    },
    {
      "cell_type": "markdown",
      "source": [],
      "metadata": {
        "id": "Bu9lcGx-S6Pk"
      }
    },
    {
      "cell_type": "markdown",
      "source": [],
      "metadata": {
        "id": "7-a86-hcS6NP"
      }
    },
    {
      "cell_type": "markdown",
      "source": [],
      "metadata": {
        "id": "H5UARzuWS6Kf"
      }
    },
    {
      "cell_type": "markdown",
      "source": [],
      "metadata": {
        "id": "Rnbvqp9nS6IF"
      }
    },
    {
      "cell_type": "markdown",
      "source": [],
      "metadata": {
        "id": "hb-Oe82yS6Fa"
      }
    },
    {
      "cell_type": "markdown",
      "source": [],
      "metadata": {
        "id": "c_nQxcDkS6Cy"
      }
    },
    {
      "cell_type": "markdown",
      "source": [],
      "metadata": {
        "id": "P5mo6NzYS6AF"
      }
    },
    {
      "cell_type": "markdown",
      "source": [],
      "metadata": {
        "id": "b2HexKwdS59e"
      }
    },
    {
      "cell_type": "markdown",
      "source": [],
      "metadata": {
        "id": "k_Sd2FtPS56f"
      }
    },
    {
      "cell_type": "markdown",
      "source": [],
      "metadata": {
        "id": "DesWsntuS53n"
      }
    },
    {
      "cell_type": "markdown",
      "source": [],
      "metadata": {
        "id": "T9Mztc01S508"
      }
    },
    {
      "cell_type": "code",
      "source": [
        "\n",
        "# Evtl. Input umformatieren in einzeilig\n",
        "input_data = Input(shape=(MAX_WIDTH, MAX_HIGHT, 1), name='image')\n",
        "\n",
        "inner = Conv2D(32, (3, 3), padding='same', name='conv1', kernel_initializer='he_normal')(input_data)\n",
        "inner = BatchNormalization()(inner)\n",
        "inner = Activation('relu')(inner)\n",
        "inner = MaxPooling2D(pool_size=(2, 2), name='max1')(inner)\n",
        "\n",
        "inner = Conv2D(64, (3, 3), padding='same', name='conv2', kernel_initializer='he_normal')(inner)\n",
        "inner = BatchNormalization()(inner)\n",
        "inner = Activation('relu')(inner)\n",
        "inner = MaxPooling2D(pool_size=(2, 2), name='max2')(inner)\n",
        "inner = Dropout(0.3)(inner)\n",
        "\n",
        "inner = Conv2D(128, (3, 3), padding='same', name='conv3', kernel_initializer='he_normal')(inner)\n",
        "inner = BatchNormalization()(inner)\n",
        "inner = Activation('relu')(inner)\n",
        "inner = MaxPooling2D(pool_size=(1, 2), name='max3')(inner)\n",
        "inner = Dropout(0.3)(inner)\n",
        "\n",
        "# CNN to RNN\n",
        "inner = Reshape(target_shape=((NUM_OF_TIMESTAMPS, 1024)), name='reshape')(inner)\n",
        "inner = Dense(NUM_OF_TIMESTAMPS, activation='relu', kernel_initializer='he_normal', name='dense1')(inner)\n",
        "\n",
        "## RNN\n",
        "inner = Bidirectional(LSTM(256, return_sequences=True), name = 'lstm1')(inner)\n",
        "inner = Bidirectional(LSTM(256, return_sequences=True), name = 'lstm2')(inner)\n",
        "\n",
        "## OUTPUT\n",
        "inner = Dense(num_of_characters, kernel_initializer='he_normal',name='dense2')(inner)\n",
        "y_pred = Activation('softmax', name='softmax')(inner)\n",
        "\n",
        "model = Model(inputs=input_data, outputs=y_pred)\n",
        "model.summary()"
      ],
      "metadata": {
        "colab": {
          "base_uri": "https://localhost:8080/"
        },
        "id": "ThJAqgs-Dt9C",
        "outputId": "5be1f36f-dfba-46c8-d87a-790b71cf03fa"
      },
      "execution_count": null,
      "outputs": [
        {
          "output_type": "stream",
          "name": "stdout",
          "text": [
            "Model: \"model\"\n",
            "_________________________________________________________________\n",
            " Layer (type)                Output Shape              Param #   \n",
            "=================================================================\n",
            " image (InputLayer)          [(None, 256, 64, 1)]      0         \n",
            "                                                                 \n",
            " conv1 (Conv2D)              (None, 256, 64, 32)       320       \n",
            "                                                                 \n",
            " batch_normalization (Batch  (None, 256, 64, 32)       128       \n",
            " Normalization)                                                  \n",
            "                                                                 \n",
            " activation (Activation)     (None, 256, 64, 32)       0         \n",
            "                                                                 \n",
            " max1 (MaxPooling2D)         (None, 128, 32, 32)       0         \n",
            "                                                                 \n",
            " conv2 (Conv2D)              (None, 128, 32, 64)       18496     \n",
            "                                                                 \n",
            " batch_normalization_1 (Bat  (None, 128, 32, 64)       256       \n",
            " chNormalization)                                                \n",
            "                                                                 \n",
            " activation_1 (Activation)   (None, 128, 32, 64)       0         \n",
            "                                                                 \n",
            " max2 (MaxPooling2D)         (None, 64, 16, 64)        0         \n",
            "                                                                 \n",
            " dropout (Dropout)           (None, 64, 16, 64)        0         \n",
            "                                                                 \n",
            " conv3 (Conv2D)              (None, 64, 16, 128)       73856     \n",
            "                                                                 \n",
            " batch_normalization_2 (Bat  (None, 64, 16, 128)       512       \n",
            " chNormalization)                                                \n",
            "                                                                 \n",
            " activation_2 (Activation)   (None, 64, 16, 128)       0         \n",
            "                                                                 \n",
            " max3 (MaxPooling2D)         (None, 64, 8, 128)        0         \n",
            "                                                                 \n",
            " dropout_1 (Dropout)         (None, 64, 8, 128)        0         \n",
            "                                                                 \n",
            " reshape (Reshape)           (None, 64, 1024)          0         \n",
            "                                                                 \n",
            " dense1 (Dense)              (None, 64, 64)            65600     \n",
            "                                                                 \n",
            " lstm1 (Bidirectional)       (None, 64, 512)           657408    \n",
            "                                                                 \n",
            " lstm2 (Bidirectional)       (None, 64, 512)           1574912   \n",
            "                                                                 \n",
            " dense2 (Dense)              (None, 64, 72)            36936     \n",
            "                                                                 \n",
            " softmax (Activation)        (None, 64, 72)            0         \n",
            "                                                                 \n",
            "=================================================================\n",
            "Total params: 2428424 (9.26 MB)\n",
            "Trainable params: 2427976 (9.26 MB)\n",
            "Non-trainable params: 448 (1.75 KB)\n",
            "_________________________________________________________________\n"
          ]
        }
      ]
    },
    {
      "cell_type": "code",
      "source": [
        "# the ctc loss function\n",
        "def ctc_lambda_func(args):\n",
        "    y_pred, labels, input_length, label_length = args\n",
        "    # the 2 is critical here since the first couple outputs of the RNN\n",
        "    # tend to be garbage\n",
        "\n",
        "    y_pred = y_pred[:, 2:, :]\n",
        "    return K.ctc_batch_cost(labels, y_pred, input_length, label_length)\n",
        "\n"
      ],
      "metadata": {
        "id": "BWeKMOyXGPPE"
      },
      "execution_count": null,
      "outputs": []
    },
    {
      "cell_type": "code",
      "source": [
        "labels = Input(name='gtruth_labels', shape=[MAX_STR_LEN], dtype='float32')\n",
        "input_length = Input(name='input_length', shape=[1], dtype='int32')\n",
        "label_length = Input(name='label_length', shape=[1], dtype='int32')\n",
        "\n",
        "ctc_loss = Lambda(ctc_lambda_func, output_shape=(1,), name='ctc')([y_pred, labels, input_length, label_length])\n",
        "model_final = Model(inputs=[input_data, labels], outputs=ctc_loss)\n",
        "input_length"
      ],
      "metadata": {
        "colab": {
          "base_uri": "https://localhost:8080/"
        },
        "id": "54_3v-CxGeYE",
        "outputId": "50fd9daa-de7c-4e0f-fc6d-ef4e5e9931aa"
      },
      "execution_count": null,
      "outputs": [
        {
          "output_type": "execute_result",
          "data": {
            "text/plain": [
              "<KerasTensor: shape=(None, 1) dtype=int64 (created by layer 'input_length')>"
            ]
          },
          "metadata": {},
          "execution_count": 96
        }
      ]
    },
    {
      "cell_type": "code",
      "source": [
        "def ctc_loss_function(args):\n",
        "    y_pred, y_true, input_length, label_length = args\n",
        "    return K.ctc_batch_cost(y_true, y_pred, input_length, label_length)\n",
        "\n",
        "\n",
        "\n",
        "# When compiling the model, you need to refer to the true CTC loss function.\n",
        "labels_padded_layer = Input(name='labels_padded', shape=[MAX_STR_LEN], dtype='int32')\n",
        "len_labels_padded_layer = Input(name='len_labels_padded', shape=[1], dtype='int32')\n",
        "len_labels_not_padded_layer = Input(name='len_labels_not_padded', shape=[1], dtype='int32')\n",
        "\n",
        "# Define your Lambda layer for CTC loss calculation\n",
        "ctc_loss = Lambda(ctc_loss_function, output_shape=(1,), name='ctc')([y_pred, labels_padded_layer, len_labels_padded_layer, len_labels_not_padded_layer])\n",
        "\n",
        "\n",
        "\n",
        "model_final = Model(inputs=[input_data, labels_padded_layer, len_labels_padded_layer, len_labels_not_padded_layer], outputs=ctc_loss)\n",
        "# Compile your model\n",
        "model_final.compile(loss={'ctc': lambda y_true, y_pred: y_pred},  # The output of the Lambda layer is already the loss\n",
        "                    optimizer=Adam(learning_rate=0.0001))\n",
        "\n",
        "\n",
        "    #return {\"image\": img, \"label_padded\": label_padded, \"len_labels_padded\": len_labels_padded, \"len_labels_not_padded\":len_labels_not_padded}"
      ],
      "metadata": {
        "id": "lMCM7EOoBjfi"
      },
      "execution_count": null,
      "outputs": []
    },
    {
      "cell_type": "code",
      "source": [
        "train_dataset[:,:-1]"
      ],
      "metadata": {
        "colab": {
          "base_uri": "https://localhost:8080/",
          "height": 144
        },
        "id": "byuyPwaGAlqS",
        "outputId": "ca76bea0-44ad-4a9a-d8db-e1b9e56e63d3"
      },
      "execution_count": null,
      "outputs": [
        {
          "output_type": "error",
          "ename": "TypeError",
          "evalue": "'_PrefetchDataset' object is not subscriptable",
          "traceback": [
            "\u001b[0;31m---------------------------------------------------------------------------\u001b[0m",
            "\u001b[0;31mTypeError\u001b[0m                                 Traceback (most recent call last)",
            "\u001b[0;32m<ipython-input-22-acf659064aa9>\u001b[0m in \u001b[0;36m<cell line: 1>\u001b[0;34m()\u001b[0m\n\u001b[0;32m----> 1\u001b[0;31m \u001b[0mtrain_dataset\u001b[0m\u001b[0;34m[\u001b[0m\u001b[0;34m:\u001b[0m\u001b[0;34m,\u001b[0m\u001b[0;34m:\u001b[0m\u001b[0;34m-\u001b[0m\u001b[0;36m1\u001b[0m\u001b[0;34m]\u001b[0m\u001b[0;34m\u001b[0m\u001b[0;34m\u001b[0m\u001b[0m\n\u001b[0m",
            "\u001b[0;31mTypeError\u001b[0m: '_PrefetchDataset' object is not subscriptable"
          ]
        }
      ]
    },
    {
      "cell_type": "code",
      "source": [
        "save_path = 'save/mnist_{epoch}.ckpt'\n",
        "save_callback = tf.keras.callbacks.ModelCheckpoint(filepath=save_path, save_weights_only=True)\n",
        "\n",
        "hist = model_final.fit(train_dataset,\n",
        "                 epochs=8, verbose=1,\n",
        "                 callbacks=[save_callback])\n"
      ],
      "metadata": {
        "colab": {
          "base_uri": "https://localhost:8080/",
          "height": 382
        },
        "id": "sGJ4t-5RGqDy",
        "outputId": "e9aecece-0dc7-4bf4-e48d-f435abf81335",
        "collapsed": true
      },
      "execution_count": null,
      "outputs": [
        {
          "output_type": "stream",
          "name": "stdout",
          "text": [
            "Epoch 1/8\n"
          ]
        },
        {
          "output_type": "error",
          "ename": "ValueError",
          "evalue": "Target data is missing. Your model was compiled with loss={'ctc': <function <lambda> at 0x7c7037b572e0>}, and therefore expects target data to be provided in `fit()`.",
          "traceback": [
            "\u001b[0;31m---------------------------------------------------------------------------\u001b[0m",
            "\u001b[0;31mValueError\u001b[0m                                Traceback (most recent call last)",
            "\u001b[0;32m<ipython-input-21-dbd527197cba>\u001b[0m in \u001b[0;36m<cell line: 4>\u001b[0;34m()\u001b[0m\n\u001b[1;32m      2\u001b[0m \u001b[0msave_callback\u001b[0m \u001b[0;34m=\u001b[0m \u001b[0mtf\u001b[0m\u001b[0;34m.\u001b[0m\u001b[0mkeras\u001b[0m\u001b[0;34m.\u001b[0m\u001b[0mcallbacks\u001b[0m\u001b[0;34m.\u001b[0m\u001b[0mModelCheckpoint\u001b[0m\u001b[0;34m(\u001b[0m\u001b[0mfilepath\u001b[0m\u001b[0;34m=\u001b[0m\u001b[0msave_path\u001b[0m\u001b[0;34m,\u001b[0m \u001b[0msave_weights_only\u001b[0m\u001b[0;34m=\u001b[0m\u001b[0;32mTrue\u001b[0m\u001b[0;34m)\u001b[0m\u001b[0;34m\u001b[0m\u001b[0;34m\u001b[0m\u001b[0m\n\u001b[1;32m      3\u001b[0m \u001b[0;34m\u001b[0m\u001b[0m\n\u001b[0;32m----> 4\u001b[0;31m hist = model_final.fit(train_dataset,\n\u001b[0m\u001b[1;32m      5\u001b[0m                  \u001b[0mepochs\u001b[0m\u001b[0;34m=\u001b[0m\u001b[0;36m8\u001b[0m\u001b[0;34m,\u001b[0m \u001b[0mverbose\u001b[0m\u001b[0;34m=\u001b[0m\u001b[0;36m1\u001b[0m\u001b[0;34m,\u001b[0m\u001b[0;34m\u001b[0m\u001b[0;34m\u001b[0m\u001b[0m\n\u001b[1;32m      6\u001b[0m                  callbacks=[save_callback])\n",
            "\u001b[0;32m/usr/local/lib/python3.10/dist-packages/keras/src/utils/traceback_utils.py\u001b[0m in \u001b[0;36merror_handler\u001b[0;34m(*args, **kwargs)\u001b[0m\n\u001b[1;32m     68\u001b[0m             \u001b[0;31m# To get the full stack trace, call:\u001b[0m\u001b[0;34m\u001b[0m\u001b[0;34m\u001b[0m\u001b[0m\n\u001b[1;32m     69\u001b[0m             \u001b[0;31m# `tf.debugging.disable_traceback_filtering()`\u001b[0m\u001b[0;34m\u001b[0m\u001b[0;34m\u001b[0m\u001b[0m\n\u001b[0;32m---> 70\u001b[0;31m             \u001b[0;32mraise\u001b[0m \u001b[0me\u001b[0m\u001b[0;34m.\u001b[0m\u001b[0mwith_traceback\u001b[0m\u001b[0;34m(\u001b[0m\u001b[0mfiltered_tb\u001b[0m\u001b[0;34m)\u001b[0m \u001b[0;32mfrom\u001b[0m \u001b[0;32mNone\u001b[0m\u001b[0;34m\u001b[0m\u001b[0;34m\u001b[0m\u001b[0m\n\u001b[0m\u001b[1;32m     71\u001b[0m         \u001b[0;32mfinally\u001b[0m\u001b[0;34m:\u001b[0m\u001b[0;34m\u001b[0m\u001b[0;34m\u001b[0m\u001b[0m\n\u001b[1;32m     72\u001b[0m             \u001b[0;32mdel\u001b[0m \u001b[0mfiltered_tb\u001b[0m\u001b[0;34m\u001b[0m\u001b[0;34m\u001b[0m\u001b[0m\n",
            "\u001b[0;32m/usr/local/lib/python3.10/dist-packages/keras/src/engine/training.py\u001b[0m in \u001b[0;36m_validate_target_and_loss\u001b[0;34m(self, y, loss)\u001b[0m\n\u001b[1;32m   1104\u001b[0m         \u001b[0;31m# exists and target does not.\u001b[0m\u001b[0;34m\u001b[0m\u001b[0;34m\u001b[0m\u001b[0m\n\u001b[1;32m   1105\u001b[0m         \u001b[0;32mif\u001b[0m \u001b[0mself\u001b[0m\u001b[0;34m.\u001b[0m\u001b[0mloss\u001b[0m \u001b[0;32mand\u001b[0m \u001b[0my\u001b[0m \u001b[0;32mis\u001b[0m \u001b[0;32mNone\u001b[0m\u001b[0;34m:\u001b[0m\u001b[0;34m\u001b[0m\u001b[0;34m\u001b[0m\u001b[0m\n\u001b[0;32m-> 1106\u001b[0;31m             raise ValueError(\n\u001b[0m\u001b[1;32m   1107\u001b[0m                 \u001b[0;34m\"Target data is missing. Your model was compiled with \"\u001b[0m\u001b[0;34m\u001b[0m\u001b[0;34m\u001b[0m\u001b[0m\n\u001b[1;32m   1108\u001b[0m                 \u001b[0;34mf\"loss={self.loss}, \"\u001b[0m\u001b[0;34m\u001b[0m\u001b[0;34m\u001b[0m\u001b[0m\n",
            "\u001b[0;31mValueError\u001b[0m: Target data is missing. Your model was compiled with loss={'ctc': <function <lambda> at 0x7c7037b572e0>}, and therefore expects target data to be provided in `fit()`."
          ]
        }
      ]
    },
    {
      "cell_type": "markdown",
      "source": [],
      "metadata": {
        "id": "xmtRKC1UnRzU"
      }
    },
    {
      "cell_type": "code",
      "source": [
        "class CTCLayer(layers.Layer):\n",
        "    def __init__(self, name=None):\n",
        "        super().__init__(name=name)\n",
        "        self.loss_fn = keras.backend.ctc_batch_cost\n",
        "\n",
        "    def call(self, y_true, y_pred, input_length, label_length):\n",
        "        # Compute the training-time loss value and add it\n",
        "        # to the layer using `self.add_loss()`.\n",
        "        loss = self.loss_fn(y_true, y_pred, input_length, label_length)\n",
        "        self.add_loss(loss)\n",
        "\n",
        "        # On test time, just return the computed loss\n",
        "        return loss\n",
        "\n",
        "\n",
        "\n",
        "def build_model():\n",
        "    # Inputs to the model\n",
        "    input_img = layers.Input(shape=(img_width, img_height, 1),\n",
        "                            name='input_data',\n",
        "                            dtype='float32')\n",
        "    labels = layers.Input(name='input_label', shape=[max_length], dtype='float32')\n",
        "    input_length = layers.Input(name='input_length', shape=[1], dtype='int64')\n",
        "    label_length = layers.Input(name='label_length', shape=[1], dtype='int64')\n",
        "\n",
        "    # First conv block\n",
        "    x = layers.Conv2D(32,\n",
        "               (3,3),\n",
        "               activation='relu',\n",
        "               kernel_initializer='he_normal',\n",
        "               padding='same',\n",
        "               name='Conv1')(input_img)\n",
        "    x = layers.MaxPooling2D((2,2), name='pool1')(x)\n",
        "\n",
        "    # Second conv block\n",
        "    x = layers.Conv2D(64,\n",
        "               (3,3),\n",
        "               activation='relu',\n",
        "               kernel_initializer='he_normal',\n",
        "               padding='same',\n",
        "               name='Conv2')(x)\n",
        "    x = layers.MaxPooling2D((2,2), name='pool2')(x)\n",
        "\n",
        "    # We have used two max pool with pool size and strides of 2.\n",
        "    # Hence, downsampled feature maps are 4x smaller. The number of\n",
        "    # filters in the last layer is 64. Reshape accordingly before\n",
        "    # passing it to RNNs\n",
        "    new_shape = ((img_width // 4), (img_height // 4)*64)\n",
        "    x = layers.Reshape(target_shape=new_shape, name='reshape')(x)\n",
        "    x = layers.Dense(64, activation='relu', name='dense1')(x)\n",
        "    x = layers.Dropout(0.2)(x)\n",
        "\n",
        "    # RNNs\n",
        "    x = layers.Bidirectional(layers.LSTM(128,\n",
        "                                         return_sequences=True,\n",
        "                                         dropout=0.2))(x)\n",
        "    x = layers.Bidirectional(layers.LSTM(64,\n",
        "                                         return_sequences=True,\n",
        "                                         dropout=0.25))(x)\n",
        "\n",
        "    # Predictions\n",
        "    x = layers.Dense(len(characters)+1,\n",
        "              activation='softmax',\n",
        "              name='dense2',\n",
        "              kernel_initializer='he_normal')(x)\n",
        "\n",
        "    # Calculate CTC\n",
        "    output = CTCLayer(name='ctc_loss')(labels, x, input_length, label_length)\n",
        "\n",
        "    # Define the model\n",
        "    model = keras.models.Model(inputs=[input_img,\n",
        "                                       labels,\n",
        "                                       input_length,\n",
        "                                       label_length],\n",
        "                                outputs=output,\n",
        "                                name='ocr_model_v1')\n",
        "\n",
        "    # Optimizer\n",
        "    sgd = keras.optimizers.SGD(learning_rate=0.002,\n",
        "                               decay=1e-6,\n",
        "                               momentum=0.9,\n",
        "                               nesterov=True,\n",
        "                               clipnorm=5)\n",
        "\n",
        "    # Compile the model and return\n",
        "    model.compile(optimizer=sgd)\n",
        "    return model"
      ],
      "metadata": {
        "id": "6QZA3wC0RQz8"
      },
      "execution_count": null,
      "outputs": []
    },
    {
      "cell_type": "markdown",
      "source": [],
      "metadata": {
        "id": "JVAJHLTxnRup"
      }
    },
    {
      "cell_type": "markdown",
      "source": [],
      "metadata": {
        "id": "SaaXRTKOnRsW"
      }
    },
    {
      "cell_type": "markdown",
      "source": [],
      "metadata": {
        "id": "45RIENx7nRqB"
      }
    },
    {
      "cell_type": "markdown",
      "source": [],
      "metadata": {
        "id": "kodhTlmMnRnH"
      }
    },
    {
      "cell_type": "markdown",
      "source": [],
      "metadata": {
        "id": "IM6JOLtBnRkQ"
      }
    },
    {
      "cell_type": "markdown",
      "source": [],
      "metadata": {
        "id": "sEaK91X2nRhh"
      }
    },
    {
      "cell_type": "markdown",
      "source": [],
      "metadata": {
        "id": "Zc29JNfbnReu"
      }
    },
    {
      "cell_type": "markdown",
      "source": [],
      "metadata": {
        "id": "uDn0gg3inRcT"
      }
    },
    {
      "cell_type": "markdown",
      "source": [],
      "metadata": {
        "id": "qHc21NABnRZg"
      }
    },
    {
      "cell_type": "markdown",
      "source": [],
      "metadata": {
        "id": "6gRjUeIFnRW7"
      }
    },
    {
      "cell_type": "markdown",
      "source": [],
      "metadata": {
        "id": "ibxkovQ6nRUS"
      }
    },
    {
      "cell_type": "markdown",
      "source": [],
      "metadata": {
        "id": "ZvQxc3a_nRL7"
      }
    },
    {
      "cell_type": "code",
      "source": [
        "class CTCLayer(layers.Layer):\n",
        "    def __init__(self, name=None):\n",
        "        super().__init__(name=name)\n",
        "        self.loss_fn = keras.backend.ctc_batch_cost\n",
        "\n",
        "    def call(self, y_true, y_pred):\n",
        "        # Compute the training-time loss value and add it\n",
        "        # to the layer using `self.add_loss()`.\n",
        "        batch_len = tf.cast(tf.shape(y_true)[0], dtype=\"int32\")\n",
        "        input_length = tf.cast(tf.shape(y_pred)[1], dtype=\"int32\")\n",
        "        label_length = tf.cast(tf.shape(y_true)[1], dtype=\"int32\")\n",
        "\n",
        "        input_length = input_length * tf.ones(shape=(batch_len, 1), dtype=\"int32\")\n",
        "        label_length = label_length * tf.ones(shape=(batch_len, 1), dtype=\"int32\")\n",
        "\n",
        "        loss = self.loss_fn(y_true, y_pred, input_length, label_length)\n",
        "        self.add_loss(loss)\n",
        "\n",
        "        # At test time, just return the computed predictions\n",
        "        return y_pred\n",
        "\n",
        "\n",
        "def build_model():\n",
        "    # Inputs to the model\n",
        "    input_img = layers.Input(\n",
        "        shape=(MAX_WIDTH, MAX_HIGHT, 1), name=\"image\", dtype=\"float32\"\n",
        "    )\n",
        "    labels = layers.Input(name=\"label\", shape=(None,), dtype=\"float32\")\n",
        "\n",
        "    # First conv block\n",
        "    x = layers.Conv2D(\n",
        "        32,\n",
        "        (3, 3),\n",
        "        activation=\"relu\",\n",
        "        kernel_initializer=\"he_normal\",\n",
        "        padding=\"same\",\n",
        "        name=\"Conv1\",\n",
        "    )(input_img)\n",
        "    x = layers.MaxPooling2D((2, 2), name=\"pool1\")(x)\n",
        "\n",
        "    # Second conv block\n",
        "    x = layers.Conv2D(\n",
        "        64,\n",
        "        (3, 3),\n",
        "        activation=\"relu\",\n",
        "        kernel_initializer=\"he_normal\",\n",
        "        padding=\"same\",\n",
        "        name=\"Conv2\",\n",
        "    )(x)\n",
        "    x = layers.MaxPooling2D((2, 2), name=\"pool2\")(x)\n",
        "\n",
        "    # We have used two max pool with pool size and strides 2.\n",
        "    # Hence, downsampled feature maps are 4x smaller. The number of\n",
        "    # filters in the last layer is 64. Reshape accordingly before\n",
        "    # passing the output to the RNN part of the model\n",
        "    new_shape = ((MAX_WIDTH // 4), (MAX_HIGHT // 4) * 64)\n",
        "    x = layers.Reshape(target_shape=new_shape, name=\"reshape\")(x)\n",
        "    x = layers.Dense(64, activation=\"relu\", name=\"dense1\")(x)\n",
        "    x = layers.Dropout(0.2)(x)\n",
        "\n",
        "    # RNNs\n",
        "    x = layers.Bidirectional(layers.LSTM(128, return_sequences=True, dropout=0.25))(x)\n",
        "    x = layers.Bidirectional(layers.LSTM(64, return_sequences=True, dropout=0.25))(x)\n",
        "\n",
        "    # Output layer\n",
        "    x = layers.Dense(len(ALPHABETS) + 1, activation=\"softmax\", name=\"dense2\")(x)\n",
        "\n",
        "    # Add CTC layer for calculating CTC loss at each step\n",
        "    output = CTCLayer(name=\"ctc_loss\")(labels, x)\n",
        "\n",
        "    # Define the model\n",
        "    model = keras.models.Model(\n",
        "        inputs=[input_img, labels], outputs=output, name=\"ocr_model_v1\"\n",
        "    )\n",
        "    # Optimizer\n",
        "    opt = keras.optimizers.Adam()\n",
        "    # Compile the model and return\n",
        "    model.compile(optimizer=opt)\n",
        "    return model\n",
        "\n",
        "\n",
        "# Get the model\n",
        "model = build_model()\n",
        "model.summary()"
      ],
      "metadata": {
        "colab": {
          "base_uri": "https://localhost:8080/"
        },
        "id": "DbShjuahnR8g",
        "outputId": "ce44b3cf-39fe-495e-a8a7-a68df37fe1db"
      },
      "execution_count": null,
      "outputs": [
        {
          "output_type": "stream",
          "name": "stdout",
          "text": [
            "Model: \"ocr_model_v1\"\n",
            "__________________________________________________________________________________________________\n",
            " Layer (type)                Output Shape                 Param #   Connected to                  \n",
            "==================================================================================================\n",
            " image (InputLayer)          [(None, 200, 50, 1)]         0         []                            \n",
            "                                                                                                  \n",
            " Conv1 (Conv2D)              (None, 200, 50, 32)          320       ['image[0][0]']               \n",
            "                                                                                                  \n",
            " pool1 (MaxPooling2D)        (None, 100, 25, 32)          0         ['Conv1[0][0]']               \n",
            "                                                                                                  \n",
            " Conv2 (Conv2D)              (None, 100, 25, 64)          18496     ['pool1[0][0]']               \n",
            "                                                                                                  \n",
            " pool2 (MaxPooling2D)        (None, 50, 12, 64)           0         ['Conv2[0][0]']               \n",
            "                                                                                                  \n",
            " reshape (Reshape)           (None, 50, 768)              0         ['pool2[0][0]']               \n",
            "                                                                                                  \n",
            " dense1 (Dense)              (None, 50, 64)               49216     ['reshape[0][0]']             \n",
            "                                                                                                  \n",
            " dropout (Dropout)           (None, 50, 64)               0         ['dense1[0][0]']              \n",
            "                                                                                                  \n",
            " bidirectional (Bidirection  (None, 50, 256)              197632    ['dropout[0][0]']             \n",
            " al)                                                                                              \n",
            "                                                                                                  \n",
            " bidirectional_1 (Bidirecti  (None, 50, 128)              164352    ['bidirectional[0][0]']       \n",
            " onal)                                                                                            \n",
            "                                                                                                  \n",
            " label (InputLayer)          [(None, None)]               0         []                            \n",
            "                                                                                                  \n",
            " dense2 (Dense)              (None, 50, 72)               9288      ['bidirectional_1[0][0]']     \n",
            "                                                                                                  \n",
            " ctc_loss (CTCLayer)         (None, 50, 72)               0         ['label[0][0]',               \n",
            "                                                                     'dense2[0][0]']              \n",
            "                                                                                                  \n",
            "==================================================================================================\n",
            "Total params: 439304 (1.68 MB)\n",
            "Trainable params: 439304 (1.68 MB)\n",
            "Non-trainable params: 0 (0.00 Byte)\n",
            "__________________________________________________________________________________________________\n"
          ]
        }
      ]
    },
    {
      "cell_type": "code",
      "source": [
        "epochs = 100\n",
        "early_stopping_patience = 10\n",
        "# Add early stopping\n",
        "early_stopping = keras.callbacks.EarlyStopping(\n",
        "    monitor=\"val_loss\", patience=early_stopping_patience, restore_best_weights=True\n",
        ")\n",
        "\n",
        "# Train the model\n",
        "history = model.fit(\n",
        "    train_dataset,\n",
        "    validation_data=train_dataset,\n",
        "    epochs=epochs,\n",
        "    callbacks=[early_stopping],\n",
        ")"
      ],
      "metadata": {
        "colab": {
          "base_uri": "https://localhost:8080/",
          "height": 507
        },
        "id": "Djv8fGaEnuir",
        "outputId": "74be70a5-1759-4474-efba-54564c2a1f6a"
      },
      "execution_count": null,
      "outputs": [
        {
          "output_type": "stream",
          "name": "stdout",
          "text": [
            "Epoch 1/100\n"
          ]
        },
        {
          "output_type": "error",
          "ename": "InvalidArgumentError",
          "evalue": "Exception encountered when calling layer 'ctc_loss' (type CTCLayer).\n\n{{function_node __wrapped__CTCLoss_device_/job:localhost/replica:0/task:0/device:CPU:0}} All labels must be nonnegative integers, batch: 0 labels: 38,41,-1,-1,-1,-1,-1,-1,-1,-1,-1,-1,-1,-1,-1,-1,-1,-1,-1,-1,-1,-1,-1,-1 [Op:CTCLoss] name: \n\nCall arguments received by layer 'ctc_loss' (type CTCLayer):\n  • y_true=tf.Tensor(shape=(500, 24), dtype=float32)\n  • y_pred=tf.Tensor(shape=(500, 50, 72), dtype=float32)",
          "traceback": [
            "\u001b[0;31m---------------------------------------------------------------------------\u001b[0m",
            "\u001b[0;31mInvalidArgumentError\u001b[0m                      Traceback (most recent call last)",
            "\u001b[0;32m<ipython-input-44-cebdfa3cd0bb>\u001b[0m in \u001b[0;36m<cell line: 9>\u001b[0;34m()\u001b[0m\n\u001b[1;32m      7\u001b[0m \u001b[0;34m\u001b[0m\u001b[0m\n\u001b[1;32m      8\u001b[0m \u001b[0;31m# Train the model\u001b[0m\u001b[0;34m\u001b[0m\u001b[0;34m\u001b[0m\u001b[0m\n\u001b[0;32m----> 9\u001b[0;31m history = model.fit(\n\u001b[0m\u001b[1;32m     10\u001b[0m     \u001b[0mtrain_dataset\u001b[0m\u001b[0;34m,\u001b[0m\u001b[0;34m\u001b[0m\u001b[0;34m\u001b[0m\u001b[0m\n\u001b[1;32m     11\u001b[0m     \u001b[0mvalidation_data\u001b[0m\u001b[0;34m=\u001b[0m\u001b[0mtrain_dataset\u001b[0m\u001b[0;34m,\u001b[0m\u001b[0;34m\u001b[0m\u001b[0;34m\u001b[0m\u001b[0m\n",
            "\u001b[0;32m/usr/local/lib/python3.10/dist-packages/keras/src/utils/traceback_utils.py\u001b[0m in \u001b[0;36merror_handler\u001b[0;34m(*args, **kwargs)\u001b[0m\n\u001b[1;32m     68\u001b[0m             \u001b[0;31m# To get the full stack trace, call:\u001b[0m\u001b[0;34m\u001b[0m\u001b[0;34m\u001b[0m\u001b[0m\n\u001b[1;32m     69\u001b[0m             \u001b[0;31m# `tf.debugging.disable_traceback_filtering()`\u001b[0m\u001b[0;34m\u001b[0m\u001b[0;34m\u001b[0m\u001b[0m\n\u001b[0;32m---> 70\u001b[0;31m             \u001b[0;32mraise\u001b[0m \u001b[0me\u001b[0m\u001b[0;34m.\u001b[0m\u001b[0mwith_traceback\u001b[0m\u001b[0;34m(\u001b[0m\u001b[0mfiltered_tb\u001b[0m\u001b[0;34m)\u001b[0m \u001b[0;32mfrom\u001b[0m \u001b[0;32mNone\u001b[0m\u001b[0;34m\u001b[0m\u001b[0;34m\u001b[0m\u001b[0m\n\u001b[0m\u001b[1;32m     71\u001b[0m         \u001b[0;32mfinally\u001b[0m\u001b[0;34m:\u001b[0m\u001b[0;34m\u001b[0m\u001b[0;34m\u001b[0m\u001b[0m\n\u001b[1;32m     72\u001b[0m             \u001b[0;32mdel\u001b[0m \u001b[0mfiltered_tb\u001b[0m\u001b[0;34m\u001b[0m\u001b[0;34m\u001b[0m\u001b[0m\n",
            "\u001b[0;32m<ipython-input-43-99ce61cc1183>\u001b[0m in \u001b[0;36mcall\u001b[0;34m(self, y_true, y_pred)\u001b[0m\n\u001b[1;32m     14\u001b[0m         \u001b[0mlabel_length\u001b[0m \u001b[0;34m=\u001b[0m \u001b[0mlabel_length\u001b[0m \u001b[0;34m*\u001b[0m \u001b[0mtf\u001b[0m\u001b[0;34m.\u001b[0m\u001b[0mones\u001b[0m\u001b[0;34m(\u001b[0m\u001b[0mshape\u001b[0m\u001b[0;34m=\u001b[0m\u001b[0;34m(\u001b[0m\u001b[0mbatch_len\u001b[0m\u001b[0;34m,\u001b[0m \u001b[0;36m1\u001b[0m\u001b[0;34m)\u001b[0m\u001b[0;34m,\u001b[0m \u001b[0mdtype\u001b[0m\u001b[0;34m=\u001b[0m\u001b[0;34m\"int64\"\u001b[0m\u001b[0;34m)\u001b[0m\u001b[0;34m\u001b[0m\u001b[0;34m\u001b[0m\u001b[0m\n\u001b[1;32m     15\u001b[0m \u001b[0;34m\u001b[0m\u001b[0m\n\u001b[0;32m---> 16\u001b[0;31m         \u001b[0mloss\u001b[0m \u001b[0;34m=\u001b[0m \u001b[0mself\u001b[0m\u001b[0;34m.\u001b[0m\u001b[0mloss_fn\u001b[0m\u001b[0;34m(\u001b[0m\u001b[0my_true\u001b[0m\u001b[0;34m,\u001b[0m \u001b[0my_pred\u001b[0m\u001b[0;34m,\u001b[0m \u001b[0minput_length\u001b[0m\u001b[0;34m,\u001b[0m \u001b[0mlabel_length\u001b[0m\u001b[0;34m)\u001b[0m\u001b[0;34m\u001b[0m\u001b[0;34m\u001b[0m\u001b[0m\n\u001b[0m\u001b[1;32m     17\u001b[0m         \u001b[0mself\u001b[0m\u001b[0;34m.\u001b[0m\u001b[0madd_loss\u001b[0m\u001b[0;34m(\u001b[0m\u001b[0mloss\u001b[0m\u001b[0;34m)\u001b[0m\u001b[0;34m\u001b[0m\u001b[0;34m\u001b[0m\u001b[0m\n\u001b[1;32m     18\u001b[0m \u001b[0;34m\u001b[0m\u001b[0m\n",
            "\u001b[0;31mInvalidArgumentError\u001b[0m: Exception encountered when calling layer 'ctc_loss' (type CTCLayer).\n\n{{function_node __wrapped__CTCLoss_device_/job:localhost/replica:0/task:0/device:CPU:0}} All labels must be nonnegative integers, batch: 0 labels: 38,41,-1,-1,-1,-1,-1,-1,-1,-1,-1,-1,-1,-1,-1,-1,-1,-1,-1,-1,-1,-1,-1,-1 [Op:CTCLoss] name: \n\nCall arguments received by layer 'ctc_loss' (type CTCLayer):\n  • y_true=tf.Tensor(shape=(500, 24), dtype=float32)\n  • y_pred=tf.Tensor(shape=(500, 50, 72), dtype=float32)"
          ]
        }
      ]
    },
    {
      "cell_type": "markdown",
      "source": [
        "## Predictions with Trained Neural Network"
      ],
      "metadata": {
        "id": "-V5HN2inqcKS"
      }
    },
    {
      "cell_type": "code",
      "source": [
        "# Get the prediction model by extracting layers till the output layer\n",
        "prediction_model = keras.models.Model(\n",
        "    model.get_layer(name=\"image\").input, model.get_layer(name=\"dense2\").output\n",
        ")\n",
        "prediction_model.summary()\n",
        "\n",
        "# A utility function to decode the output of the network\n",
        "def decode_batch_predictions(pred):\n",
        "    input_len = np.ones(pred.shape[0]) * pred.shape[1]\n",
        "    # Use greedy search. For complex tasks, you can use beam search\n",
        "    results = keras.backend.ctc_decode(pred, input_length=input_len, greedy=True)[0][0][\n",
        "        :, :max_length\n",
        "    ]\n",
        "    # Iterate over the results and get back the text\n",
        "    output_text = []\n",
        "    for res in results:\n",
        "        res = tf.strings.reduce_join(num_to_char(res)).numpy().decode(\"utf-8\")\n",
        "        output_text.append(res)\n",
        "    return output_text\n",
        "\n",
        "\n",
        "#  Let's check results on some validation samples\n",
        "for batch in validation_dataset.take(1):\n",
        "    batch_images = batch[\"image\"]\n",
        "    batch_labels = batch[\"label\"]\n",
        "\n",
        "    preds = prediction_model.predict(batch_images)\n",
        "    pred_texts = decode_batch_predictions(preds)\n",
        "\n",
        "    orig_texts = []\n",
        "    for label in batch_labels:\n",
        "        label = tf.strings.reduce_join(num_to_char(label)).numpy().decode(\"utf-8\")\n",
        "        orig_texts.append(label)\n",
        "\n",
        "    _, ax = plt.subplots(4, 4, figsize=(15, 5))\n",
        "    for i in range(len(pred_texts)):\n",
        "        img = (batch_images[i, :, :, 0] * 255).numpy().astype(np.uint8)\n",
        "        img = img.T\n",
        "        title = f\"Prediction: {pred_texts[i]}\"\n",
        "        ax[i // 4, i % 4].imshow(img, cmap=\"gray\")\n",
        "        ax[i // 4, i % 4].set_title(title)\n",
        "        ax[i // 4, i % 4].axis(\"off\")\n",
        "plt.show()"
      ],
      "metadata": {
        "id": "4PxbN8Suqf3O"
      },
      "execution_count": null,
      "outputs": []
    },
    {
      "cell_type": "code",
      "source": [
        "# Split the dataset into training and testing sets\n",
        "x_train, x_test, y_train, y_test = train_test_split(x_train_rotate_reshaped, y_all_numbers, test_size=0.2, random_state=42)\n",
        "\n",
        "# Print as sanity check\n",
        "print(y_train[3])\n",
        "num_to_label(y_train[3])"
      ],
      "metadata": {
        "colab": {
          "base_uri": "https://localhost:8080/",
          "height": 53
        },
        "id": "33WX0zabkY2Y",
        "outputId": "0ac4b059-9248-42df-af99-65a6b3de1758"
      },
      "execution_count": null,
      "outputs": [
        {
          "output_type": "stream",
          "name": "stdout",
          "text": [
            "[28 25 14 12 18 10 21 29 34 -1 -1 -1 -1 -1 -1 -1 -1 -1 -1 -1 -1 -1 -1 -1]\n"
          ]
        },
        {
          "output_type": "execute_result",
          "data": {
            "text/plain": [
              "'specialty'"
            ],
            "application/vnd.google.colaboratory.intrinsic+json": {
              "type": "string"
            }
          },
          "metadata": {},
          "execution_count": 48
        }
      ]
    },
    {
      "cell_type": "code",
      "source": [
        "input_length = np.ones(len(x_train)) # Dim Array = dim von x_train_rotate_reshaped\n",
        "label_length = np.ones(len(x_train)) # Dim Array = dim von x_train_rotate_reshaped\n",
        "data_set = [x_train, y_train,input_length, label_length]\n",
        "print(len(y_all_numbers))\n",
        "print(x_train_rotate_reshaped[1].shape)"
      ],
      "metadata": {
        "id": "x-0Y_Gt3Nw3X",
        "colab": {
          "base_uri": "https://localhost:8080/",
          "height": 215
        },
        "outputId": "eeb36a07-ea61-4100-aea6-72806cecbb2b"
      },
      "execution_count": null,
      "outputs": [
        {
          "output_type": "error",
          "ename": "NameError",
          "evalue": "name 'x_train' is not defined",
          "traceback": [
            "\u001b[0;31m---------------------------------------------------------------------------\u001b[0m",
            "\u001b[0;31mNameError\u001b[0m                                 Traceback (most recent call last)",
            "\u001b[0;32m<ipython-input-45-d41fefd1e30d>\u001b[0m in \u001b[0;36m<cell line: 1>\u001b[0;34m()\u001b[0m\n\u001b[0;32m----> 1\u001b[0;31m \u001b[0minput_length\u001b[0m \u001b[0;34m=\u001b[0m \u001b[0mnp\u001b[0m\u001b[0;34m.\u001b[0m\u001b[0mones\u001b[0m\u001b[0;34m(\u001b[0m\u001b[0mlen\u001b[0m\u001b[0;34m(\u001b[0m\u001b[0mx_train\u001b[0m\u001b[0;34m)\u001b[0m\u001b[0;34m)\u001b[0m \u001b[0;31m# Dim Array = dim von x_train_rotate_reshaped\u001b[0m\u001b[0;34m\u001b[0m\u001b[0;34m\u001b[0m\u001b[0m\n\u001b[0m\u001b[1;32m      2\u001b[0m \u001b[0mlabel_length\u001b[0m \u001b[0;34m=\u001b[0m \u001b[0mnp\u001b[0m\u001b[0;34m.\u001b[0m\u001b[0mones\u001b[0m\u001b[0;34m(\u001b[0m\u001b[0mlen\u001b[0m\u001b[0;34m(\u001b[0m\u001b[0mx_train\u001b[0m\u001b[0;34m)\u001b[0m\u001b[0;34m)\u001b[0m \u001b[0;31m# Dim Array = dim von x_train_rotate_reshaped\u001b[0m\u001b[0;34m\u001b[0m\u001b[0;34m\u001b[0m\u001b[0m\n\u001b[1;32m      3\u001b[0m \u001b[0mdata_set\u001b[0m \u001b[0;34m=\u001b[0m \u001b[0;34m[\u001b[0m\u001b[0mx_train\u001b[0m\u001b[0;34m,\u001b[0m \u001b[0my_train\u001b[0m\u001b[0;34m,\u001b[0m\u001b[0minput_length\u001b[0m\u001b[0;34m,\u001b[0m \u001b[0mlabel_length\u001b[0m\u001b[0;34m]\u001b[0m\u001b[0;34m\u001b[0m\u001b[0;34m\u001b[0m\u001b[0m\n\u001b[1;32m      4\u001b[0m \u001b[0mprint\u001b[0m\u001b[0;34m(\u001b[0m\u001b[0mlen\u001b[0m\u001b[0;34m(\u001b[0m\u001b[0my_all_numbers\u001b[0m\u001b[0;34m)\u001b[0m\u001b[0;34m)\u001b[0m\u001b[0;34m\u001b[0m\u001b[0;34m\u001b[0m\u001b[0m\n\u001b[1;32m      5\u001b[0m \u001b[0mprint\u001b[0m\u001b[0;34m(\u001b[0m\u001b[0mx_train_rotate_reshaped\u001b[0m\u001b[0;34m[\u001b[0m\u001b[0;36m1\u001b[0m\u001b[0;34m]\u001b[0m\u001b[0;34m.\u001b[0m\u001b[0mshape\u001b[0m\u001b[0;34m)\u001b[0m\u001b[0;34m\u001b[0m\u001b[0;34m\u001b[0m\u001b[0m\n",
            "\u001b[0;31mNameError\u001b[0m: name 'x_train' is not defined"
          ]
        }
      ]
    },
    {
      "cell_type": "markdown",
      "source": [
        "#Building the Model"
      ],
      "metadata": {
        "id": "X9VAQ6pTDtid"
      }
    },
    {
      "cell_type": "code",
      "source": [
        "#Convert Char Labels to num Labels\n",
        "y_all_numbers = np.array([label_to_num(xi) for xi in y_all])\n",
        "\n",
        "#rotate that x = Width and y = hight\n",
        "#x_all_rotate = np.array([rotateImage(xi) for xi in x_all])\n",
        "\n",
        "#and reshape\n",
        "x_train_rotate_reshaped = np.array(x_all_rotate).reshape(-1, MAX_WIDTH, MAX_HIGHT, 1)"
      ],
      "metadata": {
        "id": "PcKHlmAxO19z"
      },
      "execution_count": null,
      "outputs": []
    },
    {
      "cell_type": "code",
      "source": [
        "#Scales the width if the image to max_width. Only if the high after scaling to max_width is higher than max_hight, only the hight will be scaled down to max_hight\n",
        "# Expacts gray scale Images [0...255] as a tensor\n",
        "def resize_to_desired_shape_for_tf(img):\n",
        "    #display(type(img))\n",
        "    #Debug\n",
        "    #tf.print(img[1, 1])\n",
        "\n",
        "    #img = img.numpy()     #convert to np.array. For me mor easy to work with\n",
        "    #img = img[:,:,0]      #Cut of last Dimension\n",
        "    #(h, w) = img.shape\n",
        "\n",
        "    #Scale all Images down that image width is max_width\n",
        "    #scaleFactor = MAX_WIDTH / w\n",
        "    #if scaleFactor < 1:\n",
        "    #  img = cv2.resize(img, None, fx = scaleFactor, fy = scaleFactor)\n",
        "    #  (h, w) = img.shape\n",
        "\n",
        "    img = tf.image.resize_with_pad(img, target_height=MAX_HIGHT, target_width=MAX_WIDTH, antialias=True)\n",
        "    # Unlikely, but just in case, if hight is still greater than max_hight, scale only hight down to max_hight\n",
        "    #if h > MAX_HIGHT:\n",
        "    #   img = cv2.resize(img, None, fx = 1, fy = (MAX_HIGHT/h))\n",
        "\n",
        "    #creates blank white image with size max_hight x max_width\n",
        "    #final_img = np.ones([MAX_HIGHT, MAX_WIDTH])*255 # blank white image\n",
        "\n",
        "    # fills the blank image with resized imput image\n",
        "    #final_img[:h, :w] = img\n",
        "    #final_img = final_img.reshape(MAX_HIGHT,MAX_WIDTH,1)  #Putting back the 3 Dimension (important for tf)\n",
        "    #return tf.convert_to_tensor(final_img)                # Converting back to tensor\n",
        "\n",
        "    return img\n",
        "\n",
        "plt.imshow(bla[\"image\"])\n",
        "plt.show()\n",
        "_img = resize_to_desired_shape_for_tf(bla[\"image\"])\n",
        "#display(type(_img))\n",
        "plt.imshow(_img,cmap=\"gray\")\n",
        "print(_img.shape)\n"
      ],
      "metadata": {
        "id": "hMz-p2l9sEbg",
        "outputId": "22a5f4f9-f18e-4458-e6f7-152e921192cb",
        "colab": {
          "base_uri": "https://localhost:8080/",
          "height": 749
        }
      },
      "execution_count": null,
      "outputs": [
        {
          "output_type": "display_data",
          "data": {
            "text/plain": [
              "<Figure size 640x480 with 1 Axes>"
            ],
            "image/png": "[encoded data removed]"
          },
          "metadata": {}
        },
        {
          "output_type": "stream",
          "name": "stdout",
          "text": [
            "(128, 256, 1)\n"
          ]
        },
        {
          "output_type": "display_data",
          "data": {
            "text/plain": [
              "<Figure size 640x480 with 1 Axes>"
            ],
            "image/png": "[encoded data removed]"
          },
          "metadata": {}
        }
      ]
    }
  ]
}