{
  "nbformat": 4,
  "nbformat_minor": 0,
  "metadata": {
    "colab": {
      "provenance": [],
      "authorship_tag": "ABX9TyMGmLnLD/Nt0wETSVFUHL8y",
      "include_colab_link": true
    },
    "kernelspec": {
      "name": "python3",
      "display_name": "Python 3"
    },
    "language_info": {
      "name": "python"
    }
  },
  "cells": [
    {
      "cell_type": "markdown",
      "metadata": {
        "id": "view-in-github",
        "colab_type": "text"
      },
      "source": [
        "<a href=\"https://colab.research.google.com/github/msommerfe/CAS_Applied_Data_Science/blob/main/CAS_Final_Project/OCR_from_scratch.ipynb\" target=\"_parent\"><img src=\"https://colab.research.google.com/assets/colab-badge.svg\" alt=\"Open In Colab\"/></a>"
      ]
    },
    {
      "cell_type": "code",
      "source": [
        "import numpy as np\n",
        "import matplotlib.pyplot as plt\n",
        "import tensorflow as tf\n",
        "from PIL import Image\n",
        "import cv2\n",
        "import os"
      ],
      "metadata": {
        "id": "T71mC-561pla"
      },
      "execution_count": 2,
      "outputs": []
    },
    {
      "cell_type": "code",
      "source": [
        "try:\n",
        "  from google.colab import drive\n",
        "  import os\n",
        "  drive.mount('/content/drive')\n",
        "  data_dir = 'drive/My Drive/colab/keras-ocr'\n",
        "  os.makedirs(data_dir, exist_ok=True)\n",
        "except ImportError:\n",
        "  data_dir = '.'"
      ],
      "metadata": {
        "colab": {
          "base_uri": "https://localhost:8080/"
        },
        "id": "bpZer8ZGzI-t",
        "outputId": "1724fc9e-3624-45f8-bd82-f514dc7c97ab"
      },
      "execution_count": 3,
      "outputs": [
        {
          "output_type": "stream",
          "name": "stdout",
          "text": [
            "Mounted at /content/drive\n"
          ]
        }
      ]
    },
    {
      "cell_type": "code",
      "execution_count": null,
      "metadata": {
        "id": "j6Z3cClmfOF4"
      },
      "outputs": [],
      "source": [
        "### Converting CHars to nums is better for ML\n",
        "\n",
        "alphabets = u\"ABCDEFGHIJKLMNOPQRSTUVWXYZ-' 0123456789\"\n",
        "max_str_len = 24 # max length of input labels\n",
        "num_of_characters = len(alphabets) + 1 # +1 for ctc pseudo blank\n",
        "num_of_timestamps = 64 # max length of predicted labels\n",
        "batch_size = 128\n",
        "\n",
        "def label_to_num(label):\n",
        "    label_num = []\n",
        "    for ch in label:\n",
        "\n",
        "            label_num.append(alphabets.find(ch) if alphabets.find(ch)!=-1 else alphabets.find('-'))\n",
        "\n",
        "    return np.array(label_num)\n",
        "\n",
        "def num_to_label(num):\n",
        "    ret = \"\"\n",
        "    for ch in num:\n",
        "        if ch == -1:  # CTC Blank\n",
        "            break\n",
        "        else:\n",
        "            ret+=alphabets[ch]\n",
        "    return ret\n",
        "\n"
      ]
    },
    {
      "cell_type": "code",
      "source": [
        "ImgFolder = '/content/drive/MyDrive/development/datasets/OCR_MNIST_Words/dataset/v011_words_small/'\n",
        "imgPath = os.path.join(ImgFolder, \"10.png\")\n",
        "\n",
        "\n",
        "plt.imshow(cv2.imread(imgPath))\n",
        "plt.show()\n",
        "cv2.imread(imgPath,cv2.IMREAD_GRAYSCALE)"
      ],
      "metadata": {
        "colab": {
          "base_uri": "https://localhost:8080/",
          "height": 293
        },
        "id": "XCd3ilUe0711",
        "outputId": "2223ce03-ae17-4325-dd77-e0a37057f5aa"
      },
      "execution_count": 112,
      "outputs": [
        {
          "output_type": "display_data",
          "data": {
            "text/plain": [
              "<Figure size 640x480 with 1 Axes>"
            ],
            "image/png": "[encoded data removed]"
          },
          "metadata": {}
        },
        {
          "output_type": "execute_result",
          "data": {
            "text/plain": [
              "array([[195, 169, 170, ..., 222, 248, 250],\n",
              "       [179, 143, 146, ..., 213, 248, 249],\n",
              "       [166, 123, 127, ..., 199, 241, 241],\n",
              "       ...,\n",
              "       [229, 230, 229, ..., 193, 232, 228],\n",
              "       [227, 228, 228, ..., 209, 242, 235],\n",
              "       [225, 225, 226, ..., 222, 248, 239]], dtype=uint8)"
            ],
            "text/html": [
              "<style>\n",
              "      .ndarray_repr .ndarray_raw_data {\n",
              "        display: none;\n",
              "      }\n",
              "      .ndarray_repr.show_array .ndarray_raw_data {\n",
              "        display: block;\n",
              "      }\n",
              "      .ndarray_repr.show_array .ndarray_image_preview {\n",
              "        display: none;\n",
              "      }\n",
              "      </style>\n",
              "      <div id=\"id-a6d1e83d-3126-478c-88bd-6057a8445422\" class=\"ndarray_repr\"><pre>ndarray (29, 81) <button style=\"padding: 0 2px;\">show data</button></pre><img src=\"data:image/png;base64,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\" class=\"ndarray_image_preview\" /><pre class=\"ndarray_raw_data\">array([[195, 169, 170, ..., 222, 248, 250],\n",
              "       [179, 143, 146, ..., 213, 248, 249],\n",
              "       [166, 123, 127, ..., 199, 241, 241],\n",
              "       ...,\n",
              "       [229, 230, 229, ..., 193, 232, 228],\n",
              "       [227, 228, 228, ..., 209, 242, 235],\n",
              "       [225, 225, 226, ..., 222, 248, 239]], dtype=uint8)</pre></div><script>\n",
              "      (() => {\n",
              "      const titles = ['show data', 'hide data'];\n",
              "      let index = 0\n",
              "      document.querySelector('#id-a6d1e83d-3126-478c-88bd-6057a8445422 button').onclick = (e) => {\n",
              "        document.querySelector('#id-a6d1e83d-3126-478c-88bd-6057a8445422').classList.toggle('show_array');\n",
              "        index = (++index) % 2;\n",
              "        document.querySelector('#id-a6d1e83d-3126-478c-88bd-6057a8445422 button').textContent = titles[index];\n",
              "        e.preventDefault();\n",
              "        e.stopPropagation();\n",
              "      }\n",
              "      })();\n",
              "    </script>"
            ]
          },
          "metadata": {},
          "execution_count": 112
        }
      ]
    },
    {
      "cell_type": "code",
      "source": [
        "#Scales the width if the image to max_width. Only if the high after scaling to max_width is higher than max_hight, only the hight will be scaled down to max_hight\n",
        "# Expacts gray scale Images\n",
        "def preprocess(img):\n",
        "    max_hight = 128\n",
        "    max_width = 256\n",
        "\n",
        "    (h, w) = img.shape\n",
        "\n",
        "\n",
        "    #Scale all Images down that image width is max_width\n",
        "    scaleFactor = max_width / w\n",
        "    if scaleFactor < 1:\n",
        "      img = cv2.resize(img, None, fx = scaleFactor, fy = scaleFactor)\n",
        "      (h, w) = img.shape\n",
        "\n",
        "    #creates blank white image with size max_hight x max_width\n",
        "    final_img = np.ones([max_hight, max_width])*255 # blank white image\n",
        "\n",
        "    # if hight is still greater than max_hight, scale only hight down to max_hight\n",
        "    if h > max_hight:\n",
        "       img = cv2.resize(img, None, fx = 1, fy = (max_hight/h))\n",
        "\n",
        "\n",
        "    # fills the blank image with resized imput image\n",
        "    final_img[:h, :w] = img\n",
        "    return final_img\n",
        "\n",
        "image = cv2.imread(imgPath, cv2.IMREAD_GRAYSCALE)\n",
        "print(image.shape)\n",
        "\n",
        "plt.imshow(preprocess(image),cmap='gray')"
      ],
      "metadata": {
        "colab": {
          "base_uri": "https://localhost:8080/",
          "height": 349
        },
        "id": "PYiPclGvA0Dx",
        "outputId": "70162c58-5c95-4d2b-fe67-8f9d5118eee4"
      },
      "execution_count": 16,
      "outputs": [
        {
          "output_type": "stream",
          "name": "stdout",
          "text": [
            "(23, 69)\n"
          ]
        },
        {
          "output_type": "execute_result",
          "data": {
            "text/plain": [
              "<matplotlib.image.AxesImage at 0x7b1c8ea38ca0>"
            ]
          },
          "metadata": {},
          "execution_count": 16
        },
        {
          "output_type": "display_data",
          "data": {
            "text/plain": [
              "<Figure size 640x480 with 1 Axes>"
            ],
            "image/png": "[encoded data removed]"
          },
          "metadata": {}
        }
      ]
    },
    {
      "cell_type": "code",
      "source": [
        "import json\n",
        "import numpy as np\n",
        "\n",
        "ImgFolder = '/content/drive/MyDrive/development/datasets/OCR_MNIST_Words/dataset/v011_words_small/'\n",
        "\n",
        "with open('/content/drive/MyDrive/development/datasets/OCR_MNIST_Words/v011_labels_small.json') as f:\n",
        "    data = json.load(f)\n",
        "\n",
        "result = data.items()\n",
        "data = list(result)\n",
        "keyVal = np.array(data)\n",
        "y_all = keyVal[:,1]\n",
        "x_all_img_path = keyVal[:,0]\n",
        "print(x_all_img_path)\n",
        "print(y_all.size)\n",
        "\n",
        "i = 0\n",
        "x_all=[]\n",
        "for imgName in x_all_img_path:\n",
        "  imgPath = os.path.join(ImgFolder, imgName)\n",
        "  entry = cv2.imread(imgPath,cv2.IMREAD_GRAYSCALE)\n",
        "\n",
        "  x_all.append(preprocess(entry))\n",
        "  print(x_all[i].shape)\n",
        "\n",
        "  print(type(x_all))\n",
        "  #print(x_all.shape)\n",
        "  #plt.imshow(x_all[i])\n",
        "  #plt.show()\n",
        "  i=i+1\n",
        "\n",
        "  if i == 5:\n",
        "    break\n",
        "#print(x_all)\n",
        "x_all = np.array(x_all)\n"
      ],
      "metadata": {
        "colab": {
          "base_uri": "https://localhost:8080/"
        },
        "id": "QShwmTkbS3kS",
        "outputId": "00da8a8d-8949-41b5-f331-6131edd99bd8"
      },
      "execution_count": 32,
      "outputs": [
        {
          "output_type": "stream",
          "name": "stdout",
          "text": [
            "['0.jpeg' '1.jpeg' '2.jpeg' ... '9997.jpeg' '9998.jpeg' '9999.jpeg']\n",
            "10000\n",
            "(128, 256)\n",
            "<class 'list'>\n",
            "(128, 256)\n",
            "<class 'list'>\n",
            "(128, 256)\n",
            "<class 'list'>\n",
            "(128, 256)\n",
            "<class 'list'>\n",
            "(128, 256)\n",
            "<class 'list'>\n"
          ]
        }
      ]
    }
  ]
}