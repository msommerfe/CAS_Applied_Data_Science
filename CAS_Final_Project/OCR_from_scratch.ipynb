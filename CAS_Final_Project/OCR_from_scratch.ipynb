{
  "nbformat": 4,
  "nbformat_minor": 0,
  "metadata": {
    "colab": {
      "provenance": [],
      "machine_shape": "hm",
      "gpuType": "T4",
      "authorship_tag": "ABX9TyPszfbWmZocZ5yjcTuKn5KA",
      "include_colab_link": true
    },
    "kernelspec": {
      "name": "python3",
      "display_name": "Python 3"
    },
    "language_info": {
      "name": "python"
    },
    "accelerator": "GPU"
  },
  "cells": [
    {
      "cell_type": "markdown",
      "metadata": {
        "id": "view-in-github",
        "colab_type": "text"
      },
      "source": [
        "<a href=\"https://colab.research.google.com/github/msommerfe/CAS_Applied_Data_Science/blob/main/CAS_Final_Project/OCR_from_scratch.ipynb\" target=\"_parent\"><img src=\"https://colab.research.google.com/assets/colab-badge.svg\" alt=\"Open In Colab\"/></a>"
      ]
    },
    {
      "cell_type": "code",
      "source": [
        "import numpy as np\n",
        "import matplotlib.pyplot as plt\n",
        "import tensorflow as tf\n",
        "from PIL import Image\n",
        "import cv2\n",
        "import os\n",
        "from sklearn.model_selection import train_test_split\n",
        "import string\n",
        "ImgFolder = '/content/drive/MyDrive/development/datasets/OCR_MNIST_Words/dataset/v011_words_small/'\n",
        "import tensorflow as tf\n",
        "from keras import backend as K\n",
        "from keras.models import Model\n",
        "from keras.layers import Input, Conv2D, MaxPooling2D, Reshape, Bidirectional, LSTM, Dense, Lambda, Activation, BatchNormalization, Dropout\n",
        "from keras.optimizers import Adam\n",
        "tf.config.run_functions_eagerly(True)\n",
        "MAX_HIGHT = 128\n",
        "MAX_WIDTH = 256\n",
        "\n"
      ],
      "metadata": {
        "id": "T71mC-561pla"
      },
      "execution_count": 2,
      "outputs": []
    },
    {
      "cell_type": "code",
      "source": [
        "try:\n",
        "  from google.colab import drive\n",
        "  import os\n",
        "  drive.mount('/content/drive')\n",
        "  data_dir = 'drive/My Drive/colab/keras-ocr'\n",
        "  os.makedirs(data_dir, exist_ok=True)\n",
        "except ImportError:\n",
        "  data_dir = '.'"
      ],
      "metadata": {
        "colab": {
          "base_uri": "https://localhost:8080/"
        },
        "id": "bpZer8ZGzI-t",
        "outputId": "c465e41d-b772-44a1-b35e-543015f71e71"
      },
      "execution_count": 3,
      "outputs": [
        {
          "output_type": "stream",
          "name": "stdout",
          "text": [
            "Drive already mounted at /content/drive; to attempt to forcibly remount, call drive.mount(\"/content/drive\", force_remount=True).\n",
            "Drive already mounted at /content/drive; to attempt to forcibly remount, call drive.mount(\"/content/drive\", force_remount=True).\n"
          ]
        }
      ]
    },
    {
      "cell_type": "code",
      "execution_count": 4,
      "metadata": {
        "id": "j6Z3cClmfOF4"
      },
      "outputs": [],
      "source": [
        "### Converting Chars to nums is better for ML\n",
        "#Dont use @ in the alphabet. if you need you need to change the fillup char\n",
        "alphabets = u\"ABCDEFGHIJKLMNOPQRSTUVWXYZ-' 0123456789\"\n",
        "alphabets = string.digits + string.ascii_letters + '!?.-() '\n",
        "max_str_len = 24 # max length of input labels\n",
        "num_of_characters = len(alphabets) + 1 # +1 for ctc pseudo blank\n",
        "num_of_timestamps = 128 # max length of predicted labels\n",
        "batch_size = 1\n",
        "\n",
        "def label_to_num(label):\n",
        "    #fills up the label with @\n",
        "    label = label.ljust(max_str_len, '@')\n",
        "    label_num = []\n",
        "    for ch in label:\n",
        "      label_num.append(alphabets.find(ch) if alphabets.find(ch)!=-1 else -1)\n",
        "    return np.array(label_num)\n",
        "\n",
        "def num_to_label(num):\n",
        "    ret = \"\"\n",
        "    for ch in num:\n",
        "        if ch == -1:  # CTC Blank\n",
        "            break\n",
        "        else:\n",
        "            ret+=alphabets[ch]\n",
        "    return ret\n"
      ]
    },
    {
      "cell_type": "code",
      "source": [
        "#Scales the width if the image to max_width. Only if the high after scaling to max_width is higher than max_hight, only the hight will be scaled down to max_hight\n",
        "# Expacts gray scale Images\n",
        "def preprocess(img):\n",
        "\n",
        "    (h, w) = img.shape\n",
        "\n",
        "\n",
        "    #Scale all Images down that image width is max_width\n",
        "    scaleFactor = MAX_WIDTH / w\n",
        "    if scaleFactor < 1:\n",
        "      img = cv2.resize(img, None, fx = scaleFactor, fy = scaleFactor)\n",
        "      (h, w) = img.shape\n",
        "\n",
        "    #creates blank white image with size max_hight x max_width\n",
        "    final_img = np.ones([MAX_HIGHT, MAX_WIDTH])*255 # blank white image\n",
        "\n",
        "    # if hight is still greater than max_hight, scale only hight down to max_hight\n",
        "    if h > MAX_HIGHT:\n",
        "       img = cv2.resize(img, None, fx = 1, fy = (MAX_HIGHT/h))\n",
        "\n",
        "\n",
        "    # fills the blank image with resized imput image\n",
        "    final_img[:h, :w] = img\n",
        "    return final_img\n",
        "\n",
        "imgPath = os.path.join(ImgFolder, \"11.png\")\n",
        "image = cv2.imread(imgPath, cv2.IMREAD_GRAYSCALE)\n",
        "print(image.shape)\n",
        "\n",
        "plt.imshow(preprocess(image),cmap='gray')"
      ],
      "metadata": {
        "colab": {
          "base_uri": "https://localhost:8080/",
          "height": 349
        },
        "id": "PYiPclGvA0Dx",
        "outputId": "868bd008-dcd9-4f2c-85bd-c4a07f207b94"
      },
      "execution_count": 5,
      "outputs": [
        {
          "output_type": "stream",
          "name": "stdout",
          "text": [
            "(26, 70)\n"
          ]
        },
        {
          "output_type": "execute_result",
          "data": {
            "text/plain": [
              "<matplotlib.image.AxesImage at 0x78b4f514ae00>"
            ]
          },
          "metadata": {},
          "execution_count": 5
        },
        {
          "output_type": "display_data",
          "data": {
            "text/plain": [
              "<Figure size 640x480 with 1 Axes>"
            ],
            "image/png": "[encoded data removed]"
          },
          "metadata": {}
        }
      ]
    },
    {
      "cell_type": "code",
      "source": [
        "import json\n",
        "import numpy as np\n",
        "from concurrent.futures import ThreadPoolExecutor\n",
        "\n",
        "#Reading the json {Image_filename, \"test on Image\"}\n",
        "with open('/content/drive/MyDrive/development/datasets/OCR_MNIST_Words/v011_labels_small.json') as f:\n",
        "    data = list(json.load(f).items())\n",
        "\n",
        "#Reduced to just 500, change it to all for real training\n",
        "keyVal = np.array(data[:500])\n",
        "y_all = keyVal[:,1]\n",
        "x_all_img_path = keyVal[:,0]\n",
        "\n",
        "\n",
        "def load_image(imgName):\n",
        "  imgPath = ImgFolder+imgName\n",
        "  entry = cv2.imread(imgPath,cv2.IMREAD_GRAYSCALE)\n",
        "  print(\"loaded:  \" + imgName)\n",
        "  return preprocess(entry)\n",
        "\n",
        "\n",
        "\n",
        "#Reading all Images and put into a np array\n",
        "\n",
        "images = []\n",
        "with ThreadPoolExecutor() as executor:\n",
        "    results = executor.map(lambda path: load_image(path), x_all_img_path)\n",
        "    for result in results:\n",
        "        if result is not None:\n",
        "            images.append(result)\n",
        "\n",
        "x_all = np.array(images)\n",
        "\n",
        "print(x_all.shape)\n",
        "print(type(x_all))"
      ],
      "metadata": {
        "id": "8ym8BEgNguLs",
        "colab": {
          "base_uri": "https://localhost:8080/"
        },
        "outputId": "ee4b59bf-a3a4-434b-b1f2-e3a5807b5d61"
      },
      "execution_count": 20,
      "outputs": [
        {
          "output_type": "stream",
          "name": "stdout",
          "text": [
            "loaded:  1.jpeg\n",
            "loaded:  2.jpeg\n",
            "loaded:  0.jpeg\n",
            "loaded:  8.jpeg\n",
            "loaded:  4.pngloaded:  5.png\n",
            "loaded:  6.jpeg\n",
            "loaded:  3.jpeg\n",
            "loaded:  7.jpeg\n",
            "\n",
            "loaded:  9.png\n",
            "loaded:  11.png\n",
            "loaded:  12.jpeg\n",
            "loaded:  13.png\n",
            "loaded:  15.jpeg\n",
            "loaded:  14.png\n",
            "loaded:  10.png\n",
            "loaded:  16.jpeg\n",
            "loaded:  17.png\n",
            "loaded:  18.jpeg\n",
            "loaded:  19.jpeg\n",
            "loaded:  20.jpeg\n",
            "loaded:  21.jpeg\n",
            "loaded:  22.jpeg\n",
            "loaded:  23.jpeg\n",
            "loaded:  24.jpeg\n",
            "loaded:  25.png\n",
            "loaded:  26.jpeg\n",
            "loaded:  28.png\n",
            "loaded:  29.png\n",
            "loaded:  30.jpeg\n",
            "loaded:  27.png\n",
            "loaded:  31.png\n",
            "loaded:  32.png\n",
            "loaded:  33.jpeg\n",
            "loaded:  34.png\n",
            "loaded:  35.png\n",
            "loaded:  37.png\n",
            "loaded:  38.jpeg\n",
            "loaded:  36.png\n",
            "loaded:  39.jpeg\n",
            "loaded:  40.png\n",
            "loaded:  41.jpeg\n",
            "loaded:  42.png\n",
            "loaded:  43.jpeg\n",
            "loaded:  44.png\n",
            "loaded:  45.jpeg\n",
            "loaded:  46.jpeg\n",
            "loaded:  47.png\n",
            "loaded:  48.jpeg\n",
            "loaded:  49.png\n",
            "loaded:  50.jpeg\n",
            "loaded:  51.jpeg\n",
            "loaded:  52.jpeg\n",
            "loaded:  53.png\n",
            "loaded:  54.jpeg\n",
            "loaded:  55.jpeg\n",
            "loaded:  56.jpeg\n",
            "loaded:  57.jpeg\n",
            "loaded:  58.png\n",
            "loaded:  59.jpeg\n",
            "loaded:  60.jpeg\n",
            "loaded:  61.png\n",
            "loaded:  62.jpeg\n",
            "loaded:  63.jpeg\n",
            "loaded:  64.png\n",
            "loaded:  65.png\n",
            "loaded:  66.png\n",
            "loaded:  67.jpeg\n",
            "loaded:  68.jpeg\n",
            "loaded:  69.jpeg\n",
            "loaded:  70.png\n",
            "loaded:  71.png\n",
            "loaded:  72.jpeg\n",
            "loaded:  73.png\n",
            "loaded:  74.png\n",
            "loaded:  75.jpeg\n",
            "loaded:  76.png\n",
            "loaded:  77.png\n",
            "loaded:  78.png\n",
            "loaded:  79.png\n",
            "loaded:  80.jpeg\n",
            "loaded:  81.png\n",
            "loaded:  82.jpeg\n",
            "loaded:  83.jpeg\n",
            "loaded:  84.jpeg\n",
            "loaded:  85.png\n",
            "loaded:  86.png\n",
            "loaded:  87.png\n",
            "loaded:  89.jpeg\n",
            "loaded:  88.jpeg\n",
            "loaded:  91.png\n",
            "loaded:  90.png\n",
            "loaded:  92.png\n",
            "loaded:  93.png\n",
            "loaded:  94.png\n",
            "loaded:  95.png\n",
            "loaded:  97.jpeg\n",
            "loaded:  96.jpeg\n",
            "loaded:  99.jpeg\n",
            "loaded:  98.png\n",
            "loaded:  100.png\n",
            "loaded:  101.png\n",
            "loaded:  102.png\n",
            "loaded:  103.png\n",
            "loaded:  104.jpeg\n",
            "loaded:  105.jpeg\n",
            "loaded:  107.jpeg\n",
            "loaded:  106.png\n",
            "loaded:  108.png\n",
            "loaded:  109.jpeg\n",
            "loaded:  111.jpeg\n",
            "loaded:  110.jpeg\n",
            "loaded:  112.jpeg\n",
            "loaded:  113.png\n",
            "loaded:  114.jpeg\n",
            "loaded:  116.jpeg\n",
            "loaded:  115.jpeg\n",
            "loaded:  117.jpeg\n",
            "loaded:  118.jpeg\n",
            "loaded:  119.jpeg\n",
            "loaded:  120.png\n",
            "loaded:  121.png\n",
            "loaded:  124.jpegloaded:  122.png\n",
            "\n",
            "loaded:  123.jpeg\n",
            "loaded:  125.png\n",
            "loaded:  126.png\n",
            "loaded:  127.png\n",
            "loaded:  128.jpeg\n",
            "loaded:  129.png\n",
            "loaded:  130.png\n",
            "loaded:  131.jpeg\n",
            "loaded:  132.png\n",
            "loaded:  134.png\n",
            "loaded:  135.jpeg\n",
            "loaded:  136.jpeg\n",
            "loaded:  133.png\n",
            "loaded:  137.png\n",
            "loaded:  138.jpeg\n",
            "loaded:  139.jpeg\n",
            "loaded:  141.jpeg\n",
            "loaded:  142.png\n",
            "loaded:  140.png\n",
            "loaded:  143.jpeg\n",
            "loaded:  144.jpeg\n",
            "loaded:  145.jpeg\n",
            "loaded:  146.jpeg\n",
            "loaded:  147.png\n",
            "loaded:  148.jpeg\n",
            "loaded:  149.png\n",
            "loaded:  150.png\n",
            "loaded:  151.png\n",
            "loaded:  152.jpeg\n",
            "loaded:  153.png\n",
            "loaded:  154.jpeg\n",
            "loaded:  155.png\n",
            "loaded:  156.jpeg\n",
            "loaded:  157.png\n",
            "loaded:  158.png\n",
            "loaded:  159.png\n",
            "loaded:  160.png\n",
            "loaded:  161.png\n",
            "loaded:  162.png\n",
            "loaded:  163.png\n",
            "loaded:  164.jpeg\n",
            "loaded:  165.png\n",
            "loaded:  166.jpeg\n",
            "loaded:  167.jpeg\n",
            "loaded:  169.png\n",
            "loaded:  168.png\n",
            "loaded:  170.png\n",
            "loaded:  171.png\n",
            "loaded:  172.jpeg\n",
            "loaded:  173.png\n",
            "loaded:  174.jpeg\n",
            "loaded:  175.png\n",
            "loaded:  176.jpeg\n",
            "loaded:  177.png\n",
            "loaded:  178.png\n",
            "loaded:  179.jpeg\n",
            "loaded:  180.png\n",
            "loaded:  181.jpeg\n",
            "loaded:  182.png\n",
            "loaded:  183.jpeg\n",
            "loaded:  184.jpeg\n",
            "loaded:  185.png\n",
            "loaded:  186.png\n",
            "loaded:  187.png\n",
            "loaded:  188.png\n",
            "loaded:  189.png\n",
            "loaded:  190.png\n",
            "loaded:  191.png\n",
            "loaded:  192.png\n",
            "loaded:  193.jpeg\n",
            "loaded:  194.png\n",
            "loaded:  195.jpeg\n",
            "loaded:  196.png\n",
            "loaded:  197.png\n",
            "loaded:  198.png\n",
            "loaded:  199.png\n",
            "loaded:  200.jpeg\n",
            "loaded:  201.png\n",
            "loaded:  203.jpeg\n",
            "loaded:  202.png\n",
            "loaded:  204.png\n",
            "loaded:  205.png\n",
            "loaded:  206.jpeg\n",
            "loaded:  207.png\n",
            "loaded:  208.png\n",
            "loaded:  209.png\n",
            "loaded:  210.jpeg\n",
            "loaded:  211.png\n",
            "loaded:  212.png\n",
            "loaded:  213.jpeg\n",
            "loaded:  214.jpeg\n",
            "loaded:  215.png\n",
            "loaded:  216.jpeg\n",
            "loaded:  217.png\n",
            "loaded:  218.jpeg\n",
            "loaded:  219.jpeg\n",
            "loaded:  220.png\n",
            "loaded:  221.jpeg\n",
            "loaded:  222.jpeg\n",
            "loaded:  223.png\n",
            "loaded:  224.jpeg\n",
            "loaded:  225.jpeg\n",
            "loaded:  226.jpeg\n",
            "loaded:  227.jpeg\n",
            "loaded:  228.png\n",
            "loaded:  229.png\n",
            "loaded:  230.jpeg\n",
            "loaded:  231.png\n",
            "loaded:  232.jpeg\n",
            "loaded:  233.jpeg\n",
            "loaded:  234.png\n",
            "loaded:  235.jpeg\n",
            "loaded:  236.png\n",
            "loaded:  237.jpeg\n",
            "loaded:  238.png\n",
            "loaded:  239.jpeg\n",
            "loaded:  240.png\n",
            "loaded:  241.jpeg\n",
            "loaded:  242.jpeg\n",
            "loaded:  243.png\n",
            "loaded:  244.jpeg\n",
            "loaded:  245.jpeg\n",
            "loaded:  246.png\n",
            "loaded:  247.png\n",
            "loaded:  248.jpeg\n",
            "loaded:  249.jpeg\n",
            "loaded:  250.jpeg\n",
            "loaded:  251.jpeg\n",
            "loaded:  252.jpeg\n",
            "loaded:  253.png\n",
            "loaded:  254.png\n",
            "loaded:  255.png\n",
            "loaded:  256.png\n",
            "loaded:  257.jpeg\n",
            "loaded:  258.png\n",
            "loaded:  259.png\n",
            "loaded:  260.png\n",
            "loaded:  261.png\n",
            "loaded:  262.jpeg\n",
            "loaded:  263.jpeg\n",
            "loaded:  264.jpeg\n",
            "loaded:  265.png\n",
            "loaded:  266.jpeg\n",
            "loaded:  267.jpeg\n",
            "loaded:  268.png\n",
            "loaded:  269.png\n",
            "loaded:  270.png\n",
            "loaded:  271.jpeg\n",
            "loaded:  272.png\n",
            "loaded:  273.jpeg\n",
            "loaded:  274.png\n",
            "loaded:  275.jpeg\n",
            "loaded:  276.png\n",
            "loaded:  277.jpeg\n",
            "loaded:  278.jpeg\n",
            "loaded:  279.png\n",
            "loaded:  280.jpeg\n",
            "loaded:  281.png\n",
            "loaded:  283.png\n",
            "loaded:  284.png\n",
            "loaded:  282.png\n",
            "loaded:  285.png\n",
            "loaded:  286.jpeg\n",
            "loaded:  287.png\n",
            "loaded:  288.jpeg\n",
            "loaded:  289.png\n",
            "loaded:  290.png\n",
            "loaded:  291.jpeg\n",
            "loaded:  292.jpeg\n",
            "loaded:  293.jpeg\n",
            "loaded:  295.jpeg\n",
            "loaded:  296.jpeg\n",
            "loaded:  297.png\n",
            "loaded:  294.png\n",
            "loaded:  298.png\n",
            "loaded:  299.jpeg\n",
            "loaded:  300.jpeg\n",
            "loaded:  301.jpeg\n",
            "loaded:  302.png\n",
            "loaded:  303.png\n",
            "loaded:  304.jpeg\n",
            "loaded:  305.jpeg\n",
            "loaded:  306.jpeg\n",
            "loaded:  307.png\n",
            "loaded:  308.jpeg\n",
            "loaded:  309.png\n",
            "loaded:  310.jpeg\n",
            "loaded:  311.png\n",
            "loaded:  312.png\n",
            "loaded:  313.png\n",
            "loaded:  314.png\n",
            "loaded:  315.jpeg\n",
            "loaded:  316.png\n",
            "loaded:  318.png\n",
            "loaded:  317.jpeg\n",
            "loaded:  319.jpeg\n",
            "loaded:  320.jpeg\n",
            "loaded:  322.jpeg\n",
            "loaded:  321.png\n",
            "loaded:  323.png\n",
            "loaded:  324.jpeg\n",
            "loaded:  326.jpeg\n",
            "loaded:  325.png\n",
            "loaded:  327.png\n",
            "loaded:  328.png\n",
            "loaded:  329.png\n",
            "loaded:  330.png\n",
            "loaded:  331.jpeg\n",
            "loaded:  332.png\n",
            "loaded:  333.png\n",
            "loaded:  334.png\n",
            "loaded:  335.png\n",
            "loaded:  336.jpeg\n",
            "loaded:  337.jpeg\n",
            "loaded:  338.jpeg\n",
            "loaded:  339.png\n",
            "loaded:  340.jpeg\n",
            "loaded:  341.jpeg\n",
            "loaded:  342.png\n",
            "loaded:  344.png\n",
            "loaded:  343.png\n",
            "loaded:  345.jpeg\n",
            "loaded:  346.jpeg\n",
            "loaded:  347.jpeg\n",
            "loaded:  348.png\n",
            "loaded:  350.jpeg\n",
            "loaded:  351.jpeg\n",
            "loaded:  349.jpeg\n",
            "loaded:  352.png\n",
            "loaded:  353.jpeg\n",
            "loaded:  354.png\n",
            "loaded:  355.jpeg\n",
            "loaded:  356.jpeg\n",
            "loaded:  357.png\n",
            "loaded:  358.png\n",
            "loaded:  360.png\n",
            "loaded:  359.png\n",
            "loaded:  361.jpeg\n",
            "loaded:  362.jpeg\n",
            "loaded:  363.jpeg\n",
            "loaded:  364.jpeg\n",
            "loaded:  365.jpeg\n",
            "loaded:  368.jpeg\n",
            "loaded:  367.png\n",
            "loaded:  366.png\n",
            "loaded:  369.jpeg\n",
            "loaded:  370.png\n",
            "loaded:  371.jpeg\n",
            "loaded:  374.jpeg\n",
            "loaded:  372.jpeg\n",
            "loaded:  376.png\n",
            "loaded:  375.png\n",
            "loaded:  373.png\n",
            "loaded:  377.jpeg\n",
            "loaded:  379.png\n",
            "loaded:  378.jpeg\n",
            "loaded:  380.jpeg\n",
            "loaded:  382.png\n",
            "loaded:  381.png\n",
            "loaded:  383.png\n",
            "loaded:  387.jpeg\n",
            "loaded:  388.jpeg\n",
            "loaded:  385.png\n",
            "loaded:  386.png\n",
            "loaded:  384.jpeg\n",
            "loaded:  389.png\n",
            "loaded:  391.png\n",
            "loaded:  394.png\n",
            "loaded:  392.jpeg\n",
            "loaded:  393.png\n",
            "loaded:  390.jpeg\n",
            "loaded:  395.jpeg\n",
            "loaded:  396.jpeg\n",
            "loaded:  398.png\n",
            "loaded:  399.jpeg\n",
            "loaded:  397.png\n",
            "loaded:  401.png\n",
            "loaded:  400.png\n",
            "loaded:  402.jpeg\n",
            "loaded:  403.png\n",
            "loaded:  404.jpeg\n",
            "loaded:  405.png\n",
            "loaded:  406.jpeg\n",
            "loaded:  407.png\n",
            "loaded:  408.png\n",
            "loaded:  409.png\n",
            "loaded:  410.png\n",
            "loaded:  413.jpeg\n",
            "loaded:  412.png\n",
            "loaded:  411.png\n",
            "loaded:  414.jpeg\n",
            "loaded:  415.png\n",
            "loaded:  417.png\n",
            "loaded:  418.png\n",
            "loaded:  419.png\n",
            "loaded:  416.png\n",
            "loaded:  420.png\n",
            "loaded:  421.png\n",
            "loaded:  424.jpeg\n",
            "loaded:  423.png\n",
            "loaded:  422.png\n",
            "loaded:  425.png\n",
            "loaded:  426.jpeg\n",
            "loaded:  427.jpeg\n",
            "loaded:  428.jpeg\n",
            "loaded:  430.jpeg\n",
            "loaded:  431.png\n",
            "loaded:  429.png\n",
            "loaded:  432.png\n",
            "loaded:  433.png\n",
            "loaded:  434.jpeg\n",
            "loaded:  435.jpeg\n",
            "loaded:  436.jpeg\n",
            "loaded:  437.jpeg\n",
            "loaded:  438.png\n",
            "loaded:  439.png\n",
            "loaded:  440.png\n",
            "loaded:  441.jpeg\n",
            "loaded:  442.png\n",
            "loaded:  443.jpeg\n",
            "loaded:  444.jpeg\n",
            "loaded:  445.jpeg\n",
            "loaded:  446.png\n",
            "loaded:  447.png\n",
            "loaded:  448.jpeg\n",
            "loaded:  449.png\n",
            "loaded:  450.jpeg\n",
            "loaded:  451.png\n",
            "loaded:  453.png\n",
            "loaded:  454.jpeg\n",
            "loaded:  452.png\n",
            "loaded:  455.png\n",
            "loaded:  456.png\n",
            "loaded:  457.jpeg\n",
            "loaded:  458.jpeg\n",
            "loaded:  459.jpeg\n",
            "loaded:  460.jpeg\n",
            "loaded:  461.jpeg\n",
            "loaded:  462.png\n",
            "loaded:  463.jpeg\n",
            "loaded:  464.jpeg\n",
            "loaded:  465.png\n",
            "loaded:  466.jpeg\n",
            "loaded:  467.jpeg\n",
            "loaded:  468.png\n",
            "loaded:  469.png\n",
            "loaded:  470.jpeg\n",
            "loaded:  472.jpeg\n",
            "loaded:  471.jpeg\n",
            "loaded:  473.png\n",
            "loaded:  474.jpeg\n",
            "loaded:  475.jpeg\n",
            "loaded:  476.jpeg\n",
            "loaded:  477.jpeg\n",
            "loaded:  478.png\n",
            "loaded:  479.png\n",
            "loaded:  480.png\n",
            "loaded:  481.png\n",
            "loaded:  482.jpeg\n",
            "loaded:  483.jpeg\n",
            "loaded:  485.png\n",
            "loaded:  484.jpeg\n",
            "loaded:  486.png\n",
            "loaded:  487.jpeg\n",
            "loaded:  488.jpeg\n",
            "loaded:  489.png\n",
            "loaded:  490.png\n",
            "loaded:  491.png\n",
            "loaded:  492.png\n",
            "loaded:  493.png\n",
            "loaded:  494.png\n",
            "loaded:  495.jpeg\n",
            "loaded:  499.png\n",
            "loaded:  496.jpeg\n",
            "loaded:  498.png\n",
            "loaded:  497.png\n",
            "(500, 128, 256)\n",
            "<class 'numpy.ndarray'>\n"
          ]
        }
      ]
    },
    {
      "cell_type": "code",
      "source": [
        "def rotateImage(Image):\n",
        "  return cv2.rotate(Image, cv2.ROTATE_90_CLOCKWISE)"
      ],
      "metadata": {
        "id": "bfvmZcPJJo-o"
      },
      "execution_count": 21,
      "outputs": []
    },
    {
      "cell_type": "code",
      "source": [
        "#Convert Char Labels to num Labels\n",
        "y_all_numbers = np.array([label_to_num(xi) for xi in y_all])\n",
        "\n",
        "#rotate that x = Width and y = hight\n",
        "x_all_rotate = np.array([rotateImage(xi) for xi in x_all])\n",
        "\n",
        "#and reshape\n",
        "x_train_rotate_reshaped = np.array(x_all_rotate).reshape(-1, MAX_WIDTH, MAX_HIGHT, 1)"
      ],
      "metadata": {
        "id": "u_WWygR_z2WR"
      },
      "execution_count": 45,
      "outputs": []
    },
    {
      "cell_type": "code",
      "source": [
        "# Split the dataset into training and testing sets\n",
        "x_train, x_test, y_train, y_test = train_test_split(x_train_rotate_reshaped, y_all_numbers, test_size=0.2, random_state=42)\n",
        "\n",
        "# Print as sanity check\n",
        "print(y_train[3])\n",
        "num_to_label(y_train[3])"
      ],
      "metadata": {
        "colab": {
          "base_uri": "https://localhost:8080/",
          "height": 53
        },
        "id": "33WX0zabkY2Y",
        "outputId": "0ac4b059-9248-42df-af99-65a6b3de1758"
      },
      "execution_count": 48,
      "outputs": [
        {
          "output_type": "stream",
          "name": "stdout",
          "text": [
            "[28 25 14 12 18 10 21 29 34 -1 -1 -1 -1 -1 -1 -1 -1 -1 -1 -1 -1 -1 -1 -1]\n"
          ]
        },
        {
          "output_type": "execute_result",
          "data": {
            "text/plain": [
              "'specialty'"
            ],
            "application/vnd.google.colaboratory.intrinsic+json": {
              "type": "string"
            }
          },
          "metadata": {},
          "execution_count": 48
        }
      ]
    },
    {
      "cell_type": "code",
      "source": [
        "input_length = np.ones(len(x_train)) # Dim Array = dim von x_train_rotate_reshaped\n",
        "label_length = np.ones(len(x_train)) # Dim Array = dim von x_train_rotate_reshaped\n",
        "data_set = [x_train, y_train,input_length, label_length]\n",
        "print(len(y_all_numbers))\n",
        "print(x_train_rotate_reshaped[1].shape)"
      ],
      "metadata": {
        "id": "x-0Y_Gt3Nw3X"
      },
      "execution_count": null,
      "outputs": []
    },
    {
      "cell_type": "code",
      "source": [
        "x_train[0].shape"
      ],
      "metadata": {
        "colab": {
          "base_uri": "https://localhost:8080/"
        },
        "id": "DnDjocGAbJwp",
        "outputId": "caf2426e-0ace-4e9c-d286-4711d61e212c"
      },
      "execution_count": 49,
      "outputs": [
        {
          "output_type": "execute_result",
          "data": {
            "text/plain": [
              "(256, 128, 1)"
            ]
          },
          "metadata": {},
          "execution_count": 49
        }
      ]
    },
    {
      "cell_type": "code",
      "source": [
        "print(num_to_label(y_all_numbers[455]))\n",
        "plt.imshow(x_all_rotate[455])\n",
        "plt.show()"
      ],
      "metadata": {
        "colab": {
          "base_uri": "https://localhost:8080/",
          "height": 453
        },
        "id": "9OA0VijBiW2Z",
        "outputId": "140686d4-88d5-486b-dfd3-052f35f3b106"
      },
      "execution_count": 25,
      "outputs": [
        {
          "output_type": "stream",
          "name": "stdout",
          "text": [
            "should\n"
          ]
        },
        {
          "output_type": "display_data",
          "data": {
            "text/plain": [
              "<Figure size 640x480 with 1 Axes>"
            ],
            "image/png": "[encoded data removed]"
          },
          "metadata": {}
        }
      ]
    },
    {
      "cell_type": "markdown",
      "source": [
        "#Building the Model"
      ],
      "metadata": {
        "id": "X9VAQ6pTDtid"
      }
    },
    {
      "cell_type": "code",
      "source": [
        "\n",
        "# Evtl. Input umformatieren in einzeilig\n",
        "input_data = Input(shape=(MAX_WIDTH, MAX_HIGHT, 1), name='input')\n",
        "\n",
        "inner = Conv2D(32, (3, 3), padding='same', name='conv1', kernel_initializer='he_normal')(input_data)\n",
        "inner = BatchNormalization()(inner)\n",
        "inner = Activation('relu')(inner)\n",
        "inner = MaxPooling2D(pool_size=(2, 2), name='max1')(inner)\n",
        "\n",
        "inner = Conv2D(64, (3, 3), padding='same', name='conv2', kernel_initializer='he_normal')(inner)\n",
        "inner = BatchNormalization()(inner)\n",
        "inner = Activation('relu')(inner)\n",
        "inner = MaxPooling2D(pool_size=(2, 2), name='max2')(inner)\n",
        "inner = Dropout(0.3)(inner)\n",
        "\n",
        "inner = Conv2D(128, (3, 3), padding='same', name='conv3', kernel_initializer='he_normal')(inner)\n",
        "inner = BatchNormalization()(inner)\n",
        "inner = Activation('relu')(inner)\n",
        "inner = MaxPooling2D(pool_size=(1, 2), name='max3')(inner)\n",
        "inner = Dropout(0.3)(inner)\n",
        "\n",
        "# CNN to RNN\n",
        "inner = Reshape(target_shape=((num_of_timestamps, 1024)), name='reshape')(inner)\n",
        "inner = Dense(num_of_timestamps, activation='relu', kernel_initializer='he_normal', name='dense1')(inner)\n",
        "\n",
        "## RNN\n",
        "inner = Bidirectional(LSTM(256, return_sequences=True), name = 'lstm1')(inner)\n",
        "inner = Bidirectional(LSTM(256, return_sequences=True), name = 'lstm2')(inner)\n",
        "\n",
        "## OUTPUT\n",
        "inner = Dense(num_of_characters, kernel_initializer='he_normal',name='dense2')(inner)\n",
        "y_pred = Activation('softmax', name='softmax')(inner)\n",
        "\n",
        "model = Model(inputs=input_data, outputs=y_pred)\n",
        "model.summary()"
      ],
      "metadata": {
        "colab": {
          "base_uri": "https://localhost:8080/"
        },
        "id": "ThJAqgs-Dt9C",
        "outputId": "28e30b4d-28a2-433a-a7d3-994d6bb5b887"
      },
      "execution_count": 54,
      "outputs": [
        {
          "output_type": "stream",
          "name": "stdout",
          "text": [
            "Model: \"model_2\"\n",
            "_________________________________________________________________\n",
            " Layer (type)                Output Shape              Param #   \n",
            "=================================================================\n",
            " input (InputLayer)          [(None, 256, 128, 1)]     0         \n",
            "                                                                 \n",
            " conv1 (Conv2D)              (None, 256, 128, 32)      320       \n",
            "                                                                 \n",
            " batch_normalization_3 (Bat  (None, 256, 128, 32)      128       \n",
            " chNormalization)                                                \n",
            "                                                                 \n",
            " activation_3 (Activation)   (None, 256, 128, 32)      0         \n",
            "                                                                 \n",
            " max1 (MaxPooling2D)         (None, 128, 64, 32)       0         \n",
            "                                                                 \n",
            " conv2 (Conv2D)              (None, 128, 64, 64)       18496     \n",
            "                                                                 \n",
            " batch_normalization_4 (Bat  (None, 128, 64, 64)       256       \n",
            " chNormalization)                                                \n",
            "                                                                 \n",
            " activation_4 (Activation)   (None, 128, 64, 64)       0         \n",
            "                                                                 \n",
            " max2 (MaxPooling2D)         (None, 64, 32, 64)        0         \n",
            "                                                                 \n",
            " dropout_2 (Dropout)         (None, 64, 32, 64)        0         \n",
            "                                                                 \n",
            " conv3 (Conv2D)              (None, 64, 32, 128)       73856     \n",
            "                                                                 \n",
            " batch_normalization_5 (Bat  (None, 64, 32, 128)       512       \n",
            " chNormalization)                                                \n",
            "                                                                 \n",
            " activation_5 (Activation)   (None, 64, 32, 128)       0         \n",
            "                                                                 \n",
            " max3 (MaxPooling2D)         (None, 64, 16, 128)       0         \n",
            "                                                                 \n",
            " dropout_3 (Dropout)         (None, 64, 16, 128)       0         \n",
            "                                                                 \n",
            " reshape (Reshape)           (None, 128, 1024)         0         \n",
            "                                                                 \n",
            " dense1 (Dense)              (None, 128, 128)          131200    \n",
            "                                                                 \n",
            " lstm1 (Bidirectional)       (None, 128, 512)          788480    \n",
            "                                                                 \n",
            " lstm2 (Bidirectional)       (None, 128, 512)          1574912   \n",
            "                                                                 \n",
            " dense2 (Dense)              (None, 128, 70)           35910     \n",
            "                                                                 \n",
            " softmax (Activation)        (None, 128, 70)           0         \n",
            "                                                                 \n",
            "=================================================================\n",
            "Total params: 2624070 (10.01 MB)\n",
            "Trainable params: 2623622 (10.01 MB)\n",
            "Non-trainable params: 448 (1.75 KB)\n",
            "_________________________________________________________________\n"
          ]
        }
      ]
    },
    {
      "cell_type": "code",
      "source": [
        "# the ctc loss function\n",
        "def ctc_lambda_func(args):\n",
        "    y_pred, labels, input_length, label_length = args\n",
        "    # the 2 is critical here since the first couple outputs of the RNN\n",
        "    # tend to be garbage\n",
        "    y_pred = y_pred[:, 2:, :]\n",
        "    return K.ctc_batch_cost(labels, y_pred, input_length, label_length)\n",
        "\n"
      ],
      "metadata": {
        "id": "BWeKMOyXGPPE"
      },
      "execution_count": 55,
      "outputs": []
    },
    {
      "cell_type": "code",
      "source": [
        "labels = Input(name='gtruth_labels', shape=[max_str_len], dtype='float32')\n",
        "input_length = Input(name='input_length', shape=[1], dtype='int64')\n",
        "label_length = Input(name='label_length', shape=[1], dtype='int64')\n",
        "\n",
        "ctc_loss = Lambda(ctc_lambda_func, output_shape=(1,), name='ctc')([y_pred, labels, input_length, label_length])\n",
        "model_final = Model(inputs=[input_data, labels, input_length, label_length], outputs=ctc_loss)\n",
        "input_length"
      ],
      "metadata": {
        "colab": {
          "base_uri": "https://localhost:8080/"
        },
        "id": "54_3v-CxGeYE",
        "outputId": "27e12048-015b-442f-ff6f-a4871b470c42"
      },
      "execution_count": 56,
      "outputs": [
        {
          "output_type": "execute_result",
          "data": {
            "text/plain": [
              "<KerasTensor: shape=(None, 1) dtype=int64 (created by layer 'input_length')>"
            ]
          },
          "metadata": {},
          "execution_count": 56
        }
      ]
    },
    {
      "cell_type": "code",
      "source": [
        "# the loss calculation occurs elsewhere, so we use a dummy lambda function for the loss\n",
        "model_final.compile(loss={'ctc': lambda y_true, y_pred: y_pred}, optimizer=Adam(learning_rate = 0.0001))"
      ],
      "metadata": {
        "id": "NOBlPKifGiVt"
      },
      "execution_count": 57,
      "outputs": []
    },
    {
      "cell_type": "code",
      "source": [
        "x_train.shape"
      ],
      "metadata": {
        "colab": {
          "base_uri": "https://localhost:8080/"
        },
        "id": "o3hd9pSENTf5",
        "outputId": "4505155f-31e0-428b-e2d9-25fe2c25a4e0"
      },
      "execution_count": 51,
      "outputs": [
        {
          "output_type": "execute_result",
          "data": {
            "text/plain": [
              "(400, 256, 128, 1)"
            ]
          },
          "metadata": {},
          "execution_count": 51
        }
      ]
    },
    {
      "cell_type": "code",
      "source": [
        "save_path = 'save/mnist_{epoch}.ckpt'\n",
        "save_callback = tf.keras.callbacks.ModelCheckpoint(filepath=save_path, save_weights_only=True)\n",
        "\n",
        "hist = model_final.fit(data_set,\n",
        "                 epochs=8, batch_size = 1,\n",
        "                 validation_data=(x_test, y_test),\n",
        "                 callbacks=[save_callback])\n"
      ],
      "metadata": {
        "colab": {
          "base_uri": "https://localhost:8080/",
          "height": 383
        },
        "id": "sGJ4t-5RGqDy",
        "outputId": "77be06f6-2d36-4f18-d938-51524de155b9"
      },
      "execution_count": 58,
      "outputs": [
        {
          "output_type": "stream",
          "name": "stdout",
          "text": [
            "Epoch 1/8\n"
          ]
        },
        {
          "output_type": "error",
          "ename": "ValueError",
          "evalue": "Target data is missing. Your model was compiled with loss={'ctc': <function <lambda> at 0x78b4f0ffe0e0>}, and therefore expects target data to be provided in `fit()`.",
          "traceback": [
            "\u001b[0;31m---------------------------------------------------------------------------\u001b[0m",
            "\u001b[0;31mValueError\u001b[0m                                Traceback (most recent call last)",
            "\u001b[0;32m<ipython-input-58-3f9c069801d7>\u001b[0m in \u001b[0;36m<cell line: 4>\u001b[0;34m()\u001b[0m\n\u001b[1;32m      2\u001b[0m \u001b[0msave_callback\u001b[0m \u001b[0;34m=\u001b[0m \u001b[0mtf\u001b[0m\u001b[0;34m.\u001b[0m\u001b[0mkeras\u001b[0m\u001b[0;34m.\u001b[0m\u001b[0mcallbacks\u001b[0m\u001b[0;34m.\u001b[0m\u001b[0mModelCheckpoint\u001b[0m\u001b[0;34m(\u001b[0m\u001b[0mfilepath\u001b[0m\u001b[0;34m=\u001b[0m\u001b[0msave_path\u001b[0m\u001b[0;34m,\u001b[0m \u001b[0msave_weights_only\u001b[0m\u001b[0;34m=\u001b[0m\u001b[0;32mTrue\u001b[0m\u001b[0;34m)\u001b[0m\u001b[0;34m\u001b[0m\u001b[0;34m\u001b[0m\u001b[0m\n\u001b[1;32m      3\u001b[0m \u001b[0;34m\u001b[0m\u001b[0m\n\u001b[0;32m----> 4\u001b[0;31m hist = model_final.fit(data_set,\n\u001b[0m\u001b[1;32m      5\u001b[0m                  \u001b[0mepochs\u001b[0m\u001b[0;34m=\u001b[0m\u001b[0;36m8\u001b[0m\u001b[0;34m,\u001b[0m \u001b[0mbatch_size\u001b[0m \u001b[0;34m=\u001b[0m \u001b[0;36m1\u001b[0m\u001b[0;34m,\u001b[0m\u001b[0;34m\u001b[0m\u001b[0;34m\u001b[0m\u001b[0m\n\u001b[1;32m      6\u001b[0m                  \u001b[0mvalidation_data\u001b[0m\u001b[0;34m=\u001b[0m\u001b[0;34m(\u001b[0m\u001b[0mx_test\u001b[0m\u001b[0;34m,\u001b[0m \u001b[0my_test\u001b[0m\u001b[0;34m)\u001b[0m\u001b[0;34m,\u001b[0m\u001b[0;34m\u001b[0m\u001b[0;34m\u001b[0m\u001b[0m\n",
            "\u001b[0;32m/usr/local/lib/python3.10/dist-packages/keras/src/utils/traceback_utils.py\u001b[0m in \u001b[0;36merror_handler\u001b[0;34m(*args, **kwargs)\u001b[0m\n\u001b[1;32m     68\u001b[0m             \u001b[0;31m# To get the full stack trace, call:\u001b[0m\u001b[0;34m\u001b[0m\u001b[0;34m\u001b[0m\u001b[0m\n\u001b[1;32m     69\u001b[0m             \u001b[0;31m# `tf.debugging.disable_traceback_filtering()`\u001b[0m\u001b[0;34m\u001b[0m\u001b[0;34m\u001b[0m\u001b[0m\n\u001b[0;32m---> 70\u001b[0;31m             \u001b[0;32mraise\u001b[0m \u001b[0me\u001b[0m\u001b[0;34m.\u001b[0m\u001b[0mwith_traceback\u001b[0m\u001b[0;34m(\u001b[0m\u001b[0mfiltered_tb\u001b[0m\u001b[0;34m)\u001b[0m \u001b[0;32mfrom\u001b[0m \u001b[0;32mNone\u001b[0m\u001b[0;34m\u001b[0m\u001b[0;34m\u001b[0m\u001b[0m\n\u001b[0m\u001b[1;32m     71\u001b[0m         \u001b[0;32mfinally\u001b[0m\u001b[0;34m:\u001b[0m\u001b[0;34m\u001b[0m\u001b[0;34m\u001b[0m\u001b[0m\n\u001b[1;32m     72\u001b[0m             \u001b[0;32mdel\u001b[0m \u001b[0mfiltered_tb\u001b[0m\u001b[0;34m\u001b[0m\u001b[0;34m\u001b[0m\u001b[0m\n",
            "\u001b[0;32m/usr/local/lib/python3.10/dist-packages/keras/src/engine/training.py\u001b[0m in \u001b[0;36m_validate_target_and_loss\u001b[0;34m(self, y, loss)\u001b[0m\n\u001b[1;32m   1104\u001b[0m         \u001b[0;31m# exists and target does not.\u001b[0m\u001b[0;34m\u001b[0m\u001b[0;34m\u001b[0m\u001b[0m\n\u001b[1;32m   1105\u001b[0m         \u001b[0;32mif\u001b[0m \u001b[0mself\u001b[0m\u001b[0;34m.\u001b[0m\u001b[0mloss\u001b[0m \u001b[0;32mand\u001b[0m \u001b[0my\u001b[0m \u001b[0;32mis\u001b[0m \u001b[0;32mNone\u001b[0m\u001b[0;34m:\u001b[0m\u001b[0;34m\u001b[0m\u001b[0;34m\u001b[0m\u001b[0m\n\u001b[0;32m-> 1106\u001b[0;31m             raise ValueError(\n\u001b[0m\u001b[1;32m   1107\u001b[0m                 \u001b[0;34m\"Target data is missing. Your model was compiled with \"\u001b[0m\u001b[0;34m\u001b[0m\u001b[0;34m\u001b[0m\u001b[0m\n\u001b[1;32m   1108\u001b[0m                 \u001b[0;34mf\"loss={self.loss}, \"\u001b[0m\u001b[0;34m\u001b[0m\u001b[0;34m\u001b[0m\u001b[0m\n",
            "\u001b[0;31mValueError\u001b[0m: Target data is missing. Your model was compiled with loss={'ctc': <function <lambda> at 0x78b4f0ffe0e0>}, and therefore expects target data to be provided in `fit()`."
          ]
        }
      ]
    }
  ]
}