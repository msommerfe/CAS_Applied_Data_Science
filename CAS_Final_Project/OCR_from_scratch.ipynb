{
  "nbformat": 4,
  "nbformat_minor": 0,
  "metadata": {
    "colab": {
      "provenance": [],
      "machine_shape": "hm",
      "gpuType": "T4",
      "authorship_tag": "ABX9TyNkWgW8KnZhtWqa/McK59V/",
      "include_colab_link": true
    },
    "kernelspec": {
      "name": "python3",
      "display_name": "Python 3"
    },
    "language_info": {
      "name": "python"
    },
    "accelerator": "GPU"
  },
  "cells": [
    {
      "cell_type": "markdown",
      "metadata": {
        "id": "view-in-github",
        "colab_type": "text"
      },
      "source": [
        "<a href=\"https://colab.research.google.com/github/msommerfe/CAS_Applied_Data_Science/blob/main/CAS_Final_Project/OCR_from_scratch.ipynb\" target=\"_parent\"><img src=\"https://colab.research.google.com/assets/colab-badge.svg\" alt=\"Open In Colab\"/></a>"
      ]
    },
    {
      "cell_type": "code",
      "source": [
        "import numpy as np\n",
        "import json\n",
        "import numpy as np\n",
        "from concurrent.futures import ThreadPoolExecutor\n",
        "import matplotlib.pyplot as plt\n",
        "import tensorflow as tf\n",
        "from PIL import Image\n",
        "import cv2\n",
        "import os\n",
        "from sklearn.model_selection import train_test_split\n",
        "import string\n",
        "\n",
        "import tensorflow as tf\n",
        "from keras import backend as K\n",
        "from keras.models import Model\n",
        "from tensorflow import keras\n",
        "from tensorflow.keras import layers\n",
        "from keras.layers import Input, Conv2D, MaxPooling2D, Reshape, Bidirectional, LSTM, Dense, Lambda, Activation, BatchNormalization, Dropout\n",
        "from keras.optimizers import Adam\n",
        "tf.config.run_functions_eagerly(True)\n",
        "MAX_HIGHT = 128\n",
        "MAX_WIDTH = 256\n",
        "IMG_FOLDER = '/content/drive/MyDrive/development/datasets/OCR_MNIST_Words/dataset/v011_words_small/'\n",
        "LABELS_JSON = '/content/drive/MyDrive/development/datasets/OCR_MNIST_Words/v011_labels_small.json'\n",
        "#Dont use # in the alphabet. if you need you need to change the fillup char\n",
        "\n",
        "ALPHABETS = '#'+ string.digits + string.ascii_letters + '!?.-()+ '\n",
        "MAX_STR_LEN = 24 # max length of input labels\n",
        "num_of_characters = len(ALPHABETS) + 1 # +1 for ctc pseudo blank\n",
        "NUM_OF_TIMESTAMPS = 128 # max length of predicted labels\n",
        "BATCH_SIZE = 500\n"
      ],
      "metadata": {
        "id": "T71mC-561pla"
      },
      "execution_count": 21,
      "outputs": []
    },
    {
      "cell_type": "code",
      "source": [
        "try:\n",
        "  from google.colab import drive\n",
        "  import os\n",
        "  drive.mount('/content/drive')\n",
        "  data_dir = 'drive/My Drive/colab/keras-ocr'\n",
        "  os.makedirs(data_dir, exist_ok=True)\n",
        "except ImportError:\n",
        "  data_dir = '.'"
      ],
      "metadata": {
        "colab": {
          "base_uri": "https://localhost:8080/"
        },
        "id": "bpZer8ZGzI-t",
        "outputId": "0d22f5b4-896f-452e-b47e-f209823153d8"
      },
      "execution_count": 2,
      "outputs": [
        {
          "output_type": "stream",
          "name": "stdout",
          "text": [
            "Mounted at /content/drive\n"
          ]
        }
      ]
    },
    {
      "cell_type": "code",
      "source": [
        "# Add the total path to image name\n",
        "def make_total_path(imgName):\n",
        "  return IMG_FOLDER + imgName"
      ],
      "metadata": {
        "id": "ISQkw1X7NkqM"
      },
      "execution_count": 22,
      "outputs": []
    },
    {
      "cell_type": "code",
      "execution_count": 31,
      "metadata": {
        "id": "j6Z3cClmfOF4",
        "colab": {
          "base_uri": "https://localhost:8080/",
          "height": 35
        },
        "outputId": "c8020f9f-f6f5-4c03-96bc-fa5c92ee01ab"
      },
      "outputs": [
        {
          "output_type": "execute_result",
          "data": {
            "text/plain": [
              "'aA01'"
            ],
            "application/vnd.google.colaboratory.intrinsic+json": {
              "type": "string"
            }
          },
          "metadata": {},
          "execution_count": 31
        }
      ],
      "source": [
        "### Converting Chars to nums is better for ML\n",
        "def label_to_num(label):\n",
        "    #fills up the label with @\n",
        "    label = label.ljust(MAX_STR_LEN, '#')\n",
        "    label_num = []\n",
        "    for ch in label:\n",
        "      label_num.append(ALPHABETS.find(ch) if ALPHABETS.find(ch)!=-1 else 0)\n",
        "    return np.array(label_num)\n",
        "\n",
        "def num_to_label(num):\n",
        "    ret = \"\"\n",
        "    for ch in num:\n",
        "        if ch == 0:  # CTC Blank\n",
        "            break\n",
        "        else:\n",
        "            ret+=ALPHABETS[ch]\n",
        "    return ret\n",
        "label_to_num(\"aA01\")\n",
        "num_to_label(label_to_num(\"aA01\"))"
      ]
    },
    {
      "cell_type": "code",
      "source": [
        "#Reading the json {Image_filename, \"test on Image\"}\n",
        "with open(LABELS_JSON) as f:\n",
        "    data = list(json.load(f).items())\n",
        "\n",
        "#Reduced to just 100, change it to all for real training\n",
        "keyVal = np.array(data[:1000])\n",
        "#keyVal = np.array(data)\n",
        "x_all_img_file_name = keyVal[:,0]\n",
        "y_all = keyVal[:,1]\n",
        "\n",
        "# add the total path to each image name\n",
        "x_all_img_total_path = np.array([make_total_path(imgName) for imgName in x_all_img_file_name])\n",
        "\n",
        "#Convert String to int-Code including padding the int code to max str len\n",
        "y_all = np.array([label_to_num(xi) for xi in y_all])"
      ],
      "metadata": {
        "id": "8ym8BEgNguLs"
      },
      "execution_count": 32,
      "outputs": []
    },
    {
      "cell_type": "code",
      "source": [
        "print(y_all)\n",
        "print(x_all_img_total_path)"
      ],
      "metadata": {
        "id": "jcxT3jqoLxzu",
        "outputId": "aac5e944-0291-4418-95d7-43e3b125e523",
        "colab": {
          "base_uri": "https://localhost:8080/"
        }
      },
      "execution_count": 33,
      "outputs": [
        {
          "output_type": "stream",
          "name": "stdout",
          "text": [
            "[[38 41  0 ...  0  0  0]\n",
            " [30 18 15 ...  0  0  0]\n",
            " [56 51  0 ...  0  0  0]\n",
            " ...\n",
            " [67 19 19 ...  0  0  0]\n",
            " [67 14 68 ...  0  0  0]\n",
            " [25 31 30 ...  0  0  0]]\n",
            "['/content/drive/MyDrive/development/datasets/OCR_MNIST_Words/dataset/v011_words_small/0.jpeg'\n",
            " '/content/drive/MyDrive/development/datasets/OCR_MNIST_Words/dataset/v011_words_small/1.jpeg'\n",
            " '/content/drive/MyDrive/development/datasets/OCR_MNIST_Words/dataset/v011_words_small/2.jpeg'\n",
            " '/content/drive/MyDrive/development/datasets/OCR_MNIST_Words/dataset/v011_words_small/3.jpeg'\n",
            " '/content/drive/MyDrive/development/datasets/OCR_MNIST_Words/dataset/v011_words_small/4.png'\n",
            " '/content/drive/MyDrive/development/datasets/OCR_MNIST_Words/dataset/v011_words_small/5.png'\n",
            " '/content/drive/MyDrive/development/datasets/OCR_MNIST_Words/dataset/v011_words_small/6.jpeg'\n",
            " '/content/drive/MyDrive/development/datasets/OCR_MNIST_Words/dataset/v011_words_small/7.jpeg'\n",
            " '/content/drive/MyDrive/development/datasets/OCR_MNIST_Words/dataset/v011_words_small/8.jpeg'\n",
            " '/content/drive/MyDrive/development/datasets/OCR_MNIST_Words/dataset/v011_words_small/9.png'\n",
            " '/content/drive/MyDrive/development/datasets/OCR_MNIST_Words/dataset/v011_words_small/10.png'\n",
            " '/content/drive/MyDrive/development/datasets/OCR_MNIST_Words/dataset/v011_words_small/11.png'\n",
            " '/content/drive/MyDrive/development/datasets/OCR_MNIST_Words/dataset/v011_words_small/12.jpeg'\n",
            " '/content/drive/MyDrive/development/datasets/OCR_MNIST_Words/dataset/v011_words_small/13.png'\n",
            " '/content/drive/MyDrive/development/datasets/OCR_MNIST_Words/dataset/v011_words_small/14.png'\n",
            " '/content/drive/MyDrive/development/datasets/OCR_MNIST_Words/dataset/v011_words_small/15.jpeg'\n",
            " '/content/drive/MyDrive/development/datasets/OCR_MNIST_Words/dataset/v011_words_small/16.jpeg'\n",
            " '/content/drive/MyDrive/development/datasets/OCR_MNIST_Words/dataset/v011_words_small/17.png'\n",
            " '/content/drive/MyDrive/development/datasets/OCR_MNIST_Words/dataset/v011_words_small/18.jpeg'\n",
            " '/content/drive/MyDrive/development/datasets/OCR_MNIST_Words/dataset/v011_words_small/19.jpeg'\n",
            " '/content/drive/MyDrive/development/datasets/OCR_MNIST_Words/dataset/v011_words_small/20.jpeg'\n",
            " '/content/drive/MyDrive/development/datasets/OCR_MNIST_Words/dataset/v011_words_small/21.jpeg'\n",
            " '/content/drive/MyDrive/development/datasets/OCR_MNIST_Words/dataset/v011_words_small/22.jpeg'\n",
            " '/content/drive/MyDrive/development/datasets/OCR_MNIST_Words/dataset/v011_words_small/23.jpeg'\n",
            " '/content/drive/MyDrive/development/datasets/OCR_MNIST_Words/dataset/v011_words_small/24.jpeg'\n",
            " '/content/drive/MyDrive/development/datasets/OCR_MNIST_Words/dataset/v011_words_small/25.png'\n",
            " '/content/drive/MyDrive/development/datasets/OCR_MNIST_Words/dataset/v011_words_small/26.jpeg'\n",
            " '/content/drive/MyDrive/development/datasets/OCR_MNIST_Words/dataset/v011_words_small/27.png'\n",
            " '/content/drive/MyDrive/development/datasets/OCR_MNIST_Words/dataset/v011_words_small/28.png'\n",
            " '/content/drive/MyDrive/development/datasets/OCR_MNIST_Words/dataset/v011_words_small/29.png'\n",
            " '/content/drive/MyDrive/development/datasets/OCR_MNIST_Words/dataset/v011_words_small/30.jpeg'\n",
            " '/content/drive/MyDrive/development/datasets/OCR_MNIST_Words/dataset/v011_words_small/31.png'\n",
            " '/content/drive/MyDrive/development/datasets/OCR_MNIST_Words/dataset/v011_words_small/32.png'\n",
            " '/content/drive/MyDrive/development/datasets/OCR_MNIST_Words/dataset/v011_words_small/33.jpeg'\n",
            " '/content/drive/MyDrive/development/datasets/OCR_MNIST_Words/dataset/v011_words_small/34.png'\n",
            " '/content/drive/MyDrive/development/datasets/OCR_MNIST_Words/dataset/v011_words_small/35.png'\n",
            " '/content/drive/MyDrive/development/datasets/OCR_MNIST_Words/dataset/v011_words_small/36.png'\n",
            " '/content/drive/MyDrive/development/datasets/OCR_MNIST_Words/dataset/v011_words_small/37.png'\n",
            " '/content/drive/MyDrive/development/datasets/OCR_MNIST_Words/dataset/v011_words_small/38.jpeg'\n",
            " '/content/drive/MyDrive/development/datasets/OCR_MNIST_Words/dataset/v011_words_small/39.jpeg'\n",
            " '/content/drive/MyDrive/development/datasets/OCR_MNIST_Words/dataset/v011_words_small/40.png'\n",
            " '/content/drive/MyDrive/development/datasets/OCR_MNIST_Words/dataset/v011_words_small/41.jpeg'\n",
            " '/content/drive/MyDrive/development/datasets/OCR_MNIST_Words/dataset/v011_words_small/42.png'\n",
            " '/content/drive/MyDrive/development/datasets/OCR_MNIST_Words/dataset/v011_words_small/43.jpeg'\n",
            " '/content/drive/MyDrive/development/datasets/OCR_MNIST_Words/dataset/v011_words_small/44.png'\n",
            " '/content/drive/MyDrive/development/datasets/OCR_MNIST_Words/dataset/v011_words_small/45.jpeg'\n",
            " '/content/drive/MyDrive/development/datasets/OCR_MNIST_Words/dataset/v011_words_small/46.jpeg'\n",
            " '/content/drive/MyDrive/development/datasets/OCR_MNIST_Words/dataset/v011_words_small/47.png'\n",
            " '/content/drive/MyDrive/development/datasets/OCR_MNIST_Words/dataset/v011_words_small/48.jpeg'\n",
            " '/content/drive/MyDrive/development/datasets/OCR_MNIST_Words/dataset/v011_words_small/49.png'\n",
            " '/content/drive/MyDrive/development/datasets/OCR_MNIST_Words/dataset/v011_words_small/50.jpeg'\n",
            " '/content/drive/MyDrive/development/datasets/OCR_MNIST_Words/dataset/v011_words_small/51.jpeg'\n",
            " '/content/drive/MyDrive/development/datasets/OCR_MNIST_Words/dataset/v011_words_small/52.jpeg'\n",
            " '/content/drive/MyDrive/development/datasets/OCR_MNIST_Words/dataset/v011_words_small/53.png'\n",
            " '/content/drive/MyDrive/development/datasets/OCR_MNIST_Words/dataset/v011_words_small/54.jpeg'\n",
            " '/content/drive/MyDrive/development/datasets/OCR_MNIST_Words/dataset/v011_words_small/55.jpeg'\n",
            " '/content/drive/MyDrive/development/datasets/OCR_MNIST_Words/dataset/v011_words_small/56.jpeg'\n",
            " '/content/drive/MyDrive/development/datasets/OCR_MNIST_Words/dataset/v011_words_small/57.jpeg'\n",
            " '/content/drive/MyDrive/development/datasets/OCR_MNIST_Words/dataset/v011_words_small/58.png'\n",
            " '/content/drive/MyDrive/development/datasets/OCR_MNIST_Words/dataset/v011_words_small/59.jpeg'\n",
            " '/content/drive/MyDrive/development/datasets/OCR_MNIST_Words/dataset/v011_words_small/60.jpeg'\n",
            " '/content/drive/MyDrive/development/datasets/OCR_MNIST_Words/dataset/v011_words_small/61.png'\n",
            " '/content/drive/MyDrive/development/datasets/OCR_MNIST_Words/dataset/v011_words_small/62.jpeg'\n",
            " '/content/drive/MyDrive/development/datasets/OCR_MNIST_Words/dataset/v011_words_small/63.jpeg'\n",
            " '/content/drive/MyDrive/development/datasets/OCR_MNIST_Words/dataset/v011_words_small/64.png'\n",
            " '/content/drive/MyDrive/development/datasets/OCR_MNIST_Words/dataset/v011_words_small/65.png'\n",
            " '/content/drive/MyDrive/development/datasets/OCR_MNIST_Words/dataset/v011_words_small/66.png'\n",
            " '/content/drive/MyDrive/development/datasets/OCR_MNIST_Words/dataset/v011_words_small/67.jpeg'\n",
            " '/content/drive/MyDrive/development/datasets/OCR_MNIST_Words/dataset/v011_words_small/68.jpeg'\n",
            " '/content/drive/MyDrive/development/datasets/OCR_MNIST_Words/dataset/v011_words_small/69.jpeg'\n",
            " '/content/drive/MyDrive/development/datasets/OCR_MNIST_Words/dataset/v011_words_small/70.png'\n",
            " '/content/drive/MyDrive/development/datasets/OCR_MNIST_Words/dataset/v011_words_small/71.png'\n",
            " '/content/drive/MyDrive/development/datasets/OCR_MNIST_Words/dataset/v011_words_small/72.jpeg'\n",
            " '/content/drive/MyDrive/development/datasets/OCR_MNIST_Words/dataset/v011_words_small/73.png'\n",
            " '/content/drive/MyDrive/development/datasets/OCR_MNIST_Words/dataset/v011_words_small/74.png'\n",
            " '/content/drive/MyDrive/development/datasets/OCR_MNIST_Words/dataset/v011_words_small/75.jpeg'\n",
            " '/content/drive/MyDrive/development/datasets/OCR_MNIST_Words/dataset/v011_words_small/76.png'\n",
            " '/content/drive/MyDrive/development/datasets/OCR_MNIST_Words/dataset/v011_words_small/77.png'\n",
            " '/content/drive/MyDrive/development/datasets/OCR_MNIST_Words/dataset/v011_words_small/78.png'\n",
            " '/content/drive/MyDrive/development/datasets/OCR_MNIST_Words/dataset/v011_words_small/79.png'\n",
            " '/content/drive/MyDrive/development/datasets/OCR_MNIST_Words/dataset/v011_words_small/80.jpeg'\n",
            " '/content/drive/MyDrive/development/datasets/OCR_MNIST_Words/dataset/v011_words_small/81.png'\n",
            " '/content/drive/MyDrive/development/datasets/OCR_MNIST_Words/dataset/v011_words_small/82.jpeg'\n",
            " '/content/drive/MyDrive/development/datasets/OCR_MNIST_Words/dataset/v011_words_small/83.jpeg'\n",
            " '/content/drive/MyDrive/development/datasets/OCR_MNIST_Words/dataset/v011_words_small/84.jpeg'\n",
            " '/content/drive/MyDrive/development/datasets/OCR_MNIST_Words/dataset/v011_words_small/85.png'\n",
            " '/content/drive/MyDrive/development/datasets/OCR_MNIST_Words/dataset/v011_words_small/86.png'\n",
            " '/content/drive/MyDrive/development/datasets/OCR_MNIST_Words/dataset/v011_words_small/87.png'\n",
            " '/content/drive/MyDrive/development/datasets/OCR_MNIST_Words/dataset/v011_words_small/88.jpeg'\n",
            " '/content/drive/MyDrive/development/datasets/OCR_MNIST_Words/dataset/v011_words_small/89.jpeg'\n",
            " '/content/drive/MyDrive/development/datasets/OCR_MNIST_Words/dataset/v011_words_small/90.png'\n",
            " '/content/drive/MyDrive/development/datasets/OCR_MNIST_Words/dataset/v011_words_small/91.png'\n",
            " '/content/drive/MyDrive/development/datasets/OCR_MNIST_Words/dataset/v011_words_small/92.png'\n",
            " '/content/drive/MyDrive/development/datasets/OCR_MNIST_Words/dataset/v011_words_small/93.png'\n",
            " '/content/drive/MyDrive/development/datasets/OCR_MNIST_Words/dataset/v011_words_small/94.png'\n",
            " '/content/drive/MyDrive/development/datasets/OCR_MNIST_Words/dataset/v011_words_small/95.png'\n",
            " '/content/drive/MyDrive/development/datasets/OCR_MNIST_Words/dataset/v011_words_small/96.jpeg'\n",
            " '/content/drive/MyDrive/development/datasets/OCR_MNIST_Words/dataset/v011_words_small/97.jpeg'\n",
            " '/content/drive/MyDrive/development/datasets/OCR_MNIST_Words/dataset/v011_words_small/98.png'\n",
            " '/content/drive/MyDrive/development/datasets/OCR_MNIST_Words/dataset/v011_words_small/99.jpeg'\n",
            " '/content/drive/MyDrive/development/datasets/OCR_MNIST_Words/dataset/v011_words_small/100.png'\n",
            " '/content/drive/MyDrive/development/datasets/OCR_MNIST_Words/dataset/v011_words_small/101.png'\n",
            " '/content/drive/MyDrive/development/datasets/OCR_MNIST_Words/dataset/v011_words_small/102.png'\n",
            " '/content/drive/MyDrive/development/datasets/OCR_MNIST_Words/dataset/v011_words_small/103.png'\n",
            " '/content/drive/MyDrive/development/datasets/OCR_MNIST_Words/dataset/v011_words_small/104.jpeg'\n",
            " '/content/drive/MyDrive/development/datasets/OCR_MNIST_Words/dataset/v011_words_small/105.jpeg'\n",
            " '/content/drive/MyDrive/development/datasets/OCR_MNIST_Words/dataset/v011_words_small/106.png'\n",
            " '/content/drive/MyDrive/development/datasets/OCR_MNIST_Words/dataset/v011_words_small/107.jpeg'\n",
            " '/content/drive/MyDrive/development/datasets/OCR_MNIST_Words/dataset/v011_words_small/108.png'\n",
            " '/content/drive/MyDrive/development/datasets/OCR_MNIST_Words/dataset/v011_words_small/109.jpeg'\n",
            " '/content/drive/MyDrive/development/datasets/OCR_MNIST_Words/dataset/v011_words_small/110.jpeg'\n",
            " '/content/drive/MyDrive/development/datasets/OCR_MNIST_Words/dataset/v011_words_small/111.jpeg'\n",
            " '/content/drive/MyDrive/development/datasets/OCR_MNIST_Words/dataset/v011_words_small/112.jpeg'\n",
            " '/content/drive/MyDrive/development/datasets/OCR_MNIST_Words/dataset/v011_words_small/113.png'\n",
            " '/content/drive/MyDrive/development/datasets/OCR_MNIST_Words/dataset/v011_words_small/114.jpeg'\n",
            " '/content/drive/MyDrive/development/datasets/OCR_MNIST_Words/dataset/v011_words_small/115.jpeg'\n",
            " '/content/drive/MyDrive/development/datasets/OCR_MNIST_Words/dataset/v011_words_small/116.jpeg'\n",
            " '/content/drive/MyDrive/development/datasets/OCR_MNIST_Words/dataset/v011_words_small/117.jpeg'\n",
            " '/content/drive/MyDrive/development/datasets/OCR_MNIST_Words/dataset/v011_words_small/118.jpeg'\n",
            " '/content/drive/MyDrive/development/datasets/OCR_MNIST_Words/dataset/v011_words_small/119.jpeg'\n",
            " '/content/drive/MyDrive/development/datasets/OCR_MNIST_Words/dataset/v011_words_small/120.png'\n",
            " '/content/drive/MyDrive/development/datasets/OCR_MNIST_Words/dataset/v011_words_small/121.png'\n",
            " '/content/drive/MyDrive/development/datasets/OCR_MNIST_Words/dataset/v011_words_small/122.png'\n",
            " '/content/drive/MyDrive/development/datasets/OCR_MNIST_Words/dataset/v011_words_small/123.jpeg'\n",
            " '/content/drive/MyDrive/development/datasets/OCR_MNIST_Words/dataset/v011_words_small/124.jpeg'\n",
            " '/content/drive/MyDrive/development/datasets/OCR_MNIST_Words/dataset/v011_words_small/125.png'\n",
            " '/content/drive/MyDrive/development/datasets/OCR_MNIST_Words/dataset/v011_words_small/126.png'\n",
            " '/content/drive/MyDrive/development/datasets/OCR_MNIST_Words/dataset/v011_words_small/127.png'\n",
            " '/content/drive/MyDrive/development/datasets/OCR_MNIST_Words/dataset/v011_words_small/128.jpeg'\n",
            " '/content/drive/MyDrive/development/datasets/OCR_MNIST_Words/dataset/v011_words_small/129.png'\n",
            " '/content/drive/MyDrive/development/datasets/OCR_MNIST_Words/dataset/v011_words_small/130.png'\n",
            " '/content/drive/MyDrive/development/datasets/OCR_MNIST_Words/dataset/v011_words_small/131.jpeg'\n",
            " '/content/drive/MyDrive/development/datasets/OCR_MNIST_Words/dataset/v011_words_small/132.png'\n",
            " '/content/drive/MyDrive/development/datasets/OCR_MNIST_Words/dataset/v011_words_small/133.png'\n",
            " '/content/drive/MyDrive/development/datasets/OCR_MNIST_Words/dataset/v011_words_small/134.png'\n",
            " '/content/drive/MyDrive/development/datasets/OCR_MNIST_Words/dataset/v011_words_small/135.jpeg'\n",
            " '/content/drive/MyDrive/development/datasets/OCR_MNIST_Words/dataset/v011_words_small/136.jpeg'\n",
            " '/content/drive/MyDrive/development/datasets/OCR_MNIST_Words/dataset/v011_words_small/137.png'\n",
            " '/content/drive/MyDrive/development/datasets/OCR_MNIST_Words/dataset/v011_words_small/138.jpeg'\n",
            " '/content/drive/MyDrive/development/datasets/OCR_MNIST_Words/dataset/v011_words_small/139.jpeg'\n",
            " '/content/drive/MyDrive/development/datasets/OCR_MNIST_Words/dataset/v011_words_small/140.png'\n",
            " '/content/drive/MyDrive/development/datasets/OCR_MNIST_Words/dataset/v011_words_small/141.jpeg'\n",
            " '/content/drive/MyDrive/development/datasets/OCR_MNIST_Words/dataset/v011_words_small/142.png'\n",
            " '/content/drive/MyDrive/development/datasets/OCR_MNIST_Words/dataset/v011_words_small/143.jpeg'\n",
            " '/content/drive/MyDrive/development/datasets/OCR_MNIST_Words/dataset/v011_words_small/144.jpeg'\n",
            " '/content/drive/MyDrive/development/datasets/OCR_MNIST_Words/dataset/v011_words_small/145.jpeg'\n",
            " '/content/drive/MyDrive/development/datasets/OCR_MNIST_Words/dataset/v011_words_small/146.jpeg'\n",
            " '/content/drive/MyDrive/development/datasets/OCR_MNIST_Words/dataset/v011_words_small/147.png'\n",
            " '/content/drive/MyDrive/development/datasets/OCR_MNIST_Words/dataset/v011_words_small/148.jpeg'\n",
            " '/content/drive/MyDrive/development/datasets/OCR_MNIST_Words/dataset/v011_words_small/149.png'\n",
            " '/content/drive/MyDrive/development/datasets/OCR_MNIST_Words/dataset/v011_words_small/150.png'\n",
            " '/content/drive/MyDrive/development/datasets/OCR_MNIST_Words/dataset/v011_words_small/151.png'\n",
            " '/content/drive/MyDrive/development/datasets/OCR_MNIST_Words/dataset/v011_words_small/152.jpeg'\n",
            " '/content/drive/MyDrive/development/datasets/OCR_MNIST_Words/dataset/v011_words_small/153.png'\n",
            " '/content/drive/MyDrive/development/datasets/OCR_MNIST_Words/dataset/v011_words_small/154.jpeg'\n",
            " '/content/drive/MyDrive/development/datasets/OCR_MNIST_Words/dataset/v011_words_small/155.png'\n",
            " '/content/drive/MyDrive/development/datasets/OCR_MNIST_Words/dataset/v011_words_small/156.jpeg'\n",
            " '/content/drive/MyDrive/development/datasets/OCR_MNIST_Words/dataset/v011_words_small/157.png'\n",
            " '/content/drive/MyDrive/development/datasets/OCR_MNIST_Words/dataset/v011_words_small/158.png'\n",
            " '/content/drive/MyDrive/development/datasets/OCR_MNIST_Words/dataset/v011_words_small/159.png'\n",
            " '/content/drive/MyDrive/development/datasets/OCR_MNIST_Words/dataset/v011_words_small/160.png'\n",
            " '/content/drive/MyDrive/development/datasets/OCR_MNIST_Words/dataset/v011_words_small/161.png'\n",
            " '/content/drive/MyDrive/development/datasets/OCR_MNIST_Words/dataset/v011_words_small/162.png'\n",
            " '/content/drive/MyDrive/development/datasets/OCR_MNIST_Words/dataset/v011_words_small/163.png'\n",
            " '/content/drive/MyDrive/development/datasets/OCR_MNIST_Words/dataset/v011_words_small/164.jpeg'\n",
            " '/content/drive/MyDrive/development/datasets/OCR_MNIST_Words/dataset/v011_words_small/165.png'\n",
            " '/content/drive/MyDrive/development/datasets/OCR_MNIST_Words/dataset/v011_words_small/166.jpeg'\n",
            " '/content/drive/MyDrive/development/datasets/OCR_MNIST_Words/dataset/v011_words_small/167.jpeg'\n",
            " '/content/drive/MyDrive/development/datasets/OCR_MNIST_Words/dataset/v011_words_small/168.png'\n",
            " '/content/drive/MyDrive/development/datasets/OCR_MNIST_Words/dataset/v011_words_small/169.png'\n",
            " '/content/drive/MyDrive/development/datasets/OCR_MNIST_Words/dataset/v011_words_small/170.png'\n",
            " '/content/drive/MyDrive/development/datasets/OCR_MNIST_Words/dataset/v011_words_small/171.png'\n",
            " '/content/drive/MyDrive/development/datasets/OCR_MNIST_Words/dataset/v011_words_small/172.jpeg'\n",
            " '/content/drive/MyDrive/development/datasets/OCR_MNIST_Words/dataset/v011_words_small/173.png'\n",
            " '/content/drive/MyDrive/development/datasets/OCR_MNIST_Words/dataset/v011_words_small/174.jpeg'\n",
            " '/content/drive/MyDrive/development/datasets/OCR_MNIST_Words/dataset/v011_words_small/175.png'\n",
            " '/content/drive/MyDrive/development/datasets/OCR_MNIST_Words/dataset/v011_words_small/176.jpeg'\n",
            " '/content/drive/MyDrive/development/datasets/OCR_MNIST_Words/dataset/v011_words_small/177.png'\n",
            " '/content/drive/MyDrive/development/datasets/OCR_MNIST_Words/dataset/v011_words_small/178.png'\n",
            " '/content/drive/MyDrive/development/datasets/OCR_MNIST_Words/dataset/v011_words_small/179.jpeg'\n",
            " '/content/drive/MyDrive/development/datasets/OCR_MNIST_Words/dataset/v011_words_small/180.png'\n",
            " '/content/drive/MyDrive/development/datasets/OCR_MNIST_Words/dataset/v011_words_small/181.jpeg'\n",
            " '/content/drive/MyDrive/development/datasets/OCR_MNIST_Words/dataset/v011_words_small/182.png'\n",
            " '/content/drive/MyDrive/development/datasets/OCR_MNIST_Words/dataset/v011_words_small/183.jpeg'\n",
            " '/content/drive/MyDrive/development/datasets/OCR_MNIST_Words/dataset/v011_words_small/184.jpeg'\n",
            " '/content/drive/MyDrive/development/datasets/OCR_MNIST_Words/dataset/v011_words_small/185.png'\n",
            " '/content/drive/MyDrive/development/datasets/OCR_MNIST_Words/dataset/v011_words_small/186.png'\n",
            " '/content/drive/MyDrive/development/datasets/OCR_MNIST_Words/dataset/v011_words_small/187.png'\n",
            " '/content/drive/MyDrive/development/datasets/OCR_MNIST_Words/dataset/v011_words_small/188.png'\n",
            " '/content/drive/MyDrive/development/datasets/OCR_MNIST_Words/dataset/v011_words_small/189.png'\n",
            " '/content/drive/MyDrive/development/datasets/OCR_MNIST_Words/dataset/v011_words_small/190.png'\n",
            " '/content/drive/MyDrive/development/datasets/OCR_MNIST_Words/dataset/v011_words_small/191.png'\n",
            " '/content/drive/MyDrive/development/datasets/OCR_MNIST_Words/dataset/v011_words_small/192.png'\n",
            " '/content/drive/MyDrive/development/datasets/OCR_MNIST_Words/dataset/v011_words_small/193.jpeg'\n",
            " '/content/drive/MyDrive/development/datasets/OCR_MNIST_Words/dataset/v011_words_small/194.png'\n",
            " '/content/drive/MyDrive/development/datasets/OCR_MNIST_Words/dataset/v011_words_small/195.jpeg'\n",
            " '/content/drive/MyDrive/development/datasets/OCR_MNIST_Words/dataset/v011_words_small/196.png'\n",
            " '/content/drive/MyDrive/development/datasets/OCR_MNIST_Words/dataset/v011_words_small/197.png'\n",
            " '/content/drive/MyDrive/development/datasets/OCR_MNIST_Words/dataset/v011_words_small/198.png'\n",
            " '/content/drive/MyDrive/development/datasets/OCR_MNIST_Words/dataset/v011_words_small/199.png'\n",
            " '/content/drive/MyDrive/development/datasets/OCR_MNIST_Words/dataset/v011_words_small/200.jpeg'\n",
            " '/content/drive/MyDrive/development/datasets/OCR_MNIST_Words/dataset/v011_words_small/201.png'\n",
            " '/content/drive/MyDrive/development/datasets/OCR_MNIST_Words/dataset/v011_words_small/203.jpeg'\n",
            " '/content/drive/MyDrive/development/datasets/OCR_MNIST_Words/dataset/v011_words_small/204.png'\n",
            " '/content/drive/MyDrive/development/datasets/OCR_MNIST_Words/dataset/v011_words_small/205.png'\n",
            " '/content/drive/MyDrive/development/datasets/OCR_MNIST_Words/dataset/v011_words_small/206.jpeg'\n",
            " '/content/drive/MyDrive/development/datasets/OCR_MNIST_Words/dataset/v011_words_small/207.png'\n",
            " '/content/drive/MyDrive/development/datasets/OCR_MNIST_Words/dataset/v011_words_small/208.png'\n",
            " '/content/drive/MyDrive/development/datasets/OCR_MNIST_Words/dataset/v011_words_small/209.png'\n",
            " '/content/drive/MyDrive/development/datasets/OCR_MNIST_Words/dataset/v011_words_small/210.jpeg'\n",
            " '/content/drive/MyDrive/development/datasets/OCR_MNIST_Words/dataset/v011_words_small/211.png'\n",
            " '/content/drive/MyDrive/development/datasets/OCR_MNIST_Words/dataset/v011_words_small/212.png'\n",
            " '/content/drive/MyDrive/development/datasets/OCR_MNIST_Words/dataset/v011_words_small/213.jpeg'\n",
            " '/content/drive/MyDrive/development/datasets/OCR_MNIST_Words/dataset/v011_words_small/214.jpeg'\n",
            " '/content/drive/MyDrive/development/datasets/OCR_MNIST_Words/dataset/v011_words_small/215.png'\n",
            " '/content/drive/MyDrive/development/datasets/OCR_MNIST_Words/dataset/v011_words_small/216.jpeg'\n",
            " '/content/drive/MyDrive/development/datasets/OCR_MNIST_Words/dataset/v011_words_small/217.png'\n",
            " '/content/drive/MyDrive/development/datasets/OCR_MNIST_Words/dataset/v011_words_small/218.jpeg'\n",
            " '/content/drive/MyDrive/development/datasets/OCR_MNIST_Words/dataset/v011_words_small/219.jpeg'\n",
            " '/content/drive/MyDrive/development/datasets/OCR_MNIST_Words/dataset/v011_words_small/220.png'\n",
            " '/content/drive/MyDrive/development/datasets/OCR_MNIST_Words/dataset/v011_words_small/221.jpeg'\n",
            " '/content/drive/MyDrive/development/datasets/OCR_MNIST_Words/dataset/v011_words_small/222.jpeg'\n",
            " '/content/drive/MyDrive/development/datasets/OCR_MNIST_Words/dataset/v011_words_small/223.png'\n",
            " '/content/drive/MyDrive/development/datasets/OCR_MNIST_Words/dataset/v011_words_small/224.jpeg'\n",
            " '/content/drive/MyDrive/development/datasets/OCR_MNIST_Words/dataset/v011_words_small/225.jpeg'\n",
            " '/content/drive/MyDrive/development/datasets/OCR_MNIST_Words/dataset/v011_words_small/226.jpeg'\n",
            " '/content/drive/MyDrive/development/datasets/OCR_MNIST_Words/dataset/v011_words_small/227.jpeg'\n",
            " '/content/drive/MyDrive/development/datasets/OCR_MNIST_Words/dataset/v011_words_small/228.png'\n",
            " '/content/drive/MyDrive/development/datasets/OCR_MNIST_Words/dataset/v011_words_small/229.png'\n",
            " '/content/drive/MyDrive/development/datasets/OCR_MNIST_Words/dataset/v011_words_small/230.jpeg'\n",
            " '/content/drive/MyDrive/development/datasets/OCR_MNIST_Words/dataset/v011_words_small/231.png'\n",
            " '/content/drive/MyDrive/development/datasets/OCR_MNIST_Words/dataset/v011_words_small/232.jpeg'\n",
            " '/content/drive/MyDrive/development/datasets/OCR_MNIST_Words/dataset/v011_words_small/233.jpeg'\n",
            " '/content/drive/MyDrive/development/datasets/OCR_MNIST_Words/dataset/v011_words_small/234.png'\n",
            " '/content/drive/MyDrive/development/datasets/OCR_MNIST_Words/dataset/v011_words_small/235.jpeg'\n",
            " '/content/drive/MyDrive/development/datasets/OCR_MNIST_Words/dataset/v011_words_small/236.png'\n",
            " '/content/drive/MyDrive/development/datasets/OCR_MNIST_Words/dataset/v011_words_small/237.jpeg'\n",
            " '/content/drive/MyDrive/development/datasets/OCR_MNIST_Words/dataset/v011_words_small/238.png'\n",
            " '/content/drive/MyDrive/development/datasets/OCR_MNIST_Words/dataset/v011_words_small/239.jpeg'\n",
            " '/content/drive/MyDrive/development/datasets/OCR_MNIST_Words/dataset/v011_words_small/240.png'\n",
            " '/content/drive/MyDrive/development/datasets/OCR_MNIST_Words/dataset/v011_words_small/241.jpeg'\n",
            " '/content/drive/MyDrive/development/datasets/OCR_MNIST_Words/dataset/v011_words_small/242.jpeg'\n",
            " '/content/drive/MyDrive/development/datasets/OCR_MNIST_Words/dataset/v011_words_small/243.png'\n",
            " '/content/drive/MyDrive/development/datasets/OCR_MNIST_Words/dataset/v011_words_small/244.jpeg'\n",
            " '/content/drive/MyDrive/development/datasets/OCR_MNIST_Words/dataset/v011_words_small/245.jpeg'\n",
            " '/content/drive/MyDrive/development/datasets/OCR_MNIST_Words/dataset/v011_words_small/246.png'\n",
            " '/content/drive/MyDrive/development/datasets/OCR_MNIST_Words/dataset/v011_words_small/247.png'\n",
            " '/content/drive/MyDrive/development/datasets/OCR_MNIST_Words/dataset/v011_words_small/248.jpeg'\n",
            " '/content/drive/MyDrive/development/datasets/OCR_MNIST_Words/dataset/v011_words_small/249.jpeg'\n",
            " '/content/drive/MyDrive/development/datasets/OCR_MNIST_Words/dataset/v011_words_small/250.jpeg'\n",
            " '/content/drive/MyDrive/development/datasets/OCR_MNIST_Words/dataset/v011_words_small/251.jpeg'\n",
            " '/content/drive/MyDrive/development/datasets/OCR_MNIST_Words/dataset/v011_words_small/252.jpeg'\n",
            " '/content/drive/MyDrive/development/datasets/OCR_MNIST_Words/dataset/v011_words_small/253.png'\n",
            " '/content/drive/MyDrive/development/datasets/OCR_MNIST_Words/dataset/v011_words_small/254.png'\n",
            " '/content/drive/MyDrive/development/datasets/OCR_MNIST_Words/dataset/v011_words_small/255.png'\n",
            " '/content/drive/MyDrive/development/datasets/OCR_MNIST_Words/dataset/v011_words_small/256.png'\n",
            " '/content/drive/MyDrive/development/datasets/OCR_MNIST_Words/dataset/v011_words_small/257.jpeg'\n",
            " '/content/drive/MyDrive/development/datasets/OCR_MNIST_Words/dataset/v011_words_small/258.png'\n",
            " '/content/drive/MyDrive/development/datasets/OCR_MNIST_Words/dataset/v011_words_small/259.png'\n",
            " '/content/drive/MyDrive/development/datasets/OCR_MNIST_Words/dataset/v011_words_small/260.png'\n",
            " '/content/drive/MyDrive/development/datasets/OCR_MNIST_Words/dataset/v011_words_small/261.png'\n",
            " '/content/drive/MyDrive/development/datasets/OCR_MNIST_Words/dataset/v011_words_small/262.jpeg'\n",
            " '/content/drive/MyDrive/development/datasets/OCR_MNIST_Words/dataset/v011_words_small/263.jpeg'\n",
            " '/content/drive/MyDrive/development/datasets/OCR_MNIST_Words/dataset/v011_words_small/264.jpeg'\n",
            " '/content/drive/MyDrive/development/datasets/OCR_MNIST_Words/dataset/v011_words_small/265.png'\n",
            " '/content/drive/MyDrive/development/datasets/OCR_MNIST_Words/dataset/v011_words_small/266.jpeg'\n",
            " '/content/drive/MyDrive/development/datasets/OCR_MNIST_Words/dataset/v011_words_small/267.jpeg'\n",
            " '/content/drive/MyDrive/development/datasets/OCR_MNIST_Words/dataset/v011_words_small/268.png'\n",
            " '/content/drive/MyDrive/development/datasets/OCR_MNIST_Words/dataset/v011_words_small/269.png'\n",
            " '/content/drive/MyDrive/development/datasets/OCR_MNIST_Words/dataset/v011_words_small/270.png'\n",
            " '/content/drive/MyDrive/development/datasets/OCR_MNIST_Words/dataset/v011_words_small/271.jpeg'\n",
            " '/content/drive/MyDrive/development/datasets/OCR_MNIST_Words/dataset/v011_words_small/272.png'\n",
            " '/content/drive/MyDrive/development/datasets/OCR_MNIST_Words/dataset/v011_words_small/273.jpeg'\n",
            " '/content/drive/MyDrive/development/datasets/OCR_MNIST_Words/dataset/v011_words_small/274.png'\n",
            " '/content/drive/MyDrive/development/datasets/OCR_MNIST_Words/dataset/v011_words_small/275.jpeg'\n",
            " '/content/drive/MyDrive/development/datasets/OCR_MNIST_Words/dataset/v011_words_small/276.png'\n",
            " '/content/drive/MyDrive/development/datasets/OCR_MNIST_Words/dataset/v011_words_small/277.jpeg'\n",
            " '/content/drive/MyDrive/development/datasets/OCR_MNIST_Words/dataset/v011_words_small/278.jpeg'\n",
            " '/content/drive/MyDrive/development/datasets/OCR_MNIST_Words/dataset/v011_words_small/279.png'\n",
            " '/content/drive/MyDrive/development/datasets/OCR_MNIST_Words/dataset/v011_words_small/280.jpeg'\n",
            " '/content/drive/MyDrive/development/datasets/OCR_MNIST_Words/dataset/v011_words_small/281.png'\n",
            " '/content/drive/MyDrive/development/datasets/OCR_MNIST_Words/dataset/v011_words_small/282.png'\n",
            " '/content/drive/MyDrive/development/datasets/OCR_MNIST_Words/dataset/v011_words_small/283.png'\n",
            " '/content/drive/MyDrive/development/datasets/OCR_MNIST_Words/dataset/v011_words_small/284.png'\n",
            " '/content/drive/MyDrive/development/datasets/OCR_MNIST_Words/dataset/v011_words_small/285.png'\n",
            " '/content/drive/MyDrive/development/datasets/OCR_MNIST_Words/dataset/v011_words_small/286.jpeg'\n",
            " '/content/drive/MyDrive/development/datasets/OCR_MNIST_Words/dataset/v011_words_small/287.png'\n",
            " '/content/drive/MyDrive/development/datasets/OCR_MNIST_Words/dataset/v011_words_small/288.jpeg'\n",
            " '/content/drive/MyDrive/development/datasets/OCR_MNIST_Words/dataset/v011_words_small/289.png'\n",
            " '/content/drive/MyDrive/development/datasets/OCR_MNIST_Words/dataset/v011_words_small/290.png'\n",
            " '/content/drive/MyDrive/development/datasets/OCR_MNIST_Words/dataset/v011_words_small/291.jpeg'\n",
            " '/content/drive/MyDrive/development/datasets/OCR_MNIST_Words/dataset/v011_words_small/292.jpeg'\n",
            " '/content/drive/MyDrive/development/datasets/OCR_MNIST_Words/dataset/v011_words_small/293.jpeg'\n",
            " '/content/drive/MyDrive/development/datasets/OCR_MNIST_Words/dataset/v011_words_small/294.png'\n",
            " '/content/drive/MyDrive/development/datasets/OCR_MNIST_Words/dataset/v011_words_small/295.jpeg'\n",
            " '/content/drive/MyDrive/development/datasets/OCR_MNIST_Words/dataset/v011_words_small/296.jpeg'\n",
            " '/content/drive/MyDrive/development/datasets/OCR_MNIST_Words/dataset/v011_words_small/297.png'\n",
            " '/content/drive/MyDrive/development/datasets/OCR_MNIST_Words/dataset/v011_words_small/298.png'\n",
            " '/content/drive/MyDrive/development/datasets/OCR_MNIST_Words/dataset/v011_words_small/299.jpeg'\n",
            " '/content/drive/MyDrive/development/datasets/OCR_MNIST_Words/dataset/v011_words_small/300.jpeg'\n",
            " '/content/drive/MyDrive/development/datasets/OCR_MNIST_Words/dataset/v011_words_small/301.jpeg'\n",
            " '/content/drive/MyDrive/development/datasets/OCR_MNIST_Words/dataset/v011_words_small/302.png'\n",
            " '/content/drive/MyDrive/development/datasets/OCR_MNIST_Words/dataset/v011_words_small/303.png'\n",
            " '/content/drive/MyDrive/development/datasets/OCR_MNIST_Words/dataset/v011_words_small/304.jpeg'\n",
            " '/content/drive/MyDrive/development/datasets/OCR_MNIST_Words/dataset/v011_words_small/305.jpeg'\n",
            " '/content/drive/MyDrive/development/datasets/OCR_MNIST_Words/dataset/v011_words_small/306.jpeg'\n",
            " '/content/drive/MyDrive/development/datasets/OCR_MNIST_Words/dataset/v011_words_small/307.png'\n",
            " '/content/drive/MyDrive/development/datasets/OCR_MNIST_Words/dataset/v011_words_small/308.jpeg'\n",
            " '/content/drive/MyDrive/development/datasets/OCR_MNIST_Words/dataset/v011_words_small/309.png'\n",
            " '/content/drive/MyDrive/development/datasets/OCR_MNIST_Words/dataset/v011_words_small/310.jpeg'\n",
            " '/content/drive/MyDrive/development/datasets/OCR_MNIST_Words/dataset/v011_words_small/311.png'\n",
            " '/content/drive/MyDrive/development/datasets/OCR_MNIST_Words/dataset/v011_words_small/312.png'\n",
            " '/content/drive/MyDrive/development/datasets/OCR_MNIST_Words/dataset/v011_words_small/313.png'\n",
            " '/content/drive/MyDrive/development/datasets/OCR_MNIST_Words/dataset/v011_words_small/314.png'\n",
            " '/content/drive/MyDrive/development/datasets/OCR_MNIST_Words/dataset/v011_words_small/315.jpeg'\n",
            " '/content/drive/MyDrive/development/datasets/OCR_MNIST_Words/dataset/v011_words_small/316.png'\n",
            " '/content/drive/MyDrive/development/datasets/OCR_MNIST_Words/dataset/v011_words_small/317.jpeg'\n",
            " '/content/drive/MyDrive/development/datasets/OCR_MNIST_Words/dataset/v011_words_small/318.png'\n",
            " '/content/drive/MyDrive/development/datasets/OCR_MNIST_Words/dataset/v011_words_small/319.jpeg'\n",
            " '/content/drive/MyDrive/development/datasets/OCR_MNIST_Words/dataset/v011_words_small/320.jpeg'\n",
            " '/content/drive/MyDrive/development/datasets/OCR_MNIST_Words/dataset/v011_words_small/321.png'\n",
            " '/content/drive/MyDrive/development/datasets/OCR_MNIST_Words/dataset/v011_words_small/322.jpeg'\n",
            " '/content/drive/MyDrive/development/datasets/OCR_MNIST_Words/dataset/v011_words_small/323.png'\n",
            " '/content/drive/MyDrive/development/datasets/OCR_MNIST_Words/dataset/v011_words_small/324.jpeg'\n",
            " '/content/drive/MyDrive/development/datasets/OCR_MNIST_Words/dataset/v011_words_small/325.png'\n",
            " '/content/drive/MyDrive/development/datasets/OCR_MNIST_Words/dataset/v011_words_small/326.jpeg'\n",
            " '/content/drive/MyDrive/development/datasets/OCR_MNIST_Words/dataset/v011_words_small/327.png'\n",
            " '/content/drive/MyDrive/development/datasets/OCR_MNIST_Words/dataset/v011_words_small/328.png'\n",
            " '/content/drive/MyDrive/development/datasets/OCR_MNIST_Words/dataset/v011_words_small/329.png'\n",
            " '/content/drive/MyDrive/development/datasets/OCR_MNIST_Words/dataset/v011_words_small/330.png'\n",
            " '/content/drive/MyDrive/development/datasets/OCR_MNIST_Words/dataset/v011_words_small/331.jpeg'\n",
            " '/content/drive/MyDrive/development/datasets/OCR_MNIST_Words/dataset/v011_words_small/332.png'\n",
            " '/content/drive/MyDrive/development/datasets/OCR_MNIST_Words/dataset/v011_words_small/333.png'\n",
            " '/content/drive/MyDrive/development/datasets/OCR_MNIST_Words/dataset/v011_words_small/334.png'\n",
            " '/content/drive/MyDrive/development/datasets/OCR_MNIST_Words/dataset/v011_words_small/335.png'\n",
            " '/content/drive/MyDrive/development/datasets/OCR_MNIST_Words/dataset/v011_words_small/336.jpeg'\n",
            " '/content/drive/MyDrive/development/datasets/OCR_MNIST_Words/dataset/v011_words_small/337.jpeg'\n",
            " '/content/drive/MyDrive/development/datasets/OCR_MNIST_Words/dataset/v011_words_small/338.jpeg'\n",
            " '/content/drive/MyDrive/development/datasets/OCR_MNIST_Words/dataset/v011_words_small/339.png'\n",
            " '/content/drive/MyDrive/development/datasets/OCR_MNIST_Words/dataset/v011_words_small/340.jpeg'\n",
            " '/content/drive/MyDrive/development/datasets/OCR_MNIST_Words/dataset/v011_words_small/341.jpeg'\n",
            " '/content/drive/MyDrive/development/datasets/OCR_MNIST_Words/dataset/v011_words_small/342.png'\n",
            " '/content/drive/MyDrive/development/datasets/OCR_MNIST_Words/dataset/v011_words_small/343.png'\n",
            " '/content/drive/MyDrive/development/datasets/OCR_MNIST_Words/dataset/v011_words_small/344.png'\n",
            " '/content/drive/MyDrive/development/datasets/OCR_MNIST_Words/dataset/v011_words_small/345.jpeg'\n",
            " '/content/drive/MyDrive/development/datasets/OCR_MNIST_Words/dataset/v011_words_small/346.jpeg'\n",
            " '/content/drive/MyDrive/development/datasets/OCR_MNIST_Words/dataset/v011_words_small/347.jpeg'\n",
            " '/content/drive/MyDrive/development/datasets/OCR_MNIST_Words/dataset/v011_words_small/348.png'\n",
            " '/content/drive/MyDrive/development/datasets/OCR_MNIST_Words/dataset/v011_words_small/349.jpeg'\n",
            " '/content/drive/MyDrive/development/datasets/OCR_MNIST_Words/dataset/v011_words_small/350.jpeg'\n",
            " '/content/drive/MyDrive/development/datasets/OCR_MNIST_Words/dataset/v011_words_small/351.jpeg'\n",
            " '/content/drive/MyDrive/development/datasets/OCR_MNIST_Words/dataset/v011_words_small/352.png'\n",
            " '/content/drive/MyDrive/development/datasets/OCR_MNIST_Words/dataset/v011_words_small/353.jpeg'\n",
            " '/content/drive/MyDrive/development/datasets/OCR_MNIST_Words/dataset/v011_words_small/354.png'\n",
            " '/content/drive/MyDrive/development/datasets/OCR_MNIST_Words/dataset/v011_words_small/355.jpeg'\n",
            " '/content/drive/MyDrive/development/datasets/OCR_MNIST_Words/dataset/v011_words_small/356.jpeg'\n",
            " '/content/drive/MyDrive/development/datasets/OCR_MNIST_Words/dataset/v011_words_small/357.png'\n",
            " '/content/drive/MyDrive/development/datasets/OCR_MNIST_Words/dataset/v011_words_small/358.png'\n",
            " '/content/drive/MyDrive/development/datasets/OCR_MNIST_Words/dataset/v011_words_small/359.png'\n",
            " '/content/drive/MyDrive/development/datasets/OCR_MNIST_Words/dataset/v011_words_small/360.png'\n",
            " '/content/drive/MyDrive/development/datasets/OCR_MNIST_Words/dataset/v011_words_small/361.jpeg'\n",
            " '/content/drive/MyDrive/development/datasets/OCR_MNIST_Words/dataset/v011_words_small/362.jpeg'\n",
            " '/content/drive/MyDrive/development/datasets/OCR_MNIST_Words/dataset/v011_words_small/363.jpeg'\n",
            " '/content/drive/MyDrive/development/datasets/OCR_MNIST_Words/dataset/v011_words_small/364.jpeg'\n",
            " '/content/drive/MyDrive/development/datasets/OCR_MNIST_Words/dataset/v011_words_small/365.jpeg'\n",
            " '/content/drive/MyDrive/development/datasets/OCR_MNIST_Words/dataset/v011_words_small/366.png'\n",
            " '/content/drive/MyDrive/development/datasets/OCR_MNIST_Words/dataset/v011_words_small/367.png'\n",
            " '/content/drive/MyDrive/development/datasets/OCR_MNIST_Words/dataset/v011_words_small/368.jpeg'\n",
            " '/content/drive/MyDrive/development/datasets/OCR_MNIST_Words/dataset/v011_words_small/369.jpeg'\n",
            " '/content/drive/MyDrive/development/datasets/OCR_MNIST_Words/dataset/v011_words_small/370.png'\n",
            " '/content/drive/MyDrive/development/datasets/OCR_MNIST_Words/dataset/v011_words_small/371.jpeg'\n",
            " '/content/drive/MyDrive/development/datasets/OCR_MNIST_Words/dataset/v011_words_small/372.jpeg'\n",
            " '/content/drive/MyDrive/development/datasets/OCR_MNIST_Words/dataset/v011_words_small/373.png'\n",
            " '/content/drive/MyDrive/development/datasets/OCR_MNIST_Words/dataset/v011_words_small/374.jpeg'\n",
            " '/content/drive/MyDrive/development/datasets/OCR_MNIST_Words/dataset/v011_words_small/375.png'\n",
            " '/content/drive/MyDrive/development/datasets/OCR_MNIST_Words/dataset/v011_words_small/376.png'\n",
            " '/content/drive/MyDrive/development/datasets/OCR_MNIST_Words/dataset/v011_words_small/377.jpeg'\n",
            " '/content/drive/MyDrive/development/datasets/OCR_MNIST_Words/dataset/v011_words_small/378.jpeg'\n",
            " '/content/drive/MyDrive/development/datasets/OCR_MNIST_Words/dataset/v011_words_small/379.png'\n",
            " '/content/drive/MyDrive/development/datasets/OCR_MNIST_Words/dataset/v011_words_small/380.jpeg'\n",
            " '/content/drive/MyDrive/development/datasets/OCR_MNIST_Words/dataset/v011_words_small/381.png'\n",
            " '/content/drive/MyDrive/development/datasets/OCR_MNIST_Words/dataset/v011_words_small/382.png'\n",
            " '/content/drive/MyDrive/development/datasets/OCR_MNIST_Words/dataset/v011_words_small/383.png'\n",
            " '/content/drive/MyDrive/development/datasets/OCR_MNIST_Words/dataset/v011_words_small/384.jpeg'\n",
            " '/content/drive/MyDrive/development/datasets/OCR_MNIST_Words/dataset/v011_words_small/385.png'\n",
            " '/content/drive/MyDrive/development/datasets/OCR_MNIST_Words/dataset/v011_words_small/386.png'\n",
            " '/content/drive/MyDrive/development/datasets/OCR_MNIST_Words/dataset/v011_words_small/387.jpeg'\n",
            " '/content/drive/MyDrive/development/datasets/OCR_MNIST_Words/dataset/v011_words_small/388.jpeg'\n",
            " '/content/drive/MyDrive/development/datasets/OCR_MNIST_Words/dataset/v011_words_small/389.png'\n",
            " '/content/drive/MyDrive/development/datasets/OCR_MNIST_Words/dataset/v011_words_small/390.jpeg'\n",
            " '/content/drive/MyDrive/development/datasets/OCR_MNIST_Words/dataset/v011_words_small/391.png'\n",
            " '/content/drive/MyDrive/development/datasets/OCR_MNIST_Words/dataset/v011_words_small/392.jpeg'\n",
            " '/content/drive/MyDrive/development/datasets/OCR_MNIST_Words/dataset/v011_words_small/393.png'\n",
            " '/content/drive/MyDrive/development/datasets/OCR_MNIST_Words/dataset/v011_words_small/394.png'\n",
            " '/content/drive/MyDrive/development/datasets/OCR_MNIST_Words/dataset/v011_words_small/395.jpeg'\n",
            " '/content/drive/MyDrive/development/datasets/OCR_MNIST_Words/dataset/v011_words_small/396.jpeg'\n",
            " '/content/drive/MyDrive/development/datasets/OCR_MNIST_Words/dataset/v011_words_small/397.png'\n",
            " '/content/drive/MyDrive/development/datasets/OCR_MNIST_Words/dataset/v011_words_small/398.png'\n",
            " '/content/drive/MyDrive/development/datasets/OCR_MNIST_Words/dataset/v011_words_small/399.jpeg'\n",
            " '/content/drive/MyDrive/development/datasets/OCR_MNIST_Words/dataset/v011_words_small/400.png'\n",
            " '/content/drive/MyDrive/development/datasets/OCR_MNIST_Words/dataset/v011_words_small/401.png'\n",
            " '/content/drive/MyDrive/development/datasets/OCR_MNIST_Words/dataset/v011_words_small/402.jpeg'\n",
            " '/content/drive/MyDrive/development/datasets/OCR_MNIST_Words/dataset/v011_words_small/403.png'\n",
            " '/content/drive/MyDrive/development/datasets/OCR_MNIST_Words/dataset/v011_words_small/404.jpeg'\n",
            " '/content/drive/MyDrive/development/datasets/OCR_MNIST_Words/dataset/v011_words_small/405.png'\n",
            " '/content/drive/MyDrive/development/datasets/OCR_MNIST_Words/dataset/v011_words_small/406.jpeg'\n",
            " '/content/drive/MyDrive/development/datasets/OCR_MNIST_Words/dataset/v011_words_small/407.png'\n",
            " '/content/drive/MyDrive/development/datasets/OCR_MNIST_Words/dataset/v011_words_small/408.png'\n",
            " '/content/drive/MyDrive/development/datasets/OCR_MNIST_Words/dataset/v011_words_small/409.png'\n",
            " '/content/drive/MyDrive/development/datasets/OCR_MNIST_Words/dataset/v011_words_small/410.png'\n",
            " '/content/drive/MyDrive/development/datasets/OCR_MNIST_Words/dataset/v011_words_small/411.png'\n",
            " '/content/drive/MyDrive/development/datasets/OCR_MNIST_Words/dataset/v011_words_small/412.png'\n",
            " '/content/drive/MyDrive/development/datasets/OCR_MNIST_Words/dataset/v011_words_small/413.jpeg'\n",
            " '/content/drive/MyDrive/development/datasets/OCR_MNIST_Words/dataset/v011_words_small/414.jpeg'\n",
            " '/content/drive/MyDrive/development/datasets/OCR_MNIST_Words/dataset/v011_words_small/415.png'\n",
            " '/content/drive/MyDrive/development/datasets/OCR_MNIST_Words/dataset/v011_words_small/416.png'\n",
            " '/content/drive/MyDrive/development/datasets/OCR_MNIST_Words/dataset/v011_words_small/417.png'\n",
            " '/content/drive/MyDrive/development/datasets/OCR_MNIST_Words/dataset/v011_words_small/418.png'\n",
            " '/content/drive/MyDrive/development/datasets/OCR_MNIST_Words/dataset/v011_words_small/419.png'\n",
            " '/content/drive/MyDrive/development/datasets/OCR_MNIST_Words/dataset/v011_words_small/420.png'\n",
            " '/content/drive/MyDrive/development/datasets/OCR_MNIST_Words/dataset/v011_words_small/421.png'\n",
            " '/content/drive/MyDrive/development/datasets/OCR_MNIST_Words/dataset/v011_words_small/422.png'\n",
            " '/content/drive/MyDrive/development/datasets/OCR_MNIST_Words/dataset/v011_words_small/423.png'\n",
            " '/content/drive/MyDrive/development/datasets/OCR_MNIST_Words/dataset/v011_words_small/424.jpeg'\n",
            " '/content/drive/MyDrive/development/datasets/OCR_MNIST_Words/dataset/v011_words_small/425.png'\n",
            " '/content/drive/MyDrive/development/datasets/OCR_MNIST_Words/dataset/v011_words_small/426.jpeg'\n",
            " '/content/drive/MyDrive/development/datasets/OCR_MNIST_Words/dataset/v011_words_small/427.jpeg'\n",
            " '/content/drive/MyDrive/development/datasets/OCR_MNIST_Words/dataset/v011_words_small/428.jpeg'\n",
            " '/content/drive/MyDrive/development/datasets/OCR_MNIST_Words/dataset/v011_words_small/429.png'\n",
            " '/content/drive/MyDrive/development/datasets/OCR_MNIST_Words/dataset/v011_words_small/430.jpeg'\n",
            " '/content/drive/MyDrive/development/datasets/OCR_MNIST_Words/dataset/v011_words_small/431.png'\n",
            " '/content/drive/MyDrive/development/datasets/OCR_MNIST_Words/dataset/v011_words_small/432.png'\n",
            " '/content/drive/MyDrive/development/datasets/OCR_MNIST_Words/dataset/v011_words_small/433.png'\n",
            " '/content/drive/MyDrive/development/datasets/OCR_MNIST_Words/dataset/v011_words_small/434.jpeg'\n",
            " '/content/drive/MyDrive/development/datasets/OCR_MNIST_Words/dataset/v011_words_small/435.jpeg'\n",
            " '/content/drive/MyDrive/development/datasets/OCR_MNIST_Words/dataset/v011_words_small/436.jpeg'\n",
            " '/content/drive/MyDrive/development/datasets/OCR_MNIST_Words/dataset/v011_words_small/437.jpeg'\n",
            " '/content/drive/MyDrive/development/datasets/OCR_MNIST_Words/dataset/v011_words_small/438.png'\n",
            " '/content/drive/MyDrive/development/datasets/OCR_MNIST_Words/dataset/v011_words_small/439.png'\n",
            " '/content/drive/MyDrive/development/datasets/OCR_MNIST_Words/dataset/v011_words_small/440.png'\n",
            " '/content/drive/MyDrive/development/datasets/OCR_MNIST_Words/dataset/v011_words_small/441.jpeg'\n",
            " '/content/drive/MyDrive/development/datasets/OCR_MNIST_Words/dataset/v011_words_small/442.png'\n",
            " '/content/drive/MyDrive/development/datasets/OCR_MNIST_Words/dataset/v011_words_small/443.jpeg'\n",
            " '/content/drive/MyDrive/development/datasets/OCR_MNIST_Words/dataset/v011_words_small/444.jpeg'\n",
            " '/content/drive/MyDrive/development/datasets/OCR_MNIST_Words/dataset/v011_words_small/445.jpeg'\n",
            " '/content/drive/MyDrive/development/datasets/OCR_MNIST_Words/dataset/v011_words_small/446.png'\n",
            " '/content/drive/MyDrive/development/datasets/OCR_MNIST_Words/dataset/v011_words_small/447.png'\n",
            " '/content/drive/MyDrive/development/datasets/OCR_MNIST_Words/dataset/v011_words_small/448.jpeg'\n",
            " '/content/drive/MyDrive/development/datasets/OCR_MNIST_Words/dataset/v011_words_small/449.png'\n",
            " '/content/drive/MyDrive/development/datasets/OCR_MNIST_Words/dataset/v011_words_small/450.jpeg'\n",
            " '/content/drive/MyDrive/development/datasets/OCR_MNIST_Words/dataset/v011_words_small/451.png'\n",
            " '/content/drive/MyDrive/development/datasets/OCR_MNIST_Words/dataset/v011_words_small/452.png'\n",
            " '/content/drive/MyDrive/development/datasets/OCR_MNIST_Words/dataset/v011_words_small/453.png'\n",
            " '/content/drive/MyDrive/development/datasets/OCR_MNIST_Words/dataset/v011_words_small/454.jpeg'\n",
            " '/content/drive/MyDrive/development/datasets/OCR_MNIST_Words/dataset/v011_words_small/455.png'\n",
            " '/content/drive/MyDrive/development/datasets/OCR_MNIST_Words/dataset/v011_words_small/456.png'\n",
            " '/content/drive/MyDrive/development/datasets/OCR_MNIST_Words/dataset/v011_words_small/457.jpeg'\n",
            " '/content/drive/MyDrive/development/datasets/OCR_MNIST_Words/dataset/v011_words_small/458.jpeg'\n",
            " '/content/drive/MyDrive/development/datasets/OCR_MNIST_Words/dataset/v011_words_small/459.jpeg'\n",
            " '/content/drive/MyDrive/development/datasets/OCR_MNIST_Words/dataset/v011_words_small/460.jpeg'\n",
            " '/content/drive/MyDrive/development/datasets/OCR_MNIST_Words/dataset/v011_words_small/461.jpeg'\n",
            " '/content/drive/MyDrive/development/datasets/OCR_MNIST_Words/dataset/v011_words_small/462.png'\n",
            " '/content/drive/MyDrive/development/datasets/OCR_MNIST_Words/dataset/v011_words_small/463.jpeg'\n",
            " '/content/drive/MyDrive/development/datasets/OCR_MNIST_Words/dataset/v011_words_small/464.jpeg'\n",
            " '/content/drive/MyDrive/development/datasets/OCR_MNIST_Words/dataset/v011_words_small/465.png'\n",
            " '/content/drive/MyDrive/development/datasets/OCR_MNIST_Words/dataset/v011_words_small/466.jpeg'\n",
            " '/content/drive/MyDrive/development/datasets/OCR_MNIST_Words/dataset/v011_words_small/467.jpeg'\n",
            " '/content/drive/MyDrive/development/datasets/OCR_MNIST_Words/dataset/v011_words_small/468.png'\n",
            " '/content/drive/MyDrive/development/datasets/OCR_MNIST_Words/dataset/v011_words_small/469.png'\n",
            " '/content/drive/MyDrive/development/datasets/OCR_MNIST_Words/dataset/v011_words_small/470.jpeg'\n",
            " '/content/drive/MyDrive/development/datasets/OCR_MNIST_Words/dataset/v011_words_small/471.jpeg'\n",
            " '/content/drive/MyDrive/development/datasets/OCR_MNIST_Words/dataset/v011_words_small/472.jpeg'\n",
            " '/content/drive/MyDrive/development/datasets/OCR_MNIST_Words/dataset/v011_words_small/473.png'\n",
            " '/content/drive/MyDrive/development/datasets/OCR_MNIST_Words/dataset/v011_words_small/474.jpeg'\n",
            " '/content/drive/MyDrive/development/datasets/OCR_MNIST_Words/dataset/v011_words_small/475.jpeg'\n",
            " '/content/drive/MyDrive/development/datasets/OCR_MNIST_Words/dataset/v011_words_small/476.jpeg'\n",
            " '/content/drive/MyDrive/development/datasets/OCR_MNIST_Words/dataset/v011_words_small/477.jpeg'\n",
            " '/content/drive/MyDrive/development/datasets/OCR_MNIST_Words/dataset/v011_words_small/478.png'\n",
            " '/content/drive/MyDrive/development/datasets/OCR_MNIST_Words/dataset/v011_words_small/479.png'\n",
            " '/content/drive/MyDrive/development/datasets/OCR_MNIST_Words/dataset/v011_words_small/480.png'\n",
            " '/content/drive/MyDrive/development/datasets/OCR_MNIST_Words/dataset/v011_words_small/481.png'\n",
            " '/content/drive/MyDrive/development/datasets/OCR_MNIST_Words/dataset/v011_words_small/482.jpeg'\n",
            " '/content/drive/MyDrive/development/datasets/OCR_MNIST_Words/dataset/v011_words_small/483.jpeg'\n",
            " '/content/drive/MyDrive/development/datasets/OCR_MNIST_Words/dataset/v011_words_small/484.jpeg'\n",
            " '/content/drive/MyDrive/development/datasets/OCR_MNIST_Words/dataset/v011_words_small/485.png'\n",
            " '/content/drive/MyDrive/development/datasets/OCR_MNIST_Words/dataset/v011_words_small/486.png'\n",
            " '/content/drive/MyDrive/development/datasets/OCR_MNIST_Words/dataset/v011_words_small/487.jpeg'\n",
            " '/content/drive/MyDrive/development/datasets/OCR_MNIST_Words/dataset/v011_words_small/488.jpeg'\n",
            " '/content/drive/MyDrive/development/datasets/OCR_MNIST_Words/dataset/v011_words_small/489.png'\n",
            " '/content/drive/MyDrive/development/datasets/OCR_MNIST_Words/dataset/v011_words_small/490.png'\n",
            " '/content/drive/MyDrive/development/datasets/OCR_MNIST_Words/dataset/v011_words_small/491.png'\n",
            " '/content/drive/MyDrive/development/datasets/OCR_MNIST_Words/dataset/v011_words_small/492.png'\n",
            " '/content/drive/MyDrive/development/datasets/OCR_MNIST_Words/dataset/v011_words_small/493.png'\n",
            " '/content/drive/MyDrive/development/datasets/OCR_MNIST_Words/dataset/v011_words_small/494.png'\n",
            " '/content/drive/MyDrive/development/datasets/OCR_MNIST_Words/dataset/v011_words_small/495.jpeg'\n",
            " '/content/drive/MyDrive/development/datasets/OCR_MNIST_Words/dataset/v011_words_small/496.jpeg'\n",
            " '/content/drive/MyDrive/development/datasets/OCR_MNIST_Words/dataset/v011_words_small/497.png'\n",
            " '/content/drive/MyDrive/development/datasets/OCR_MNIST_Words/dataset/v011_words_small/498.png'\n",
            " '/content/drive/MyDrive/development/datasets/OCR_MNIST_Words/dataset/v011_words_small/499.png'\n",
            " '/content/drive/MyDrive/development/datasets/OCR_MNIST_Words/dataset/v011_words_small/500.png'\n",
            " '/content/drive/MyDrive/development/datasets/OCR_MNIST_Words/dataset/v011_words_small/501.jpeg'\n",
            " '/content/drive/MyDrive/development/datasets/OCR_MNIST_Words/dataset/v011_words_small/502.png'\n",
            " '/content/drive/MyDrive/development/datasets/OCR_MNIST_Words/dataset/v011_words_small/503.png'\n",
            " '/content/drive/MyDrive/development/datasets/OCR_MNIST_Words/dataset/v011_words_small/504.jpeg'\n",
            " '/content/drive/MyDrive/development/datasets/OCR_MNIST_Words/dataset/v011_words_small/505.png'\n",
            " '/content/drive/MyDrive/development/datasets/OCR_MNIST_Words/dataset/v011_words_small/506.jpeg'\n",
            " '/content/drive/MyDrive/development/datasets/OCR_MNIST_Words/dataset/v011_words_small/507.jpeg'\n",
            " '/content/drive/MyDrive/development/datasets/OCR_MNIST_Words/dataset/v011_words_small/508.jpeg'\n",
            " '/content/drive/MyDrive/development/datasets/OCR_MNIST_Words/dataset/v011_words_small/509.png'\n",
            " '/content/drive/MyDrive/development/datasets/OCR_MNIST_Words/dataset/v011_words_small/510.png'\n",
            " '/content/drive/MyDrive/development/datasets/OCR_MNIST_Words/dataset/v011_words_small/511.png'\n",
            " '/content/drive/MyDrive/development/datasets/OCR_MNIST_Words/dataset/v011_words_small/512.jpeg'\n",
            " '/content/drive/MyDrive/development/datasets/OCR_MNIST_Words/dataset/v011_words_small/513.png'\n",
            " '/content/drive/MyDrive/development/datasets/OCR_MNIST_Words/dataset/v011_words_small/514.jpeg'\n",
            " '/content/drive/MyDrive/development/datasets/OCR_MNIST_Words/dataset/v011_words_small/515.jpeg'\n",
            " '/content/drive/MyDrive/development/datasets/OCR_MNIST_Words/dataset/v011_words_small/516.png'\n",
            " '/content/drive/MyDrive/development/datasets/OCR_MNIST_Words/dataset/v011_words_small/517.png'\n",
            " '/content/drive/MyDrive/development/datasets/OCR_MNIST_Words/dataset/v011_words_small/518.jpeg'\n",
            " '/content/drive/MyDrive/development/datasets/OCR_MNIST_Words/dataset/v011_words_small/519.png'\n",
            " '/content/drive/MyDrive/development/datasets/OCR_MNIST_Words/dataset/v011_words_small/520.jpeg'\n",
            " '/content/drive/MyDrive/development/datasets/OCR_MNIST_Words/dataset/v011_words_small/521.jpeg'\n",
            " '/content/drive/MyDrive/development/datasets/OCR_MNIST_Words/dataset/v011_words_small/522.png'\n",
            " '/content/drive/MyDrive/development/datasets/OCR_MNIST_Words/dataset/v011_words_small/523.png'\n",
            " '/content/drive/MyDrive/development/datasets/OCR_MNIST_Words/dataset/v011_words_small/524.jpeg'\n",
            " '/content/drive/MyDrive/development/datasets/OCR_MNIST_Words/dataset/v011_words_small/525.png'\n",
            " '/content/drive/MyDrive/development/datasets/OCR_MNIST_Words/dataset/v011_words_small/526.jpeg'\n",
            " '/content/drive/MyDrive/development/datasets/OCR_MNIST_Words/dataset/v011_words_small/527.png'\n",
            " '/content/drive/MyDrive/development/datasets/OCR_MNIST_Words/dataset/v011_words_small/528.png'\n",
            " '/content/drive/MyDrive/development/datasets/OCR_MNIST_Words/dataset/v011_words_small/529.png'\n",
            " '/content/drive/MyDrive/development/datasets/OCR_MNIST_Words/dataset/v011_words_small/530.jpeg'\n",
            " '/content/drive/MyDrive/development/datasets/OCR_MNIST_Words/dataset/v011_words_small/531.png'\n",
            " '/content/drive/MyDrive/development/datasets/OCR_MNIST_Words/dataset/v011_words_small/532.jpeg'\n",
            " '/content/drive/MyDrive/development/datasets/OCR_MNIST_Words/dataset/v011_words_small/533.png'\n",
            " '/content/drive/MyDrive/development/datasets/OCR_MNIST_Words/dataset/v011_words_small/534.jpeg'\n",
            " '/content/drive/MyDrive/development/datasets/OCR_MNIST_Words/dataset/v011_words_small/535.png'\n",
            " '/content/drive/MyDrive/development/datasets/OCR_MNIST_Words/dataset/v011_words_small/536.png'\n",
            " '/content/drive/MyDrive/development/datasets/OCR_MNIST_Words/dataset/v011_words_small/537.png'\n",
            " '/content/drive/MyDrive/development/datasets/OCR_MNIST_Words/dataset/v011_words_small/538.png'\n",
            " '/content/drive/MyDrive/development/datasets/OCR_MNIST_Words/dataset/v011_words_small/539.png'\n",
            " '/content/drive/MyDrive/development/datasets/OCR_MNIST_Words/dataset/v011_words_small/540.jpeg'\n",
            " '/content/drive/MyDrive/development/datasets/OCR_MNIST_Words/dataset/v011_words_small/541.png'\n",
            " '/content/drive/MyDrive/development/datasets/OCR_MNIST_Words/dataset/v011_words_small/542.png'\n",
            " '/content/drive/MyDrive/development/datasets/OCR_MNIST_Words/dataset/v011_words_small/543.jpeg'\n",
            " '/content/drive/MyDrive/development/datasets/OCR_MNIST_Words/dataset/v011_words_small/544.png'\n",
            " '/content/drive/MyDrive/development/datasets/OCR_MNIST_Words/dataset/v011_words_small/545.png'\n",
            " '/content/drive/MyDrive/development/datasets/OCR_MNIST_Words/dataset/v011_words_small/546.png'\n",
            " '/content/drive/MyDrive/development/datasets/OCR_MNIST_Words/dataset/v011_words_small/547.png'\n",
            " '/content/drive/MyDrive/development/datasets/OCR_MNIST_Words/dataset/v011_words_small/548.jpeg'\n",
            " '/content/drive/MyDrive/development/datasets/OCR_MNIST_Words/dataset/v011_words_small/549.jpeg'\n",
            " '/content/drive/MyDrive/development/datasets/OCR_MNIST_Words/dataset/v011_words_small/550.jpeg'\n",
            " '/content/drive/MyDrive/development/datasets/OCR_MNIST_Words/dataset/v011_words_small/551.png'\n",
            " '/content/drive/MyDrive/development/datasets/OCR_MNIST_Words/dataset/v011_words_small/552.png'\n",
            " '/content/drive/MyDrive/development/datasets/OCR_MNIST_Words/dataset/v011_words_small/553.jpeg'\n",
            " '/content/drive/MyDrive/development/datasets/OCR_MNIST_Words/dataset/v011_words_small/554.jpeg'\n",
            " '/content/drive/MyDrive/development/datasets/OCR_MNIST_Words/dataset/v011_words_small/555.png'\n",
            " '/content/drive/MyDrive/development/datasets/OCR_MNIST_Words/dataset/v011_words_small/556.jpeg'\n",
            " '/content/drive/MyDrive/development/datasets/OCR_MNIST_Words/dataset/v011_words_small/557.jpeg'\n",
            " '/content/drive/MyDrive/development/datasets/OCR_MNIST_Words/dataset/v011_words_small/558.png'\n",
            " '/content/drive/MyDrive/development/datasets/OCR_MNIST_Words/dataset/v011_words_small/559.jpeg'\n",
            " '/content/drive/MyDrive/development/datasets/OCR_MNIST_Words/dataset/v011_words_small/560.jpeg'\n",
            " '/content/drive/MyDrive/development/datasets/OCR_MNIST_Words/dataset/v011_words_small/561.png'\n",
            " '/content/drive/MyDrive/development/datasets/OCR_MNIST_Words/dataset/v011_words_small/562.jpeg'\n",
            " '/content/drive/MyDrive/development/datasets/OCR_MNIST_Words/dataset/v011_words_small/563.png'\n",
            " '/content/drive/MyDrive/development/datasets/OCR_MNIST_Words/dataset/v011_words_small/564.png'\n",
            " '/content/drive/MyDrive/development/datasets/OCR_MNIST_Words/dataset/v011_words_small/565.jpeg'\n",
            " '/content/drive/MyDrive/development/datasets/OCR_MNIST_Words/dataset/v011_words_small/566.png'\n",
            " '/content/drive/MyDrive/development/datasets/OCR_MNIST_Words/dataset/v011_words_small/567.jpeg'\n",
            " '/content/drive/MyDrive/development/datasets/OCR_MNIST_Words/dataset/v011_words_small/568.jpeg'\n",
            " '/content/drive/MyDrive/development/datasets/OCR_MNIST_Words/dataset/v011_words_small/569.jpeg'\n",
            " '/content/drive/MyDrive/development/datasets/OCR_MNIST_Words/dataset/v011_words_small/570.jpeg'\n",
            " '/content/drive/MyDrive/development/datasets/OCR_MNIST_Words/dataset/v011_words_small/571.jpeg'\n",
            " '/content/drive/MyDrive/development/datasets/OCR_MNIST_Words/dataset/v011_words_small/572.jpeg'\n",
            " '/content/drive/MyDrive/development/datasets/OCR_MNIST_Words/dataset/v011_words_small/573.jpeg'\n",
            " '/content/drive/MyDrive/development/datasets/OCR_MNIST_Words/dataset/v011_words_small/574.jpeg'\n",
            " '/content/drive/MyDrive/development/datasets/OCR_MNIST_Words/dataset/v011_words_small/575.jpeg'\n",
            " '/content/drive/MyDrive/development/datasets/OCR_MNIST_Words/dataset/v011_words_small/576.jpeg'\n",
            " '/content/drive/MyDrive/development/datasets/OCR_MNIST_Words/dataset/v011_words_small/577.jpeg'\n",
            " '/content/drive/MyDrive/development/datasets/OCR_MNIST_Words/dataset/v011_words_small/578.png'\n",
            " '/content/drive/MyDrive/development/datasets/OCR_MNIST_Words/dataset/v011_words_small/579.png'\n",
            " '/content/drive/MyDrive/development/datasets/OCR_MNIST_Words/dataset/v011_words_small/580.png'\n",
            " '/content/drive/MyDrive/development/datasets/OCR_MNIST_Words/dataset/v011_words_small/581.png'\n",
            " '/content/drive/MyDrive/development/datasets/OCR_MNIST_Words/dataset/v011_words_small/582.png'\n",
            " '/content/drive/MyDrive/development/datasets/OCR_MNIST_Words/dataset/v011_words_small/583.png'\n",
            " '/content/drive/MyDrive/development/datasets/OCR_MNIST_Words/dataset/v011_words_small/584.png'\n",
            " '/content/drive/MyDrive/development/datasets/OCR_MNIST_Words/dataset/v011_words_small/585.png'\n",
            " '/content/drive/MyDrive/development/datasets/OCR_MNIST_Words/dataset/v011_words_small/586.jpeg'\n",
            " '/content/drive/MyDrive/development/datasets/OCR_MNIST_Words/dataset/v011_words_small/587.png'\n",
            " '/content/drive/MyDrive/development/datasets/OCR_MNIST_Words/dataset/v011_words_small/588.jpeg'\n",
            " '/content/drive/MyDrive/development/datasets/OCR_MNIST_Words/dataset/v011_words_small/589.jpeg'\n",
            " '/content/drive/MyDrive/development/datasets/OCR_MNIST_Words/dataset/v011_words_small/590.png'\n",
            " '/content/drive/MyDrive/development/datasets/OCR_MNIST_Words/dataset/v011_words_small/591.png'\n",
            " '/content/drive/MyDrive/development/datasets/OCR_MNIST_Words/dataset/v011_words_small/592.png'\n",
            " '/content/drive/MyDrive/development/datasets/OCR_MNIST_Words/dataset/v011_words_small/593.jpeg'\n",
            " '/content/drive/MyDrive/development/datasets/OCR_MNIST_Words/dataset/v011_words_small/594.png'\n",
            " '/content/drive/MyDrive/development/datasets/OCR_MNIST_Words/dataset/v011_words_small/595.png'\n",
            " '/content/drive/MyDrive/development/datasets/OCR_MNIST_Words/dataset/v011_words_small/596.png'\n",
            " '/content/drive/MyDrive/development/datasets/OCR_MNIST_Words/dataset/v011_words_small/597.jpeg'\n",
            " '/content/drive/MyDrive/development/datasets/OCR_MNIST_Words/dataset/v011_words_small/598.png'\n",
            " '/content/drive/MyDrive/development/datasets/OCR_MNIST_Words/dataset/v011_words_small/599.jpeg'\n",
            " '/content/drive/MyDrive/development/datasets/OCR_MNIST_Words/dataset/v011_words_small/600.jpeg'\n",
            " '/content/drive/MyDrive/development/datasets/OCR_MNIST_Words/dataset/v011_words_small/601.png'\n",
            " '/content/drive/MyDrive/development/datasets/OCR_MNIST_Words/dataset/v011_words_small/602.png'\n",
            " '/content/drive/MyDrive/development/datasets/OCR_MNIST_Words/dataset/v011_words_small/603.png'\n",
            " '/content/drive/MyDrive/development/datasets/OCR_MNIST_Words/dataset/v011_words_small/604.png'\n",
            " '/content/drive/MyDrive/development/datasets/OCR_MNIST_Words/dataset/v011_words_small/605.jpeg'\n",
            " '/content/drive/MyDrive/development/datasets/OCR_MNIST_Words/dataset/v011_words_small/606.jpeg'\n",
            " '/content/drive/MyDrive/development/datasets/OCR_MNIST_Words/dataset/v011_words_small/607.jpeg'\n",
            " '/content/drive/MyDrive/development/datasets/OCR_MNIST_Words/dataset/v011_words_small/608.jpeg'\n",
            " '/content/drive/MyDrive/development/datasets/OCR_MNIST_Words/dataset/v011_words_small/609.jpeg'\n",
            " '/content/drive/MyDrive/development/datasets/OCR_MNIST_Words/dataset/v011_words_small/610.jpeg'\n",
            " '/content/drive/MyDrive/development/datasets/OCR_MNIST_Words/dataset/v011_words_small/611.jpeg'\n",
            " '/content/drive/MyDrive/development/datasets/OCR_MNIST_Words/dataset/v011_words_small/612.jpeg'\n",
            " '/content/drive/MyDrive/development/datasets/OCR_MNIST_Words/dataset/v011_words_small/613.jpeg'\n",
            " '/content/drive/MyDrive/development/datasets/OCR_MNIST_Words/dataset/v011_words_small/614.jpeg'\n",
            " '/content/drive/MyDrive/development/datasets/OCR_MNIST_Words/dataset/v011_words_small/615.png'\n",
            " '/content/drive/MyDrive/development/datasets/OCR_MNIST_Words/dataset/v011_words_small/616.png'\n",
            " '/content/drive/MyDrive/development/datasets/OCR_MNIST_Words/dataset/v011_words_small/617.jpeg'\n",
            " '/content/drive/MyDrive/development/datasets/OCR_MNIST_Words/dataset/v011_words_small/618.png'\n",
            " '/content/drive/MyDrive/development/datasets/OCR_MNIST_Words/dataset/v011_words_small/619.png'\n",
            " '/content/drive/MyDrive/development/datasets/OCR_MNIST_Words/dataset/v011_words_small/620.jpeg'\n",
            " '/content/drive/MyDrive/development/datasets/OCR_MNIST_Words/dataset/v011_words_small/621.jpeg'\n",
            " '/content/drive/MyDrive/development/datasets/OCR_MNIST_Words/dataset/v011_words_small/622.jpeg'\n",
            " '/content/drive/MyDrive/development/datasets/OCR_MNIST_Words/dataset/v011_words_small/623.png'\n",
            " '/content/drive/MyDrive/development/datasets/OCR_MNIST_Words/dataset/v011_words_small/624.png'\n",
            " '/content/drive/MyDrive/development/datasets/OCR_MNIST_Words/dataset/v011_words_small/625.png'\n",
            " '/content/drive/MyDrive/development/datasets/OCR_MNIST_Words/dataset/v011_words_small/626.png'\n",
            " '/content/drive/MyDrive/development/datasets/OCR_MNIST_Words/dataset/v011_words_small/627.jpeg'\n",
            " '/content/drive/MyDrive/development/datasets/OCR_MNIST_Words/dataset/v011_words_small/628.png'\n",
            " '/content/drive/MyDrive/development/datasets/OCR_MNIST_Words/dataset/v011_words_small/629.jpeg'\n",
            " '/content/drive/MyDrive/development/datasets/OCR_MNIST_Words/dataset/v011_words_small/630.jpeg'\n",
            " '/content/drive/MyDrive/development/datasets/OCR_MNIST_Words/dataset/v011_words_small/631.jpeg'\n",
            " '/content/drive/MyDrive/development/datasets/OCR_MNIST_Words/dataset/v011_words_small/632.jpeg'\n",
            " '/content/drive/MyDrive/development/datasets/OCR_MNIST_Words/dataset/v011_words_small/633.png'\n",
            " '/content/drive/MyDrive/development/datasets/OCR_MNIST_Words/dataset/v011_words_small/634.png'\n",
            " '/content/drive/MyDrive/development/datasets/OCR_MNIST_Words/dataset/v011_words_small/635.png'\n",
            " '/content/drive/MyDrive/development/datasets/OCR_MNIST_Words/dataset/v011_words_small/636.jpeg'\n",
            " '/content/drive/MyDrive/development/datasets/OCR_MNIST_Words/dataset/v011_words_small/637.png'\n",
            " '/content/drive/MyDrive/development/datasets/OCR_MNIST_Words/dataset/v011_words_small/638.jpeg'\n",
            " '/content/drive/MyDrive/development/datasets/OCR_MNIST_Words/dataset/v011_words_small/639.jpeg'\n",
            " '/content/drive/MyDrive/development/datasets/OCR_MNIST_Words/dataset/v011_words_small/640.jpeg'\n",
            " '/content/drive/MyDrive/development/datasets/OCR_MNIST_Words/dataset/v011_words_small/641.jpeg'\n",
            " '/content/drive/MyDrive/development/datasets/OCR_MNIST_Words/dataset/v011_words_small/642.png'\n",
            " '/content/drive/MyDrive/development/datasets/OCR_MNIST_Words/dataset/v011_words_small/643.jpeg'\n",
            " '/content/drive/MyDrive/development/datasets/OCR_MNIST_Words/dataset/v011_words_small/644.jpeg'\n",
            " '/content/drive/MyDrive/development/datasets/OCR_MNIST_Words/dataset/v011_words_small/645.png'\n",
            " '/content/drive/MyDrive/development/datasets/OCR_MNIST_Words/dataset/v011_words_small/646.jpeg'\n",
            " '/content/drive/MyDrive/development/datasets/OCR_MNIST_Words/dataset/v011_words_small/647.jpeg'\n",
            " '/content/drive/MyDrive/development/datasets/OCR_MNIST_Words/dataset/v011_words_small/648.jpeg'\n",
            " '/content/drive/MyDrive/development/datasets/OCR_MNIST_Words/dataset/v011_words_small/649.jpeg'\n",
            " '/content/drive/MyDrive/development/datasets/OCR_MNIST_Words/dataset/v011_words_small/650.jpeg'\n",
            " '/content/drive/MyDrive/development/datasets/OCR_MNIST_Words/dataset/v011_words_small/651.jpeg'\n",
            " '/content/drive/MyDrive/development/datasets/OCR_MNIST_Words/dataset/v011_words_small/652.png'\n",
            " '/content/drive/MyDrive/development/datasets/OCR_MNIST_Words/dataset/v011_words_small/653.png'\n",
            " '/content/drive/MyDrive/development/datasets/OCR_MNIST_Words/dataset/v011_words_small/654.jpeg'\n",
            " '/content/drive/MyDrive/development/datasets/OCR_MNIST_Words/dataset/v011_words_small/655.jpeg'\n",
            " '/content/drive/MyDrive/development/datasets/OCR_MNIST_Words/dataset/v011_words_small/656.png'\n",
            " '/content/drive/MyDrive/development/datasets/OCR_MNIST_Words/dataset/v011_words_small/657.jpeg'\n",
            " '/content/drive/MyDrive/development/datasets/OCR_MNIST_Words/dataset/v011_words_small/658.png'\n",
            " '/content/drive/MyDrive/development/datasets/OCR_MNIST_Words/dataset/v011_words_small/659.jpeg'\n",
            " '/content/drive/MyDrive/development/datasets/OCR_MNIST_Words/dataset/v011_words_small/660.png'\n",
            " '/content/drive/MyDrive/development/datasets/OCR_MNIST_Words/dataset/v011_words_small/661.jpeg'\n",
            " '/content/drive/MyDrive/development/datasets/OCR_MNIST_Words/dataset/v011_words_small/662.jpeg'\n",
            " '/content/drive/MyDrive/development/datasets/OCR_MNIST_Words/dataset/v011_words_small/663.jpeg'\n",
            " '/content/drive/MyDrive/development/datasets/OCR_MNIST_Words/dataset/v011_words_small/664.png'\n",
            " '/content/drive/MyDrive/development/datasets/OCR_MNIST_Words/dataset/v011_words_small/665.png'\n",
            " '/content/drive/MyDrive/development/datasets/OCR_MNIST_Words/dataset/v011_words_small/666.png'\n",
            " '/content/drive/MyDrive/development/datasets/OCR_MNIST_Words/dataset/v011_words_small/667.jpeg'\n",
            " '/content/drive/MyDrive/development/datasets/OCR_MNIST_Words/dataset/v011_words_small/668.png'\n",
            " '/content/drive/MyDrive/development/datasets/OCR_MNIST_Words/dataset/v011_words_small/669.jpeg'\n",
            " '/content/drive/MyDrive/development/datasets/OCR_MNIST_Words/dataset/v011_words_small/670.png'\n",
            " '/content/drive/MyDrive/development/datasets/OCR_MNIST_Words/dataset/v011_words_small/671.jpeg'\n",
            " '/content/drive/MyDrive/development/datasets/OCR_MNIST_Words/dataset/v011_words_small/672.png'\n",
            " '/content/drive/MyDrive/development/datasets/OCR_MNIST_Words/dataset/v011_words_small/673.jpeg'\n",
            " '/content/drive/MyDrive/development/datasets/OCR_MNIST_Words/dataset/v011_words_small/674.png'\n",
            " '/content/drive/MyDrive/development/datasets/OCR_MNIST_Words/dataset/v011_words_small/675.jpeg'\n",
            " '/content/drive/MyDrive/development/datasets/OCR_MNIST_Words/dataset/v011_words_small/676.jpeg'\n",
            " '/content/drive/MyDrive/development/datasets/OCR_MNIST_Words/dataset/v011_words_small/677.jpeg'\n",
            " '/content/drive/MyDrive/development/datasets/OCR_MNIST_Words/dataset/v011_words_small/678.png'\n",
            " '/content/drive/MyDrive/development/datasets/OCR_MNIST_Words/dataset/v011_words_small/679.png'\n",
            " '/content/drive/MyDrive/development/datasets/OCR_MNIST_Words/dataset/v011_words_small/680.png'\n",
            " '/content/drive/MyDrive/development/datasets/OCR_MNIST_Words/dataset/v011_words_small/681.jpeg'\n",
            " '/content/drive/MyDrive/development/datasets/OCR_MNIST_Words/dataset/v011_words_small/682.jpeg'\n",
            " '/content/drive/MyDrive/development/datasets/OCR_MNIST_Words/dataset/v011_words_small/683.jpeg'\n",
            " '/content/drive/MyDrive/development/datasets/OCR_MNIST_Words/dataset/v011_words_small/684.png'\n",
            " '/content/drive/MyDrive/development/datasets/OCR_MNIST_Words/dataset/v011_words_small/685.jpeg'\n",
            " '/content/drive/MyDrive/development/datasets/OCR_MNIST_Words/dataset/v011_words_small/686.jpeg'\n",
            " '/content/drive/MyDrive/development/datasets/OCR_MNIST_Words/dataset/v011_words_small/687.png'\n",
            " '/content/drive/MyDrive/development/datasets/OCR_MNIST_Words/dataset/v011_words_small/688.png'\n",
            " '/content/drive/MyDrive/development/datasets/OCR_MNIST_Words/dataset/v011_words_small/689.jpeg'\n",
            " '/content/drive/MyDrive/development/datasets/OCR_MNIST_Words/dataset/v011_words_small/690.png'\n",
            " '/content/drive/MyDrive/development/datasets/OCR_MNIST_Words/dataset/v011_words_small/691.jpeg'\n",
            " '/content/drive/MyDrive/development/datasets/OCR_MNIST_Words/dataset/v011_words_small/692.png'\n",
            " '/content/drive/MyDrive/development/datasets/OCR_MNIST_Words/dataset/v011_words_small/693.png'\n",
            " '/content/drive/MyDrive/development/datasets/OCR_MNIST_Words/dataset/v011_words_small/694.png'\n",
            " '/content/drive/MyDrive/development/datasets/OCR_MNIST_Words/dataset/v011_words_small/695.jpeg'\n",
            " '/content/drive/MyDrive/development/datasets/OCR_MNIST_Words/dataset/v011_words_small/696.png'\n",
            " '/content/drive/MyDrive/development/datasets/OCR_MNIST_Words/dataset/v011_words_small/697.png'\n",
            " '/content/drive/MyDrive/development/datasets/OCR_MNIST_Words/dataset/v011_words_small/698.jpeg'\n",
            " '/content/drive/MyDrive/development/datasets/OCR_MNIST_Words/dataset/v011_words_small/699.jpeg'\n",
            " '/content/drive/MyDrive/development/datasets/OCR_MNIST_Words/dataset/v011_words_small/700.jpeg'\n",
            " '/content/drive/MyDrive/development/datasets/OCR_MNIST_Words/dataset/v011_words_small/701.png'\n",
            " '/content/drive/MyDrive/development/datasets/OCR_MNIST_Words/dataset/v011_words_small/702.jpeg'\n",
            " '/content/drive/MyDrive/development/datasets/OCR_MNIST_Words/dataset/v011_words_small/703.png'\n",
            " '/content/drive/MyDrive/development/datasets/OCR_MNIST_Words/dataset/v011_words_small/704.png'\n",
            " '/content/drive/MyDrive/development/datasets/OCR_MNIST_Words/dataset/v011_words_small/705.jpeg'\n",
            " '/content/drive/MyDrive/development/datasets/OCR_MNIST_Words/dataset/v011_words_small/706.png'\n",
            " '/content/drive/MyDrive/development/datasets/OCR_MNIST_Words/dataset/v011_words_small/707.png'\n",
            " '/content/drive/MyDrive/development/datasets/OCR_MNIST_Words/dataset/v011_words_small/708.png'\n",
            " '/content/drive/MyDrive/development/datasets/OCR_MNIST_Words/dataset/v011_words_small/709.png'\n",
            " '/content/drive/MyDrive/development/datasets/OCR_MNIST_Words/dataset/v011_words_small/710.jpeg'\n",
            " '/content/drive/MyDrive/development/datasets/OCR_MNIST_Words/dataset/v011_words_small/711.png'\n",
            " '/content/drive/MyDrive/development/datasets/OCR_MNIST_Words/dataset/v011_words_small/712.jpeg'\n",
            " '/content/drive/MyDrive/development/datasets/OCR_MNIST_Words/dataset/v011_words_small/713.png'\n",
            " '/content/drive/MyDrive/development/datasets/OCR_MNIST_Words/dataset/v011_words_small/714.jpeg'\n",
            " '/content/drive/MyDrive/development/datasets/OCR_MNIST_Words/dataset/v011_words_small/715.jpeg'\n",
            " '/content/drive/MyDrive/development/datasets/OCR_MNIST_Words/dataset/v011_words_small/716.png'\n",
            " '/content/drive/MyDrive/development/datasets/OCR_MNIST_Words/dataset/v011_words_small/717.png'\n",
            " '/content/drive/MyDrive/development/datasets/OCR_MNIST_Words/dataset/v011_words_small/718.jpeg'\n",
            " '/content/drive/MyDrive/development/datasets/OCR_MNIST_Words/dataset/v011_words_small/719.jpeg'\n",
            " '/content/drive/MyDrive/development/datasets/OCR_MNIST_Words/dataset/v011_words_small/720.png'\n",
            " '/content/drive/MyDrive/development/datasets/OCR_MNIST_Words/dataset/v011_words_small/721.png'\n",
            " '/content/drive/MyDrive/development/datasets/OCR_MNIST_Words/dataset/v011_words_small/722.png'\n",
            " '/content/drive/MyDrive/development/datasets/OCR_MNIST_Words/dataset/v011_words_small/723.jpeg'\n",
            " '/content/drive/MyDrive/development/datasets/OCR_MNIST_Words/dataset/v011_words_small/724.jpeg'\n",
            " '/content/drive/MyDrive/development/datasets/OCR_MNIST_Words/dataset/v011_words_small/725.png'\n",
            " '/content/drive/MyDrive/development/datasets/OCR_MNIST_Words/dataset/v011_words_small/726.jpeg'\n",
            " '/content/drive/MyDrive/development/datasets/OCR_MNIST_Words/dataset/v011_words_small/727.jpeg'\n",
            " '/content/drive/MyDrive/development/datasets/OCR_MNIST_Words/dataset/v011_words_small/728.jpeg'\n",
            " '/content/drive/MyDrive/development/datasets/OCR_MNIST_Words/dataset/v011_words_small/729.jpeg'\n",
            " '/content/drive/MyDrive/development/datasets/OCR_MNIST_Words/dataset/v011_words_small/730.png'\n",
            " '/content/drive/MyDrive/development/datasets/OCR_MNIST_Words/dataset/v011_words_small/731.png'\n",
            " '/content/drive/MyDrive/development/datasets/OCR_MNIST_Words/dataset/v011_words_small/732.jpeg'\n",
            " '/content/drive/MyDrive/development/datasets/OCR_MNIST_Words/dataset/v011_words_small/733.jpeg'\n",
            " '/content/drive/MyDrive/development/datasets/OCR_MNIST_Words/dataset/v011_words_small/734.png'\n",
            " '/content/drive/MyDrive/development/datasets/OCR_MNIST_Words/dataset/v011_words_small/735.jpeg'\n",
            " '/content/drive/MyDrive/development/datasets/OCR_MNIST_Words/dataset/v011_words_small/736.jpeg'\n",
            " '/content/drive/MyDrive/development/datasets/OCR_MNIST_Words/dataset/v011_words_small/737.jpeg'\n",
            " '/content/drive/MyDrive/development/datasets/OCR_MNIST_Words/dataset/v011_words_small/738.jpeg'\n",
            " '/content/drive/MyDrive/development/datasets/OCR_MNIST_Words/dataset/v011_words_small/739.jpeg'\n",
            " '/content/drive/MyDrive/development/datasets/OCR_MNIST_Words/dataset/v011_words_small/740.jpeg'\n",
            " '/content/drive/MyDrive/development/datasets/OCR_MNIST_Words/dataset/v011_words_small/741.png'\n",
            " '/content/drive/MyDrive/development/datasets/OCR_MNIST_Words/dataset/v011_words_small/742.png'\n",
            " '/content/drive/MyDrive/development/datasets/OCR_MNIST_Words/dataset/v011_words_small/743.jpeg'\n",
            " '/content/drive/MyDrive/development/datasets/OCR_MNIST_Words/dataset/v011_words_small/744.jpeg'\n",
            " '/content/drive/MyDrive/development/datasets/OCR_MNIST_Words/dataset/v011_words_small/745.jpeg'\n",
            " '/content/drive/MyDrive/development/datasets/OCR_MNIST_Words/dataset/v011_words_small/746.jpeg'\n",
            " '/content/drive/MyDrive/development/datasets/OCR_MNIST_Words/dataset/v011_words_small/747.jpeg'\n",
            " '/content/drive/MyDrive/development/datasets/OCR_MNIST_Words/dataset/v011_words_small/748.jpeg'\n",
            " '/content/drive/MyDrive/development/datasets/OCR_MNIST_Words/dataset/v011_words_small/750.png'\n",
            " '/content/drive/MyDrive/development/datasets/OCR_MNIST_Words/dataset/v011_words_small/751.png'\n",
            " '/content/drive/MyDrive/development/datasets/OCR_MNIST_Words/dataset/v011_words_small/752.jpeg'\n",
            " '/content/drive/MyDrive/development/datasets/OCR_MNIST_Words/dataset/v011_words_small/753.png'\n",
            " '/content/drive/MyDrive/development/datasets/OCR_MNIST_Words/dataset/v011_words_small/754.jpeg'\n",
            " '/content/drive/MyDrive/development/datasets/OCR_MNIST_Words/dataset/v011_words_small/755.jpeg'\n",
            " '/content/drive/MyDrive/development/datasets/OCR_MNIST_Words/dataset/v011_words_small/756.jpeg'\n",
            " '/content/drive/MyDrive/development/datasets/OCR_MNIST_Words/dataset/v011_words_small/757.png'\n",
            " '/content/drive/MyDrive/development/datasets/OCR_MNIST_Words/dataset/v011_words_small/758.png'\n",
            " '/content/drive/MyDrive/development/datasets/OCR_MNIST_Words/dataset/v011_words_small/759.png'\n",
            " '/content/drive/MyDrive/development/datasets/OCR_MNIST_Words/dataset/v011_words_small/760.jpeg'\n",
            " '/content/drive/MyDrive/development/datasets/OCR_MNIST_Words/dataset/v011_words_small/761.png'\n",
            " '/content/drive/MyDrive/development/datasets/OCR_MNIST_Words/dataset/v011_words_small/762.jpeg'\n",
            " '/content/drive/MyDrive/development/datasets/OCR_MNIST_Words/dataset/v011_words_small/763.png'\n",
            " '/content/drive/MyDrive/development/datasets/OCR_MNIST_Words/dataset/v011_words_small/764.png'\n",
            " '/content/drive/MyDrive/development/datasets/OCR_MNIST_Words/dataset/v011_words_small/765.png'\n",
            " '/content/drive/MyDrive/development/datasets/OCR_MNIST_Words/dataset/v011_words_small/766.jpeg'\n",
            " '/content/drive/MyDrive/development/datasets/OCR_MNIST_Words/dataset/v011_words_small/767.png'\n",
            " '/content/drive/MyDrive/development/datasets/OCR_MNIST_Words/dataset/v011_words_small/768.jpeg'\n",
            " '/content/drive/MyDrive/development/datasets/OCR_MNIST_Words/dataset/v011_words_small/769.jpeg'\n",
            " '/content/drive/MyDrive/development/datasets/OCR_MNIST_Words/dataset/v011_words_small/770.jpeg'\n",
            " '/content/drive/MyDrive/development/datasets/OCR_MNIST_Words/dataset/v011_words_small/771.png'\n",
            " '/content/drive/MyDrive/development/datasets/OCR_MNIST_Words/dataset/v011_words_small/772.png'\n",
            " '/content/drive/MyDrive/development/datasets/OCR_MNIST_Words/dataset/v011_words_small/773.jpeg'\n",
            " '/content/drive/MyDrive/development/datasets/OCR_MNIST_Words/dataset/v011_words_small/774.png'\n",
            " '/content/drive/MyDrive/development/datasets/OCR_MNIST_Words/dataset/v011_words_small/775.jpeg'\n",
            " '/content/drive/MyDrive/development/datasets/OCR_MNIST_Words/dataset/v011_words_small/777.png'\n",
            " '/content/drive/MyDrive/development/datasets/OCR_MNIST_Words/dataset/v011_words_small/778.jpeg'\n",
            " '/content/drive/MyDrive/development/datasets/OCR_MNIST_Words/dataset/v011_words_small/779.jpeg'\n",
            " '/content/drive/MyDrive/development/datasets/OCR_MNIST_Words/dataset/v011_words_small/780.png'\n",
            " '/content/drive/MyDrive/development/datasets/OCR_MNIST_Words/dataset/v011_words_small/781.jpeg'\n",
            " '/content/drive/MyDrive/development/datasets/OCR_MNIST_Words/dataset/v011_words_small/782.jpeg'\n",
            " '/content/drive/MyDrive/development/datasets/OCR_MNIST_Words/dataset/v011_words_small/783.jpeg'\n",
            " '/content/drive/MyDrive/development/datasets/OCR_MNIST_Words/dataset/v011_words_small/784.png'\n",
            " '/content/drive/MyDrive/development/datasets/OCR_MNIST_Words/dataset/v011_words_small/785.png'\n",
            " '/content/drive/MyDrive/development/datasets/OCR_MNIST_Words/dataset/v011_words_small/786.jpeg'\n",
            " '/content/drive/MyDrive/development/datasets/OCR_MNIST_Words/dataset/v011_words_small/787.png'\n",
            " '/content/drive/MyDrive/development/datasets/OCR_MNIST_Words/dataset/v011_words_small/788.jpeg'\n",
            " '/content/drive/MyDrive/development/datasets/OCR_MNIST_Words/dataset/v011_words_small/789.jpeg'\n",
            " '/content/drive/MyDrive/development/datasets/OCR_MNIST_Words/dataset/v011_words_small/790.png'\n",
            " '/content/drive/MyDrive/development/datasets/OCR_MNIST_Words/dataset/v011_words_small/791.png'\n",
            " '/content/drive/MyDrive/development/datasets/OCR_MNIST_Words/dataset/v011_words_small/792.jpeg'\n",
            " '/content/drive/MyDrive/development/datasets/OCR_MNIST_Words/dataset/v011_words_small/793.jpeg'\n",
            " '/content/drive/MyDrive/development/datasets/OCR_MNIST_Words/dataset/v011_words_small/794.png'\n",
            " '/content/drive/MyDrive/development/datasets/OCR_MNIST_Words/dataset/v011_words_small/795.jpeg'\n",
            " '/content/drive/MyDrive/development/datasets/OCR_MNIST_Words/dataset/v011_words_small/796.png'\n",
            " '/content/drive/MyDrive/development/datasets/OCR_MNIST_Words/dataset/v011_words_small/797.png'\n",
            " '/content/drive/MyDrive/development/datasets/OCR_MNIST_Words/dataset/v011_words_small/798.png'\n",
            " '/content/drive/MyDrive/development/datasets/OCR_MNIST_Words/dataset/v011_words_small/799.jpeg'\n",
            " '/content/drive/MyDrive/development/datasets/OCR_MNIST_Words/dataset/v011_words_small/800.png'\n",
            " '/content/drive/MyDrive/development/datasets/OCR_MNIST_Words/dataset/v011_words_small/801.jpeg'\n",
            " '/content/drive/MyDrive/development/datasets/OCR_MNIST_Words/dataset/v011_words_small/802.png'\n",
            " '/content/drive/MyDrive/development/datasets/OCR_MNIST_Words/dataset/v011_words_small/803.jpeg'\n",
            " '/content/drive/MyDrive/development/datasets/OCR_MNIST_Words/dataset/v011_words_small/804.jpeg'\n",
            " '/content/drive/MyDrive/development/datasets/OCR_MNIST_Words/dataset/v011_words_small/805.jpeg'\n",
            " '/content/drive/MyDrive/development/datasets/OCR_MNIST_Words/dataset/v011_words_small/806.png'\n",
            " '/content/drive/MyDrive/development/datasets/OCR_MNIST_Words/dataset/v011_words_small/807.jpeg'\n",
            " '/content/drive/MyDrive/development/datasets/OCR_MNIST_Words/dataset/v011_words_small/808.png'\n",
            " '/content/drive/MyDrive/development/datasets/OCR_MNIST_Words/dataset/v011_words_small/809.jpeg'\n",
            " '/content/drive/MyDrive/development/datasets/OCR_MNIST_Words/dataset/v011_words_small/810.png'\n",
            " '/content/drive/MyDrive/development/datasets/OCR_MNIST_Words/dataset/v011_words_small/811.jpeg'\n",
            " '/content/drive/MyDrive/development/datasets/OCR_MNIST_Words/dataset/v011_words_small/812.png'\n",
            " '/content/drive/MyDrive/development/datasets/OCR_MNIST_Words/dataset/v011_words_small/813.jpeg'\n",
            " '/content/drive/MyDrive/development/datasets/OCR_MNIST_Words/dataset/v011_words_small/814.jpeg'\n",
            " '/content/drive/MyDrive/development/datasets/OCR_MNIST_Words/dataset/v011_words_small/815.jpeg'\n",
            " '/content/drive/MyDrive/development/datasets/OCR_MNIST_Words/dataset/v011_words_small/816.png'\n",
            " '/content/drive/MyDrive/development/datasets/OCR_MNIST_Words/dataset/v011_words_small/817.jpeg'\n",
            " '/content/drive/MyDrive/development/datasets/OCR_MNIST_Words/dataset/v011_words_small/818.jpeg'\n",
            " '/content/drive/MyDrive/development/datasets/OCR_MNIST_Words/dataset/v011_words_small/819.jpeg'\n",
            " '/content/drive/MyDrive/development/datasets/OCR_MNIST_Words/dataset/v011_words_small/820.png'\n",
            " '/content/drive/MyDrive/development/datasets/OCR_MNIST_Words/dataset/v011_words_small/821.jpeg'\n",
            " '/content/drive/MyDrive/development/datasets/OCR_MNIST_Words/dataset/v011_words_small/822.jpeg'\n",
            " '/content/drive/MyDrive/development/datasets/OCR_MNIST_Words/dataset/v011_words_small/823.png'\n",
            " '/content/drive/MyDrive/development/datasets/OCR_MNIST_Words/dataset/v011_words_small/824.png'\n",
            " '/content/drive/MyDrive/development/datasets/OCR_MNIST_Words/dataset/v011_words_small/825.jpeg'\n",
            " '/content/drive/MyDrive/development/datasets/OCR_MNIST_Words/dataset/v011_words_small/826.png'\n",
            " '/content/drive/MyDrive/development/datasets/OCR_MNIST_Words/dataset/v011_words_small/827.jpeg'\n",
            " '/content/drive/MyDrive/development/datasets/OCR_MNIST_Words/dataset/v011_words_small/828.jpeg'\n",
            " '/content/drive/MyDrive/development/datasets/OCR_MNIST_Words/dataset/v011_words_small/829.jpeg'\n",
            " '/content/drive/MyDrive/development/datasets/OCR_MNIST_Words/dataset/v011_words_small/830.jpeg'\n",
            " '/content/drive/MyDrive/development/datasets/OCR_MNIST_Words/dataset/v011_words_small/831.jpeg'\n",
            " '/content/drive/MyDrive/development/datasets/OCR_MNIST_Words/dataset/v011_words_small/832.png'\n",
            " '/content/drive/MyDrive/development/datasets/OCR_MNIST_Words/dataset/v011_words_small/833.png'\n",
            " '/content/drive/MyDrive/development/datasets/OCR_MNIST_Words/dataset/v011_words_small/834.png'\n",
            " '/content/drive/MyDrive/development/datasets/OCR_MNIST_Words/dataset/v011_words_small/835.jpeg'\n",
            " '/content/drive/MyDrive/development/datasets/OCR_MNIST_Words/dataset/v011_words_small/836.png'\n",
            " '/content/drive/MyDrive/development/datasets/OCR_MNIST_Words/dataset/v011_words_small/837.png'\n",
            " '/content/drive/MyDrive/development/datasets/OCR_MNIST_Words/dataset/v011_words_small/838.png'\n",
            " '/content/drive/MyDrive/development/datasets/OCR_MNIST_Words/dataset/v011_words_small/839.png'\n",
            " '/content/drive/MyDrive/development/datasets/OCR_MNIST_Words/dataset/v011_words_small/840.png'\n",
            " '/content/drive/MyDrive/development/datasets/OCR_MNIST_Words/dataset/v011_words_small/841.png'\n",
            " '/content/drive/MyDrive/development/datasets/OCR_MNIST_Words/dataset/v011_words_small/842.png'\n",
            " '/content/drive/MyDrive/development/datasets/OCR_MNIST_Words/dataset/v011_words_small/843.jpeg'\n",
            " '/content/drive/MyDrive/development/datasets/OCR_MNIST_Words/dataset/v011_words_small/844.jpeg'\n",
            " '/content/drive/MyDrive/development/datasets/OCR_MNIST_Words/dataset/v011_words_small/845.png'\n",
            " '/content/drive/MyDrive/development/datasets/OCR_MNIST_Words/dataset/v011_words_small/846.png'\n",
            " '/content/drive/MyDrive/development/datasets/OCR_MNIST_Words/dataset/v011_words_small/847.png'\n",
            " '/content/drive/MyDrive/development/datasets/OCR_MNIST_Words/dataset/v011_words_small/848.jpeg'\n",
            " '/content/drive/MyDrive/development/datasets/OCR_MNIST_Words/dataset/v011_words_small/849.jpeg'\n",
            " '/content/drive/MyDrive/development/datasets/OCR_MNIST_Words/dataset/v011_words_small/850.jpeg'\n",
            " '/content/drive/MyDrive/development/datasets/OCR_MNIST_Words/dataset/v011_words_small/851.jpeg'\n",
            " '/content/drive/MyDrive/development/datasets/OCR_MNIST_Words/dataset/v011_words_small/852.jpeg'\n",
            " '/content/drive/MyDrive/development/datasets/OCR_MNIST_Words/dataset/v011_words_small/853.png'\n",
            " '/content/drive/MyDrive/development/datasets/OCR_MNIST_Words/dataset/v011_words_small/854.jpeg'\n",
            " '/content/drive/MyDrive/development/datasets/OCR_MNIST_Words/dataset/v011_words_small/855.png'\n",
            " '/content/drive/MyDrive/development/datasets/OCR_MNIST_Words/dataset/v011_words_small/856.png'\n",
            " '/content/drive/MyDrive/development/datasets/OCR_MNIST_Words/dataset/v011_words_small/857.jpeg'\n",
            " '/content/drive/MyDrive/development/datasets/OCR_MNIST_Words/dataset/v011_words_small/858.jpeg'\n",
            " '/content/drive/MyDrive/development/datasets/OCR_MNIST_Words/dataset/v011_words_small/859.jpeg'\n",
            " '/content/drive/MyDrive/development/datasets/OCR_MNIST_Words/dataset/v011_words_small/860.jpeg'\n",
            " '/content/drive/MyDrive/development/datasets/OCR_MNIST_Words/dataset/v011_words_small/861.png'\n",
            " '/content/drive/MyDrive/development/datasets/OCR_MNIST_Words/dataset/v011_words_small/862.png'\n",
            " '/content/drive/MyDrive/development/datasets/OCR_MNIST_Words/dataset/v011_words_small/863.jpeg'\n",
            " '/content/drive/MyDrive/development/datasets/OCR_MNIST_Words/dataset/v011_words_small/864.jpeg'\n",
            " '/content/drive/MyDrive/development/datasets/OCR_MNIST_Words/dataset/v011_words_small/865.png'\n",
            " '/content/drive/MyDrive/development/datasets/OCR_MNIST_Words/dataset/v011_words_small/866.jpeg'\n",
            " '/content/drive/MyDrive/development/datasets/OCR_MNIST_Words/dataset/v011_words_small/867.jpeg'\n",
            " '/content/drive/MyDrive/development/datasets/OCR_MNIST_Words/dataset/v011_words_small/868.png'\n",
            " '/content/drive/MyDrive/development/datasets/OCR_MNIST_Words/dataset/v011_words_small/869.png'\n",
            " '/content/drive/MyDrive/development/datasets/OCR_MNIST_Words/dataset/v011_words_small/870.jpeg'\n",
            " '/content/drive/MyDrive/development/datasets/OCR_MNIST_Words/dataset/v011_words_small/871.jpeg'\n",
            " '/content/drive/MyDrive/development/datasets/OCR_MNIST_Words/dataset/v011_words_small/872.jpeg'\n",
            " '/content/drive/MyDrive/development/datasets/OCR_MNIST_Words/dataset/v011_words_small/873.png'\n",
            " '/content/drive/MyDrive/development/datasets/OCR_MNIST_Words/dataset/v011_words_small/874.png'\n",
            " '/content/drive/MyDrive/development/datasets/OCR_MNIST_Words/dataset/v011_words_small/875.png'\n",
            " '/content/drive/MyDrive/development/datasets/OCR_MNIST_Words/dataset/v011_words_small/876.png'\n",
            " '/content/drive/MyDrive/development/datasets/OCR_MNIST_Words/dataset/v011_words_small/877.jpeg'\n",
            " '/content/drive/MyDrive/development/datasets/OCR_MNIST_Words/dataset/v011_words_small/878.jpeg'\n",
            " '/content/drive/MyDrive/development/datasets/OCR_MNIST_Words/dataset/v011_words_small/879.png'\n",
            " '/content/drive/MyDrive/development/datasets/OCR_MNIST_Words/dataset/v011_words_small/880.png'\n",
            " '/content/drive/MyDrive/development/datasets/OCR_MNIST_Words/dataset/v011_words_small/881.jpeg'\n",
            " '/content/drive/MyDrive/development/datasets/OCR_MNIST_Words/dataset/v011_words_small/882.png'\n",
            " '/content/drive/MyDrive/development/datasets/OCR_MNIST_Words/dataset/v011_words_small/883.jpeg'\n",
            " '/content/drive/MyDrive/development/datasets/OCR_MNIST_Words/dataset/v011_words_small/884.png'\n",
            " '/content/drive/MyDrive/development/datasets/OCR_MNIST_Words/dataset/v011_words_small/885.png'\n",
            " '/content/drive/MyDrive/development/datasets/OCR_MNIST_Words/dataset/v011_words_small/886.png'\n",
            " '/content/drive/MyDrive/development/datasets/OCR_MNIST_Words/dataset/v011_words_small/887.jpeg'\n",
            " '/content/drive/MyDrive/development/datasets/OCR_MNIST_Words/dataset/v011_words_small/888.jpeg'\n",
            " '/content/drive/MyDrive/development/datasets/OCR_MNIST_Words/dataset/v011_words_small/889.png'\n",
            " '/content/drive/MyDrive/development/datasets/OCR_MNIST_Words/dataset/v011_words_small/890.png'\n",
            " '/content/drive/MyDrive/development/datasets/OCR_MNIST_Words/dataset/v011_words_small/891.png'\n",
            " '/content/drive/MyDrive/development/datasets/OCR_MNIST_Words/dataset/v011_words_small/892.jpeg'\n",
            " '/content/drive/MyDrive/development/datasets/OCR_MNIST_Words/dataset/v011_words_small/893.png'\n",
            " '/content/drive/MyDrive/development/datasets/OCR_MNIST_Words/dataset/v011_words_small/894.jpeg'\n",
            " '/content/drive/MyDrive/development/datasets/OCR_MNIST_Words/dataset/v011_words_small/895.png'\n",
            " '/content/drive/MyDrive/development/datasets/OCR_MNIST_Words/dataset/v011_words_small/896.jpeg'\n",
            " '/content/drive/MyDrive/development/datasets/OCR_MNIST_Words/dataset/v011_words_small/897.jpeg'\n",
            " '/content/drive/MyDrive/development/datasets/OCR_MNIST_Words/dataset/v011_words_small/898.png'\n",
            " '/content/drive/MyDrive/development/datasets/OCR_MNIST_Words/dataset/v011_words_small/899.jpeg'\n",
            " '/content/drive/MyDrive/development/datasets/OCR_MNIST_Words/dataset/v011_words_small/900.jpeg'\n",
            " '/content/drive/MyDrive/development/datasets/OCR_MNIST_Words/dataset/v011_words_small/901.png'\n",
            " '/content/drive/MyDrive/development/datasets/OCR_MNIST_Words/dataset/v011_words_small/902.jpeg'\n",
            " '/content/drive/MyDrive/development/datasets/OCR_MNIST_Words/dataset/v011_words_small/903.png'\n",
            " '/content/drive/MyDrive/development/datasets/OCR_MNIST_Words/dataset/v011_words_small/904.jpeg'\n",
            " '/content/drive/MyDrive/development/datasets/OCR_MNIST_Words/dataset/v011_words_small/905.jpeg'\n",
            " '/content/drive/MyDrive/development/datasets/OCR_MNIST_Words/dataset/v011_words_small/906.png'\n",
            " '/content/drive/MyDrive/development/datasets/OCR_MNIST_Words/dataset/v011_words_small/907.png'\n",
            " '/content/drive/MyDrive/development/datasets/OCR_MNIST_Words/dataset/v011_words_small/908.jpeg'\n",
            " '/content/drive/MyDrive/development/datasets/OCR_MNIST_Words/dataset/v011_words_small/909.png'\n",
            " '/content/drive/MyDrive/development/datasets/OCR_MNIST_Words/dataset/v011_words_small/910.png'\n",
            " '/content/drive/MyDrive/development/datasets/OCR_MNIST_Words/dataset/v011_words_small/911.jpeg'\n",
            " '/content/drive/MyDrive/development/datasets/OCR_MNIST_Words/dataset/v011_words_small/912.png'\n",
            " '/content/drive/MyDrive/development/datasets/OCR_MNIST_Words/dataset/v011_words_small/913.jpeg'\n",
            " '/content/drive/MyDrive/development/datasets/OCR_MNIST_Words/dataset/v011_words_small/914.png'\n",
            " '/content/drive/MyDrive/development/datasets/OCR_MNIST_Words/dataset/v011_words_small/915.png'\n",
            " '/content/drive/MyDrive/development/datasets/OCR_MNIST_Words/dataset/v011_words_small/916.jpeg'\n",
            " '/content/drive/MyDrive/development/datasets/OCR_MNIST_Words/dataset/v011_words_small/917.png'\n",
            " '/content/drive/MyDrive/development/datasets/OCR_MNIST_Words/dataset/v011_words_small/918.jpeg'\n",
            " '/content/drive/MyDrive/development/datasets/OCR_MNIST_Words/dataset/v011_words_small/919.png'\n",
            " '/content/drive/MyDrive/development/datasets/OCR_MNIST_Words/dataset/v011_words_small/920.jpeg'\n",
            " '/content/drive/MyDrive/development/datasets/OCR_MNIST_Words/dataset/v011_words_small/921.png'\n",
            " '/content/drive/MyDrive/development/datasets/OCR_MNIST_Words/dataset/v011_words_small/922.png'\n",
            " '/content/drive/MyDrive/development/datasets/OCR_MNIST_Words/dataset/v011_words_small/923.png'\n",
            " '/content/drive/MyDrive/development/datasets/OCR_MNIST_Words/dataset/v011_words_small/924.png'\n",
            " '/content/drive/MyDrive/development/datasets/OCR_MNIST_Words/dataset/v011_words_small/925.jpeg'\n",
            " '/content/drive/MyDrive/development/datasets/OCR_MNIST_Words/dataset/v011_words_small/926.png'\n",
            " '/content/drive/MyDrive/development/datasets/OCR_MNIST_Words/dataset/v011_words_small/927.jpeg'\n",
            " '/content/drive/MyDrive/development/datasets/OCR_MNIST_Words/dataset/v011_words_small/928.jpeg'\n",
            " '/content/drive/MyDrive/development/datasets/OCR_MNIST_Words/dataset/v011_words_small/929.jpeg'\n",
            " '/content/drive/MyDrive/development/datasets/OCR_MNIST_Words/dataset/v011_words_small/930.png'\n",
            " '/content/drive/MyDrive/development/datasets/OCR_MNIST_Words/dataset/v011_words_small/931.jpeg'\n",
            " '/content/drive/MyDrive/development/datasets/OCR_MNIST_Words/dataset/v011_words_small/932.png'\n",
            " '/content/drive/MyDrive/development/datasets/OCR_MNIST_Words/dataset/v011_words_small/933.jpeg'\n",
            " '/content/drive/MyDrive/development/datasets/OCR_MNIST_Words/dataset/v011_words_small/934.jpeg'\n",
            " '/content/drive/MyDrive/development/datasets/OCR_MNIST_Words/dataset/v011_words_small/935.jpeg'\n",
            " '/content/drive/MyDrive/development/datasets/OCR_MNIST_Words/dataset/v011_words_small/936.jpeg'\n",
            " '/content/drive/MyDrive/development/datasets/OCR_MNIST_Words/dataset/v011_words_small/937.png'\n",
            " '/content/drive/MyDrive/development/datasets/OCR_MNIST_Words/dataset/v011_words_small/938.png'\n",
            " '/content/drive/MyDrive/development/datasets/OCR_MNIST_Words/dataset/v011_words_small/939.jpeg'\n",
            " '/content/drive/MyDrive/development/datasets/OCR_MNIST_Words/dataset/v011_words_small/940.png'\n",
            " '/content/drive/MyDrive/development/datasets/OCR_MNIST_Words/dataset/v011_words_small/941.jpeg'\n",
            " '/content/drive/MyDrive/development/datasets/OCR_MNIST_Words/dataset/v011_words_small/942.png'\n",
            " '/content/drive/MyDrive/development/datasets/OCR_MNIST_Words/dataset/v011_words_small/943.png'\n",
            " '/content/drive/MyDrive/development/datasets/OCR_MNIST_Words/dataset/v011_words_small/944.jpeg'\n",
            " '/content/drive/MyDrive/development/datasets/OCR_MNIST_Words/dataset/v011_words_small/945.jpeg'\n",
            " '/content/drive/MyDrive/development/datasets/OCR_MNIST_Words/dataset/v011_words_small/946.png'\n",
            " '/content/drive/MyDrive/development/datasets/OCR_MNIST_Words/dataset/v011_words_small/947.jpeg'\n",
            " '/content/drive/MyDrive/development/datasets/OCR_MNIST_Words/dataset/v011_words_small/948.jpeg'\n",
            " '/content/drive/MyDrive/development/datasets/OCR_MNIST_Words/dataset/v011_words_small/949.png'\n",
            " '/content/drive/MyDrive/development/datasets/OCR_MNIST_Words/dataset/v011_words_small/950.jpeg'\n",
            " '/content/drive/MyDrive/development/datasets/OCR_MNIST_Words/dataset/v011_words_small/951.jpeg'\n",
            " '/content/drive/MyDrive/development/datasets/OCR_MNIST_Words/dataset/v011_words_small/952.png'\n",
            " '/content/drive/MyDrive/development/datasets/OCR_MNIST_Words/dataset/v011_words_small/953.png'\n",
            " '/content/drive/MyDrive/development/datasets/OCR_MNIST_Words/dataset/v011_words_small/954.png'\n",
            " '/content/drive/MyDrive/development/datasets/OCR_MNIST_Words/dataset/v011_words_small/955.jpeg'\n",
            " '/content/drive/MyDrive/development/datasets/OCR_MNIST_Words/dataset/v011_words_small/956.png'\n",
            " '/content/drive/MyDrive/development/datasets/OCR_MNIST_Words/dataset/v011_words_small/957.jpeg'\n",
            " '/content/drive/MyDrive/development/datasets/OCR_MNIST_Words/dataset/v011_words_small/958.jpeg'\n",
            " '/content/drive/MyDrive/development/datasets/OCR_MNIST_Words/dataset/v011_words_small/959.png'\n",
            " '/content/drive/MyDrive/development/datasets/OCR_MNIST_Words/dataset/v011_words_small/960.png'\n",
            " '/content/drive/MyDrive/development/datasets/OCR_MNIST_Words/dataset/v011_words_small/961.jpeg'\n",
            " '/content/drive/MyDrive/development/datasets/OCR_MNIST_Words/dataset/v011_words_small/962.png'\n",
            " '/content/drive/MyDrive/development/datasets/OCR_MNIST_Words/dataset/v011_words_small/963.jpeg'\n",
            " '/content/drive/MyDrive/development/datasets/OCR_MNIST_Words/dataset/v011_words_small/964.png'\n",
            " '/content/drive/MyDrive/development/datasets/OCR_MNIST_Words/dataset/v011_words_small/965.jpeg'\n",
            " '/content/drive/MyDrive/development/datasets/OCR_MNIST_Words/dataset/v011_words_small/966.jpeg'\n",
            " '/content/drive/MyDrive/development/datasets/OCR_MNIST_Words/dataset/v011_words_small/967.jpeg'\n",
            " '/content/drive/MyDrive/development/datasets/OCR_MNIST_Words/dataset/v011_words_small/968.png'\n",
            " '/content/drive/MyDrive/development/datasets/OCR_MNIST_Words/dataset/v011_words_small/969.png'\n",
            " '/content/drive/MyDrive/development/datasets/OCR_MNIST_Words/dataset/v011_words_small/970.png'\n",
            " '/content/drive/MyDrive/development/datasets/OCR_MNIST_Words/dataset/v011_words_small/971.png'\n",
            " '/content/drive/MyDrive/development/datasets/OCR_MNIST_Words/dataset/v011_words_small/972.jpeg'\n",
            " '/content/drive/MyDrive/development/datasets/OCR_MNIST_Words/dataset/v011_words_small/973.jpeg'\n",
            " '/content/drive/MyDrive/development/datasets/OCR_MNIST_Words/dataset/v011_words_small/974.png'\n",
            " '/content/drive/MyDrive/development/datasets/OCR_MNIST_Words/dataset/v011_words_small/975.png'\n",
            " '/content/drive/MyDrive/development/datasets/OCR_MNIST_Words/dataset/v011_words_small/976.png'\n",
            " '/content/drive/MyDrive/development/datasets/OCR_MNIST_Words/dataset/v011_words_small/977.png'\n",
            " '/content/drive/MyDrive/development/datasets/OCR_MNIST_Words/dataset/v011_words_small/978.jpeg'\n",
            " '/content/drive/MyDrive/development/datasets/OCR_MNIST_Words/dataset/v011_words_small/979.png'\n",
            " '/content/drive/MyDrive/development/datasets/OCR_MNIST_Words/dataset/v011_words_small/980.jpeg'\n",
            " '/content/drive/MyDrive/development/datasets/OCR_MNIST_Words/dataset/v011_words_small/981.jpeg'\n",
            " '/content/drive/MyDrive/development/datasets/OCR_MNIST_Words/dataset/v011_words_small/982.png'\n",
            " '/content/drive/MyDrive/development/datasets/OCR_MNIST_Words/dataset/v011_words_small/983.png'\n",
            " '/content/drive/MyDrive/development/datasets/OCR_MNIST_Words/dataset/v011_words_small/984.png'\n",
            " '/content/drive/MyDrive/development/datasets/OCR_MNIST_Words/dataset/v011_words_small/985.png'\n",
            " '/content/drive/MyDrive/development/datasets/OCR_MNIST_Words/dataset/v011_words_small/986.jpeg'\n",
            " '/content/drive/MyDrive/development/datasets/OCR_MNIST_Words/dataset/v011_words_small/987.jpeg'\n",
            " '/content/drive/MyDrive/development/datasets/OCR_MNIST_Words/dataset/v011_words_small/988.jpeg'\n",
            " '/content/drive/MyDrive/development/datasets/OCR_MNIST_Words/dataset/v011_words_small/989.png'\n",
            " '/content/drive/MyDrive/development/datasets/OCR_MNIST_Words/dataset/v011_words_small/990.png'\n",
            " '/content/drive/MyDrive/development/datasets/OCR_MNIST_Words/dataset/v011_words_small/991.jpeg'\n",
            " '/content/drive/MyDrive/development/datasets/OCR_MNIST_Words/dataset/v011_words_small/992.jpeg'\n",
            " '/content/drive/MyDrive/development/datasets/OCR_MNIST_Words/dataset/v011_words_small/993.png'\n",
            " '/content/drive/MyDrive/development/datasets/OCR_MNIST_Words/dataset/v011_words_small/994.jpeg'\n",
            " '/content/drive/MyDrive/development/datasets/OCR_MNIST_Words/dataset/v011_words_small/995.jpeg'\n",
            " '/content/drive/MyDrive/development/datasets/OCR_MNIST_Words/dataset/v011_words_small/996.jpeg'\n",
            " '/content/drive/MyDrive/development/datasets/OCR_MNIST_Words/dataset/v011_words_small/997.jpeg'\n",
            " '/content/drive/MyDrive/development/datasets/OCR_MNIST_Words/dataset/v011_words_small/998.jpeg'\n",
            " '/content/drive/MyDrive/development/datasets/OCR_MNIST_Words/dataset/v011_words_small/999.png'\n",
            " '/content/drive/MyDrive/development/datasets/OCR_MNIST_Words/dataset/v011_words_small/1000.png'\n",
            " '/content/drive/MyDrive/development/datasets/OCR_MNIST_Words/dataset/v011_words_small/1001.png'\n",
            " '/content/drive/MyDrive/development/datasets/OCR_MNIST_Words/dataset/v011_words_small/1002.png']\n"
          ]
        }
      ]
    },
    {
      "cell_type": "code",
      "source": [
        "def process_single_sample(img_path, label):\n",
        "    # 1. Read image\n",
        "    img = tf.io.read_file(img_path)\n",
        "    # 2. Decode and convert to grayscale\n",
        "    img = tf.io.decode_png(img, channels=1)\n",
        "    # 3. Convert to float32 in [0, 1] range\n",
        "    img = tf.image.convert_image_dtype(img, tf.float32)\n",
        "    # 4. Resize to the desired size. its important for the resize_with_pad funktion. When picture is way bigge with strange aspect ratio ist rans into an error\n",
        "    try:\n",
        "      img = tf.image.resize(img, [MAX_HIGHT, MAX_WIDTH], preserve_aspect_ratio= True)\n",
        "    except:\n",
        "      #img = tf.image.resize(img, [MAX_HIGHT, MAX_WIDTH], preserve_aspect_ratio= False)\n",
        "      img = tf.image.resize_with_crop_or_pad(img, MAX_HIGHT, MAX_WIDTH)\n",
        "      img = tf.transpose(img, perm=[1, 0, 2])\n",
        "      # 7. Return a dict as our model is expecting two inputs\n",
        "      return {\"image\": img, \"label\": label}\n",
        "\n",
        "    # 5. Pad the image to MAX_HIGHT and MAX_WIDTH\n",
        "    img = tf.image.resize_with_pad(img, target_height=MAX_HIGHT, target_width=MAX_WIDTH)\n",
        "    # 6. Transpose the image because we want the time\n",
        "    img = tf.transpose(img, perm=[1, 0, 2])\n",
        "    # 7. Return a dict as our model is expecting two inputs\n",
        "    return {\"image\": img, \"label\": label}\n",
        "\n",
        "\n",
        "\n",
        "_img= process_single_sample(x_all_img_total_path[3],y_all[3])\n",
        "plt.imshow(_img[\"image\"],cmap=\"gray\")\n",
        "print(num_to_label(y_all[3]))\n",
        "print(x_all_img_total_path[3])"
      ],
      "metadata": {
        "colab": {
          "base_uri": "https://localhost:8080/",
          "height": 468
        },
        "id": "3BMPg01aDGxv",
        "outputId": "653d58f3-830e-4c86-ba81-ea79b668f17e"
      },
      "execution_count": 55,
      "outputs": [
        {
          "output_type": "stream",
          "name": "stdout",
          "text": [
            "the+\n",
            "/content/drive/MyDrive/development/datasets/OCR_MNIST_Words/dataset/v011_words_small/3.jpeg\n"
          ]
        },
        {
          "output_type": "display_data",
          "data": {
            "text/plain": [
              "<Figure size 640x480 with 1 Axes>"
            ],
            "image/png": "[encoded data removed]"
          },
          "metadata": {}
        }
      ]
    },
    {
      "cell_type": "code",
      "source": [
        "train_dataset = tf.data.Dataset.from_tensor_slices((x_all_img_total_path, y_all))\n",
        "validation_dataset = tf.data.Dataset.from_tensor_slices((x_all_img_total_path[:20], y_all[:20]))\n",
        "\n",
        "train_dataset = (\n",
        "    train_dataset.map(\n",
        "        process_single_sample, num_parallel_calls=tf.data.experimental.AUTOTUNE\n",
        "    )\n",
        "    .batch(BATCH_SIZE)\n",
        "    .prefetch(buffer_size=tf.data.experimental.AUTOTUNE)\n",
        ")\n",
        "\n",
        "#unbeding noch mit richtigen val daten füllen\n",
        "validation_dataset = (\n",
        "    validation_dataset.map(\n",
        "        process_single_sample, num_parallel_calls=tf.data.experimental.AUTOTUNE\n",
        "    )\n",
        "    .batch(BATCH_SIZE)\n",
        "    .prefetch(buffer_size=tf.data.experimental.AUTOTUNE)\n",
        ")"
      ],
      "metadata": {
        "colab": {
          "base_uri": "https://localhost:8080/",
          "height": 160
        },
        "id": "YVhiulVFVptu",
        "outputId": "25207fcd-b462-48d6-e03d-5f2a46d11ace"
      },
      "execution_count": 51,
      "outputs": [
        {
          "output_type": "display_data",
          "data": {
            "text/plain": [
              "'type  :'"
            ],
            "application/vnd.google.colaboratory.intrinsic+json": {
              "type": "string"
            }
          },
          "metadata": {}
        },
        {
          "output_type": "display_data",
          "data": {
            "text/plain": [
              "tensorflow.python.framework.ops.SymbolicTensor"
            ]
          },
          "metadata": {}
        },
        {
          "output_type": "display_data",
          "data": {
            "text/plain": [
              "'shape Mytensot  :'"
            ],
            "application/vnd.google.colaboratory.intrinsic+json": {
              "type": "string"
            }
          },
          "metadata": {}
        },
        {
          "output_type": "display_data",
          "data": {
            "text/plain": [
              "TensorShape([24])"
            ]
          },
          "metadata": {}
        },
        {
          "output_type": "display_data",
          "data": {
            "text/plain": [
              "'type  :'"
            ],
            "application/vnd.google.colaboratory.intrinsic+json": {
              "type": "string"
            }
          },
          "metadata": {}
        },
        {
          "output_type": "display_data",
          "data": {
            "text/plain": [
              "tensorflow.python.framework.ops.SymbolicTensor"
            ]
          },
          "metadata": {}
        },
        {
          "output_type": "display_data",
          "data": {
            "text/plain": [
              "'shape Mytensot  :'"
            ],
            "application/vnd.google.colaboratory.intrinsic+json": {
              "type": "string"
            }
          },
          "metadata": {}
        },
        {
          "output_type": "display_data",
          "data": {
            "text/plain": [
              "TensorShape([24])"
            ]
          },
          "metadata": {}
        }
      ]
    },
    {
      "cell_type": "code",
      "source": [
        "for batch in train_dataset.take(1):\n",
        "  print(1)"
      ],
      "metadata": {
        "id": "PRrrr6lLH_b1",
        "outputId": "8d9e2afa-9e7a-42af-ce05-32bc9c354da6",
        "colab": {
          "base_uri": "https://localhost:8080/"
        }
      },
      "execution_count": 22,
      "outputs": [
        {
          "output_type": "stream",
          "name": "stdout",
          "text": [
            "1\n"
          ]
        }
      ]
    },
    {
      "cell_type": "code",
      "source": [
        "_, ax = plt.subplots(4, 4, figsize=(10, 5))\n",
        "for batch in train_dataset.take(1):\n",
        "    images = batch[\"image\"]\n",
        "    labels = batch[\"label\"]\n",
        "    for i in range(16):\n",
        "        img = (images[i] * 255).numpy().astype(\"uint8\")\n",
        "        label = num_to_label(labels[i])\n",
        "        ax[i // 4, i % 4].imshow(img[:, :, 0].T, cmap=\"gray\")\n",
        "        ax[i // 4, i % 4].set_title(label)\n",
        "        ax[i // 4, i % 4].axis(\"off\")\n",
        "plt.show()"
      ],
      "metadata": {
        "colab": {
          "base_uri": "https://localhost:8080/",
          "height": 813
        },
        "id": "DOXgRgWBXzso",
        "outputId": "e6ce57bb-9a64-4813-bbd9-b1fcfaa9d153"
      },
      "execution_count": 52,
      "outputs": [
        {
          "output_type": "error",
          "ename": "InvalidArgumentError",
          "evalue": "{{function_node __wrapped__StridedSlice_device_/job:localhost/replica:0/task:0/device:GPU:0}} slice index 5 of dimension 0 out of bounds. [Op:StridedSlice] name: strided_slice/",
          "traceback": [
            "\u001b[0;31m---------------------------------------------------------------------------\u001b[0m",
            "\u001b[0;31mInvalidArgumentError\u001b[0m                      Traceback (most recent call last)",
            "\u001b[0;32m<ipython-input-52-58a62965b51b>\u001b[0m in \u001b[0;36m<cell line: 2>\u001b[0;34m()\u001b[0m\n\u001b[1;32m      4\u001b[0m     \u001b[0mlabels\u001b[0m \u001b[0;34m=\u001b[0m \u001b[0mbatch\u001b[0m\u001b[0;34m[\u001b[0m\u001b[0;34m\"label\"\u001b[0m\u001b[0;34m]\u001b[0m\u001b[0;34m\u001b[0m\u001b[0;34m\u001b[0m\u001b[0m\n\u001b[1;32m      5\u001b[0m     \u001b[0;32mfor\u001b[0m \u001b[0mi\u001b[0m \u001b[0;32min\u001b[0m \u001b[0mrange\u001b[0m\u001b[0;34m(\u001b[0m\u001b[0;36m16\u001b[0m\u001b[0;34m)\u001b[0m\u001b[0;34m:\u001b[0m\u001b[0;34m\u001b[0m\u001b[0;34m\u001b[0m\u001b[0m\n\u001b[0;32m----> 6\u001b[0;31m         \u001b[0mimg\u001b[0m \u001b[0;34m=\u001b[0m \u001b[0;34m(\u001b[0m\u001b[0mimages\u001b[0m\u001b[0;34m[\u001b[0m\u001b[0mi\u001b[0m\u001b[0;34m]\u001b[0m \u001b[0;34m*\u001b[0m \u001b[0;36m255\u001b[0m\u001b[0;34m)\u001b[0m\u001b[0;34m.\u001b[0m\u001b[0mnumpy\u001b[0m\u001b[0;34m(\u001b[0m\u001b[0;34m)\u001b[0m\u001b[0;34m.\u001b[0m\u001b[0mastype\u001b[0m\u001b[0;34m(\u001b[0m\u001b[0;34m\"uint8\"\u001b[0m\u001b[0;34m)\u001b[0m\u001b[0;34m\u001b[0m\u001b[0;34m\u001b[0m\u001b[0m\n\u001b[0m\u001b[1;32m      7\u001b[0m         \u001b[0mlabel\u001b[0m \u001b[0;34m=\u001b[0m \u001b[0mnum_to_label\u001b[0m\u001b[0;34m(\u001b[0m\u001b[0mlabels\u001b[0m\u001b[0;34m[\u001b[0m\u001b[0mi\u001b[0m\u001b[0;34m]\u001b[0m\u001b[0;34m)\u001b[0m\u001b[0;34m\u001b[0m\u001b[0;34m\u001b[0m\u001b[0m\n\u001b[1;32m      8\u001b[0m         \u001b[0max\u001b[0m\u001b[0;34m[\u001b[0m\u001b[0mi\u001b[0m \u001b[0;34m//\u001b[0m \u001b[0;36m4\u001b[0m\u001b[0;34m,\u001b[0m \u001b[0mi\u001b[0m \u001b[0;34m%\u001b[0m \u001b[0;36m4\u001b[0m\u001b[0;34m]\u001b[0m\u001b[0;34m.\u001b[0m\u001b[0mimshow\u001b[0m\u001b[0;34m(\u001b[0m\u001b[0mimg\u001b[0m\u001b[0;34m[\u001b[0m\u001b[0;34m:\u001b[0m\u001b[0;34m,\u001b[0m \u001b[0;34m:\u001b[0m\u001b[0;34m,\u001b[0m \u001b[0;36m0\u001b[0m\u001b[0;34m]\u001b[0m\u001b[0;34m.\u001b[0m\u001b[0mT\u001b[0m\u001b[0;34m,\u001b[0m \u001b[0mcmap\u001b[0m\u001b[0;34m=\u001b[0m\u001b[0;34m\"gray\"\u001b[0m\u001b[0;34m)\u001b[0m\u001b[0;34m\u001b[0m\u001b[0;34m\u001b[0m\u001b[0m\n",
            "\u001b[0;32m/usr/local/lib/python3.10/dist-packages/tensorflow/python/util/traceback_utils.py\u001b[0m in \u001b[0;36merror_handler\u001b[0;34m(*args, **kwargs)\u001b[0m\n\u001b[1;32m    151\u001b[0m     \u001b[0;32mexcept\u001b[0m \u001b[0mException\u001b[0m \u001b[0;32mas\u001b[0m \u001b[0me\u001b[0m\u001b[0;34m:\u001b[0m\u001b[0;34m\u001b[0m\u001b[0;34m\u001b[0m\u001b[0m\n\u001b[1;32m    152\u001b[0m       \u001b[0mfiltered_tb\u001b[0m \u001b[0;34m=\u001b[0m \u001b[0m_process_traceback_frames\u001b[0m\u001b[0;34m(\u001b[0m\u001b[0me\u001b[0m\u001b[0;34m.\u001b[0m\u001b[0m__traceback__\u001b[0m\u001b[0;34m)\u001b[0m\u001b[0;34m\u001b[0m\u001b[0;34m\u001b[0m\u001b[0m\n\u001b[0;32m--> 153\u001b[0;31m       \u001b[0;32mraise\u001b[0m \u001b[0me\u001b[0m\u001b[0;34m.\u001b[0m\u001b[0mwith_traceback\u001b[0m\u001b[0;34m(\u001b[0m\u001b[0mfiltered_tb\u001b[0m\u001b[0;34m)\u001b[0m \u001b[0;32mfrom\u001b[0m \u001b[0;32mNone\u001b[0m\u001b[0;34m\u001b[0m\u001b[0;34m\u001b[0m\u001b[0m\n\u001b[0m\u001b[1;32m    154\u001b[0m     \u001b[0;32mfinally\u001b[0m\u001b[0;34m:\u001b[0m\u001b[0;34m\u001b[0m\u001b[0;34m\u001b[0m\u001b[0m\n\u001b[1;32m    155\u001b[0m       \u001b[0;32mdel\u001b[0m \u001b[0mfiltered_tb\u001b[0m\u001b[0;34m\u001b[0m\u001b[0;34m\u001b[0m\u001b[0m\n",
            "\u001b[0;32m/usr/local/lib/python3.10/dist-packages/tensorflow/python/framework/ops.py\u001b[0m in \u001b[0;36mraise_from_not_ok_status\u001b[0;34m(e, name)\u001b[0m\n\u001b[1;32m   5881\u001b[0m \u001b[0;32mdef\u001b[0m \u001b[0mraise_from_not_ok_status\u001b[0m\u001b[0;34m(\u001b[0m\u001b[0me\u001b[0m\u001b[0;34m,\u001b[0m \u001b[0mname\u001b[0m\u001b[0;34m)\u001b[0m \u001b[0;34m->\u001b[0m \u001b[0mNoReturn\u001b[0m\u001b[0;34m:\u001b[0m\u001b[0;34m\u001b[0m\u001b[0;34m\u001b[0m\u001b[0m\n\u001b[1;32m   5882\u001b[0m   \u001b[0me\u001b[0m\u001b[0;34m.\u001b[0m\u001b[0mmessage\u001b[0m \u001b[0;34m+=\u001b[0m \u001b[0;34m(\u001b[0m\u001b[0;34m\" name: \"\u001b[0m \u001b[0;34m+\u001b[0m \u001b[0mstr\u001b[0m\u001b[0;34m(\u001b[0m\u001b[0mname\u001b[0m \u001b[0;32mif\u001b[0m \u001b[0mname\u001b[0m \u001b[0;32mis\u001b[0m \u001b[0;32mnot\u001b[0m \u001b[0;32mNone\u001b[0m \u001b[0;32melse\u001b[0m \u001b[0;34m\"\"\u001b[0m\u001b[0;34m)\u001b[0m\u001b[0;34m)\u001b[0m\u001b[0;34m\u001b[0m\u001b[0;34m\u001b[0m\u001b[0m\n\u001b[0;32m-> 5883\u001b[0;31m   \u001b[0;32mraise\u001b[0m \u001b[0mcore\u001b[0m\u001b[0;34m.\u001b[0m\u001b[0m_status_to_exception\u001b[0m\u001b[0;34m(\u001b[0m\u001b[0me\u001b[0m\u001b[0;34m)\u001b[0m \u001b[0;32mfrom\u001b[0m \u001b[0;32mNone\u001b[0m  \u001b[0;31m# pylint: disable=protected-access\u001b[0m\u001b[0;34m\u001b[0m\u001b[0;34m\u001b[0m\u001b[0m\n\u001b[0m\u001b[1;32m   5884\u001b[0m \u001b[0;34m\u001b[0m\u001b[0m\n\u001b[1;32m   5885\u001b[0m \u001b[0;34m\u001b[0m\u001b[0m\n",
            "\u001b[0;31mInvalidArgumentError\u001b[0m: {{function_node __wrapped__StridedSlice_device_/job:localhost/replica:0/task:0/device:GPU:0}} slice index 5 of dimension 0 out of bounds. [Op:StridedSlice] name: strided_slice/"
          ]
        },
        {
          "output_type": "display_data",
          "data": {
            "text/plain": [
              "<Figure size 1000x500 with 16 Axes>"
            ],
            "image/png": "[encoded data removed]"
          },
          "metadata": {}
        }
      ]
    },
    {
      "cell_type": "markdown",
      "source": [
        "## Create the OCR Model"
      ],
      "metadata": {
        "id": "hPNkZn20mkfu"
      }
    },
    {
      "cell_type": "code",
      "source": [
        "class CTCLayer(layers.Layer):\n",
        "    def __init__(self, name=None):\n",
        "        super().__init__(name=name)\n",
        "        self.loss_fn = keras.backend.ctc_batch_cost\n",
        "\n",
        "    def call(self, y_true, y_pred):\n",
        "        # Compute the training-time loss value and add it\n",
        "        # to the layer using `self.add_loss()`.\n",
        "        batch_len = tf.cast(tf.shape(y_true)[0], dtype=\"int64\")\n",
        "        input_length = tf.cast(tf.shape(y_pred)[1], dtype=\"int64\")\n",
        "        label_length = tf.cast(tf.shape(y_true)[1], dtype=\"int64\")\n",
        "\n",
        "        input_length = input_length * tf.ones(shape=(batch_len, 1), dtype=\"int64\")\n",
        "        label_length = label_length * tf.ones(shape=(batch_len, 1), dtype=\"int64\")\n",
        "\n",
        "        loss = self.loss_fn(y_true, y_pred, input_length, label_length)\n",
        "        self.add_loss(loss)\n",
        "\n",
        "        # At test time, just return the computed predictions\n",
        "        return y_pred\n",
        "\n",
        "\n",
        "def build_model():\n",
        "    # Inputs to the model\n",
        "    input_img = layers.Input(\n",
        "        shape=(MAX_WIDTH, MAX_HIGHT, 1), name=\"image\", dtype=\"float32\"\n",
        "    )\n",
        "    labels = layers.Input(name=\"label\", shape=(None,), dtype=\"float32\")\n",
        "\n",
        "    # First conv block\n",
        "    x = layers.Conv2D(\n",
        "        32,\n",
        "        (3, 3),\n",
        "        activation=\"relu\",\n",
        "        kernel_initializer=\"he_normal\",\n",
        "        padding=\"same\",\n",
        "        name=\"Conv1\",\n",
        "    )(input_img)\n",
        "    x = layers.MaxPooling2D((2, 2), name=\"pool1\")(x)\n",
        "\n",
        "    # Second conv block\n",
        "    x = layers.Conv2D(\n",
        "        64,\n",
        "        (3, 3),\n",
        "        activation=\"relu\",\n",
        "        kernel_initializer=\"he_normal\",\n",
        "        padding=\"same\",\n",
        "        name=\"Conv2\",\n",
        "    )(x)\n",
        "    x = layers.MaxPooling2D((2, 2), name=\"pool2\")(x)\n",
        "\n",
        "    # We have used two max pool with pool size and strides 2.\n",
        "    # Hence, downsampled feature maps are 4x smaller. The number of\n",
        "    # filters in the last layer is 64. Reshape accordingly before\n",
        "    # passing the output to the RNN part of the model\n",
        "    new_shape = ((MAX_WIDTH // 4), (MAX_HIGHT // 4) * 64)\n",
        "    x = layers.Reshape(target_shape=new_shape, name=\"reshape\")(x)\n",
        "    x = layers.Dense(64, activation=\"relu\", name=\"dense1\")(x)\n",
        "    x = layers.Dropout(0.2)(x)\n",
        "\n",
        "    # RNNs\n",
        "    x = layers.Bidirectional(layers.LSTM(128, return_sequences=True, dropout=0.25))(x)\n",
        "    x = layers.Bidirectional(layers.LSTM(64, return_sequences=True, dropout=0.25))(x)\n",
        "\n",
        "    # Output layer\n",
        "    x = layers.Dense(len(ALPHABETS) + 1, activation=\"softmax\", name=\"dense2\")(x)\n",
        "\n",
        "    # Add CTC layer for calculating CTC loss at each step\n",
        "    output = CTCLayer(name=\"ctc_loss\")(labels, x)\n",
        "\n",
        "    # Define the model\n",
        "    model = keras.models.Model(\n",
        "        inputs=[input_img, labels], outputs=output, name=\"ocr_model_v1\"\n",
        "    )\n",
        "    # Optimizer\n",
        "    opt = keras.optimizers.Adam()\n",
        "    # Compile the model and return\n",
        "    model.compile(optimizer=opt)\n",
        "    return model\n",
        "\n",
        "\n",
        "# Get the model\n",
        "model = build_model()\n",
        "model.summary()"
      ],
      "metadata": {
        "colab": {
          "base_uri": "https://localhost:8080/"
        },
        "id": "DbShjuahnR8g",
        "outputId": "c4ea4027-aa1e-4788-e740-0cc852b49a6f"
      },
      "execution_count": 53,
      "outputs": [
        {
          "output_type": "stream",
          "name": "stdout",
          "text": [
            "Model: \"ocr_model_v1\"\n",
            "__________________________________________________________________________________________________\n",
            " Layer (type)                Output Shape                 Param #   Connected to                  \n",
            "==================================================================================================\n",
            " image (InputLayer)          [(None, 96, 48, 1)]          0         []                            \n",
            "                                                                                                  \n",
            " Conv1 (Conv2D)              (None, 96, 48, 32)           320       ['image[0][0]']               \n",
            "                                                                                                  \n",
            " pool1 (MaxPooling2D)        (None, 48, 24, 32)           0         ['Conv1[0][0]']               \n",
            "                                                                                                  \n",
            " Conv2 (Conv2D)              (None, 48, 24, 64)           18496     ['pool1[0][0]']               \n",
            "                                                                                                  \n",
            " pool2 (MaxPooling2D)        (None, 24, 12, 64)           0         ['Conv2[0][0]']               \n",
            "                                                                                                  \n",
            " reshape (Reshape)           (None, 24, 768)              0         ['pool2[0][0]']               \n",
            "                                                                                                  \n",
            " dense1 (Dense)              (None, 24, 64)               49216     ['reshape[0][0]']             \n",
            "                                                                                                  \n",
            " dropout_6 (Dropout)         (None, 24, 64)               0         ['dense1[0][0]']              \n",
            "                                                                                                  \n",
            " bidirectional_12 (Bidirect  (None, 24, 256)              197632    ['dropout_6[0][0]']           \n",
            " ional)                                                                                           \n",
            "                                                                                                  \n",
            " bidirectional_13 (Bidirect  (None, 24, 128)              164352    ['bidirectional_12[0][0]']    \n",
            " ional)                                                                                           \n",
            "                                                                                                  \n",
            " label (InputLayer)          [(None, None)]               0         []                            \n",
            "                                                                                                  \n",
            " dense2 (Dense)              (None, 24, 72)               9288      ['bidirectional_13[0][0]']    \n",
            "                                                                                                  \n",
            " ctc_loss (CTCLayer)         (None, 24, 72)               0         ['label[0][0]',               \n",
            "                                                                     'dense2[0][0]']              \n",
            "                                                                                                  \n",
            "==================================================================================================\n",
            "Total params: 439304 (1.68 MB)\n",
            "Trainable params: 439304 (1.68 MB)\n",
            "Non-trainable params: 0 (0.00 Byte)\n",
            "__________________________________________________________________________________________________\n"
          ]
        }
      ]
    },
    {
      "cell_type": "code",
      "source": [
        "epochs = 10\n",
        "early_stopping_patience = 10\n",
        "# Add early stopping\n",
        "early_stopping = keras.callbacks.EarlyStopping(\n",
        "    monitor=\"val_loss\", patience=early_stopping_patience, restore_best_weights=True\n",
        ")\n",
        "\n",
        "# Train the model\n",
        "history = model.fit(\n",
        "    train_dataset,\n",
        "    validation_data=train_dataset,\n",
        "    epochs=epochs,\n",
        "    callbacks=[early_stopping],\n",
        ")"
      ],
      "metadata": {
        "colab": {
          "base_uri": "https://localhost:8080/",
          "height": 415
        },
        "id": "Djv8fGaEnuir",
        "outputId": "d57983ee-cda0-42b1-9410-e84da41737b8"
      },
      "execution_count": 54,
      "outputs": [
        {
          "output_type": "stream",
          "name": "stdout",
          "text": [
            "Epoch 1/10\n",
            " 361/1000 [=========>....................] - ETA: 1:36 - loss: inf"
          ]
        },
        {
          "output_type": "error",
          "ename": "InvalidArgumentError",
          "evalue": "{{function_node __wrapped__IteratorGetNext_output_types_2_device_/job:localhost/replica:0/task:0/device:CPU:0}} output dimensions must be positive\n\t [[{{node resize_image_with_pad/resize/ScaleAndTranslate}}]] [Op:IteratorGetNext] name: ",
          "traceback": [
            "\u001b[0;31m---------------------------------------------------------------------------\u001b[0m",
            "\u001b[0;31mInvalidArgumentError\u001b[0m                      Traceback (most recent call last)",
            "\u001b[0;32m<ipython-input-54-9aa0d54a689b>\u001b[0m in \u001b[0;36m<cell line: 9>\u001b[0;34m()\u001b[0m\n\u001b[1;32m      7\u001b[0m \u001b[0;34m\u001b[0m\u001b[0m\n\u001b[1;32m      8\u001b[0m \u001b[0;31m# Train the model\u001b[0m\u001b[0;34m\u001b[0m\u001b[0;34m\u001b[0m\u001b[0m\n\u001b[0;32m----> 9\u001b[0;31m history = model.fit(\n\u001b[0m\u001b[1;32m     10\u001b[0m     \u001b[0mtrain_dataset\u001b[0m\u001b[0;34m,\u001b[0m\u001b[0;34m\u001b[0m\u001b[0;34m\u001b[0m\u001b[0m\n\u001b[1;32m     11\u001b[0m     \u001b[0mvalidation_data\u001b[0m\u001b[0;34m=\u001b[0m\u001b[0mtrain_dataset\u001b[0m\u001b[0;34m,\u001b[0m\u001b[0;34m\u001b[0m\u001b[0;34m\u001b[0m\u001b[0m\n",
            "\u001b[0;32m/usr/local/lib/python3.10/dist-packages/keras/src/utils/traceback_utils.py\u001b[0m in \u001b[0;36merror_handler\u001b[0;34m(*args, **kwargs)\u001b[0m\n\u001b[1;32m     68\u001b[0m             \u001b[0;31m# To get the full stack trace, call:\u001b[0m\u001b[0;34m\u001b[0m\u001b[0;34m\u001b[0m\u001b[0m\n\u001b[1;32m     69\u001b[0m             \u001b[0;31m# `tf.debugging.disable_traceback_filtering()`\u001b[0m\u001b[0;34m\u001b[0m\u001b[0;34m\u001b[0m\u001b[0m\n\u001b[0;32m---> 70\u001b[0;31m             \u001b[0;32mraise\u001b[0m \u001b[0me\u001b[0m\u001b[0;34m.\u001b[0m\u001b[0mwith_traceback\u001b[0m\u001b[0;34m(\u001b[0m\u001b[0mfiltered_tb\u001b[0m\u001b[0;34m)\u001b[0m \u001b[0;32mfrom\u001b[0m \u001b[0;32mNone\u001b[0m\u001b[0;34m\u001b[0m\u001b[0;34m\u001b[0m\u001b[0m\n\u001b[0m\u001b[1;32m     71\u001b[0m         \u001b[0;32mfinally\u001b[0m\u001b[0;34m:\u001b[0m\u001b[0;34m\u001b[0m\u001b[0;34m\u001b[0m\u001b[0m\n\u001b[1;32m     72\u001b[0m             \u001b[0;32mdel\u001b[0m \u001b[0mfiltered_tb\u001b[0m\u001b[0;34m\u001b[0m\u001b[0;34m\u001b[0m\u001b[0m\n",
            "\u001b[0;32m/usr/local/lib/python3.10/dist-packages/tensorflow/python/framework/ops.py\u001b[0m in \u001b[0;36mraise_from_not_ok_status\u001b[0;34m(e, name)\u001b[0m\n\u001b[1;32m   5881\u001b[0m \u001b[0;32mdef\u001b[0m \u001b[0mraise_from_not_ok_status\u001b[0m\u001b[0;34m(\u001b[0m\u001b[0me\u001b[0m\u001b[0;34m,\u001b[0m \u001b[0mname\u001b[0m\u001b[0;34m)\u001b[0m \u001b[0;34m->\u001b[0m \u001b[0mNoReturn\u001b[0m\u001b[0;34m:\u001b[0m\u001b[0;34m\u001b[0m\u001b[0;34m\u001b[0m\u001b[0m\n\u001b[1;32m   5882\u001b[0m   \u001b[0me\u001b[0m\u001b[0;34m.\u001b[0m\u001b[0mmessage\u001b[0m \u001b[0;34m+=\u001b[0m \u001b[0;34m(\u001b[0m\u001b[0;34m\" name: \"\u001b[0m \u001b[0;34m+\u001b[0m \u001b[0mstr\u001b[0m\u001b[0;34m(\u001b[0m\u001b[0mname\u001b[0m \u001b[0;32mif\u001b[0m \u001b[0mname\u001b[0m \u001b[0;32mis\u001b[0m \u001b[0;32mnot\u001b[0m \u001b[0;32mNone\u001b[0m \u001b[0;32melse\u001b[0m \u001b[0;34m\"\"\u001b[0m\u001b[0;34m)\u001b[0m\u001b[0;34m)\u001b[0m\u001b[0;34m\u001b[0m\u001b[0;34m\u001b[0m\u001b[0m\n\u001b[0;32m-> 5883\u001b[0;31m   \u001b[0;32mraise\u001b[0m \u001b[0mcore\u001b[0m\u001b[0;34m.\u001b[0m\u001b[0m_status_to_exception\u001b[0m\u001b[0;34m(\u001b[0m\u001b[0me\u001b[0m\u001b[0;34m)\u001b[0m \u001b[0;32mfrom\u001b[0m \u001b[0;32mNone\u001b[0m  \u001b[0;31m# pylint: disable=protected-access\u001b[0m\u001b[0;34m\u001b[0m\u001b[0;34m\u001b[0m\u001b[0m\n\u001b[0m\u001b[1;32m   5884\u001b[0m \u001b[0;34m\u001b[0m\u001b[0m\n\u001b[1;32m   5885\u001b[0m \u001b[0;34m\u001b[0m\u001b[0m\n",
            "\u001b[0;31mInvalidArgumentError\u001b[0m: {{function_node __wrapped__IteratorGetNext_output_types_2_device_/job:localhost/replica:0/task:0/device:CPU:0}} output dimensions must be positive\n\t [[{{node resize_image_with_pad/resize/ScaleAndTranslate}}]] [Op:IteratorGetNext] name: "
          ]
        }
      ]
    },
    {
      "cell_type": "markdown",
      "source": [
        "## Predictions with Trained Neural Network"
      ],
      "metadata": {
        "id": "-V5HN2inqcKS"
      }
    },
    {
      "cell_type": "code",
      "source": [
        "# Get the prediction model by extracting layers till the output layer\n",
        "prediction_model = keras.models.Model(\n",
        "    model.get_layer(name=\"image\").input, model.get_layer(name=\"dense2\").output\n",
        ")\n",
        "prediction_model.summary()\n",
        "\n",
        "# A utility function to decode the output of the network\n",
        "def decode_batch_predictions(pred):\n",
        "    input_len = np.ones(pred.shape[0]) * pred.shape[1]\n",
        "    # Use greedy search. For complex tasks, you can use beam search\n",
        "    results = keras.backend.ctc_decode(pred, input_length=input_len, greedy=True)[0][0][\n",
        "        :, :max_length\n",
        "    ]\n",
        "    # Iterate over the results and get back the text\n",
        "    output_text = []\n",
        "    for res in results:\n",
        "        res = tf.strings.reduce_join(num_to_char(res)).numpy().decode(\"utf-8\")\n",
        "        output_text.append(res)\n",
        "    return output_text\n",
        "\n",
        "\n",
        "#  Let's check results on some validation samples\n",
        "for batch in validation_dataset.take(1):\n",
        "    batch_images = batch[\"image\"]\n",
        "    batch_labels = batch[\"label\"]\n",
        "\n",
        "    preds = prediction_model.predict(batch_images)\n",
        "    pred_texts = decode_batch_predictions(preds)\n",
        "\n",
        "    orig_texts = []\n",
        "    for label in batch_labels:\n",
        "        label = tf.strings.reduce_join(num_to_char(label)).numpy().decode(\"utf-8\")\n",
        "        orig_texts.append(label)\n",
        "\n",
        "    _, ax = plt.subplots(4, 4, figsize=(15, 5))\n",
        "    for i in range(len(pred_texts)):\n",
        "        img = (batch_images[i, :, :, 0] * 255).numpy().astype(np.uint8)\n",
        "        img = img.T\n",
        "        title = f\"Prediction: {pred_texts[i]}\"\n",
        "        ax[i // 4, i % 4].imshow(img, cmap=\"gray\")\n",
        "        ax[i // 4, i % 4].set_title(title)\n",
        "        ax[i // 4, i % 4].axis(\"off\")\n",
        "plt.show()"
      ],
      "metadata": {
        "id": "4PxbN8Suqf3O"
      },
      "execution_count": null,
      "outputs": []
    },
    {
      "cell_type": "markdown",
      "source": [],
      "metadata": {
        "id": "xmtRKC1UnRzU"
      }
    },
    {
      "cell_type": "markdown",
      "source": [],
      "metadata": {
        "id": "JVAJHLTxnRup"
      }
    },
    {
      "cell_type": "markdown",
      "source": [],
      "metadata": {
        "id": "SaaXRTKOnRsW"
      }
    },
    {
      "cell_type": "markdown",
      "source": [],
      "metadata": {
        "id": "45RIENx7nRqB"
      }
    },
    {
      "cell_type": "markdown",
      "source": [],
      "metadata": {
        "id": "kodhTlmMnRnH"
      }
    },
    {
      "cell_type": "markdown",
      "source": [],
      "metadata": {
        "id": "IM6JOLtBnRkQ"
      }
    },
    {
      "cell_type": "markdown",
      "source": [],
      "metadata": {
        "id": "sEaK91X2nRhh"
      }
    },
    {
      "cell_type": "markdown",
      "source": [],
      "metadata": {
        "id": "Zc29JNfbnReu"
      }
    },
    {
      "cell_type": "markdown",
      "source": [],
      "metadata": {
        "id": "uDn0gg3inRcT"
      }
    },
    {
      "cell_type": "markdown",
      "source": [],
      "metadata": {
        "id": "qHc21NABnRZg"
      }
    },
    {
      "cell_type": "markdown",
      "source": [],
      "metadata": {
        "id": "6gRjUeIFnRW7"
      }
    },
    {
      "cell_type": "markdown",
      "source": [],
      "metadata": {
        "id": "ibxkovQ6nRUS"
      }
    },
    {
      "cell_type": "markdown",
      "source": [],
      "metadata": {
        "id": "ZvQxc3a_nRL7"
      }
    },
    {
      "cell_type": "code",
      "source": [
        "# Split the dataset into training and testing sets\n",
        "x_train, x_test, y_train, y_test = train_test_split(x_train_rotate_reshaped, y_all_numbers, test_size=0.2, random_state=42)\n",
        "\n",
        "# Print as sanity check\n",
        "print(y_train[3])\n",
        "num_to_label(y_train[3])"
      ],
      "metadata": {
        "colab": {
          "base_uri": "https://localhost:8080/",
          "height": 53
        },
        "id": "33WX0zabkY2Y",
        "outputId": "0ac4b059-9248-42df-af99-65a6b3de1758"
      },
      "execution_count": null,
      "outputs": [
        {
          "output_type": "stream",
          "name": "stdout",
          "text": [
            "[28 25 14 12 18 10 21 29 34 -1 -1 -1 -1 -1 -1 -1 -1 -1 -1 -1 -1 -1 -1 -1]\n"
          ]
        },
        {
          "output_type": "execute_result",
          "data": {
            "text/plain": [
              "'specialty'"
            ],
            "application/vnd.google.colaboratory.intrinsic+json": {
              "type": "string"
            }
          },
          "metadata": {},
          "execution_count": 48
        }
      ]
    },
    {
      "cell_type": "code",
      "source": [
        "input_length = np.ones(len(x_train)) # Dim Array = dim von x_train_rotate_reshaped\n",
        "label_length = np.ones(len(x_train)) # Dim Array = dim von x_train_rotate_reshaped\n",
        "data_set = [x_train, y_train,input_length, label_length]\n",
        "print(len(y_all_numbers))\n",
        "print(x_train_rotate_reshaped[1].shape)"
      ],
      "metadata": {
        "id": "x-0Y_Gt3Nw3X"
      },
      "execution_count": null,
      "outputs": []
    },
    {
      "cell_type": "markdown",
      "source": [
        "#Building the Model"
      ],
      "metadata": {
        "id": "X9VAQ6pTDtid"
      }
    },
    {
      "cell_type": "code",
      "source": [
        "\n",
        "# Evtl. Input umformatieren in einzeilig\n",
        "input_data = Input(shape=(MAX_WIDTH, MAX_HIGHT, 1), name='input')\n",
        "\n",
        "inner = Conv2D(32, (3, 3), padding='same', name='conv1', kernel_initializer='he_normal')(input_data)\n",
        "inner = BatchNormalization()(inner)\n",
        "inner = Activation('relu')(inner)\n",
        "inner = MaxPooling2D(pool_size=(2, 2), name='max1')(inner)\n",
        "\n",
        "inner = Conv2D(64, (3, 3), padding='same', name='conv2', kernel_initializer='he_normal')(inner)\n",
        "inner = BatchNormalization()(inner)\n",
        "inner = Activation('relu')(inner)\n",
        "inner = MaxPooling2D(pool_size=(2, 2), name='max2')(inner)\n",
        "inner = Dropout(0.3)(inner)\n",
        "\n",
        "inner = Conv2D(128, (3, 3), padding='same', name='conv3', kernel_initializer='he_normal')(inner)\n",
        "inner = BatchNormalization()(inner)\n",
        "inner = Activation('relu')(inner)\n",
        "inner = MaxPooling2D(pool_size=(1, 2), name='max3')(inner)\n",
        "inner = Dropout(0.3)(inner)\n",
        "\n",
        "# CNN to RNN\n",
        "inner = Reshape(target_shape=((NUM_OF_TIMESTAMPS, 1024)), name='reshape')(inner)\n",
        "inner = Dense(NUM_OF_TIMESTAMPS, activation='relu', kernel_initializer='he_normal', name='dense1')(inner)\n",
        "\n",
        "## RNN\n",
        "inner = Bidirectional(LSTM(256, return_sequences=True), name = 'lstm1')(inner)\n",
        "inner = Bidirectional(LSTM(256, return_sequences=True), name = 'lstm2')(inner)\n",
        "\n",
        "## OUTPUT\n",
        "inner = Dense(num_of_characters, kernel_initializer='he_normal',name='dense2')(inner)\n",
        "y_pred = Activation('softmax', name='softmax')(inner)\n",
        "\n",
        "model = Model(inputs=input_data, outputs=y_pred)\n",
        "model.summary()"
      ],
      "metadata": {
        "colab": {
          "base_uri": "https://localhost:8080/"
        },
        "id": "ThJAqgs-Dt9C",
        "outputId": "b0249753-193d-4fac-90bf-57a593f02f11"
      },
      "execution_count": 107,
      "outputs": [
        {
          "output_type": "stream",
          "name": "stdout",
          "text": [
            "Model: \"model\"\n",
            "_________________________________________________________________\n",
            " Layer (type)                Output Shape              Param #   \n",
            "=================================================================\n",
            " input (InputLayer)          [(None, 256, 128, 1)]     0         \n",
            "                                                                 \n",
            " conv1 (Conv2D)              (None, 256, 128, 32)      320       \n",
            "                                                                 \n",
            " batch_normalization (Batch  (None, 256, 128, 32)      128       \n",
            " Normalization)                                                  \n",
            "                                                                 \n",
            " activation (Activation)     (None, 256, 128, 32)      0         \n",
            "                                                                 \n",
            " max1 (MaxPooling2D)         (None, 128, 64, 32)       0         \n",
            "                                                                 \n",
            " conv2 (Conv2D)              (None, 128, 64, 64)       18496     \n",
            "                                                                 \n",
            " batch_normalization_1 (Bat  (None, 128, 64, 64)       256       \n",
            " chNormalization)                                                \n",
            "                                                                 \n",
            " activation_1 (Activation)   (None, 128, 64, 64)       0         \n",
            "                                                                 \n",
            " max2 (MaxPooling2D)         (None, 64, 32, 64)        0         \n",
            "                                                                 \n",
            " dropout (Dropout)           (None, 64, 32, 64)        0         \n",
            "                                                                 \n",
            " conv3 (Conv2D)              (None, 64, 32, 128)       73856     \n",
            "                                                                 \n",
            " batch_normalization_2 (Bat  (None, 64, 32, 128)       512       \n",
            " chNormalization)                                                \n",
            "                                                                 \n",
            " activation_2 (Activation)   (None, 64, 32, 128)       0         \n",
            "                                                                 \n",
            " max3 (MaxPooling2D)         (None, 64, 16, 128)       0         \n",
            "                                                                 \n",
            " dropout_1 (Dropout)         (None, 64, 16, 128)       0         \n",
            "                                                                 \n",
            " reshape (Reshape)           (None, 128, 1024)         0         \n",
            "                                                                 \n",
            " dense1 (Dense)              (None, 128, 128)          131200    \n",
            "                                                                 \n",
            " lstm1 (Bidirectional)       (None, 128, 512)          788480    \n",
            "                                                                 \n",
            " lstm2 (Bidirectional)       (None, 128, 512)          1574912   \n",
            "                                                                 \n",
            " dense2 (Dense)              (None, 128, 72)           36936     \n",
            "                                                                 \n",
            " softmax (Activation)        (None, 128, 72)           0         \n",
            "                                                                 \n",
            "=================================================================\n",
            "Total params: 2625096 (10.01 MB)\n",
            "Trainable params: 2624648 (10.01 MB)\n",
            "Non-trainable params: 448 (1.75 KB)\n",
            "_________________________________________________________________\n"
          ]
        }
      ]
    },
    {
      "cell_type": "code",
      "source": [
        "# the ctc loss function\n",
        "def ctc_lambda_func(args):\n",
        "    y_pred, labels, input_length, label_length = args\n",
        "    # the 2 is critical here since the first couple outputs of the RNN\n",
        "    # tend to be garbage\n",
        "    y_pred = y_pred[:, 2:, :]\n",
        "    return K.ctc_batch_cost(labels, y_pred, input_length, label_length)\n",
        "\n"
      ],
      "metadata": {
        "id": "BWeKMOyXGPPE"
      },
      "execution_count": 108,
      "outputs": []
    },
    {
      "cell_type": "code",
      "source": [
        "labels = Input(name='gtruth_labels', shape=[max_str_len], dtype='float32')\n",
        "input_length = Input(name='input_length', shape=[1], dtype='int64')\n",
        "label_length = Input(name='label_length', shape=[1], dtype='int64')\n",
        "\n",
        "ctc_loss = Lambda(ctc_lambda_func, output_shape=(1,), name='ctc')([y_pred, labels, input_length, label_length])\n",
        "model_final = Model(inputs=[input_data, labels, input_length, label_length], outputs=ctc_loss)\n",
        "input_length"
      ],
      "metadata": {
        "colab": {
          "base_uri": "https://localhost:8080/"
        },
        "id": "54_3v-CxGeYE",
        "outputId": "9ce122e7-87e4-498b-f844-8d3b7880d45a"
      },
      "execution_count": 109,
      "outputs": [
        {
          "output_type": "execute_result",
          "data": {
            "text/plain": [
              "<KerasTensor: shape=(None, 1) dtype=int64 (created by layer 'input_length')>"
            ]
          },
          "metadata": {},
          "execution_count": 109
        }
      ]
    },
    {
      "cell_type": "code",
      "source": [
        "# the loss calculation occurs elsewhere, so we use a dummy lambda function for the loss\n",
        "model_final.compile(loss={'ctc': lambda y_true, y_pred: y_pred}, optimizer=Adam(learning_rate = 0.0001))"
      ],
      "metadata": {
        "id": "NOBlPKifGiVt"
      },
      "execution_count": 110,
      "outputs": []
    },
    {
      "cell_type": "code",
      "source": [
        "x_train.shape"
      ],
      "metadata": {
        "colab": {
          "base_uri": "https://localhost:8080/"
        },
        "id": "o3hd9pSENTf5",
        "outputId": "4505155f-31e0-428b-e2d9-25fe2c25a4e0"
      },
      "execution_count": null,
      "outputs": [
        {
          "output_type": "execute_result",
          "data": {
            "text/plain": [
              "(400, 256, 128, 1)"
            ]
          },
          "metadata": {},
          "execution_count": 51
        }
      ]
    },
    {
      "cell_type": "code",
      "source": [
        "save_path = 'save/mnist_{epoch}.ckpt'\n",
        "save_callback = tf.keras.callbacks.ModelCheckpoint(filepath=save_path, save_weights_only=True)\n",
        "\n",
        "hist = model_final.fit(train_dataset,\n",
        "                 epochs=8, batch_size = 1,\n",
        "                 validation_data=train_dataset,\n",
        "                 callbacks=[save_callback])\n"
      ],
      "metadata": {
        "colab": {
          "base_uri": "https://localhost:8080/",
          "height": 380
        },
        "id": "sGJ4t-5RGqDy",
        "outputId": "1ca09aff-038e-47d5-ea1e-399aff950673"
      },
      "execution_count": 112,
      "outputs": [
        {
          "output_type": "stream",
          "name": "stdout",
          "text": [
            "Epoch 1/8\n"
          ]
        },
        {
          "output_type": "error",
          "ename": "ValueError",
          "evalue": "Missing data for input \"input\". You passed a data dictionary with keys ['image', 'label']. Expected the following keys: ['input', 'gtruth_labels', 'input_length', 'label_length']",
          "traceback": [
            "\u001b[0;31m---------------------------------------------------------------------------\u001b[0m",
            "\u001b[0;31mValueError\u001b[0m                                Traceback (most recent call last)",
            "\u001b[0;32m<ipython-input-112-3ba29e5c3761>\u001b[0m in \u001b[0;36m<cell line: 4>\u001b[0;34m()\u001b[0m\n\u001b[1;32m      2\u001b[0m \u001b[0msave_callback\u001b[0m \u001b[0;34m=\u001b[0m \u001b[0mtf\u001b[0m\u001b[0;34m.\u001b[0m\u001b[0mkeras\u001b[0m\u001b[0;34m.\u001b[0m\u001b[0mcallbacks\u001b[0m\u001b[0;34m.\u001b[0m\u001b[0mModelCheckpoint\u001b[0m\u001b[0;34m(\u001b[0m\u001b[0mfilepath\u001b[0m\u001b[0;34m=\u001b[0m\u001b[0msave_path\u001b[0m\u001b[0;34m,\u001b[0m \u001b[0msave_weights_only\u001b[0m\u001b[0;34m=\u001b[0m\u001b[0;32mTrue\u001b[0m\u001b[0;34m)\u001b[0m\u001b[0;34m\u001b[0m\u001b[0;34m\u001b[0m\u001b[0m\n\u001b[1;32m      3\u001b[0m \u001b[0;34m\u001b[0m\u001b[0m\n\u001b[0;32m----> 4\u001b[0;31m hist = model_final.fit(train_dataset,\n\u001b[0m\u001b[1;32m      5\u001b[0m                  \u001b[0mepochs\u001b[0m\u001b[0;34m=\u001b[0m\u001b[0;36m8\u001b[0m\u001b[0;34m,\u001b[0m \u001b[0mbatch_size\u001b[0m \u001b[0;34m=\u001b[0m \u001b[0;36m1\u001b[0m\u001b[0;34m,\u001b[0m\u001b[0;34m\u001b[0m\u001b[0;34m\u001b[0m\u001b[0m\n\u001b[1;32m      6\u001b[0m                  \u001b[0mvalidation_data\u001b[0m\u001b[0;34m=\u001b[0m\u001b[0mtrain_dataset\u001b[0m\u001b[0;34m,\u001b[0m\u001b[0;34m\u001b[0m\u001b[0;34m\u001b[0m\u001b[0m\n",
            "\u001b[0;32m/usr/local/lib/python3.10/dist-packages/keras/src/utils/traceback_utils.py\u001b[0m in \u001b[0;36merror_handler\u001b[0;34m(*args, **kwargs)\u001b[0m\n\u001b[1;32m     68\u001b[0m             \u001b[0;31m# To get the full stack trace, call:\u001b[0m\u001b[0;34m\u001b[0m\u001b[0;34m\u001b[0m\u001b[0m\n\u001b[1;32m     69\u001b[0m             \u001b[0;31m# `tf.debugging.disable_traceback_filtering()`\u001b[0m\u001b[0;34m\u001b[0m\u001b[0;34m\u001b[0m\u001b[0m\n\u001b[0;32m---> 70\u001b[0;31m             \u001b[0;32mraise\u001b[0m \u001b[0me\u001b[0m\u001b[0;34m.\u001b[0m\u001b[0mwith_traceback\u001b[0m\u001b[0;34m(\u001b[0m\u001b[0mfiltered_tb\u001b[0m\u001b[0;34m)\u001b[0m \u001b[0;32mfrom\u001b[0m \u001b[0;32mNone\u001b[0m\u001b[0;34m\u001b[0m\u001b[0;34m\u001b[0m\u001b[0m\n\u001b[0m\u001b[1;32m     71\u001b[0m         \u001b[0;32mfinally\u001b[0m\u001b[0;34m:\u001b[0m\u001b[0;34m\u001b[0m\u001b[0;34m\u001b[0m\u001b[0m\n\u001b[1;32m     72\u001b[0m             \u001b[0;32mdel\u001b[0m \u001b[0mfiltered_tb\u001b[0m\u001b[0;34m\u001b[0m\u001b[0;34m\u001b[0m\u001b[0m\n",
            "\u001b[0;32m/usr/local/lib/python3.10/dist-packages/keras/src/engine/input_spec.py\u001b[0m in \u001b[0;36massert_input_compatibility\u001b[0;34m(input_spec, inputs, layer_name)\u001b[0m\n\u001b[1;32m    195\u001b[0m             \u001b[0;32mfor\u001b[0m \u001b[0mname\u001b[0m \u001b[0;32min\u001b[0m \u001b[0mnames\u001b[0m\u001b[0;34m:\u001b[0m\u001b[0;34m\u001b[0m\u001b[0;34m\u001b[0m\u001b[0m\n\u001b[1;32m    196\u001b[0m                 \u001b[0;32mif\u001b[0m \u001b[0mname\u001b[0m \u001b[0;32mnot\u001b[0m \u001b[0;32min\u001b[0m \u001b[0minputs\u001b[0m\u001b[0;34m:\u001b[0m\u001b[0;34m\u001b[0m\u001b[0;34m\u001b[0m\u001b[0m\n\u001b[0;32m--> 197\u001b[0;31m                     raise ValueError(\n\u001b[0m\u001b[1;32m    198\u001b[0m                         \u001b[0;34mf'Missing data for input \"{name}\". '\u001b[0m\u001b[0;34m\u001b[0m\u001b[0;34m\u001b[0m\u001b[0m\n\u001b[1;32m    199\u001b[0m                         \u001b[0;34m\"You passed a data dictionary with keys \"\u001b[0m\u001b[0;34m\u001b[0m\u001b[0;34m\u001b[0m\u001b[0m\n",
            "\u001b[0;31mValueError\u001b[0m: Missing data for input \"input\". You passed a data dictionary with keys ['image', 'label']. Expected the following keys: ['input', 'gtruth_labels', 'input_length', 'label_length']"
          ]
        }
      ]
    },
    {
      "cell_type": "code",
      "source": [
        "#Convert Char Labels to num Labels\n",
        "y_all_numbers = np.array([label_to_num(xi) for xi in y_all])\n",
        "\n",
        "#rotate that x = Width and y = hight\n",
        "#x_all_rotate = np.array([rotateImage(xi) for xi in x_all])\n",
        "\n",
        "#and reshape\n",
        "x_train_rotate_reshaped = np.array(x_all_rotate).reshape(-1, MAX_WIDTH, MAX_HIGHT, 1)"
      ],
      "metadata": {
        "id": "PcKHlmAxO19z",
        "colab": {
          "base_uri": "https://localhost:8080/",
          "height": 179
        },
        "outputId": "d4d1b775-ae52-401b-a79c-70e10495b6fa"
      },
      "execution_count": 66,
      "outputs": [
        {
          "output_type": "error",
          "ename": "NameError",
          "evalue": "name 'x_all_rotate' is not defined",
          "traceback": [
            "\u001b[0;31m---------------------------------------------------------------------------\u001b[0m",
            "\u001b[0;31mNameError\u001b[0m                                 Traceback (most recent call last)",
            "\u001b[0;32m<ipython-input-66-06a1e70bee47>\u001b[0m in \u001b[0;36m<cell line: 8>\u001b[0;34m()\u001b[0m\n\u001b[1;32m      6\u001b[0m \u001b[0;34m\u001b[0m\u001b[0m\n\u001b[1;32m      7\u001b[0m \u001b[0;31m#and reshape\u001b[0m\u001b[0;34m\u001b[0m\u001b[0;34m\u001b[0m\u001b[0m\n\u001b[0;32m----> 8\u001b[0;31m \u001b[0mx_train_rotate_reshaped\u001b[0m \u001b[0;34m=\u001b[0m \u001b[0mnp\u001b[0m\u001b[0;34m.\u001b[0m\u001b[0marray\u001b[0m\u001b[0;34m(\u001b[0m\u001b[0mx_all_rotate\u001b[0m\u001b[0;34m)\u001b[0m\u001b[0;34m.\u001b[0m\u001b[0mreshape\u001b[0m\u001b[0;34m(\u001b[0m\u001b[0;34m-\u001b[0m\u001b[0;36m1\u001b[0m\u001b[0;34m,\u001b[0m \u001b[0mMAX_WIDTH\u001b[0m\u001b[0;34m,\u001b[0m \u001b[0mMAX_HIGHT\u001b[0m\u001b[0;34m,\u001b[0m \u001b[0;36m1\u001b[0m\u001b[0;34m)\u001b[0m\u001b[0;34m\u001b[0m\u001b[0;34m\u001b[0m\u001b[0m\n\u001b[0m",
            "\u001b[0;31mNameError\u001b[0m: name 'x_all_rotate' is not defined"
          ]
        }
      ]
    },
    {
      "cell_type": "code",
      "source": [
        "#Scales the width if the image to max_width. Only if the high after scaling to max_width is higher than max_hight, only the hight will be scaled down to max_hight\n",
        "# Expacts gray scale Images [0...255] as a tensor\n",
        "def resize_to_desired_shape_for_tf(img):\n",
        "    #display(type(img))\n",
        "    #Debug\n",
        "    #tf.print(img[1, 1])\n",
        "\n",
        "    #img = img.numpy()     #convert to np.array. For me mor easy to work with\n",
        "    #img = img[:,:,0]      #Cut of last Dimension\n",
        "    #(h, w) = img.shape\n",
        "\n",
        "    #Scale all Images down that image width is max_width\n",
        "    #scaleFactor = MAX_WIDTH / w\n",
        "    #if scaleFactor < 1:\n",
        "    #  img = cv2.resize(img, None, fx = scaleFactor, fy = scaleFactor)\n",
        "    #  (h, w) = img.shape\n",
        "\n",
        "    img = tf.image.resize_with_pad(img, target_height=MAX_HIGHT, target_width=MAX_WIDTH, antialias=True)\n",
        "    # Unlikely, but just in case, if hight is still greater than max_hight, scale only hight down to max_hight\n",
        "    #if h > MAX_HIGHT:\n",
        "    #   img = cv2.resize(img, None, fx = 1, fy = (MAX_HIGHT/h))\n",
        "\n",
        "    #creates blank white image with size max_hight x max_width\n",
        "    #final_img = np.ones([MAX_HIGHT, MAX_WIDTH])*255 # blank white image\n",
        "\n",
        "    # fills the blank image with resized imput image\n",
        "    #final_img[:h, :w] = img\n",
        "    #final_img = final_img.reshape(MAX_HIGHT,MAX_WIDTH,1)  #Putting back the 3 Dimension (important for tf)\n",
        "    #return tf.convert_to_tensor(final_img)                # Converting back to tensor\n",
        "\n",
        "    return img\n",
        "\n",
        "plt.imshow(bla[\"image\"])\n",
        "plt.show()\n",
        "_img = resize_to_desired_shape_for_tf(bla[\"image\"])\n",
        "#display(type(_img))\n",
        "plt.imshow(_img,cmap=\"gray\")\n",
        "print(_img.shape)\n"
      ],
      "metadata": {
        "id": "hMz-p2l9sEbg",
        "outputId": "22a5f4f9-f18e-4458-e6f7-152e921192cb",
        "colab": {
          "base_uri": "https://localhost:8080/",
          "height": 749
        }
      },
      "execution_count": 56,
      "outputs": [
        {
          "output_type": "display_data",
          "data": {
            "text/plain": [
              "<Figure size 640x480 with 1 Axes>"
            ],
            "image/png": "[encoded data removed]"
          },
          "metadata": {}
        },
        {
          "output_type": "stream",
          "name": "stdout",
          "text": [
            "(128, 256, 1)\n"
          ]
        },
        {
          "output_type": "display_data",
          "data": {
            "text/plain": [
              "<Figure size 640x480 with 1 Axes>"
            ],
            "image/png": "[encoded data removed]"
          },
          "metadata": {}
        }
      ]
    },
    {
      "cell_type": "code",
      "source": [
        "# Mapping characters to integers\n",
        "char_to_num = layers.experimental.preprocessing.StringLookup(\n",
        "    vocabulary=list(ALPHABETS), num_oov_indices=0, mask_token=None\n",
        ")\n",
        "\n",
        "# Mapping integers back to original characters\n",
        "num_to_char = layers.experimental.preprocessing.StringLookup(\n",
        "    vocabulary=char_to_num.get_vocabulary(), mask_token=None, invert=True, num_oov_indices=0\n",
        ")"
      ],
      "metadata": {
        "id": "dI2eIFuMtBMW"
      },
      "execution_count": 70,
      "outputs": []
    }
  ]
}